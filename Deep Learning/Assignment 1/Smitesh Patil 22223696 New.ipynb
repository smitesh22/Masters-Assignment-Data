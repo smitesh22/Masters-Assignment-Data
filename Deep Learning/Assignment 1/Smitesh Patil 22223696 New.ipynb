{
 "cells": [
  {
   "cell_type": "markdown",
   "metadata": {},
   "source": [
    "## Smitesh Patil 22223696"
   ]
  },
  {
   "cell_type": "code",
   "execution_count": 1,
   "metadata": {},
   "outputs": [],
   "source": [
    "# Package imports\n",
    "import matplotlib\n",
    "import matplotlib.pyplot as plt\n",
    "import sklearn\n",
    "import sklearn.datasets\n",
    "import pandas as pd\n",
    "import numpy as np\n",
    "from sklearn.model_selection import train_test_split\n",
    "from sklearn.metrics import roc_auc_score, roc_curve, accuracy_score\n",
    "%matplotlib inline"
   ]
  },
  {
   "cell_type": "code",
   "execution_count": 2,
   "metadata": {},
   "outputs": [],
   "source": [
    "def sigmoid(x):\n",
    "    return 1/(1+np.exp(-x))\n",
    "\n",
    "class LogisticRegressionSGD:\n",
    "    def __init__(self, epoch, alpha, threshold):\n",
    "        self.epoch = epoch\n",
    "        self.alpha = alpha\n",
    "        self.threshold = threshold\n",
    "        self.weight = None\n",
    "        self.bias = None\n",
    "        self.error = []\n",
    "        \n",
    "    def fit(self, X, y, x_val, y_val):\n",
    "        self.error = []\n",
    "        self.weight = np.random.rand(np.shape(X)[1])\n",
    "        self.bias = np.random.rand(1)\n",
    "        for i in range(self.epoch):\n",
    "            error = 0\n",
    "            pred = sigmoid(np.dot(X, self.weight) + self.bias)\n",
    "            for x, y_pred, y_act in zip(X, pred, y):\n",
    "                error += (y_pred - y_act)**2\n",
    "                dw = np.dot(x.T, (y_pred-y_act))\n",
    "                db = y_pred - y_act\n",
    "                self.weight -= self.alpha*dw\n",
    "                self.bias -= self.alpha*db     \n",
    "            self.error.append(1/len(X)*error)\n",
    "            \n",
    "            pred = self.predict(x_val)\n",
    "            print(\"Epoch :\", i,\"loss: \", np.round(1/len(X)*error,2), \" validation set accuracy: \", np.round(accuracy_score(y_val, pred),2))\n",
    "            \n",
    "    def predict_prob(self, X):\n",
    "        pred = sigmoid(np.dot(X, self.weight) + self.bias)\n",
    "        return pred\n",
    "    \n",
    "    def predict(self, X):\n",
    "        pred = sigmoid(np.dot(X, self.weight) + self.bias)\n",
    "        roundoff = lambda x: [1 if ele >= self.threshold else 0 for ele in x] \n",
    "        pred = roundoff(pred)\n",
    "        return pred"
   ]
  },
  {
   "cell_type": "markdown",
   "metadata": {},
   "source": [
    "# Part 2"
   ]
  },
  {
   "cell_type": "code",
   "execution_count": 3,
   "metadata": {},
   "outputs": [],
   "source": [
    "def evaluate(labels, predictions):\n",
    "    \n",
    "  assert len(labels) == len(predictions)\n",
    "\n",
    "  score = 0.0\n",
    "  \n",
    "  true_positive = 0\n",
    "  true_negative = 0\n",
    "  false_positive = 0\n",
    "  false_negative = 0\n",
    "\n",
    "  #populating variables\n",
    "  for label, prediction in zip(labels, predictions):\n",
    "        if label == 1 and prediction == 1:\n",
    "            true_positive += 1\n",
    "        elif label == 0 and prediction == 0:\n",
    "            true_negative += 1\n",
    "        elif label == 0 and prediction == 1:\n",
    "            false_positive += 1\n",
    "        else:\n",
    "            false_negative += 1\n",
    "  #calculating precision, recall, f1score and accuracy for two classes\n",
    "  accuracy_score = (true_positive + true_negative) / (true_positive + true_negative + false_positive  + false_negative)\n",
    "  f1_score = true_positive/(true_positive + 0.5*(false_positive + false_negative))\n",
    "\n",
    "  score = \"\"\" True Positive: %s \\t False Positive: %s \\n False Negative: %s \\t True Negative: %s \n",
    "  \\n\\n Accurarcy: %s\n",
    "  \\n F1 Score : %s\"\"\"% (true_positive, false_negative, false_positive, true_negative, accuracy_score, f1_score)\n",
    "    \n",
    "  return print(score)\n"
   ]
  },
  {
   "cell_type": "markdown",
   "metadata": {},
   "source": [
    "# Linearly non-separable data"
   ]
  },
  {
   "cell_type": "code",
   "execution_count": 4,
   "metadata": {
    "scrolled": true
   },
   "outputs": [],
   "source": [
    "# Use pandas to read the CSV file as a dataframe\n",
    "df = pd.read_csv(\"moons500.csv\")\n",
    "\n",
    "# The y values are those labelled 'Class': extract their values\n",
    "y = df['Class'].values\n",
    "\n",
    "# The x values are all other columns\n",
    "del df['Class']   # drop the 'Class' column from the dataframe\n",
    "X = df.values     # convert the remaining columns to a numpy array\n"
   ]
  },
  {
   "cell_type": "code",
   "execution_count": 5,
   "metadata": {},
   "outputs": [],
   "source": [
    "x_train, x_test, y_train, y_test = train_test_split(X, y, test_size = 0.3, random_state = 42)\n",
    "x_test, x_val, y_test, y_val = train_test_split(x_test, y_test, test_size = 0.5)"
   ]
  },
  {
   "cell_type": "code",
   "execution_count": 6,
   "metadata": {},
   "outputs": [
    {
     "name": "stdout",
     "output_type": "stream",
     "text": [
      "len(X): 500\n",
      "len(X[0]): 2\n",
      "len(X[:,0]): 500\n",
      "X: nsamples = 500 , nattribs = 2\n",
      "len(y) 500\n",
      "np.shape(y): (500,)\n",
      "np.shape(yt): (500, 1)\n",
      "y transpose: nsamples = 500 , nattribs = 1\n"
     ]
    }
   ],
   "source": [
    "# Some examples of working with the data, to look at rows/columns\n",
    "print (\"len(X):\", len(X))            # outer array: one per sample\n",
    "print (\"len(X[0]):\", len(X[0]))      # each inner array is the attributes of one sample\n",
    "print (\"len(X[:,0]):\", len(X[:,0]))  # select column 0 from array\n",
    "\n",
    "# np.shape returns all dimensions of the array\n",
    "(nsamples, nattribs) = np.shape(X)\n",
    "print (\"X: nsamples =\", nsamples, \", nattribs =\", nattribs)\n",
    "\n",
    "# Now example the y vector (1D array)\n",
    "print (\"len(y)\", len(y))\n",
    "print (\"np.shape(y):\", np.shape(y))\n",
    "\n",
    "# You can transpose the y data using 'reshape'\n",
    "yt = np.reshape(y, (len(y),1))  \n",
    "print (\"np.shape(yt):\", np.shape(yt))\n",
    "(nsamples, nattribs) = np.shape(yt)\n",
    "print (\"y transpose: nsamples =\", nsamples, \", nattribs =\", nattribs)"
   ]
  },
  {
   "cell_type": "code",
   "execution_count": 7,
   "metadata": {
    "scrolled": true
   },
   "outputs": [
    {
     "data": {
      "text/plain": [
       "<matplotlib.collections.PathCollection at 0x21eac9135b0>"
      ]
     },
     "execution_count": 7,
     "metadata": {},
     "output_type": "execute_result"
    },
    {
     "data": {
      "image/png": "[encoded data removed]",
      "text/plain": [
       "<Figure size 432x288 with 1 Axes>"
      ]
     },
     "metadata": {
      "needs_background": "light"
     },
     "output_type": "display_data"
    }
   ],
   "source": [
    "# plot X[0] vs X[1] and colour points according to the class, y\n",
    "plt.scatter(X[:,0], X[:,1], c=y)  "
   ]
  },
  {
   "cell_type": "code",
   "execution_count": 8,
   "metadata": {},
   "outputs": [],
   "source": [
    "lr = LogisticRegressionSGD(10, 0.01, 0.5)"
   ]
  },
  {
   "cell_type": "code",
   "execution_count": 9,
   "metadata": {},
   "outputs": [
    {
     "name": "stdout",
     "output_type": "stream",
     "text": [
      "Epoch : 0 loss:  0.31  validation set accuracy:  0.79\n",
      "Epoch : 1 loss:  0.17  validation set accuracy:  0.8\n",
      "Epoch : 2 loss:  0.13  validation set accuracy:  0.81\n",
      "Epoch : 3 loss:  0.12  validation set accuracy:  0.84\n",
      "Epoch : 4 loss:  0.11  validation set accuracy:  0.84\n",
      "Epoch : 5 loss:  0.11  validation set accuracy:  0.84\n",
      "Epoch : 6 loss:  0.1  validation set accuracy:  0.84\n",
      "Epoch : 7 loss:  0.1  validation set accuracy:  0.85\n",
      "Epoch : 8 loss:  0.1  validation set accuracy:  0.85\n",
      "Epoch : 9 loss:  0.1  validation set accuracy:  0.85\n"
     ]
    }
   ],
   "source": [
    "lr.fit(x_train, y_train, x_val, y_val)\n",
    "\n",
    "pred = lr.predict(x_test)"
   ]
  },
  {
   "cell_type": "code",
   "execution_count": 10,
   "metadata": {},
   "outputs": [
    {
     "name": "stdout",
     "output_type": "stream",
     "text": [
      " True Positive: 34 \t False Positive: 7 \n",
      " False Negative: 5 \t True Negative: 29 \n",
      "  \n",
      "\n",
      " Accurarcy: 0.84\n",
      "  \n",
      " F1 Score : 0.85\n"
     ]
    }
   ],
   "source": [
    "evaluate(y_test, pred)"
   ]
  },
  {
   "cell_type": "code",
   "execution_count": 11,
   "metadata": {},
   "outputs": [],
   "source": [
    "pred = lr.predict_prob(x_test)\n",
    "\n",
    "tpr_lr_nsd, fpr_lr_nsd, _ = roc_curve(y_test, pred)\n",
    "auc_lr_nsd = roc_auc_score(y_test, pred)"
   ]
  },
  {
   "cell_type": "code",
   "execution_count": 12,
   "metadata": {},
   "outputs": [
    {
     "data": {
      "image/png": "[encoded data removed]",
      "text/plain": [
       "<Figure size 432x288 with 1 Axes>"
      ]
     },
     "metadata": {
      "needs_background": "light"
     },
     "output_type": "display_data"
    }
   ],
   "source": [
    "plt.plot(list(range(0, len(lr.error))), lr.error)\n",
    "plt.xlabel(\"No of epochs-->\")\n",
    "plt.ylabel(\"Error-->\")\n",
    "plt.show()"
   ]
  },
  {
   "cell_type": "markdown",
   "metadata": {},
   "source": [
    "# Linearly seperable dataset"
   ]
  },
  {
   "cell_type": "code",
   "execution_count": 13,
   "metadata": {},
   "outputs": [],
   "source": [
    "# Use pandas to read the CSV file as a dataframe\n",
    "df = pd.read_csv(\"blobs400.csv\")\n",
    "\n",
    "# The y values are those labelled 'Class': extract their values\n",
    "y = df['Class'].values\n",
    "\n",
    "# The x values are all other columns\n",
    "del df['Class']   # drop the 'Class' column from the dataframe\n",
    "X = df.values     # convert the remaining columns to a numpy array"
   ]
  },
  {
   "cell_type": "code",
   "execution_count": 14,
   "metadata": {},
   "outputs": [
    {
     "name": "stdout",
     "output_type": "stream",
     "text": [
      "len(X): 400\n",
      "len(X[0]): 3\n",
      "len(X[:,0]): 400\n",
      "X: nsamples = 400 , nattribs = 3\n",
      "len(y) 400\n",
      "np.shape(y): (400,)\n",
      "np.shape(yt): (400, 1)\n",
      "y transpose: nsamples = 400 , nattribs = 1\n"
     ]
    }
   ],
   "source": [
    "# Some examples of working with the data, to look at rows/columns\n",
    "print (\"len(X):\", len(X))            # outer array: one per sample\n",
    "print (\"len(X[0]):\", len(X[0]))      # each inner array is the attributes of one sample\n",
    "print (\"len(X[:,0]):\", len(X[:,0]))  # select column 0 from array\n",
    "\n",
    "# np.shape returns all dimensions of the array\n",
    "(nsamples, nattribs) = np.shape(X)\n",
    "print (\"X: nsamples =\", nsamples, \", nattribs =\", nattribs)\n",
    "\n",
    "# Now example the y vector (1D array)\n",
    "print (\"len(y)\", len(y))\n",
    "print (\"np.shape(y):\", np.shape(y))\n",
    "\n",
    "# You can transpose the y data using 'reshape'\n",
    "yt = np.reshape(y, (len(y),1))  \n",
    "print (\"np.shape(yt):\", np.shape(yt))\n",
    "(nsamples, nattribs) = np.shape(yt)\n",
    "print (\"y transpose: nsamples =\", nsamples, \", nattribs =\", nattribs)"
   ]
  },
  {
   "cell_type": "code",
   "execution_count": 15,
   "metadata": {},
   "outputs": [
    {
     "data": {
      "text/plain": [
       "<matplotlib.collections.PathCollection at 0x21ead109df0>"
      ]
     },
     "execution_count": 15,
     "metadata": {},
     "output_type": "execute_result"
    },
    {
     "data": {
      "image/png": "[encoded data removed]",
      "text/plain": [
       "<Figure size 432x288 with 1 Axes>"
      ]
     },
     "metadata": {
      "needs_background": "light"
     },
     "output_type": "display_data"
    }
   ],
   "source": [
    "# plot X[0] vs X[1] and colour points according to the class, y\n",
    "plt.scatter(X[:,0], X[:,1], c=y)  "
   ]
  },
  {
   "cell_type": "code",
   "execution_count": 16,
   "metadata": {},
   "outputs": [],
   "source": [
    "x_train, x_test, y_train, y_test = train_test_split(X, y, test_size=0.30, random_state=42)\n",
    "x_test, x_val, y_test, y_val = train_test_split(x_test, y_test, test_size=0.50, random_state=42)"
   ]
  },
  {
   "cell_type": "code",
   "execution_count": 17,
   "metadata": {},
   "outputs": [],
   "source": [
    "lr = LogisticRegressionSGD(25, 0.1, 0.6)"
   ]
  },
  {
   "cell_type": "code",
   "execution_count": 18,
   "metadata": {},
   "outputs": [
    {
     "name": "stdout",
     "output_type": "stream",
     "text": [
      "Epoch : 0 loss:  0.51  validation set accuracy:  0.53\n",
      "Epoch : 1 loss:  0.49  validation set accuracy:  0.57\n",
      "Epoch : 2 loss:  0.46  validation set accuracy:  0.85\n",
      "Epoch : 3 loss:  0.12  validation set accuracy:  0.9\n",
      "Epoch : 4 loss:  0.06  validation set accuracy:  0.92\n",
      "Epoch : 5 loss:  0.06  validation set accuracy:  0.92\n",
      "Epoch : 6 loss:  0.05  validation set accuracy:  0.92\n",
      "Epoch : 7 loss:  0.05  validation set accuracy:  0.93\n",
      "Epoch : 8 loss:  0.05  validation set accuracy:  0.93\n",
      "Epoch : 9 loss:  0.04  validation set accuracy:  0.93\n",
      "Epoch : 10 loss:  0.04  validation set accuracy:  0.93\n",
      "Epoch : 11 loss:  0.04  validation set accuracy:  0.93\n",
      "Epoch : 12 loss:  0.04  validation set accuracy:  0.93\n",
      "Epoch : 13 loss:  0.03  validation set accuracy:  0.93\n",
      "Epoch : 14 loss:  0.03  validation set accuracy:  0.95\n",
      "Epoch : 15 loss:  0.03  validation set accuracy:  0.95\n",
      "Epoch : 16 loss:  0.03  validation set accuracy:  0.95\n",
      "Epoch : 17 loss:  0.03  validation set accuracy:  0.95\n",
      "Epoch : 18 loss:  0.03  validation set accuracy:  0.95\n",
      "Epoch : 19 loss:  0.03  validation set accuracy:  0.95\n",
      "Epoch : 20 loss:  0.02  validation set accuracy:  0.95\n",
      "Epoch : 21 loss:  0.02  validation set accuracy:  0.95\n",
      "Epoch : 22 loss:  0.02  validation set accuracy:  0.95\n",
      "Epoch : 23 loss:  0.02  validation set accuracy:  0.95\n",
      "Epoch : 24 loss:  0.02  validation set accuracy:  0.95\n"
     ]
    }
   ],
   "source": [
    "lr.fit(x_train, y_train, x_val, y_val)\n",
    "pred = lr.predict(x_test)"
   ]
  },
  {
   "cell_type": "code",
   "execution_count": 19,
   "metadata": {},
   "outputs": [
    {
     "name": "stdout",
     "output_type": "stream",
     "text": [
      " True Positive: 33 \t False Positive: 1 \n",
      " False Negative: 0 \t True Negative: 26 \n",
      "  \n",
      "\n",
      " Accurarcy: 0.9833333333333333\n",
      "  \n",
      " F1 Score : 0.9850746268656716\n"
     ]
    }
   ],
   "source": [
    "evaluate(y_test, pred)"
   ]
  },
  {
   "cell_type": "code",
   "execution_count": 20,
   "metadata": {},
   "outputs": [
    {
     "data": {
      "image/png": "[encoded data removed]",
      "text/plain": [
       "<Figure size 432x288 with 1 Axes>"
      ]
     },
     "metadata": {
      "needs_background": "light"
     },
     "output_type": "display_data"
    }
   ],
   "source": [
    "plt.plot(list(range(0, len(lr.error))), lr.error)\n",
    "plt.xlabel(\"No of epochs-->\")\n",
    "plt.ylabel(\"Error-->\")\n",
    "plt.show()"
   ]
  },
  {
   "cell_type": "code",
   "execution_count": 21,
   "metadata": {},
   "outputs": [
    {
     "data": {
      "image/png": "[encoded data removed]",
      "text/plain": [
       "<Figure size 432x288 with 1 Axes>"
      ]
     },
     "metadata": {
      "needs_background": "light"
     },
     "output_type": "display_data"
    }
   ],
   "source": [
    "pred = lr.predict_prob(x_test)\n",
    "tpr_lr_sd, fpr_lr_sd, _ = roc_curve(y_test, pred)\n",
    "auc_lr_sd = roc_auc_score(y_test, pred)\n",
    "\n",
    "plt.plot(tpr_lr_nsd, fpr_lr_nsd, linestyle='-', label=' Non-lineardata  auc = %0.3f' % auc_lr_nsd)\n",
    "plt.plot(tpr_lr_sd, fpr_lr_sd, linestyle='-', label=' Linear data auc = %0.3f)' % auc_lr_sd)\n",
    "\n",
    "plt.xlabel('False Positive Rate -->')\n",
    "plt.ylabel('True Positive Rate -->')\n",
    "    \n",
    "plt.legend()\n",
    "plt.title(\"ROC Curve\")\n",
    "plt.savefig(\"Roc curve\")\n",
    "plt.show()"
   ]
  },
  {
   "cell_type": "markdown",
   "metadata": {},
   "source": [
    "# Shallow Neural Network"
   ]
  },
  {
   "cell_type": "code",
   "execution_count": 22,
   "metadata": {},
   "outputs": [],
   "source": [
    "class shallowNeuralNet:\n",
    "    def __init__(self, epochs, learning_rate, hidden_nodes):\n",
    "        self.epochs = epochs\n",
    "        self.learning_rate = learning_rate\n",
    "        self.weights = [None, None]\n",
    "        self.bias = [None, None]\n",
    "        self.hidden_nodes = hidden_nodes\n",
    "        self.error_list = []\n",
    "        \n",
    "    def sigmoid(self, val):\n",
    "        return 1/(1 + np.exp(-val))\n",
    "    \n",
    "    def sigmoid_derivative(self, val):\n",
    "        return sigmoid(val) * (1 - sigmoid(val))\n",
    "    \n",
    "    def fit(self, X_full, Y_full, x_val, y_val):\n",
    "        self.weights[0] = np.random.randn(self.hidden_nodes, X_full.shape[0]) * 0.01\n",
    "        self.bias[0] = np.zeros((self.hidden_nodes, 1))\n",
    "        self.weights[1] = np.random.randn(Y_full.shape[0], self.hidden_nodes) * 0.01\n",
    "        self.bias[1] = np.zeros((Y_full.shape[0], 1))\n",
    "        self.error_list = []\n",
    "        for i in range(0, self.epochs):\n",
    "            error = 0\n",
    "            for X, Y in zip(X_full.T, Y_full.T):\n",
    "                X = X.reshape(1, X.shape[0])\n",
    "                Y = Y.reshape(1, Y.shape[0])\n",
    "                \n",
    "                self.Z1 = np.dot(self.weights[0], X.T) + self.bias[0]\n",
    "                self.A1 = sigmoid(self.Z1)\n",
    "                self.Z2 = np.dot(self.weights[1], self.A1) + self.bias[1]\n",
    "                self.A2 = sigmoid(self.Z2)\n",
    "                \n",
    "                error += (np.squeeze(self.A2) - np.squeeze(Y))**2\n",
    "                \n",
    "                dZ2 = self.A2 - Y\n",
    "                dW2 = np.dot(dZ2, self.A1.T)\n",
    "                dB2 = np.sum(dZ2, axis = 1, keepdims= True)\n",
    "                dZ1 = np.multiply(np.dot(self.weights[1].T, dZ2),self.sigmoid_derivative(self.A1))\n",
    "                dW1 = np.dot(dZ1, X)\n",
    "                dB1 = np.sum(dZ1, axis = 1, keepdims= True)\n",
    "\n",
    "                self.weights[0] -= self.learning_rate * dW1\n",
    "                self.bias[0] -= self.learning_rate * dB1\n",
    "                self.weights[1] -= self.learning_rate * dW2\n",
    "                self.bias[1] -= self.learning_rate * dB2\n",
    "            self.error_list.append(error)\n",
    "            \n",
    "            pred = self.predict(x_val)\n",
    "            if self.epochs > 100:\n",
    "                if i % 50 == 0:\n",
    "                    print(\"Epoch :\", i,\"loss: \", np.round(1/len(X)*error,2), \"Valdation set accuracy: \", accuracy_score(pred[0], y_val[0]))\n",
    "            else:\n",
    "                print(\"Epoch :\", i,\"loss: \", np.round(1/len(X)*error,2), \"Valdation set accuracy: \", accuracy_score(pred[0], y_val[0]))\n",
    "                \n",
    "            \n",
    "    def predict_prob(self, pred):\n",
    "        layer1 = np.dot(self.weights[0], pred) + self.bias[0]\n",
    "        activation1 = sigmoid(layer1)\n",
    "        layer2 = np.dot(self.weights[1], activation1) + self.bias[1]\n",
    "        activation2 = sigmoid(layer2)\n",
    "        \n",
    "        return activation2\n",
    "    \n",
    "    def predict(self, pred):\n",
    "        layer1 = np.dot(self.weights[0], pred) + self.bias[0]\n",
    "        activation1 = sigmoid(layer1)\n",
    "        layer2 = np.dot(self.weights[1], activation1) + self.bias[1]\n",
    "        activation2 = sigmoid(layer2)\n",
    "        \n",
    "        return np.round(activation2)"
   ]
  },
  {
   "cell_type": "markdown",
   "metadata": {},
   "source": [
    "# Linearly Non Separable Data"
   ]
  },
  {
   "cell_type": "code",
   "execution_count": 23,
   "metadata": {},
   "outputs": [],
   "source": [
    "df = pd.read_csv(\"moons500.csv\")\n",
    "y = df['Class'].values\n",
    "\n",
    "del df['Class'] \n",
    "X = df.values"
   ]
  },
  {
   "cell_type": "code",
   "execution_count": 24,
   "metadata": {},
   "outputs": [],
   "source": [
    "X_train, X_test, Y_train, Y_test = train_test_split(X, y, test_size=0.30, random_state=42)\n",
    "X_test, X_val, Y_test, Y_val = train_test_split(X_test, Y_test, test_size=0.50, random_state=42)\n",
    "X_train = X_train.T\n",
    "Y_train = Y_train.reshape(1, Y_train.shape[0])\n",
    "X_test = X_test.T\n",
    "Y_test = Y_test.reshape(1, Y_test.shape[0])\n",
    "X_val = X_val.T\n",
    "Y_val = Y_val.reshape(1, Y_val.shape[0])"
   ]
  },
  {
   "cell_type": "code",
   "execution_count": 25,
   "metadata": {},
   "outputs": [],
   "source": [
    "snn = shallowNeuralNet(1000, 0.001, 10)"
   ]
  },
  {
   "cell_type": "code",
   "execution_count": 26,
   "metadata": {},
   "outputs": [
    {
     "name": "stdout",
     "output_type": "stream",
     "text": [
      "Epoch : 0 loss:  87.52 Valdation set accuracy:  0.4266666666666667\n",
      "Epoch : 50 loss:  87.38 Valdation set accuracy:  0.4266666666666667\n",
      "Epoch : 100 loss:  85.96 Valdation set accuracy:  0.4266666666666667\n",
      "Epoch : 150 loss:  72.38 Valdation set accuracy:  0.84\n",
      "Epoch : 200 loss:  46.4 Valdation set accuracy:  0.8266666666666667\n",
      "Epoch : 250 loss:  38.31 Valdation set accuracy:  0.8266666666666667\n",
      "Epoch : 300 loss:  34.66 Valdation set accuracy:  0.88\n",
      "Epoch : 350 loss:  32.3 Valdation set accuracy:  0.8933333333333333\n",
      "Epoch : 400 loss:  30.93 Valdation set accuracy:  0.8933333333333333\n",
      "Epoch : 450 loss:  30.26 Valdation set accuracy:  0.8933333333333333\n",
      "Epoch : 500 loss:  29.97 Valdation set accuracy:  0.8933333333333333\n",
      "Epoch : 550 loss:  29.85 Valdation set accuracy:  0.8933333333333333\n",
      "Epoch : 600 loss:  29.81 Valdation set accuracy:  0.8933333333333333\n",
      "Epoch : 650 loss:  29.8 Valdation set accuracy:  0.88\n",
      "Epoch : 700 loss:  29.81 Valdation set accuracy:  0.8666666666666667\n",
      "Epoch : 750 loss:  29.82 Valdation set accuracy:  0.8666666666666667\n",
      "Epoch : 800 loss:  29.82 Valdation set accuracy:  0.88\n",
      "Epoch : 850 loss:  29.83 Valdation set accuracy:  0.88\n",
      "Epoch : 900 loss:  29.84 Valdation set accuracy:  0.88\n",
      "Epoch : 950 loss:  29.84 Valdation set accuracy:  0.88\n"
     ]
    }
   ],
   "source": [
    "snn.fit(X_train, Y_train, X_val, Y_val)"
   ]
  },
  {
   "cell_type": "code",
   "execution_count": 27,
   "metadata": {},
   "outputs": [
    {
     "name": "stdout",
     "output_type": "stream",
     "text": [
      " True Positive: 30 \t False Positive: 4 \n",
      " False Negative: 7 \t True Negative: 34 \n",
      "  \n",
      "\n",
      " Accurarcy: 0.8533333333333334\n",
      "  \n",
      " F1 Score : 0.8450704225352113\n"
     ]
    }
   ],
   "source": [
    "evaluate(snn.predict(X_test)[0], Y_test[0])"
   ]
  },
  {
   "cell_type": "code",
   "execution_count": 28,
   "metadata": {},
   "outputs": [],
   "source": [
    "pred = snn.predict_prob(X_test)\n",
    "\n",
    "tpr_lr_nsd, fpr_lr_nsd, _ = roc_curve(Y_test[0], pred[0])\n",
    "auc_lr_nsd = roc_auc_score(Y_test[0], pred[0])"
   ]
  },
  {
   "cell_type": "code",
   "execution_count": 29,
   "metadata": {},
   "outputs": [
    {
     "data": {
      "image/png": "[encoded data removed]",
      "text/plain": [
       "<Figure size 432x288 with 1 Axes>"
      ]
     },
     "metadata": {
      "needs_background": "light"
     },
     "output_type": "display_data"
    }
   ],
   "source": [
    "plt.plot(list(range(0, len(snn.error_list))), snn.error_list)\n",
    "plt.xlabel(\"No of epochs-->\")\n",
    "plt.ylabel(\"Error-->\")\n",
    "plt.show()"
   ]
  },
  {
   "cell_type": "markdown",
   "metadata": {},
   "source": [
    "# Linearly Separable Data"
   ]
  },
  {
   "cell_type": "code",
   "execution_count": 30,
   "metadata": {},
   "outputs": [],
   "source": [
    "df = pd.read_csv(\"blobs400.csv\")\n",
    "\n",
    "y = df['Class'].values\n",
    "\n",
    "del df['Class'] \n",
    "X = df.values   "
   ]
  },
  {
   "cell_type": "code",
   "execution_count": 33,
   "metadata": {},
   "outputs": [],
   "source": [
    "X_train, X_test, Y_train, Y_test = train_test_split(X, y, test_size=0.30, random_state=42)\n",
    "X_test, X_val, Y_test, Y_val = train_test_split(X_test, Y_test, test_size=0.50, random_state=42)\n",
    "X_train = X_train.T\n",
    "Y_train = Y_train.reshape(1, Y_train.shape[0])\n",
    "X_test = X_test.T\n",
    "Y_test = Y_test.reshape(1, Y_test.shape[0])\n",
    "X_val = X_val.T\n",
    "Y_val = Y_val.reshape(1, Y_val.shape[0])"
   ]
  },
  {
   "cell_type": "code",
   "execution_count": null,
   "metadata": {},
   "outputs": [],
   "source": [
    "snn = shallowNeuralNet(10, 0.01, 100)\n",
    "\n",
    "snn.fit(X_train, Y_train, X_val, Y_val)"
   ]
  },
  {
   "cell_type": "code",
   "execution_count": null,
   "metadata": {},
   "outputs": [],
   "source": [
    "evaluate(snn.predict(X_test)[0], Y_test[0])"
   ]
  },
  {
   "cell_type": "code",
   "execution_count": null,
   "metadata": {},
   "outputs": [],
   "source": [
    "plt.plot(list(range(0, len(snn.error_list))), snn.error_list)\n",
    "plt.xlabel(\"No of epochs-->\")\n",
    "plt.ylabel(\"Error-->\")\n",
    "plt.show()"
   ]
  },
  {
   "cell_type": "code",
   "execution_count": null,
   "metadata": {},
   "outputs": [],
   "source": [
    "pred = snn.predict_prob(X_test)\n",
    "tpr_lr_sd, fpr_lr_sd, _ = roc_curve(Y_test[0], pred[0])\n",
    "auc_lr_sd = roc_auc_score(Y_test[0], pred[0])\n",
    "\n",
    "plt.plot(tpr_lr_nsd, fpr_lr_nsd, linestyle='-', label=' Non-lineardata  auc = %0.3f' % auc_lr_nsd)\n",
    "plt.plot(tpr_lr_sd, fpr_lr_sd, linestyle='-', label=' Linear data auc = %0.3f)' % auc_lr_sd)\n",
    "\n",
    "plt.xlabel('False Positive Rate -->')\n",
    "plt.ylabel('True Positive Rate -->')\n",
    "    \n",
    "plt.legend()\n",
    "plt.title(\"ROC Curve\")\n",
    "plt.savefig(\"Roc curve\")\n",
    "plt.show()"
   ]
  },
  {
   "cell_type": "markdown",
   "metadata": {},
   "source": [
    "# MNIST DATA"
   ]
  },
  {
   "cell_type": "code",
   "execution_count": null,
   "metadata": {},
   "outputs": [],
   "source": [
    "from keras.datasets import fashion_mnist"
   ]
  },
  {
   "cell_type": "code",
   "execution_count": null,
   "metadata": {},
   "outputs": [
    {
     "name": "stdout",
     "output_type": "stream",
     "text": [
      "Downloading data from https://storage.googleapis.com/tensorflow/tf-keras-datasets/train-labels-idx1-ubyte.gz\n"
     ]
    }
   ],
   "source": [
    "(X_train, Y_train), (X_test, Y_test) = fashion_mnist.load_data()"
   ]
  },
  {
   "cell_type": "code",
   "execution_count": null,
   "metadata": {},
   "outputs": [],
   "source": [
    "len(X_test)"
   ]
  },
  {
   "cell_type": "code",
   "execution_count": null,
   "metadata": {},
   "outputs": [],
   "source": []
  }
 ],
 "metadata": {
  "kernelspec": {
   "display_name": "Python 3 (ipykernel)",
   "language": "python",
   "name": "python3"
  },
  "language_info": {
   "codemirror_mode": {
    "name": "ipython",
    "version": 3
   },
   "file_extension": ".py",
   "mimetype": "text/x-python",
   "name": "python",
   "nbconvert_exporter": "python",
   "pygments_lexer": "ipython3",
   "version": "3.8.12"
  }
 },
 "nbformat": 4,
 "nbformat_minor": 1
}

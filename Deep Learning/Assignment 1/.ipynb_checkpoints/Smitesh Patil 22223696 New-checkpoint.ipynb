{
 "cells": [
  {
   "cell_type": "markdown",
   "metadata": {},
   "source": [
    "## Smitesh Patil 22223696"
   ]
  },
  {
   "cell_type": "code",
   "execution_count": 1,
   "metadata": {},
   "outputs": [],
   "source": [
    "# Package imports\n",
    "import matplotlib\n",
    "import matplotlib.pyplot as plt\n",
    "import sklearn\n",
    "import sklearn.datasets\n",
    "import pandas as pd\n",
    "import numpy as np\n",
    "from sklearn.model_selection import train_test_split\n",
    "from sklearn.metrics import roc_auc_score, roc_curve, accuracy_score\n",
    "%matplotlib inline"
   ]
  },
  {
   "cell_type": "code",
   "execution_count": 2,
   "metadata": {},
   "outputs": [],
   "source": [
    "def sigmoid(x):\n",
    "    return 1/(1+np.exp(-x))\n",
    "\n",
    "class LogisticRegressionSGD:\n",
    "    def __init__(self, epoch, alpha, threshold):\n",
    "        self.epoch = epoch\n",
    "        self.alpha = alpha\n",
    "        self.threshold = threshold\n",
    "        self.weight = None\n",
    "        self.bias = None\n",
    "        self.error = []\n",
    "        \n",
    "    def fit(self, X, y, x_val, y_val):\n",
    "        self.error = []\n",
    "        self.weight = np.random.rand(np.shape(X)[1])\n",
    "        self.bias = np.random.rand(1)\n",
    "        for i in range(self.epoch):\n",
    "            error = 0\n",
    "            pred = sigmoid(np.dot(X, self.weight) + self.bias)\n",
    "            for x, y_pred, y_act in zip(X, pred, y):\n",
    "                error += (y_pred - y_act)**2\n",
    "                dw = np.dot(x.T, (y_pred-y_act))\n",
    "                db = y_pred - y_act\n",
    "                self.weight -= self.alpha*dw\n",
    "                self.bias -= self.alpha*db     \n",
    "            self.error.append(1/len(X)*error)\n",
    "            \n",
    "            pred = self.predict(x_val)\n",
    "            print(\"Epoch :\", i,\"loss: \", np.round(1/len(X)*error,2), \" validation set accuracy: \", np.round(accuracy_score(y_val, pred),2))\n",
    "            \n",
    "    def predict_prob(self, X):\n",
    "        pred = sigmoid(np.dot(X, self.weight) + self.bias)\n",
    "        return pred\n",
    "    \n",
    "    def predict(self, X):\n",
    "        pred = sigmoid(np.dot(X, self.weight) + self.bias)\n",
    "        roundoff = lambda x: [1 if ele >= self.threshold else 0 for ele in x] \n",
    "        pred = roundoff(pred)\n",
    "        return pred"
   ]
  },
  {
   "cell_type": "markdown",
   "metadata": {},
   "source": [
    "# Part 2"
   ]
  },
  {
   "cell_type": "code",
   "execution_count": 3,
   "metadata": {},
   "outputs": [],
   "source": [
    "def evaluate(labels, predictions):\n",
    "    \n",
    "  assert len(labels) == len(predictions)\n",
    "\n",
    "  score = 0.0\n",
    "  \n",
    "  true_positive = 0\n",
    "  true_negative = 0\n",
    "  false_positive = 0\n",
    "  false_negative = 0\n",
    "\n",
    "  #populating variables\n",
    "  for label, prediction in zip(labels, predictions):\n",
    "        if label == 1 and prediction == 1:\n",
    "            true_positive += 1\n",
    "        elif label == 0 and prediction == 0:\n",
    "            true_negative += 1\n",
    "        elif label == 0 and prediction == 1:\n",
    "            false_positive += 1\n",
    "        else:\n",
    "            false_negative += 1\n",
    "  #calculating precision, recall, f1score and accuracy for two classes\n",
    "  accuracy_score = (true_positive + true_negative) / (true_positive + true_negative + false_positive  + false_negative)\n",
    "  f1_score = true_positive/(true_positive + 0.5*(false_positive + false_negative))\n",
    "\n",
    "  score = \"\"\" True Positive: %s \\t False Positive: %s \\n False Negative: %s \\t True Negative: %s \n",
    "  \\n\\n Accurarcy: %s\n",
    "  \\n F1 Score : %s\"\"\"% (true_positive, false_negative, false_positive, true_negative, accuracy_score, f1_score)\n",
    "    \n",
    "  return print(score)\n"
   ]
  },
  {
   "cell_type": "markdown",
   "metadata": {},
   "source": [
    "# Linearly non-separable data"
   ]
  },
  {
   "cell_type": "code",
   "execution_count": 4,
   "metadata": {
    "scrolled": true
   },
   "outputs": [],
   "source": [
    "# Use pandas to read the CSV file as a dataframe\n",
    "df = pd.read_csv(\"moons500.csv\")\n",
    "\n",
    "# The y values are those labelled 'Class': extract their values\n",
    "y = df['Class'].values\n",
    "\n",
    "# The x values are all other columns\n",
    "del df['Class']   # drop the 'Class' column from the dataframe\n",
    "X = df.values     # convert the remaining columns to a numpy array\n"
   ]
  },
  {
   "cell_type": "code",
   "execution_count": 5,
   "metadata": {},
   "outputs": [],
   "source": [
    "x_train, x_test, y_train, y_test = train_test_split(X, y, test_size = 0.3, random_state = 42)\n",
    "x_test, x_val, y_test, y_val = train_test_split(x_test, y_test, test_size = 0.5)"
   ]
  },
  {
   "cell_type": "code",
   "execution_count": 6,
   "metadata": {},
   "outputs": [
    {
     "name": "stdout",
     "output_type": "stream",
     "text": [
      "len(X): 500\n",
      "len(X[0]): 2\n",
      "len(X[:,0]): 500\n",
      "X: nsamples = 500 , nattribs = 2\n",
      "len(y) 500\n",
      "np.shape(y): (500,)\n",
      "np.shape(yt): (500, 1)\n",
      "y transpose: nsamples = 500 , nattribs = 1\n"
     ]
    }
   ],
   "source": [
    "# Some examples of working with the data, to look at rows/columns\n",
    "print (\"len(X):\", len(X))            # outer array: one per sample\n",
    "print (\"len(X[0]):\", len(X[0]))      # each inner array is the attributes of one sample\n",
    "print (\"len(X[:,0]):\", len(X[:,0]))  # select column 0 from array\n",
    "\n",
    "# np.shape returns all dimensions of the array\n",
    "(nsamples, nattribs) = np.shape(X)\n",
    "print (\"X: nsamples =\", nsamples, \", nattribs =\", nattribs)\n",
    "\n",
    "# Now example the y vector (1D array)\n",
    "print (\"len(y)\", len(y))\n",
    "print (\"np.shape(y):\", np.shape(y))\n",
    "\n",
    "# You can transpose the y data using 'reshape'\n",
    "yt = np.reshape(y, (len(y),1))  \n",
    "print (\"np.shape(yt):\", np.shape(yt))\n",
    "(nsamples, nattribs) = np.shape(yt)\n",
    "print (\"y transpose: nsamples =\", nsamples, \", nattribs =\", nattribs)"
   ]
  },
  {
   "cell_type": "code",
   "execution_count": 7,
   "metadata": {
    "scrolled": true
   },
   "outputs": [
    {
     "data": {
      "text/plain": [
       "<matplotlib.collections.PathCollection at 0x193252d25b0>"
      ]
     },
     "execution_count": 7,
     "metadata": {},
     "output_type": "execute_result"
    },
    {
     "data": {
      "image/png": "[encoded data removed]",
      "text/plain": [
       "<Figure size 432x288 with 1 Axes>"
      ]
     },
     "metadata": {
      "needs_background": "light"
     },
     "output_type": "display_data"
    }
   ],
   "source": [
    "# plot X[0] vs X[1] and colour points according to the class, y\n",
    "plt.scatter(X[:,0], X[:,1], c=y)  "
   ]
  },
  {
   "cell_type": "code",
   "execution_count": 8,
   "metadata": {},
   "outputs": [],
   "source": [
    "lr = LogisticRegressionSGD(10, 0.01, 0.5)"
   ]
  },
  {
   "cell_type": "code",
   "execution_count": 9,
   "metadata": {},
   "outputs": [
    {
     "name": "stdout",
     "output_type": "stream",
     "text": [
      "Epoch : 0 loss:  0.3  validation set accuracy:  0.63\n",
      "Epoch : 1 loss:  0.18  validation set accuracy:  0.72\n",
      "Epoch : 2 loss:  0.15  validation set accuracy:  0.75\n",
      "Epoch : 3 loss:  0.13  validation set accuracy:  0.77\n",
      "Epoch : 4 loss:  0.12  validation set accuracy:  0.81\n",
      "Epoch : 5 loss:  0.12  validation set accuracy:  0.84\n",
      "Epoch : 6 loss:  0.11  validation set accuracy:  0.85\n",
      "Epoch : 7 loss:  0.11  validation set accuracy:  0.85\n",
      "Epoch : 8 loss:  0.1  validation set accuracy:  0.85\n",
      "Epoch : 9 loss:  0.1  validation set accuracy:  0.85\n"
     ]
    }
   ],
   "source": [
    "lr.fit(x_train, y_train, x_val, y_val)\n",
    "\n",
    "pred = lr.predict(x_test)"
   ]
  },
  {
   "cell_type": "code",
   "execution_count": 10,
   "metadata": {},
   "outputs": [
    {
     "name": "stdout",
     "output_type": "stream",
     "text": [
      " True Positive: 29 \t False Positive: 7 \n",
      " False Negative: 5 \t True Negative: 34 \n",
      "  \n",
      "\n",
      " Accurarcy: 0.84\n",
      "  \n",
      " F1 Score : 0.8285714285714286\n"
     ]
    }
   ],
   "source": [
    "evaluate(y_test, pred)"
   ]
  },
  {
   "cell_type": "code",
   "execution_count": 11,
   "metadata": {},
   "outputs": [],
   "source": [
    "pred = lr.predict_prob(x_test)\n",
    "\n",
    "tpr_lr_nsd, fpr_lr_nsd, _ = roc_curve(y_test, pred)\n",
    "auc_lr_nsd = roc_auc_score(y_test, pred)"
   ]
  },
  {
   "cell_type": "code",
   "execution_count": 12,
   "metadata": {},
   "outputs": [
    {
     "data": {
      "image/png": "[encoded data removed]",
      "text/plain": [
       "<Figure size 432x288 with 1 Axes>"
      ]
     },
     "metadata": {
      "needs_background": "light"
     },
     "output_type": "display_data"
    }
   ],
   "source": [
    "plt.plot(list(range(0, len(lr.error))), lr.error)\n",
    "plt.xlabel(\"No of epochs-->\")\n",
    "plt.ylabel(\"Error-->\")\n",
    "plt.show()"
   ]
  },
  {
   "cell_type": "markdown",
   "metadata": {},
   "source": [
    "# Linearly seperable dataset"
   ]
  },
  {
   "cell_type": "code",
   "execution_count": 13,
   "metadata": {},
   "outputs": [],
   "source": [
    "# Use pandas to read the CSV file as a dataframe\n",
    "df = pd.read_csv(\"blobs400.csv\")\n",
    "\n",
    "# The y values are those labelled 'Class': extract their values\n",
    "y = df['Class'].values\n",
    "\n",
    "# The x values are all other columns\n",
    "del df['Class']   # drop the 'Class' column from the dataframe\n",
    "X = df.values     # convert the remaining columns to a numpy array"
   ]
  },
  {
   "cell_type": "code",
   "execution_count": 14,
   "metadata": {},
   "outputs": [
    {
     "name": "stdout",
     "output_type": "stream",
     "text": [
      "len(X): 400\n",
      "len(X[0]): 3\n",
      "len(X[:,0]): 400\n",
      "X: nsamples = 400 , nattribs = 3\n",
      "len(y) 400\n",
      "np.shape(y): (400,)\n",
      "np.shape(yt): (400, 1)\n",
      "y transpose: nsamples = 400 , nattribs = 1\n"
     ]
    }
   ],
   "source": [
    "# Some examples of working with the data, to look at rows/columns\n",
    "print (\"len(X):\", len(X))            # outer array: one per sample\n",
    "print (\"len(X[0]):\", len(X[0]))      # each inner array is the attributes of one sample\n",
    "print (\"len(X[:,0]):\", len(X[:,0]))  # select column 0 from array\n",
    "\n",
    "# np.shape returns all dimensions of the array\n",
    "(nsamples, nattribs) = np.shape(X)\n",
    "print (\"X: nsamples =\", nsamples, \", nattribs =\", nattribs)\n",
    "\n",
    "# Now example the y vector (1D array)\n",
    "print (\"len(y)\", len(y))\n",
    "print (\"np.shape(y):\", np.shape(y))\n",
    "\n",
    "# You can transpose the y data using 'reshape'\n",
    "yt = np.reshape(y, (len(y),1))  \n",
    "print (\"np.shape(yt):\", np.shape(yt))\n",
    "(nsamples, nattribs) = np.shape(yt)\n",
    "print (\"y transpose: nsamples =\", nsamples, \", nattribs =\", nattribs)"
   ]
  },
  {
   "cell_type": "code",
   "execution_count": 15,
   "metadata": {},
   "outputs": [
    {
     "data": {
      "text/plain": [
       "<matplotlib.collections.PathCollection at 0x19325afdb20>"
      ]
     },
     "execution_count": 15,
     "metadata": {},
     "output_type": "execute_result"
    },
    {
     "data": {
      "image/png": "[encoded data removed]",
      "text/plain": [
       "<Figure size 432x288 with 1 Axes>"
      ]
     },
     "metadata": {
      "needs_background": "light"
     },
     "output_type": "display_data"
    }
   ],
   "source": [
    "# plot X[0] vs X[1] and colour points according to the class, y\n",
    "plt.scatter(X[:,0], X[:,1], c=y)  "
   ]
  },
  {
   "cell_type": "code",
   "execution_count": 16,
   "metadata": {},
   "outputs": [],
   "source": [
    "x_train, x_test, y_train, y_test = train_test_split(X, y, test_size=0.30, random_state=42)\n",
    "x_test, x_val, y_test, y_val = train_test_split(x_test, y_test, test_size=0.50, random_state=42)"
   ]
  },
  {
   "cell_type": "code",
   "execution_count": 17,
   "metadata": {},
   "outputs": [],
   "source": [
    "lr = LogisticRegressionSGD(25, 0.1, 0.6)"
   ]
  },
  {
   "cell_type": "code",
   "execution_count": 18,
   "metadata": {},
   "outputs": [
    {
     "name": "stdout",
     "output_type": "stream",
     "text": [
      "Epoch : 0 loss:  0.47  validation set accuracy:  0.53\n",
      "Epoch : 1 loss:  0.49  validation set accuracy:  0.57\n",
      "Epoch : 2 loss:  0.44  validation set accuracy:  0.9\n",
      "Epoch : 3 loss:  0.08  validation set accuracy:  0.92\n",
      "Epoch : 4 loss:  0.06  validation set accuracy:  0.92\n",
      "Epoch : 5 loss:  0.05  validation set accuracy:  0.92\n",
      "Epoch : 6 loss:  0.05  validation set accuracy:  0.93\n",
      "Epoch : 7 loss:  0.05  validation set accuracy:  0.92\n",
      "Epoch : 8 loss:  0.05  validation set accuracy:  0.93\n",
      "Epoch : 9 loss:  0.04  validation set accuracy:  0.93\n",
      "Epoch : 10 loss:  0.04  validation set accuracy:  0.93\n",
      "Epoch : 11 loss:  0.04  validation set accuracy:  0.93\n",
      "Epoch : 12 loss:  0.03  validation set accuracy:  0.93\n",
      "Epoch : 13 loss:  0.03  validation set accuracy:  0.93\n",
      "Epoch : 14 loss:  0.03  validation set accuracy:  0.95\n",
      "Epoch : 15 loss:  0.03  validation set accuracy:  0.95\n",
      "Epoch : 16 loss:  0.03  validation set accuracy:  0.95\n",
      "Epoch : 17 loss:  0.03  validation set accuracy:  0.95\n",
      "Epoch : 18 loss:  0.03  validation set accuracy:  0.95\n",
      "Epoch : 19 loss:  0.02  validation set accuracy:  0.95\n",
      "Epoch : 20 loss:  0.02  validation set accuracy:  0.95\n",
      "Epoch : 21 loss:  0.02  validation set accuracy:  0.95\n",
      "Epoch : 22 loss:  0.02  validation set accuracy:  0.95\n",
      "Epoch : 23 loss:  0.02  validation set accuracy:  0.95\n",
      "Epoch : 24 loss:  0.02  validation set accuracy:  0.95\n"
     ]
    }
   ],
   "source": [
    "lr.fit(x_train, y_train, x_val, y_val)\n",
    "pred = lr.predict(x_test)"
   ]
  },
  {
   "cell_type": "code",
   "execution_count": 19,
   "metadata": {},
   "outputs": [
    {
     "name": "stdout",
     "output_type": "stream",
     "text": [
      " True Positive: 33 \t False Positive: 1 \n",
      " False Negative: 0 \t True Negative: 26 \n",
      "  \n",
      "\n",
      " Accurarcy: 0.9833333333333333\n",
      "  \n",
      " F1 Score : 0.9850746268656716\n"
     ]
    }
   ],
   "source": [
    "evaluate(y_test, pred)"
   ]
  },
  {
   "cell_type": "code",
   "execution_count": 20,
   "metadata": {},
   "outputs": [
    {
     "data": {
      "image/png": "[encoded data removed]",
      "text/plain": [
       "<Figure size 432x288 with 1 Axes>"
      ]
     },
     "metadata": {
      "needs_background": "light"
     },
     "output_type": "display_data"
    }
   ],
   "source": [
    "plt.plot(list(range(0, len(lr.error))), lr.error)\n",
    "plt.xlabel(\"No of epochs-->\")\n",
    "plt.ylabel(\"Error-->\")\n",
    "plt.show()"
   ]
  },
  {
   "cell_type": "code",
   "execution_count": 21,
   "metadata": {},
   "outputs": [
    {
     "data": {
      "image/png": "[encoded data removed]",
      "text/plain": [
       "<Figure size 432x288 with 1 Axes>"
      ]
     },
     "metadata": {
      "needs_background": "light"
     },
     "output_type": "display_data"
    }
   ],
   "source": [
    "pred = lr.predict_prob(x_test)\n",
    "tpr_lr_sd, fpr_lr_sd, _ = roc_curve(y_test, pred)\n",
    "auc_lr_sd = roc_auc_score(y_test, pred)\n",
    "\n",
    "plt.plot(tpr_lr_nsd, fpr_lr_nsd, linestyle='-', label=' Non-lineardata  auc = %0.3f' % auc_lr_nsd)\n",
    "plt.plot(tpr_lr_sd, fpr_lr_sd, linestyle='-', label=' Linear data auc = %0.3f)' % auc_lr_sd)\n",
    "\n",
    "plt.xlabel('False Positive Rate -->')\n",
    "plt.ylabel('True Positive Rate -->')\n",
    "    \n",
    "plt.legend()\n",
    "plt.title(\"ROC Curve\")\n",
    "plt.savefig(\"Roc curve\")\n",
    "plt.show()"
   ]
  },
  {
   "cell_type": "markdown",
   "metadata": {},
   "source": [
    "# Shallow Neural Network"
   ]
  },
  {
   "cell_type": "code",
   "execution_count": 22,
   "metadata": {},
   "outputs": [],
   "source": [
    "class shallowNeuralNet:\n",
    "    def __init__(self, epochs, learning_rate, hidden_nodes):\n",
    "        self.epochs = epochs\n",
    "        self.learning_rate = learning_rate\n",
    "        self.weights = [None, None]\n",
    "        self.bias = [None, None]\n",
    "        self.hidden_nodes = hidden_nodes\n",
    "        self.error_list = []\n",
    "        \n",
    "    def sigmoid(self, val):\n",
    "        return 1/(1 + np.exp(-val))\n",
    "    \n",
    "    def sigmoid_derivative(self, val):\n",
    "        return sigmoid(val) * (1 - sigmoid(val))\n",
    "    \n",
    "    def fit(self, X_full, Y_full, x_val, y_val):\n",
    "        self.weights[0] = np.random.randn(self.hidden_nodes, X_full.shape[0]) * 0.01\n",
    "        self.bias[0] = np.zeros((self.hidden_nodes, 1))\n",
    "        self.weights[1] = np.random.randn(Y_full.shape[0], self.hidden_nodes) * 0.01\n",
    "        self.bias[1] = np.zeros((Y_full.shape[0], 1))\n",
    "        self.error_list = []\n",
    "        for i in range(0, self.epochs):\n",
    "            error = 0\n",
    "            for X, Y in zip(X_full.T, Y_full.T):\n",
    "                X = X.reshape(1, X.shape[0])\n",
    "                Y = Y.reshape(1, Y.shape[0])\n",
    "                \n",
    "                self.Z1 = np.dot(self.weights[0], X.T) + self.bias[0]\n",
    "                self.A1 = sigmoid(self.Z1)\n",
    "                self.Z2 = np.dot(self.weights[1], self.A1) + self.bias[1]\n",
    "                self.A2 = sigmoid(self.Z2)\n",
    "                \n",
    "                error += (np.squeeze(self.A2) - np.squeeze(Y))**2\n",
    "                \n",
    "                dZ2 = self.A2 - Y\n",
    "                dW2 = np.dot(dZ2, self.A1.T)\n",
    "                dB2 = np.sum(dZ2)\n",
    "                dZ1 = np.dot(self.weights[1].T, dZ2) * self.sigmoid_derivative(self.A1)\n",
    "                dW1 = np.dot(dZ1, X)\n",
    "                dB1 = np.sum(dZ1)\n",
    "\n",
    "                self.weights[0] -= self.learning_rate * dW1\n",
    "                self.bias[0] -= self.learning_rate * dB1\n",
    "                self.weights[1] -= self.learning_rate * dW2\n",
    "                self.bias[1] -= self.learning_rate * dB2\n",
    "            self.error_list.append(error)\n",
    "            \n",
    "            pred = self.predict(x_val)\n",
    "            if self.epochs > 100:\n",
    "                if i % 50 == 0:\n",
    "                    print(\"Epoch :\", i,\"loss: \", np.round(1/len(X)*error,3), \n",
    "                          \"Valdation set accuracy: \", np.round(accuracy_score(np.squeeze(pred), np.squeeze(y_val))))\n",
    "            else:\n",
    "                print(\"Epoch :\", i,\"loss: \", np.round(1/len(X)*error,3), \n",
    "                      \"Valdation set accuracy: \", np.round(accuracy_score(pred[0], y_val[0])))\n",
    "                \n",
    "            \n",
    "    def predict_prob(self, pred):\n",
    "        layer1 = np.dot(self.weights[0], pred) + self.bias[0]\n",
    "        activation1 = sigmoid(layer1)\n",
    "        layer2 = np.dot(self.weights[1], activation1) + self.bias[1]\n",
    "        activation2 = sigmoid(layer2)\n",
    "        \n",
    "        return activation2\n",
    "    \n",
    "    def predict(self, pred):\n",
    "        layer1 = np.dot(self.weights[0], pred) + self.bias[0]\n",
    "        activation1 = sigmoid(layer1)\n",
    "        layer2 = np.dot(self.weights[1], activation1) + self.bias[1]\n",
    "        activation2 = sigmoid(layer2)\n",
    "        \n",
    "        return np.round(activation2)"
   ]
  },
  {
   "cell_type": "markdown",
   "metadata": {},
   "source": [
    "# Linearly Non Separable Data"
   ]
  },
  {
   "cell_type": "code",
   "execution_count": 23,
   "metadata": {},
   "outputs": [],
   "source": [
    "df = pd.read_csv(\"moons500.csv\")\n",
    "y = df['Class'].values\n",
    "\n",
    "del df['Class'] \n",
    "X = df.values"
   ]
  },
  {
   "cell_type": "code",
   "execution_count": 24,
   "metadata": {},
   "outputs": [],
   "source": [
    "X_train, X_test, Y_train, Y_test = train_test_split(X, y, test_size=0.30, random_state=42)\n",
    "X_test, X_val, Y_test, Y_val = train_test_split(X_test, Y_test, test_size=0.50, random_state=42)\n",
    "X_train = X_train.T\n",
    "Y_train = Y_train.reshape(1, Y_train.shape[0])\n",
    "X_test = X_test.T\n",
    "Y_test = Y_test.reshape(1, Y_test.shape[0])\n",
    "X_val = X_val.T\n",
    "Y_val = Y_val.reshape(1, Y_val.shape[0])"
   ]
  },
  {
   "cell_type": "code",
   "execution_count": 25,
   "metadata": {},
   "outputs": [],
   "source": [
    "snn = shallowNeuralNet(500, 0.001, 30)"
   ]
  },
  {
   "cell_type": "code",
   "execution_count": 26,
   "metadata": {},
   "outputs": [
    {
     "name": "stdout",
     "output_type": "stream",
     "text": [
      "Epoch : 0 loss:  87.594 Valdation set accuracy:  0.0\n",
      "Epoch : 50 loss:  87.214 Valdation set accuracy:  0.0\n",
      "Epoch : 100 loss:  82.6 Valdation set accuracy:  1.0\n",
      "Epoch : 150 loss:  57.207 Valdation set accuracy:  1.0\n",
      "Epoch : 200 loss:  40.715 Valdation set accuracy:  1.0\n",
      "Epoch : 250 loss:  35.852 Valdation set accuracy:  1.0\n",
      "Epoch : 300 loss:  33.053 Valdation set accuracy:  1.0\n",
      "Epoch : 350 loss:  31.403 Valdation set accuracy:  1.0\n",
      "Epoch : 400 loss:  30.556 Valdation set accuracy:  1.0\n",
      "Epoch : 450 loss:  30.163 Valdation set accuracy:  1.0\n"
     ]
    }
   ],
   "source": [
    "snn.fit(X_train, Y_train, X_val, Y_val)"
   ]
  },
  {
   "cell_type": "code",
   "execution_count": 27,
   "metadata": {},
   "outputs": [],
   "source": [
    "pred = snn.predict(X_test)"
   ]
  },
  {
   "cell_type": "code",
   "execution_count": 28,
   "metadata": {},
   "outputs": [
    {
     "name": "stdout",
     "output_type": "stream",
     "text": [
      " True Positive: 30 \t False Positive: 4 \n",
      " False Negative: 7 \t True Negative: 34 \n",
      "  \n",
      "\n",
      " Accurarcy: 0.8533333333333334\n",
      "  \n",
      " F1 Score : 0.8450704225352113\n"
     ]
    }
   ],
   "source": [
    "evaluate(np.squeeze(pred), np.squeeze(Y_test))"
   ]
  },
  {
   "cell_type": "code",
   "execution_count": 29,
   "metadata": {},
   "outputs": [],
   "source": [
    "pred = snn.predict_prob(X_test)\n",
    "\n",
    "tpr_lr_nsd, fpr_lr_nsd, _ = roc_curve(np.squeeze(Y_test), np.squeeze(pred))\n",
    "auc_lr_nsd = roc_auc_score(np.squeeze(Y_test), np.squeeze(pred))"
   ]
  },
  {
   "cell_type": "code",
   "execution_count": 30,
   "metadata": {},
   "outputs": [
    {
     "data": {
      "image/png": "[encoded data removed]",
      "text/plain": [
       "<Figure size 432x288 with 1 Axes>"
      ]
     },
     "metadata": {
      "needs_background": "light"
     },
     "output_type": "display_data"
    }
   ],
   "source": [
    "plt.plot(list(range(0, len(snn.error_list))), snn.error_list)\n",
    "plt.xlabel(\"No of epochs-->\")\n",
    "plt.ylabel(\"Error-->\")\n",
    "plt.show()"
   ]
  },
  {
   "cell_type": "markdown",
   "metadata": {},
   "source": [
    "# Linearly Separable Data"
   ]
  },
  {
   "cell_type": "code",
   "execution_count": 31,
   "metadata": {},
   "outputs": [],
   "source": [
    "df = pd.read_csv(\"blobs400.csv\")\n",
    "\n",
    "y = df['Class'].values\n",
    "\n",
    "del df['Class'] \n",
    "X = df.values   "
   ]
  },
  {
   "cell_type": "code",
   "execution_count": 32,
   "metadata": {},
   "outputs": [],
   "source": [
    "X_train, X_test, Y_train, Y_test = train_test_split(X, y, test_size=0.30, random_state=42)\n",
    "X_test, X_val, Y_test, Y_val = train_test_split(X_test, Y_test, test_size=0.50, random_state=42)\n",
    "X_train = X_train.T\n",
    "Y_train = Y_train.reshape(1, Y_train.shape[0])\n",
    "X_test = X_test.T\n",
    "Y_test = Y_test.reshape(1, Y_test.shape[0])\n",
    "X_val = X_val.T\n",
    "Y_val = Y_val.reshape(1, Y_val.shape[0])"
   ]
  },
  {
   "cell_type": "code",
   "execution_count": 33,
   "metadata": {},
   "outputs": [
    {
     "name": "stdout",
     "output_type": "stream",
     "text": [
      "Epoch : 0 loss:  70.192 Valdation set accuracy:  1.0\n",
      "Epoch : 50 loss:  63.683 Valdation set accuracy:  1.0\n",
      "Epoch : 100 loss:  16.756 Valdation set accuracy:  1.0\n",
      "Epoch : 150 loss:  8.225 Valdation set accuracy:  1.0\n"
     ]
    }
   ],
   "source": [
    "snn = shallowNeuralNet(200, 0.001, 50)\n",
    "\n",
    "snn.fit(X_train, Y_train, X_val, Y_val)"
   ]
  },
  {
   "cell_type": "code",
   "execution_count": 34,
   "metadata": {},
   "outputs": [],
   "source": [
    "pred = snn.predict(X_test)"
   ]
  },
  {
   "cell_type": "code",
   "execution_count": 35,
   "metadata": {},
   "outputs": [
    {
     "name": "stdout",
     "output_type": "stream",
     "text": [
      " True Positive: 33 \t False Positive: 0 \n",
      " False Negative: 1 \t True Negative: 26 \n",
      "  \n",
      "\n",
      " Accurarcy: 0.9833333333333333\n",
      "  \n",
      " F1 Score : 0.9850746268656716\n"
     ]
    }
   ],
   "source": [
    "evaluate(np.squeeze(pred), np.squeeze(Y_test))"
   ]
  },
  {
   "cell_type": "code",
   "execution_count": 36,
   "metadata": {},
   "outputs": [
    {
     "data": {
      "image/png": "[encoded data removed]",
      "text/plain": [
       "<Figure size 432x288 with 1 Axes>"
      ]
     },
     "metadata": {
      "needs_background": "light"
     },
     "output_type": "display_data"
    }
   ],
   "source": [
    "plt.plot(list(range(0, len(snn.error_list))), snn.error_list)\n",
    "plt.xlabel(\"No of epochs-->\")\n",
    "plt.ylabel(\"Error-->\")\n",
    "plt.show()"
   ]
  },
  {
   "cell_type": "code",
   "execution_count": 37,
   "metadata": {},
   "outputs": [
    {
     "data": {
      "image/png": "[encoded data removed]",
      "text/plain": [
       "<Figure size 432x288 with 1 Axes>"
      ]
     },
     "metadata": {
      "needs_background": "light"
     },
     "output_type": "display_data"
    }
   ],
   "source": [
    "pred = snn.predict_prob(X_test)\n",
    "tpr_lr_sd, fpr_lr_sd, _ = roc_curve(np.squeeze(Y_test), np.squeeze(pred))\n",
    "auc_lr_sd = roc_auc_score(np.squeeze(Y_test), np.squeeze(pred))\n",
    "\n",
    "plt.plot(tpr_lr_nsd, fpr_lr_nsd, linestyle='-', label=' Non-lineardata  auc = %0.3f' % auc_lr_nsd)\n",
    "plt.plot(tpr_lr_sd, fpr_lr_sd, linestyle='-', label=' Linear data auc = %0.3f)' % auc_lr_sd)\n",
    "\n",
    "plt.xlabel('False Positive Rate -->')\n",
    "plt.ylabel('True Positive Rate -->')\n",
    "    \n",
    "plt.legend()\n",
    "plt.title(\"ROC Curve\")\n",
    "plt.savefig(\"Roc curve\")\n",
    "plt.show()"
   ]
  },
  {
   "cell_type": "markdown",
   "metadata": {},
   "source": [
    "# MNIST DATA"
   ]
  },
  {
   "cell_type": "code",
   "execution_count": 38,
   "metadata": {},
   "outputs": [],
   "source": [
    "# This function taken directly from the Fashion-MNIST github site: \n",
    "# https://github.com/zalandoresearch/fashion-mnist/blob/master/utils/mnist_reader.py\n",
    "\n",
    "# Note: first arg is the path name, second is the file prefix, either 'train' or 't10k' (which is 10k of test data)\n",
    "def load_mnist(path, kind='train'): \n",
    "    import os\n",
    "    import gzip\n",
    "    import numpy as np\n",
    "\n",
    "    \"\"\"Load MNIST data from `path`\"\"\"\n",
    "    labels_path = os.path.join(path,\n",
    "                               '%s-labels-idx1-ubyte.gz'\n",
    "                               % kind)\n",
    "    images_path = os.path.join(path,\n",
    "                               '%s-images-idx3-ubyte.gz'\n",
    "                               % kind)\n",
    "\n",
    "    with gzip.open(labels_path, 'rb') as lbpath:\n",
    "        labels = np.frombuffer(lbpath.read(), dtype=np.uint8,\n",
    "                               offset=8)\n",
    "\n",
    "    with gzip.open(images_path, 'rb') as imgpath:\n",
    "        images = np.frombuffer(imgpath.read(), dtype=np.uint8,\n",
    "                               offset=16).reshape(len(labels), 784)\n",
    "\n",
    "    return images, labels"
   ]
  },
  {
   "cell_type": "code",
   "execution_count": 39,
   "metadata": {},
   "outputs": [],
   "source": [
    "(train_imgs, train_labels) = load_mnist('./', 'train')"
   ]
  },
  {
   "cell_type": "code",
   "execution_count": 40,
   "metadata": {},
   "outputs": [],
   "source": [
    "(test_imgs, test_labels) = load_mnist('./', 't10k')"
   ]
  },
  {
   "cell_type": "code",
   "execution_count": 41,
   "metadata": {},
   "outputs": [
    {
     "name": "stdout",
     "output_type": "stream",
     "text": [
      "Shape of images is (60000, 784), labels is (60000,)\n"
     ]
    }
   ],
   "source": [
    "print(f\"Shape of images is {train_imgs.shape}, labels is {train_labels.shape}\")"
   ]
  },
  {
   "cell_type": "code",
   "execution_count": 42,
   "metadata": {},
   "outputs": [],
   "source": [
    "from sklearn.preprocessing import StandardScaler\n",
    "sc = StandardScaler()\n",
    "\n",
    "idx = np.isin(train_labels, [7, 5])\n",
    "train_labels = train_labels[idx] \n",
    "train_imgs = train_imgs[idx]\n",
    "train_imgs = sc.fit_transform(train_imgs)\n",
    "\n",
    "train_labels[train_labels == 5] = 0\n",
    "train_labels[train_labels == 7] = 1\n",
    "\n",
    "idx = np.isin(test_labels, [7, 5])\n",
    "test_labels = test_labels[idx] \n",
    "test_imgs = test_imgs[idx]\n",
    "test_imgs = sc.transform(test_imgs)\n",
    "test_labels[test_labels == 5] = 0\n",
    "test_labels[test_labels == 7] = 1"
   ]
  },
  {
   "cell_type": "code",
   "execution_count": 43,
   "metadata": {},
   "outputs": [
    {
     "data": {
      "text/plain": [
       "<matplotlib.image.AxesImage at 0x1932a13f130>"
      ]
     },
     "execution_count": 43,
     "metadata": {},
     "output_type": "execute_result"
    },
    {
     "data": {
      "image/png": "[encoded data removed]",
      "text/plain": [
       "<Figure size 432x288 with 1 Axes>"
      ]
     },
     "metadata": {
      "needs_background": "light"
     },
     "output_type": "display_data"
    }
   ],
   "source": [
    "picture = train_imgs[120]\n",
    "picture.shape = (28,28)\n",
    "\n",
    "plt.imshow(picture)"
   ]
  },
  {
   "cell_type": "code",
   "execution_count": 44,
   "metadata": {},
   "outputs": [],
   "source": [
    "X_train = train_imgs\n",
    "X_train = X_train.T\n",
    "Y_train = train_labels\n",
    "Y_train = Y_train.reshape(1, Y_train.shape[0])\n",
    "\n",
    "X_test = test_imgs[0:1500]\n",
    "X_test = X_test.T\n",
    "Y_test = test_labels[0:1500]\n",
    "Y_test = Y_test.reshape(1, Y_test.shape[0])\n",
    "\n",
    "X_val = test_imgs[1500:]\n",
    "X_val = X_val.T\n",
    "Y_val = test_labels[1500:]\n",
    "Y_val = Y_val.reshape(1, Y_val.shape[0])"
   ]
  },
  {
   "cell_type": "code",
   "execution_count": 45,
   "metadata": {},
   "outputs": [
    {
     "name": "stdout",
     "output_type": "stream",
     "text": [
      "Epoch : 0 loss:  634.121 Valdation set accuracy:  1.0\n",
      "Epoch : 1 loss:  528.84 Valdation set accuracy:  1.0\n"
     ]
    },
    {
     "name": "stderr",
     "output_type": "stream",
     "text": [
      "C:\\Users\\Smitesh\\AppData\\Local\\Temp/ipykernel_11168/88470600.py:2: RuntimeWarning: overflow encountered in exp\n",
      "  return 1/(1+np.exp(-x))\n"
     ]
    },
    {
     "name": "stdout",
     "output_type": "stream",
     "text": [
      "Epoch : 2 loss:  488.275 Valdation set accuracy:  1.0\n"
     ]
    },
    {
     "name": "stderr",
     "output_type": "stream",
     "text": [
      "C:\\Users\\Smitesh\\AppData\\Local\\Temp/ipykernel_11168/88470600.py:2: RuntimeWarning: overflow encountered in exp\n",
      "  return 1/(1+np.exp(-x))\n"
     ]
    },
    {
     "name": "stdout",
     "output_type": "stream",
     "text": [
      "Epoch : 3 loss:  452.115 Valdation set accuracy:  1.0\n"
     ]
    },
    {
     "name": "stderr",
     "output_type": "stream",
     "text": [
      "C:\\Users\\Smitesh\\AppData\\Local\\Temp/ipykernel_11168/88470600.py:2: RuntimeWarning: overflow encountered in exp\n",
      "  return 1/(1+np.exp(-x))\n"
     ]
    },
    {
     "name": "stdout",
     "output_type": "stream",
     "text": [
      "Epoch : 4 loss:  429.129 Valdation set accuracy:  1.0\n"
     ]
    },
    {
     "name": "stderr",
     "output_type": "stream",
     "text": [
      "C:\\Users\\Smitesh\\AppData\\Local\\Temp/ipykernel_11168/88470600.py:2: RuntimeWarning: overflow encountered in exp\n",
      "  return 1/(1+np.exp(-x))\n"
     ]
    },
    {
     "name": "stdout",
     "output_type": "stream",
     "text": [
      "Epoch : 5 loss:  410.726 Valdation set accuracy:  1.0\n"
     ]
    },
    {
     "name": "stderr",
     "output_type": "stream",
     "text": [
      "C:\\Users\\Smitesh\\AppData\\Local\\Temp/ipykernel_11168/88470600.py:2: RuntimeWarning: overflow encountered in exp\n",
      "  return 1/(1+np.exp(-x))\n"
     ]
    },
    {
     "name": "stdout",
     "output_type": "stream",
     "text": [
      "Epoch : 6 loss:  396.183 Valdation set accuracy:  1.0\n"
     ]
    },
    {
     "name": "stderr",
     "output_type": "stream",
     "text": [
      "C:\\Users\\Smitesh\\AppData\\Local\\Temp/ipykernel_11168/88470600.py:2: RuntimeWarning: overflow encountered in exp\n",
      "  return 1/(1+np.exp(-x))\n"
     ]
    },
    {
     "name": "stdout",
     "output_type": "stream",
     "text": [
      "Epoch : 7 loss:  376.976 Valdation set accuracy:  1.0\n"
     ]
    },
    {
     "name": "stderr",
     "output_type": "stream",
     "text": [
      "C:\\Users\\Smitesh\\AppData\\Local\\Temp/ipykernel_11168/88470600.py:2: RuntimeWarning: overflow encountered in exp\n",
      "  return 1/(1+np.exp(-x))\n"
     ]
    },
    {
     "name": "stdout",
     "output_type": "stream",
     "text": [
      "Epoch : 8 loss:  366.785 Valdation set accuracy:  1.0\n"
     ]
    },
    {
     "name": "stderr",
     "output_type": "stream",
     "text": [
      "C:\\Users\\Smitesh\\AppData\\Local\\Temp/ipykernel_11168/88470600.py:2: RuntimeWarning: overflow encountered in exp\n",
      "  return 1/(1+np.exp(-x))\n"
     ]
    },
    {
     "name": "stdout",
     "output_type": "stream",
     "text": [
      "Epoch : 9 loss:  358.638 Valdation set accuracy:  1.0\n"
     ]
    }
   ],
   "source": [
    "snn = shallowNeuralNet(10, 0.1, 392)\n",
    "\n",
    "\n",
    "snn.fit(X_train, Y_train, X_val, Y_val)"
   ]
  },
  {
   "cell_type": "code",
   "execution_count": 46,
   "metadata": {},
   "outputs": [
    {
     "name": "stderr",
     "output_type": "stream",
     "text": [
      "C:\\Users\\Smitesh\\AppData\\Local\\Temp/ipykernel_11168/88470600.py:2: RuntimeWarning: overflow encountered in exp\n",
      "  return 1/(1+np.exp(-x))\n"
     ]
    }
   ],
   "source": [
    "pred = snn.predict(X_test)"
   ]
  },
  {
   "cell_type": "code",
   "execution_count": 47,
   "metadata": {},
   "outputs": [
    {
     "name": "stdout",
     "output_type": "stream",
     "text": [
      " True Positive: 704 \t False Positive: 39 \n",
      " False Negative: 33 \t True Negative: 724 \n",
      "  \n",
      "\n",
      " Accurarcy: 0.952\n",
      "  \n",
      " F1 Score : 0.9513513513513514\n"
     ]
    }
   ],
   "source": [
    "evaluate(np.squeeze(pred), np.squeeze(Y_test))"
   ]
  },
  {
   "cell_type": "markdown",
   "metadata": {},
   "source": [
    "# PART 5 : Multi-Layer Neural Network"
   ]
  },
  {
   "cell_type": "code",
   "execution_count": 48,
   "metadata": {},
   "outputs": [],
   "source": [
    "class MLNeuralNet:\n",
    "    def __init__(self, epochs, learning_rate, hidden_nodes_list):\n",
    "        self.epochs = epochs\n",
    "        self.learning_rate = learning_rate\n",
    "        self.weights = None\n",
    "        self.bias = None\n",
    "        # param input = (nodes, nodes)\n",
    "        self.hidden_nodes = hidden_nodes_list\n",
    "        self.error_list = []\n",
    "        \n",
    "    def sigmoid(self, val):\n",
    "        return 1/(1 + np.exp(-val))\n",
    "    \n",
    "    def sigmoid_derivative(self, val):\n",
    "        return sigmoid(val) * (1 - sigmoid(val))\n",
    "    \n",
    "    def fit(self, X_full, Y_full, x_val, y_val):\n",
    "        self.size = [X_full.shape[0]] + self.hidden_nodes + [1]\n",
    "        self.weights = [np.random.rand(self.size[i+1], self.size[i]) for i in range(0, len(self.size)-1)] \n",
    "        self.bias = [np.zeros((self.size[i+1], 1)) for i in range(0, len(self.size) - 1)]\n",
    "\n",
    "        \n",
    "        self.delta_weights = [0] * 4\n",
    "        self.delta_bias = [0] * 4\n",
    "        self.delta_error = [0] * 4\n",
    "        self.error_list = []\n",
    "\n",
    "        for i in range(0, self.epochs):\n",
    "            error = 0\n",
    "            for X, Y in zip(X_full.T, Y_full.T):\n",
    "                self.activations = []\n",
    "                X = X.reshape(1, X.shape[0])\n",
    "                Y = Y.reshape(1, Y.shape[0])\n",
    "                \n",
    "                for i in range(0, len(self.size)-1):\n",
    "                    if i == 0:\n",
    "                        Z = np.dot(self.weights[i], X.T) + self.bias[i]\n",
    "                    else:\n",
    "                        Z = np.dot(self.weights[i], self.activations[i-1]) + self.bias[i]\n",
    "                    A = self.sigmoid(Z)\n",
    "                    self.activations.append(A)\n",
    "                    \n",
    "                error += (np.squeeze(self.activations[-1]) - np.squeeze(Y)) ** 2\n",
    "\n",
    "                \n",
    "                \"\"\"\n",
    "                dZ2 = self.A2 - Y\n",
    "                dW2 = np.dot(dZ2, self.A1.T)\n",
    "                dB2 = np.sum(dZ2)\n",
    "                dZ1 = np.dot(self.weights[1].T, dZ2) * self.sigmoid_derivative(self.A1)\n",
    "                dW1 = np.dot(dZ1, X)\n",
    "                dB1 = np.sum(dZ1)\n",
    "\n",
    "                self.weights[0] -= self.learning_rate * dW1\n",
    "                self.bias[0] -= self.learning_rate * dB1\n",
    "                self.weights[1] -= self.learning_rate * dW2\n",
    "                self.bias[1] -= self.learning_rate * dB2\n",
    "                \"\"\"\n",
    "            \n",
    "            self.error_list.append(error)\n",
    "            print(error)\n",
    "\n",
    "    def predict_prob(self, pred):\n",
    "        for i in range(0, len(self.size)-1):\n",
    "            if i == 0:\n",
    "                Z = np.dot(self.weights[i], pred) + self.bias[i]\n",
    "            else:\n",
    "                Z = np.dot(self.weights[i], self.activations[i-1]) + self.bias[i]\n",
    "                A = self.sigmoid(Z)\n",
    "                self.activations.append(A)\n",
    "        \n",
    "        return np.random.randint(1)\n",
    "    \n",
    "    def predict(self, pred):\n",
    "        for i in range(0, len(self.size)-1):\n",
    "            if i == 0:\n",
    "                Z = np.dot(self.weights[i], pred) + self.bias[i]\n",
    "            else:\n",
    "                Z = np.dot(self.weights[i], self.activations[i-1]) + self.bias[i]\n",
    "                A = self.sigmoid(Z)\n",
    "                self.activations.append(A)\n",
    "        \n",
    "        return self.sigmoid(A[-1])"
   ]
  },
  {
   "cell_type": "code",
   "execution_count": 49,
   "metadata": {
    "scrolled": true
   },
   "outputs": [
    {
     "ename": "ValueError",
     "evalue": "shapes (1,10) and (1,1) not aligned: 10 (dim 1) != 1 (dim 0)",
     "output_type": "error",
     "traceback": [
      "\u001b[1;31m---------------------------------------------------------------------------\u001b[0m",
      "\u001b[1;31mValueError\u001b[0m                                Traceback (most recent call last)",
      "\u001b[1;32m~\\AppData\\Local\\Temp/ipykernel_11168/2887619360.py\u001b[0m in \u001b[0;36m<module>\u001b[1;34m\u001b[0m\n\u001b[0;32m      2\u001b[0m \u001b[1;33m\u001b[0m\u001b[0m\n\u001b[0;32m      3\u001b[0m \u001b[1;33m\u001b[0m\u001b[0m\n\u001b[1;32m----> 4\u001b[1;33m \u001b[0mmnn\u001b[0m\u001b[1;33m.\u001b[0m\u001b[0mfit\u001b[0m\u001b[1;33m(\u001b[0m\u001b[0mX_train\u001b[0m\u001b[1;33m,\u001b[0m \u001b[0mY_train\u001b[0m\u001b[1;33m,\u001b[0m \u001b[0mX_val\u001b[0m\u001b[1;33m,\u001b[0m \u001b[0mY_val\u001b[0m\u001b[1;33m)\u001b[0m\u001b[1;33m\u001b[0m\u001b[1;33m\u001b[0m\u001b[0m\n\u001b[0m",
      "\u001b[1;32m~\\AppData\\Local\\Temp/ipykernel_11168/3176195047.py\u001b[0m in \u001b[0;36mfit\u001b[1;34m(self, X_full, Y_full, x_val, y_val)\u001b[0m\n\u001b[0;32m     51\u001b[0m                         self.delta_error[i] = np.dot(self.weights[i+1].T, \n\u001b[0;32m     52\u001b[0m                                                      self.delta_error[i+1])*self.sigmoid_derivative(self.activations[i+1])\n\u001b[1;32m---> 53\u001b[1;33m                         \u001b[0mself\u001b[0m\u001b[1;33m.\u001b[0m\u001b[0mdelta_weights\u001b[0m\u001b[1;33m[\u001b[0m\u001b[0mi\u001b[0m\u001b[1;33m]\u001b[0m \u001b[1;33m=\u001b[0m \u001b[0mnp\u001b[0m\u001b[1;33m.\u001b[0m\u001b[0mdot\u001b[0m\u001b[1;33m(\u001b[0m\u001b[0mself\u001b[0m\u001b[1;33m.\u001b[0m\u001b[0mdelta_error\u001b[0m\u001b[1;33m[\u001b[0m\u001b[0mi\u001b[0m\u001b[1;33m]\u001b[0m\u001b[1;33m.\u001b[0m\u001b[0mT\u001b[0m\u001b[1;33m,\u001b[0m \u001b[0mself\u001b[0m\u001b[1;33m.\u001b[0m\u001b[0mactivations\u001b[0m\u001b[1;33m[\u001b[0m\u001b[0mi\u001b[0m\u001b[1;33m+\u001b[0m\u001b[1;36m1\u001b[0m\u001b[1;33m]\u001b[0m\u001b[1;33m)\u001b[0m\u001b[1;33m\u001b[0m\u001b[1;33m\u001b[0m\u001b[0m\n\u001b[0m\u001b[0;32m     54\u001b[0m                         \u001b[0mself\u001b[0m\u001b[1;33m.\u001b[0m\u001b[0mdelta_bias\u001b[0m\u001b[1;33m[\u001b[0m\u001b[0mi\u001b[0m\u001b[1;33m]\u001b[0m \u001b[1;33m=\u001b[0m \u001b[0mnp\u001b[0m\u001b[1;33m.\u001b[0m\u001b[0msum\u001b[0m\u001b[1;33m(\u001b[0m\u001b[0mself\u001b[0m\u001b[1;33m.\u001b[0m\u001b[0mdelta_error\u001b[0m\u001b[1;33m[\u001b[0m\u001b[0mi\u001b[0m\u001b[1;33m]\u001b[0m\u001b[1;33m)\u001b[0m\u001b[1;33m\u001b[0m\u001b[1;33m\u001b[0m\u001b[0m\n\u001b[0;32m     55\u001b[0m \u001b[1;33m\u001b[0m\u001b[0m\n",
      "\u001b[1;32m~\\anaconda3\\envs\\Main\\lib\\site-packages\\numpy\\core\\overrides.py\u001b[0m in \u001b[0;36mdot\u001b[1;34m(*args, **kwargs)\u001b[0m\n",
      "\u001b[1;31mValueError\u001b[0m: shapes (1,10) and (1,1) not aligned: 10 (dim 1) != 1 (dim 0)"
     ]
    }
   ],
   "source": [
    "mnn = MLNeuralNet(10, 0.1, [10, 10])\n",
    "\n",
    "\n",
    "mnn.fit(X_train, Y_train, X_val, Y_val)"
   ]
  },
  {
   "cell_type": "code",
   "execution_count": null,
   "metadata": {},
   "outputs": [],
   "source": [
    "mnn.predict(X_test)"
   ]
  },
  {
   "cell_type": "code",
   "execution_count": null,
   "metadata": {},
   "outputs": [],
   "source": [
    "X_test.shape"
   ]
  },
  {
   "cell_type": "code",
   "execution_count": null,
   "metadata": {},
   "outputs": [],
   "source": []
  },
  {
   "cell_type": "code",
   "execution_count": null,
   "metadata": {},
   "outputs": [],
   "source": []
  }
 ],
 "metadata": {
  "kernelspec": {
   "display_name": "Python 3 (ipykernel)",
   "language": "python",
   "name": "python3"
  },
  "language_info": {
   "codemirror_mode": {
    "name": "ipython",
    "version": 3
   },
   "file_extension": ".py",
   "mimetype": "text/x-python",
   "name": "python",
   "nbconvert_exporter": "python",
   "pygments_lexer": "ipython3",
   "version": "3.8.12"
  }
 },
 "nbformat": 4,
 "nbformat_minor": 1
}

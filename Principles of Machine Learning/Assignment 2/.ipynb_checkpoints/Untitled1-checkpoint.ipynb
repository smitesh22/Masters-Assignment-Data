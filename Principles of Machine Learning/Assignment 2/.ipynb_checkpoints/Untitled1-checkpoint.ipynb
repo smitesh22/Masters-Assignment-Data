{
 "cells": [
  {
   "cell_type": "code",
   "execution_count": null,
   "id": "610f396c",
   "metadata": {},
   "outputs": [],
   "source": [
    "import numpy as np\n",
    "class MLP:\n",
    "    def __init__(self, num_inputs = 3, hidden_layer = [5, 5], num_output = 2):\n",
    "        self.num_inputs = num_inputs,\n",
    "        self.hidden_layer = hidden_layer,\n",
    "        self.num_output = num_output\n",
    "        \n",
    "        layer =  [self.num_inputs] + self.hidden_layer + [self.num_output]\n",
    "        \n",
    "        weights = []\n",
    "        \n",
    "        for i in range(1:len(layer)-1):\n",
    "            w = np.random.rand(layers[i], layer[i+1])\n",
    "            weights.append(w)\n",
    "        self.weights = weights\n",
    "            \n",
    "        activation = []\n",
    "        for i in range(len(layers)):\n",
    "            a = np.zeros(layer[i])\n",
    "            activation.append(a)\n",
    "        self.activation = activation\n",
    "        \n",
    "        derivatives = []\n",
    "        for i in range(len(layers) - 1):\n",
    "            a = np.zeros(layer[i], layer[i + 1])\n",
    "            derivatives.append(a)\n",
    "        self.derivatives = activation\n",
    "            \n",
    "    def forward_propogation(self, inputs):\n",
    "        activation = inputs\n",
    "        \n",
    "        self.activation[0] = inputs\n",
    "        \n",
    "        for i, w in enumerate(self.weights):\n",
    "            net_inputs = np.dot(activation, w)\n",
    "            activation = self.sigmoid(net_inputs)\n",
    "            self.activation[i+1] = activation\n",
    "            \n",
    "        return activations\n",
    "        \n",
    "    def sigmoid(self,x):\n",
    "        return 1/ (1+exp(-x))\n",
    "    \n",
    "    "
   ]
  },
  {
   "cell_type": "code",
   "execution_count": 38,
   "id": "ee9577f6",
   "metadata": {},
   "outputs": [
    {
     "data": {
      "text/plain": [
       "[3, 5, 5, 2]"
      ]
     },
     "execution_count": 38,
     "metadata": {},
     "output_type": "execute_result"
    }
   ],
   "source": [
    "[3] + [5, 5] + [2]"
   ]
  },
  {
   "cell_type": "code",
   "execution_count": null,
   "id": "e5725066",
   "metadata": {},
   "outputs": [],
   "source": []
  }
 ],
 "metadata": {
  "kernelspec": {
   "display_name": "Python 3",
   "language": "python",
   "name": "python3"
  },
  "language_info": {
   "codemirror_mode": {
    "name": "ipython",
    "version": 3
   },
   "file_extension": ".py",
   "mimetype": "text/x-python",
   "name": "python",
   "nbconvert_exporter": "python",
   "pygments_lexer": "ipython3",
   "version": "3.8.8"
  }
 },
 "nbformat": 4,
 "nbformat_minor": 5
}

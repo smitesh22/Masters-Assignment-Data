{
 "cells": [
  {
   "cell_type": "markdown",
   "id": "7616efc3",
   "metadata": {},
   "source": [
    "# Panorama Image Stitching\n",
    "In this assignment, you will generate a stitched panorama image from multiple input images.\n",
    "\n",
    "## Submission Details\n",
    "Assignment deadline: Midnight, Tuesday 7th March \\\n",
    "Jupyter Notebook containing submission to be submitted via blackboard \\\n",
    "Total grade: 10% of final module mark "
   ]
  },
  {
   "cell_type": "markdown",
   "id": "a1424176",
   "metadata": {},
   "source": [
    "# Submission details:\n",
    "#### Name:\n",
    "#### ID:\n",
    "#### Class code:"
   ]
  },
  {
   "cell_type": "code",
   "execution_count": null,
   "id": "a1cb2c86",
   "metadata": {},
   "outputs": [],
   "source": [
    "# Load required Libraries\n",
    "import numpy as np\n",
    "import cv2\n",
    "from matplotlib import pyplot as plt\n",
    "import os"
   ]
  },
  {
   "cell_type": "markdown",
   "id": "1fb3ccbc",
   "metadata": {},
   "source": [
    "## Read in the images\n",
    "\n",
    "Note that there will be multiple image sets to try in this assignment. For full marks, you will need to report the results of your solution on each of the sets of images"
   ]
  },
  {
   "cell_type": "code",
   "execution_count": null,
   "id": "c8b253f7",
   "metadata": {},
   "outputs": [],
   "source": [
    "# read images\n",
    "path = 'images'\n",
    "input_path = path + '/set_1/'\n",
    "filenames = [input_path + filename for filename in os.listdir(input_path)]\n",
    "raw_images = [cv2.imread(filename) for filename in filenames]\n",
    "count = len(raw_images)"
   ]
  },
  {
   "cell_type": "markdown",
   "id": "552ea0af",
   "metadata": {},
   "source": [
    "## Reorder the images\n",
    "As this assignment will require the merge of multiple images, we need to do some alignment of the images. THe idea is to reset the order of the images, and to make the centre image the \"source\" image, and to then extend the panorama to both sides. \\\n",
    "\n",
    "As this is not the key learning from this assignment, the code is provided, no modifications are required"
   ]
  },
  {
   "cell_type": "code",
   "execution_count": null,
   "id": "6d718035",
   "metadata": {},
   "outputs": [],
   "source": [
    "# reset the order of the images to make the center one is the source image, and extend to both sides\n",
    "images = []\n",
    "new_idx = (count - 1) // 2\n",
    "k = -1\n",
    "for i in range(count):\n",
    "    new_idx = new_idx + k * i\n",
    "    images.append(raw_images[new_idx])\n",
    "    k *= -1\n",
    "\n",
    "# initialize the source image\n",
    "img_src = images[0]"
   ]
  },
  {
   "cell_type": "markdown",
   "id": "308118da",
   "metadata": {},
   "source": [
    "## Perform panorama stitching\n",
    "\n",
    "In this section, implement the panorama image stitching. Note that there are multiple approaches that will work to achieve this, and you can find multiple examples online. In this assignment, we will work through one possible implementation. \n",
    "\n",
    "Note that in this example, the goal is to merge multiple images (many demos online only merge two images). Also, for this example, we will consider horizontal merges only. It is relatively straight forward to extend this implementation to consider vertical panorama stitching too.\n",
    "\n",
    "Note: with this implementation, the quality varies with the number of input images (merging 2 images is ok, but for more than 2, the perspective isn't very good). So try varying the number of images used in the merge"
   ]
  },
  {
   "cell_type": "code",
   "execution_count": null,
   "id": "cee7987f",
   "metadata": {},
   "outputs": [],
   "source": [
    "# the image need to stitch\n",
    "for i in range(1, len(images)):\n",
    "    img_dst = images[i]\n",
    "    # make sure to merge from left to right\n",
    "    if i % 2 == 0:\n",
    "        img_src, img_dst = img_dst, img_src\n",
    "\n",
    "    # detects keypoints and computes the descriptors for \"source\" and \"destination\" images (hint: use ORB features)\n",
    "\n",
    "\n",
    "    # create a brute foce matching function, and calculate the matches\n",
    "\n",
    "    \n",
    "    # sort the matches by distance\n",
    "\n",
    "    \n",
    "    # Keep only the top 50 matches\n",
    "\n",
    "    \n",
    "    # Get the keypoints from the matches\n",
    "    src_pts = np.zeros((len(matches), 2), dtype=np.float32).reshape(-1, 1, 2)\n",
    "    dst_pts = np.zeros((len(matches), 2), dtype=np.float32).reshape(-1, 1, 2)\n",
    "    for i, match in enumerate(matches):\n",
    "        src_pts[i, :] = kp1[match.queryIdx].pt\n",
    "        dst_pts[i, :] = kp2[match.trainIdx].pt\n",
    "    \n",
    "    # Compute the homography matrix using RANSAC\n",
    "    \n",
    "    # show the keypoint matches (hint: use the opencv drawMatches function)\n",
    "\n",
    "    \n",
    "    # show matched points image\n",
    "\n",
    "\n",
    "    # get the height and width of the original images\n",
    "    h1, w1, p1 = img_src.shape\n",
    "    h2, w2, p2 = img_dst.shape\n",
    "    h = np.maximum(h1, h2)\n",
    "    w = np.maximum(w1, w2)\n",
    "\n",
    "    move_dis = int(np.maximum(dst_pts[0][0][0], src_pts[0][0][0]))\n",
    "    \n",
    "    # apply perspective correction (hint: use opencv warpPerspective. Set the width and height to (w1 + w2 - move_dis, h))\n",
    "\n",
    "    # combine the source image to the transformed image\n",
    "\n",
    "    # use img_transform as the source image for the next iteration of the loop\n",
    "    img_src = img_transform"
   ]
  },
  {
   "cell_type": "code",
   "execution_count": null,
   "id": "33bdf02c",
   "metadata": {},
   "outputs": [],
   "source": [
    "# Display final panorama\n"
   ]
  },
  {
   "cell_type": "markdown",
   "id": "969e219a",
   "metadata": {},
   "source": [
    "## Summary of findings\n",
    "At this stage, you should have tried your implementation on all of the image sets provided.\\\n",
    "You should have noticed by now that:\n",
    "- One of the sets does not give a good result (and a lot of artifacts with the \"out of the box\" solution\n",
    "- In some cases, even when there is a relatively good stitch, the final panorama perspective isn't very good\n",
    "- A black boarder is visible in the image\n",
    "- There are some mismatches in image brightness\n",
    "- there are sharp transitions between merged images\n",
    "\n",
    "For all of the points above, suggest \n",
    "- A reason for the issue\n",
    "- A potential fix for the issue\n"
   ]
  },
  {
   "cell_type": "markdown",
   "id": "03c4eb8d",
   "metadata": {},
   "source": [
    "## Extra credit\n",
    "\n",
    "For a 2 mark extra credit assignment, implement a fix for __One__ of the following:\n",
    "- A solution to correct the perspective in when more than 2 images are merged\n",
    "- Remove the black pixels and crop the minimum \"complete\" area from the panorama (with an intelligent solution, not a manual hack!!!)\n",
    "- Smooth the transitions between merges and minimize the brightness differences"
   ]
  },
  {
   "cell_type": "code",
   "execution_count": null,
   "id": "b5639635",
   "metadata": {},
   "outputs": [],
   "source": []
  }
 ],
 "metadata": {
  "kernelspec": {
   "display_name": "Python 3 (ipykernel)",
   "language": "python",
   "name": "python3"
  },
  "language_info": {
   "codemirror_mode": {
    "name": "ipython",
    "version": 3
   },
   "file_extension": ".py",
   "mimetype": "text/x-python",
   "name": "python",
   "nbconvert_exporter": "python",
   "pygments_lexer": "ipython3",
   "version": "3.9.7"
  }
 },
 "nbformat": 4,
 "nbformat_minor": 5
}

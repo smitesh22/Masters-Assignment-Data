{
 "cells": [
  {
   "cell_type": "markdown",
   "metadata": {},
   "source": [
    "# MP305 Network Flow Models II - Michael Tuite"
   ]
  },
  {
   "cell_type": "code",
   "execution_count": 1,
   "metadata": {},
   "outputs": [],
   "source": [
    "from IPython.display import display, Math, Latex"
   ]
  },
  {
   "cell_type": "markdown",
   "metadata": {},
   "source": [
    "## Overview \n",
    "\n",
    "This file contains a number of Python functions for finding the maximal flow through a network $G$ subject to minimal cost using the Ford Fulkerson Algorithm.\n",
    "\n",
    "The network graph $G$ is stored in a set `G` of two element tuples `(i,j)` describing the directed arcs $(i,j)$ of $G$.\n",
    "\n",
    "It is assumed that node number $1$ is the source and the greatest node `Nsink` is the sink.  \n",
    "Thus `G={(1,2),(2,3),(1,3)}`  describes a network with 3 nodes where node 1 is the source and node 3 is the sink.\n",
    "\n",
    "The capacity $c(i,j)$, flow $\\phi(i,j)$ and cost $l(i,j)$ of the arc $(i,j)$ of $G$ are stored in `c[i][j]`, `phi[i][j]` and `l[i][j]`. \n",
    "Here `c`, `phi` and `l` are Python lists.\n",
    "\n",
    "## Python Functions\n",
    "### The `Initialise(G)` function\n",
    "Having defined the network $G$, initialise `c`, `phi` and `l` values to zero via the `Initialise` function before defining their values in any particular example.  The global variable `Nsink`,  the sink node of $G$, is also found by the `Initialise` function .\n",
    "\n",
    "### The main `Iterate(G)`function \n",
    "This implements the full algorithm to find the maximum flow with minimal cost. "
   ]
  },
  {
   "cell_type": "code",
   "execution_count": null,
   "metadata": {},
   "outputs": [],
   "source": []
  },
  {
   "cell_type": "markdown",
   "metadata": {},
   "source": [
    "## The `Iterate(G)` function is based on a number of other Python functions:\n",
    "\n",
    "### `Flows(G)` \n",
    "This checks for conservation of flow and prints out all of the current flows for G and the total cost of this flow. \n",
    "\n",
    "###  `Links(G)`\n",
    "This finds all arcs `(i,j1)`, ` (i,j2)`,  ... *out* of node `i` of `G`.  The nodes `j1,j2,..` are stored in a global list of sets `Out`.\n",
    "\n",
    "###  `SourceSink(G)`\n",
    "This finds all of the paths from source to sink in any network `G` and results in a global set `SinkPaths` of such paths.\n",
    "\n",
    "###  `IncremNet(G)`\n",
    "This finds the Incremental Network `Gp` associated with the current flow of the network `G`.\n",
    "\n",
    "###  `Newflows(G)`\n",
    "This updates the flows `phi` of `G` according to the best chain found through `Gp`. If the maximal flow is reached, then this is indicated and the maximum flow value is outputed. Otherwise, the output is: the change in flow (`eps`), the cost of the best chain, and the best chain.\n",
    "\n",
    "###  `Iterate(G)`\n",
    "Implements the full algorithm to find the maximum flow with minimal cost. \n",
    "The output is as follows:\n",
    "\n",
    "(1) The incremental network `Gp`.\n",
    "\n",
    "(2) The paths through `Gp` from source to sink. \n",
    "\n",
    "(3) The output of `Newflows(G)`. \n",
    "\n",
    "(4) The output of `Flows(G)` giving the current flows and cost of `G`.\n"
   ]
  },
  {
   "cell_type": "code",
   "execution_count": null,
   "metadata": {},
   "outputs": [],
   "source": []
  },
  {
   "cell_type": "code",
   "execution_count": 2,
   "metadata": {},
   "outputs": [],
   "source": [
    "def Initialise (Gin):\n",
    "    global c,phi,l,cp,lp,Nsink\n",
    "    Nsink=1\n",
    "    for arc in Gin:\n",
    "        i,j=arc\n",
    "        Nsink=max(Nsink,i,j)\n",
    "    # for convenience c[i][j] is capacity of arc [i,j]\n",
    "    c=[[0 for i in range(Nsink+1)] for j in range(Nsink+1)] \n",
    "    phi=[[0 for i in range(Nsink+1)] for j in range(Nsink+1)]\n",
    "    l=[[0 for i in range(Nsink+1)] for j in range(Nsink+1)]\n",
    "    cp=[[0 for i in range(Nsink+1)] for j in range(Nsink+1)]\n",
    "    lp=[[0 for i in range(Nsink+1)] for j in range(Nsink+1)]\n",
    "    print(\"All values of c,phi and l initialised to zero\")\n"
   ]
  },
  {
   "cell_type": "code",
   "execution_count": 3,
   "metadata": {},
   "outputs": [],
   "source": [
    "def Flows (Gin):\n",
    "    global Nsink,l,phi\n",
    "    Flowin=[0 for i in range(Nsink+1)]\n",
    "    Flowout=[0 for i in range(Nsink+1)]\n",
    "    for arc in Gin:\n",
    "        i,j=arc\n",
    "        Flowin[j] = Flowin[j] + phi[i][j]\n",
    "        Flowout[i] = Flowout[i] + phi[i][j]\n",
    "    for k in range(2,Nsink):\n",
    "        if Flowin[k] != Flowout[k]:\n",
    "            print(\"*** ERROR *** Flow not conserved at node\", k)\n",
    "    if Flowout[1] != Flowin[Nsink]:\n",
    "        print(\"*** ERROR *** Flow not conserved at source or sink\")\n",
    "    Totalcost = 0\n",
    "    for arc in Gin:\n",
    "        i,j=arc\n",
    "        phi_ij = phi[i][j]\n",
    "        Totalcost = Totalcost + l[i][j]*phi_ij\n",
    "        print(arc,\" has flow \",phi_ij)\n",
    "    print(\"Total Cost is \", Totalcost)\n"
   ]
  },
  {
   "cell_type": "code",
   "execution_count": 4,
   "metadata": {},
   "outputs": [],
   "source": [
    "def Links (Gin):\n",
    "    global Nsink,Out\n",
    "    Out=[set() for k in range(Nsink)] # labelled 0..Nsink-1\n",
    "    for arc in Gin:\n",
    "        i,j = arc\n",
    "        Out[i - 1] = Out[i - 1] | set([j])"
   ]
  },
  {
   "cell_type": "code",
   "execution_count": 5,
   "metadata": {},
   "outputs": [],
   "source": [
    "def SourceSink(Gin):\n",
    "# finds all paths SinkPaths from source 1 to sink Nsink of network G \n",
    "    global Nsink,SinkPaths\n",
    "    Links(Gin)\n",
    "    Paths = set() # current paths from source stored as set of tuples\n",
    "    SinkPaths = set() # paths from source to sink Nsink stored as set of tuples\n",
    "    path = 1 # source node label\n",
    "    for node in Out[0]:# need out edge from node 1\n",
    "        pathn = (path,node)\n",
    "        if node == Nsink:\n",
    "            SinkPaths = SinkPaths | set([pathn])\n",
    "        else:\n",
    "            Paths = Paths | set([pathn])\n",
    "    Npaths = len(Paths)\n",
    "    while (0 < Npaths):\n",
    "        NewPaths = set()\n",
    "        for oldpath in Paths:\n",
    "            nold = len(oldpath)\n",
    "            m = oldpath[-1] # last node in tuple oldpath\n",
    "            for mout in Out[m-1]:\n",
    "                if not mout in oldpath:\n",
    "                    if mout == Nsink:\n",
    "                        SinkPaths = SinkPaths | set([oldpath+tuple([Nsink])])\n",
    "                    else:\n",
    "                        NewPaths = NewPaths | set([oldpath+tuple([mout])])\n",
    "        Paths = NewPaths\n",
    "        Npaths = len(Paths)\n",
    "    print(\"Paths from source to sink: \",SinkPaths)"
   ]
  },
  {
   "cell_type": "code",
   "execution_count": 6,
   "metadata": {},
   "outputs": [],
   "source": [
    "def Newflows(Gin):\n",
    "# A procedure to modify original flows on Gin along SinkPaths of Gp with minimal cost\n",
    "    global Gp,phi,c,l,cp,lp,ArcSign,Out\n",
    "    SourceSink(Gp)\n",
    "    if SinkPaths == set():\n",
    "        Links(Gin)\n",
    "        Flow = 0\n",
    "        for node in Out[0]:\n",
    "            Flow = Flow + phi[1][node]\n",
    "        Cost=0\n",
    "        for arc in Gin:\n",
    "            i,j=arc\n",
    "            Cost=Cost+l[i][j]*phi[i][j]\n",
    "        print(\"Maximal flow found:\", Flow, \" with minimal cost \", Cost)\n",
    "    else:\n",
    "        for k in range(len(SinkPaths)):\n",
    "            cost = 0\n",
    "            epset = set()\n",
    "            path=list(SinkPaths)[k]\n",
    "            for n in range(0, len(path)-1):\n",
    "                i = path[n]; j = path[n+1];  epset = epset | set([cp[i][j]]); cost = lp[i][j] + cost\n",
    "            eps = min(tuple(epset))\n",
    "            if k == 0: # first path\n",
    "                mincost = cost; bestpath = path; besteps = eps\n",
    "            elif cost < mincost: \n",
    "                mincost = cost; bestpath = path; besteps = eps\n",
    "        print(\"A best path in Gp is \", bestpath, \" of minimum cost \", mincost)\n",
    "        print(\"The min capacity on this path is epsilon \", besteps)\n",
    "        print(\"The min cost is \", mincost)\n",
    "        for k in range(0, len(bestpath) - 1):\n",
    "            i = bestpath[k]; j = bestpath[k+1]\n",
    "            if ArcSign[i][j] == 1:\n",
    "                phinewij = phi[i][j] + besteps; phi[i][j]=phinewij\n",
    "            else:\n",
    "                phinewji=phi[j][i] = phi[j][i] - besteps; phi[j][i]=phinewji\n",
    "    #print(\"Flow=\",Flow)"
   ]
  },
  {
   "cell_type": "code",
   "execution_count": 7,
   "metadata": {},
   "outputs": [],
   "source": [
    "def Iterate(Gin):\n",
    "    IncremNet(Gin)\n",
    "    Newflows(Gin)\n",
    "    for arc in Gin:\n",
    "        i,j=arc\n",
    "        print((i,j),\" flow = \", phi[i][j])"
   ]
  },
  {
   "cell_type": "code",
   "execution_count": 8,
   "metadata": {},
   "outputs": [],
   "source": [
    "def IncremNet(Gin):\n",
    "# procedure to create incremental network Gp from given flow network G \n",
    "    global Gp,Nsink,phi,c,l,cp,lp,ArcSign\n",
    "# define lists for ArcSign, cp and lp  (indexed by 0..Nsink-1)\n",
    "    cp=[[0 for i in range(Nsink+1)] for j in range(Nsink+1)]\n",
    "    lp=[[0 for i in range(Nsink+1)] for j in range(Nsink+1)]\n",
    "    ArcSign=[[0 for i in range(Nsink+1)] for j in range(Nsink+1)]\n",
    "    Gp=set([])\n",
    "    for arc in Gin:\n",
    "        i,j=arc\n",
    "        pij = phi[i][j]; pji = phi[j][i]; cij = c[i][j]; lij = l[i][j]\n",
    "        if (pij < cij and (pji == 0 or not (j,i) in Gin)): # ij arc\n",
    "            #Gp edges, capacitites and costs added\n",
    "            cpij = cij - pij; cp[i][j] = cpij; lpij = lij; lp[i][j] =lpij\n",
    "            ArcSign[i][j] = 1\n",
    "            Gp=Gp | {(i,j)}\n",
    "        if pij>0: # ji arc\n",
    "            cpji = pij; cp[j][i] = cpji; lpji=-lij; lp[j][i] = lpji\n",
    "            ArcSign[j][i] = -1\n",
    "            Gp=Gp | {(j,i)}\n",
    "    print(\"Incremental Network:\",Gp)"
   ]
  },
  {
   "cell_type": "code",
   "execution_count": null,
   "metadata": {},
   "outputs": [],
   "source": []
  },
  {
   "cell_type": "markdown",
   "metadata": {},
   "source": [
    "# Q 1. Power Station/Coal Field Supply\n",
    "### Find the maximal flow for minimal cost for the network below where (capacity,cost) is shown:\n",
    "\n",
    "![Network](Lab2_1.jpg)\n"
   ]
  },
  {
   "cell_type": "markdown",
   "metadata": {},
   "source": [
    "## This is the Coalfield/Power station supply problem discussed in the notes\n",
    "### * Find the incremental network, its capacities and costs at each iteration."
   ]
  },
  {
   "cell_type": "code",
   "execution_count": 9,
   "metadata": {},
   "outputs": [],
   "source": [
    "G={(1,2),(1,3),(2,4),(3,5),\n",
    "   (2,5),(3,4),(4,6),(5,6)}"
   ]
  },
  {
   "cell_type": "code",
   "execution_count": 10,
   "metadata": {},
   "outputs": [
    {
     "data": {
      "text/plain": [
       "8"
      ]
     },
     "execution_count": 10,
     "metadata": {},
     "output_type": "execute_result"
    }
   ],
   "source": [
    "len(G)"
   ]
  },
  {
   "cell_type": "code",
   "execution_count": 11,
   "metadata": {},
   "outputs": [
    {
     "name": "stdout",
     "output_type": "stream",
     "text": [
      "All values of c,phi and l initialised to zero\n"
     ]
    }
   ],
   "source": [
    "Initialise(G)"
   ]
  },
  {
   "cell_type": "markdown",
   "metadata": {},
   "source": [
    "## Input capacities"
   ]
  },
  {
   "cell_type": "code",
   "execution_count": 12,
   "metadata": {},
   "outputs": [],
   "source": [
    "c[1][2]=5; c[1][3]=3; c[2][4]=5; c[3][5]=3 \n",
    "c[2][5]=5; c[3][4]=3; c[4][6]=4; c[5][6]=4"
   ]
  },
  {
   "cell_type": "markdown",
   "metadata": {},
   "source": [
    "## Input costs"
   ]
  },
  {
   "cell_type": "code",
   "execution_count": 13,
   "metadata": {},
   "outputs": [],
   "source": [
    "l[1][2]=2; l[1][3]=3; l[2][4]=3; l[3][5]=6 \n",
    "l[2][5]=2; l[3][4]=2; l[4][6]=0; l[5][6]=0"
   ]
  },
  {
   "cell_type": "code",
   "execution_count": 14,
   "metadata": {},
   "outputs": [
    {
     "name": "stdout",
     "output_type": "stream",
     "text": [
      "(2, 4)  has flow  0\n",
      "(1, 2)  has flow  0\n",
      "(3, 4)  has flow  0\n",
      "(4, 6)  has flow  0\n",
      "(5, 6)  has flow  0\n",
      "(2, 5)  has flow  0\n",
      "(1, 3)  has flow  0\n",
      "(3, 5)  has flow  0\n",
      "Total Cost is  0\n"
     ]
    }
   ],
   "source": [
    "Flows(G)"
   ]
  },
  {
   "cell_type": "code",
   "execution_count": 15,
   "metadata": {},
   "outputs": [
    {
     "name": "stdout",
     "output_type": "stream",
     "text": [
      "Incremental Network: {(2, 4), (1, 2), (2, 5), (3, 4), (5, 6), (4, 6), (1, 3), (3, 5)}\n",
      "Paths from source to sink:  {(1, 2, 5, 6), (1, 3, 4, 6), (1, 2, 4, 6), (1, 3, 5, 6)}\n",
      "A best path in Gp is  (1, 2, 5, 6)  of minimum cost  4\n",
      "The min capacity on this path is epsilon  4\n",
      "The min cost is  4\n",
      "(2, 4)  flow =  0\n",
      "(1, 2)  flow =  4\n",
      "(3, 4)  flow =  0\n",
      "(4, 6)  flow =  0\n",
      "(5, 6)  flow =  4\n",
      "(2, 5)  flow =  4\n",
      "(1, 3)  flow =  0\n",
      "(3, 5)  flow =  0\n"
     ]
    }
   ],
   "source": [
    "Iterate(G)"
   ]
  },
  {
   "cell_type": "markdown",
   "metadata": {},
   "source": [
    "### Continue to iterate until max flow for minimal cost found"
   ]
  },
  {
   "cell_type": "code",
   "execution_count": 16,
   "metadata": {},
   "outputs": [
    {
     "name": "stdout",
     "output_type": "stream",
     "text": [
      "Incremental Network: {(2, 4), (1, 2), (2, 1), (3, 4), (6, 5), (4, 6), (2, 5), (1, 3), (3, 5), (5, 2)}\n",
      "Paths from source to sink:  {(1, 3, 5, 2, 4, 6), (1, 3, 4, 6), (1, 2, 4, 6)}\n",
      "A best path in Gp is  (1, 3, 4, 6)  of minimum cost  5\n",
      "The min capacity on this path is epsilon  3\n",
      "The min cost is  5\n",
      "(2, 4)  flow =  0\n",
      "(1, 2)  flow =  4\n",
      "(3, 4)  flow =  3\n",
      "(4, 6)  flow =  3\n",
      "(5, 6)  flow =  4\n",
      "(2, 5)  flow =  4\n",
      "(1, 3)  flow =  3\n",
      "(3, 5)  flow =  0\n"
     ]
    }
   ],
   "source": [
    "Iterate(G)"
   ]
  },
  {
   "cell_type": "code",
   "execution_count": 17,
   "metadata": {},
   "outputs": [
    {
     "name": "stdout",
     "output_type": "stream",
     "text": [
      "Incremental Network: {(2, 4), (1, 2), (2, 1), (6, 5), (4, 3), (3, 1), (4, 6), (6, 4), (2, 5), (3, 5), (5, 2)}\n",
      "Paths from source to sink:  {(1, 2, 4, 6)}\n",
      "A best path in Gp is  (1, 2, 4, 6)  of minimum cost  5\n",
      "The min capacity on this path is epsilon  1\n",
      "The min cost is  5\n",
      "(2, 4)  flow =  1\n",
      "(1, 2)  flow =  5\n",
      "(3, 4)  flow =  3\n",
      "(4, 6)  flow =  4\n",
      "(5, 6)  flow =  4\n",
      "(2, 5)  flow =  4\n",
      "(1, 3)  flow =  3\n",
      "(3, 5)  flow =  0\n"
     ]
    }
   ],
   "source": [
    "Iterate(G)"
   ]
  },
  {
   "cell_type": "code",
   "execution_count": 18,
   "metadata": {},
   "outputs": [
    {
     "name": "stdout",
     "output_type": "stream",
     "text": [
      "Incremental Network: {(2, 4), (2, 1), (6, 5), (4, 3), (3, 1), (6, 4), (4, 2), (2, 5), (3, 5), (5, 2)}\n",
      "Paths from source to sink:  set()\n",
      "Maximal flow found: 8  with minimal cost  36\n",
      "(2, 4)  flow =  1\n",
      "(1, 2)  flow =  5\n",
      "(3, 4)  flow =  3\n",
      "(4, 6)  flow =  4\n",
      "(5, 6)  flow =  4\n",
      "(2, 5)  flow =  4\n",
      "(1, 3)  flow =  3\n",
      "(3, 5)  flow =  0\n"
     ]
    }
   ],
   "source": [
    "Iterate(G)"
   ]
  },
  {
   "cell_type": "code",
   "execution_count": null,
   "metadata": {},
   "outputs": [],
   "source": []
  },
  {
   "cell_type": "markdown",
   "metadata": {},
   "source": [
    "# Q2. (*)  \n",
    "## A road network is shown below with the capacity and time taken per car on each road indicated.\n",
    "![Network](Lab2_2.jpg)\n"
   ]
  },
  {
   "cell_type": "markdown",
   "metadata": {},
   "source": [
    "## * Find the maximal flow through the network for minimal total travel time for all cars from A to B. \n",
    "## * Compare this to the flow from B to A.\n",
    "\n",
    "### Note: You can use the network and capacitites you created in the first lab Network Flows I, Question 3."
   ]
  },
  {
   "cell_type": "code",
   "execution_count": 18,
   "metadata": {},
   "outputs": [
    {
     "data": {
      "text/plain": [
       "17"
      ]
     },
     "execution_count": 18,
     "metadata": {},
     "output_type": "execute_result"
    }
   ],
   "source": [
    "G2 = {(1, 2),(2, 1),(1, 3),(3, 1),(3, 4),(4, 3),(4, 2),(2, 5),(4, 6),\n",
    "      (6, 4),(3, 7),(7, 6),(5, 6),(5, 10),(10, 5),(7, 10),(10, 7)}\n",
    "len(G2)"
   ]
  },
  {
   "cell_type": "code",
   "execution_count": 19,
   "metadata": {},
   "outputs": [
    {
     "name": "stdout",
     "output_type": "stream",
     "text": [
      "All values of c,phi and l initialised to zero\n"
     ]
    }
   ],
   "source": [
    "Initialise(G2)"
   ]
  },
  {
   "cell_type": "code",
   "execution_count": 20,
   "metadata": {},
   "outputs": [],
   "source": [
    "c[1][2] = 5; c[2][1] = 5; c[1][3] = 4; c[3][1] = 4;\n",
    "c[3][4] = 5; c[4][3] = 5; c[4][2] = 4; c[2][5] = 3;\n",
    "c[4][6] = 5; c[6][4] = 5; c[3][7] = 3; c[7][6] = 4;\n",
    "c[5][6] = 2; c[5][10] = 6; c[10][5] = 6; c[7][10] = 4;\n",
    "c[10][7] = 4"
   ]
  },
  {
   "cell_type": "code",
   "execution_count": 21,
   "metadata": {},
   "outputs": [],
   "source": [
    "l[1][2] = 3; l[2][1] = 3; l[1][3] = 2; l[3][1] = 2;\n",
    "l[3][4] = 1; l[4][3] = 1; l[4][2] = 3; l[2][5] = 2;\n",
    "l[4][6] = 2; l[6][4] = 2; l[3][7] = 2; l[7][6] = 3;\n",
    "l[5][6] = 3; l[5][10] = 3; l[10][5] = 3; l[7][10] = 1;\n",
    "l[10][7] = 1"
   ]
  },
  {
   "cell_type": "code",
   "execution_count": 22,
   "metadata": {},
   "outputs": [
    {
     "name": "stdout",
     "output_type": "stream",
     "text": [
      "(10, 5)  has flow  0\n",
      "(1, 2)  has flow  0\n",
      "(2, 1)  has flow  0\n",
      "(3, 4)  has flow  0\n",
      "(4, 3)  has flow  0\n",
      "(3, 1)  has flow  0\n",
      "(3, 7)  has flow  0\n",
      "(7, 10)  has flow  0\n",
      "(4, 6)  has flow  0\n",
      "(6, 4)  has flow  0\n",
      "(4, 2)  has flow  0\n",
      "(10, 7)  has flow  0\n",
      "(5, 10)  has flow  0\n",
      "(7, 6)  has flow  0\n",
      "(5, 6)  has flow  0\n",
      "(2, 5)  has flow  0\n",
      "(1, 3)  has flow  0\n",
      "Total Cost is  0\n"
     ]
    }
   ],
   "source": [
    "Flows(G2)"
   ]
  },
  {
   "cell_type": "code",
   "execution_count": 23,
   "metadata": {},
   "outputs": [
    {
     "name": "stdout",
     "output_type": "stream",
     "text": [
      "Incremental Network: {(10, 5), (1, 2), (2, 1), (3, 4), (4, 3), (3, 1), (3, 7), (4, 6), (6, 4), (5, 10), (7, 6), (2, 5), (1, 3), (7, 10), (10, 7), (4, 2), (5, 6)}\n",
      "Paths from source to sink:  {(1, 2, 5, 6, 4, 3, 7, 10), (1, 3, 7, 6, 4, 2, 5, 10), (1, 2, 5, 10), (1, 3, 7, 10), (1, 3, 4, 2, 5, 10)}\n",
      "A best path in Gp is  (1, 3, 7, 10)  of minimum cost  5\n",
      "The min capacity on this path is epsilon  3\n",
      "The min cost is  5\n",
      "(10, 5)  flow =  0\n",
      "(1, 2)  flow =  0\n",
      "(2, 1)  flow =  0\n",
      "(3, 4)  flow =  0\n",
      "(4, 3)  flow =  0\n",
      "(3, 1)  flow =  0\n",
      "(3, 7)  flow =  3\n",
      "(7, 10)  flow =  3\n",
      "(4, 6)  flow =  0\n",
      "(6, 4)  flow =  0\n",
      "(4, 2)  flow =  0\n",
      "(10, 7)  flow =  0\n",
      "(5, 10)  flow =  0\n",
      "(7, 6)  flow =  0\n",
      "(5, 6)  flow =  0\n",
      "(2, 5)  flow =  0\n",
      "(1, 3)  flow =  3\n"
     ]
    }
   ],
   "source": [
    "Iterate(G2)"
   ]
  },
  {
   "cell_type": "code",
   "execution_count": 24,
   "metadata": {},
   "outputs": [
    {
     "name": "stdout",
     "output_type": "stream",
     "text": [
      "Incremental Network: {(10, 5), (1, 2), (2, 1), (3, 4), (4, 3), (3, 1), (4, 6), (6, 4), (7, 3), (5, 10), (7, 6), (2, 5), (1, 3), (7, 10), (10, 7), (4, 2), (5, 6)}\n",
      "Paths from source to sink:  {(1, 3, 4, 2, 5, 10), (1, 2, 5, 10)}\n",
      "A best path in Gp is  (1, 2, 5, 10)  of minimum cost  8\n",
      "The min capacity on this path is epsilon  3\n",
      "The min cost is  8\n",
      "(10, 5)  flow =  0\n",
      "(1, 2)  flow =  3\n",
      "(2, 1)  flow =  0\n",
      "(3, 4)  flow =  0\n",
      "(4, 3)  flow =  0\n",
      "(3, 1)  flow =  0\n",
      "(3, 7)  flow =  3\n",
      "(7, 10)  flow =  3\n",
      "(4, 6)  flow =  0\n",
      "(6, 4)  flow =  0\n",
      "(4, 2)  flow =  0\n",
      "(10, 7)  flow =  0\n",
      "(5, 10)  flow =  3\n",
      "(7, 6)  flow =  0\n",
      "(5, 6)  flow =  0\n",
      "(2, 5)  flow =  3\n",
      "(1, 3)  flow =  3\n"
     ]
    }
   ],
   "source": [
    "Iterate(G2)"
   ]
  },
  {
   "cell_type": "code",
   "execution_count": 25,
   "metadata": {},
   "outputs": [
    {
     "name": "stdout",
     "output_type": "stream",
     "text": [
      "Incremental Network: {(10, 5), (1, 2), (2, 1), (3, 4), (4, 3), (3, 1), (4, 6), (6, 4), (7, 3), (5, 10), (7, 6), (1, 3), (5, 2), (7, 10), (10, 7), (4, 2), (5, 6)}\n",
      "Paths from source to sink:  set()\n",
      "Maximal flow found: 6  with minimal cost  39\n",
      "(10, 5)  flow =  0\n",
      "(1, 2)  flow =  3\n",
      "(2, 1)  flow =  0\n",
      "(3, 4)  flow =  0\n",
      "(4, 3)  flow =  0\n",
      "(3, 1)  flow =  0\n",
      "(3, 7)  flow =  3\n",
      "(7, 10)  flow =  3\n",
      "(4, 6)  flow =  0\n",
      "(6, 4)  flow =  0\n",
      "(4, 2)  flow =  0\n",
      "(10, 7)  flow =  0\n",
      "(5, 10)  flow =  3\n",
      "(7, 6)  flow =  0\n",
      "(5, 6)  flow =  0\n",
      "(2, 5)  flow =  3\n",
      "(1, 3)  flow =  3\n"
     ]
    }
   ],
   "source": [
    "Iterate(G2)"
   ]
  },
  {
   "cell_type": "markdown",
   "metadata": {},
   "source": [
    "# FROM B TO A"
   ]
  },
  {
   "cell_type": "code",
   "execution_count": 26,
   "metadata": {},
   "outputs": [
    {
     "data": {
      "text/plain": [
       "17"
      ]
     },
     "execution_count": 26,
     "metadata": {},
     "output_type": "execute_result"
    }
   ],
   "source": [
    "G3 = {(10, 2),(2, 10),(10, 3),(3, 10),(3, 4),(4, 3),(4, 2),(2, 5),(4, 6),(6, 4),(3, 7),(7, 6),(5, 6),(5, 1),(1, 5),(7, 1),(1, 7)}\n",
    "len(G2)"
   ]
  },
  {
   "cell_type": "code",
   "execution_count": 27,
   "metadata": {},
   "outputs": [
    {
     "name": "stdout",
     "output_type": "stream",
     "text": [
      "All values of c,phi and l initialised to zero\n"
     ]
    }
   ],
   "source": [
    "Initialise(G3)"
   ]
  },
  {
   "cell_type": "code",
   "execution_count": 28,
   "metadata": {},
   "outputs": [],
   "source": [
    "c[10][2] = 5; c[2][10] = 5; c[10][3] = 4; c[3][10] = 4;\n",
    "c[3][4] = 5; c[4][3] = 5; c[4][2] = 4; c[2][5] = 3;\n",
    "c[4][6] = 5; c[6][4] = 5; c[3][7] = 3; c[7][6] = 4;\n",
    "c[5][6] = 2; c[5][1] = 6; c[1][5] = 6; c[7][1] = 4;\n",
    "c[1][7] = 4"
   ]
  },
  {
   "cell_type": "code",
   "execution_count": 29,
   "metadata": {},
   "outputs": [],
   "source": [
    "l[10][2] = 3; l[2][10] = 3; l[10][3] = 2; l[3][10] = 2;\n",
    "l[3][4] = 1; l[4][3] = 1; l[4][2] = 3; l[2][5] = 2;\n",
    "l[4][6] = 2; l[6][4] = 2; l[3][7] = 2; l[7][6] = 3;\n",
    "l[5][6] = 3; l[5][1] = 3; l[1][5] = 3; l[7][1] = 1;\n",
    "l[1][7] = 1"
   ]
  },
  {
   "cell_type": "code",
   "execution_count": 30,
   "metadata": {},
   "outputs": [
    {
     "name": "stdout",
     "output_type": "stream",
     "text": [
      "(7, 1)  has flow  0\n",
      "(3, 4)  has flow  0\n",
      "(4, 3)  has flow  0\n",
      "(1, 5)  has flow  0\n",
      "(3, 7)  has flow  0\n",
      "(2, 10)  has flow  0\n",
      "(4, 6)  has flow  0\n",
      "(3, 10)  has flow  0\n",
      "(4, 2)  has flow  0\n",
      "(6, 4)  has flow  0\n",
      "(5, 1)  has flow  0\n",
      "(1, 7)  has flow  0\n",
      "(7, 6)  has flow  0\n",
      "(5, 6)  has flow  0\n",
      "(10, 3)  has flow  0\n",
      "(2, 5)  has flow  0\n",
      "(10, 2)  has flow  0\n",
      "Total Cost is  0\n"
     ]
    }
   ],
   "source": [
    "Flows(G3)"
   ]
  },
  {
   "cell_type": "code",
   "execution_count": 31,
   "metadata": {},
   "outputs": [
    {
     "name": "stdout",
     "output_type": "stream",
     "text": [
      "Incremental Network: {(3, 4), (4, 3), (1, 5), (3, 7), (2, 10), (4, 6), (3, 10), (6, 4), (5, 1), (7, 6), (10, 3), (2, 5), (7, 1), (4, 2), (1, 7), (5, 6), (10, 2)}\n",
      "Paths from source to sink:  {(1, 7, 6, 4, 2, 10), (1, 5, 6, 4, 2, 10), (1, 7, 6, 4, 3, 10), (1, 5, 6, 4, 3, 10)}\n",
      "A best path in Gp is  (1, 7, 6, 4, 3, 10)  of minimum cost  9\n",
      "The min capacity on this path is epsilon  4\n",
      "The min cost is  9\n",
      "(7, 1)  flow =  0\n",
      "(3, 4)  flow =  0\n",
      "(4, 3)  flow =  4\n",
      "(1, 5)  flow =  0\n",
      "(3, 7)  flow =  0\n",
      "(2, 10)  flow =  0\n",
      "(4, 6)  flow =  0\n",
      "(3, 10)  flow =  4\n",
      "(4, 2)  flow =  0\n",
      "(6, 4)  flow =  4\n",
      "(5, 1)  flow =  0\n",
      "(1, 7)  flow =  4\n",
      "(7, 6)  flow =  4\n",
      "(5, 6)  flow =  0\n",
      "(10, 3)  flow =  0\n",
      "(2, 5)  flow =  0\n",
      "(10, 2)  flow =  0\n"
     ]
    }
   ],
   "source": [
    "Iterate(G3)"
   ]
  },
  {
   "cell_type": "code",
   "execution_count": 32,
   "metadata": {},
   "outputs": [
    {
     "name": "stdout",
     "output_type": "stream",
     "text": [
      "Incremental Network: {(7, 1), (3, 4), (4, 3), (1, 5), (3, 7), (2, 10), (4, 6), (6, 4), (4, 2), (5, 1), (6, 7), (5, 6), (10, 3), (2, 5), (10, 2)}\n",
      "Paths from source to sink:  {(1, 5, 6, 4, 2, 10)}\n",
      "A best path in Gp is  (1, 5, 6, 4, 2, 10)  of minimum cost  14\n",
      "The min capacity on this path is epsilon  1\n",
      "The min cost is  14\n",
      "(7, 1)  flow =  0\n",
      "(3, 4)  flow =  0\n",
      "(4, 3)  flow =  4\n",
      "(1, 5)  flow =  1\n",
      "(3, 7)  flow =  0\n",
      "(2, 10)  flow =  1\n",
      "(4, 6)  flow =  0\n",
      "(3, 10)  flow =  4\n",
      "(4, 2)  flow =  1\n",
      "(6, 4)  flow =  5\n",
      "(5, 1)  flow =  0\n",
      "(1, 7)  flow =  4\n",
      "(7, 6)  flow =  4\n",
      "(5, 6)  flow =  1\n",
      "(10, 3)  flow =  0\n",
      "(2, 5)  flow =  0\n",
      "(10, 2)  flow =  0\n"
     ]
    }
   ],
   "source": [
    "Iterate(G3)"
   ]
  },
  {
   "cell_type": "code",
   "execution_count": 33,
   "metadata": {},
   "outputs": [
    {
     "name": "stdout",
     "output_type": "stream",
     "text": [
      "Incremental Network: {(2, 4), (7, 1), (3, 4), (6, 5), (4, 3), (1, 5), (3, 7), (2, 10), (4, 6), (5, 1), (4, 2), (6, 7), (5, 6), (10, 3), (2, 5), (10, 2)}\n",
      "Paths from source to sink:  set()\n",
      "Maximal flow found: 5  with minimal cost  50\n",
      "(7, 1)  flow =  0\n",
      "(3, 4)  flow =  0\n",
      "(4, 3)  flow =  4\n",
      "(1, 5)  flow =  1\n",
      "(3, 7)  flow =  0\n",
      "(2, 10)  flow =  1\n",
      "(4, 6)  flow =  0\n",
      "(3, 10)  flow =  4\n",
      "(4, 2)  flow =  1\n",
      "(6, 4)  flow =  5\n",
      "(5, 1)  flow =  0\n",
      "(1, 7)  flow =  4\n",
      "(7, 6)  flow =  4\n",
      "(5, 6)  flow =  1\n",
      "(10, 3)  flow =  0\n",
      "(2, 5)  flow =  0\n",
      "(10, 2)  flow =  0\n"
     ]
    }
   ],
   "source": [
    "Iterate(G3)"
   ]
  },
  {
   "cell_type": "markdown",
   "metadata": {},
   "source": [
    " # Q.3 (*) Soft Drinks Stock Control\n",
    " ## A soft drinks firm buys fruit at the beginning of each month $i$ at a cost per 100kg $p_i$ in units of 1000 Euro. \n",
    " ## The firm can store up 2000kg of fruit at any given time where cost in units 1000 Euro of refrigeration per month per 100kg is $r_i$. \n",
    "## The consumption requirements are $c_i$ per month in 100kg units. \n",
    "\n",
    "## Based on last year's figures,  the following estimates have been made:"
   ]
  },
  {
   "cell_type": "code",
   "execution_count": null,
   "metadata": {},
   "outputs": [],
   "source": []
  },
  {
   "cell_type": "code",
   "execution_count": 34,
   "metadata": {},
   "outputs": [
    {
     "data": {
      "text/latex": [
       "\n",
       "\\begin{array}{|l|l|l|l|l|l|l|l|l|l|l|l|l|}\n",
       "\\hline\n",
       "i & Jan & Feb & Mar & April & May & June & July & Aug & Sept & Oct & Nov & \n",
       "Dec \\\\ \\hline\n",
       "p_{i} & 18 & 17 & 17 & 15 & 12 & 8 & 7 & 6 & 9 & 12 & 14 & 17 \\\\ \\hline\n",
       "r_{i} & 1 & 1 & 2 & 2 & 3 & 5 & 6 & 6 & 5 & 3 & 2 & 1 \\\\ \\hline\n",
       "c_{i} & 9 & 6 & 6 & 7 & 11 & 14 & 16 & 18 & 15 & 10 & 7 & 6 \\\\ \\hline\n",
       "\\end{array}\n"
      ],
      "text/plain": [
       "<IPython.core.display.Latex object>"
      ]
     },
     "execution_count": 34,
     "metadata": {},
     "output_type": "execute_result"
    }
   ],
   "source": [
    "Latex(r\"\"\"\n",
    "\\begin{array}{|l|l|l|l|l|l|l|l|l|l|l|l|l|}\n",
    "\\hline\n",
    "i & Jan & Feb & Mar & April & May & June & July & Aug & Sept & Oct & Nov & \n",
    "Dec \\\\ \\hline\n",
    "p_{i} & 18 & 17 & 17 & 15 & 12 & 8 & 7 & 6 & 9 & 12 & 14 & 17 \\\\ \\hline\n",
    "r_{i} & 1 & 1 & 2 & 2 & 3 & 5 & 6 & 6 & 5 & 3 & 2 & 1 \\\\ \\hline\n",
    "c_{i} & 9 & 6 & 6 & 7 & 11 & 14 & 16 & 18 & 15 & 10 & 7 & 6 \\\\ \\hline\n",
    "\\end{array}\n",
    "\"\"\")"
   ]
  },
  {
   "cell_type": "markdown",
   "metadata": {},
   "source": [
    "## (a) Find the best purchasing schedule starting from January based on these estimates assuming that the firm has no fruit in storage on Jan 1st. \n",
    "## How much will fruit cost for the year and how much will be spent on refrigeration?\n",
    "\n",
    "## (b) Suppose that the firm has 500kg of fruit in storage at the beginning of the year.\n",
    "## What is the best purchasing schedule that ensures that 500kg of fruit is again in storage at the very end of the year?"
   ]
  },
  {
   "cell_type": "code",
   "execution_count": 35,
   "metadata": {},
   "outputs": [],
   "source": [
    "def Initialise20 (Gin):\n",
    "    global c,phi,l,cp,lp,Nsink\n",
    "    Nsink=1\n",
    "    for arc in Gin:\n",
    "        i,j=arc\n",
    "        Nsink=max(Nsink,i,j)\n",
    "    # for convenience c[i][j] is capacity of arc [i,j]\n",
    "    c=[[20 for i in range(Nsink+1)] for j in range(Nsink+1)] \n",
    "    phi=[[0 for i in range(Nsink+1)] for j in range(Nsink+1)]\n",
    "    l=[[0 for i in range(Nsink+1)] for j in range(Nsink+1)]\n",
    "    cp=[[0 for i in range(Nsink+1)] for j in range(Nsink+1)]\n",
    "    lp=[[0 for i in range(Nsink+1)] for j in range(Nsink+1)]\n",
    "    print(\"All values of phi and l initialised to zero and c to 20\")\n"
   ]
  },
  {
   "cell_type": "code",
   "execution_count": 36,
   "metadata": {},
   "outputs": [
    {
     "data": {
      "text/plain": [
       "13"
      ]
     },
     "execution_count": 36,
     "metadata": {},
     "output_type": "execute_result"
    }
   ],
   "source": [
    "G4 = {(1,10), (10,11),\n",
    "     (1,11), (1,12), (1,13),\n",
    "     (11,21), (21,12), (12,22), (22,13), (13,23),\n",
    "     (21,30), (22,30), (23,30)} \n",
    "len(G4)"
   ]
  },
  {
   "cell_type": "code",
   "execution_count": 37,
   "metadata": {},
   "outputs": [
    {
     "name": "stdout",
     "output_type": "stream",
     "text": [
      "All values of phi and l initialised to zero and c to 20\n"
     ]
    }
   ],
   "source": [
    "Initialise20(G4)"
   ]
  },
  {
   "cell_type": "code",
   "execution_count": 38,
   "metadata": {},
   "outputs": [],
   "source": [
    "c[1][10] = 4; c[10][11] = 4; \n",
    "c[1][11] = 5; c[1][12] = 5; c[1][13] = 5;\n",
    "c[11][21] = 5; c[21][12] = 5; c[12][22] = 5;\n",
    "c[22][13] = 5; c[13][23] = 5; \n",
    "c[21][30] = 3; c[22][30] = 5; c[23][30] = 6"
   ]
  },
  {
   "cell_type": "code",
   "execution_count": 39,
   "metadata": {},
   "outputs": [],
   "source": [
    "l[1][10] = 0; l[10][11] = 0; \n",
    "l[1][11] = 3; l[1][12] = 2; l[1][13] = 4;\n",
    "l[11][21] = 0; l[21][12] = 0; l[12][22] = 0;\n",
    "l[22][13] = 0; l[13][23] = 0; \n",
    "l[21][30] = 0; l[22][30] = 0; l[23][30] = 0"
   ]
  },
  {
   "cell_type": "code",
   "execution_count": 40,
   "metadata": {},
   "outputs": [
    {
     "name": "stdout",
     "output_type": "stream",
     "text": [
      "(1, 12)  has flow  0\n",
      "(10, 11)  has flow  0\n",
      "(13, 23)  has flow  0\n",
      "(1, 11)  has flow  0\n",
      "(22, 30)  has flow  0\n",
      "(21, 12)  has flow  0\n",
      "(12, 22)  has flow  0\n",
      "(22, 13)  has flow  0\n",
      "(1, 13)  has flow  0\n",
      "(11, 21)  has flow  0\n",
      "(1, 10)  has flow  0\n",
      "(21, 30)  has flow  0\n",
      "(23, 30)  has flow  0\n",
      "Total Cost is  0\n"
     ]
    }
   ],
   "source": [
    "Flows(G4)"
   ]
  },
  {
   "cell_type": "code",
   "execution_count": 41,
   "metadata": {},
   "outputs": [
    {
     "name": "stdout",
     "output_type": "stream",
     "text": [
      "Incremental Network: {(1, 12), (10, 11), (13, 23), (1, 11), (22, 30), (21, 12), (12, 22), (22, 13), (1, 13), (11, 21), (1, 10), (21, 30), (23, 30)}\n",
      "Paths from source to sink:  {(1, 11, 21, 30), (1, 10, 11, 21, 30), (1, 11, 21, 12, 22, 30), (1, 10, 11, 21, 12, 22, 13, 23, 30), (1, 13, 23, 30), (1, 11, 21, 12, 22, 13, 23, 30), (1, 10, 11, 21, 12, 22, 30), (1, 12, 22, 13, 23, 30), (1, 12, 22, 30)}\n",
      "A best path in Gp is  (1, 10, 11, 21, 30)  of minimum cost  0\n",
      "The min capacity on this path is epsilon  3\n",
      "The min cost is  0\n",
      "(1, 12)  flow =  0\n",
      "(10, 11)  flow =  3\n",
      "(13, 23)  flow =  0\n",
      "(1, 11)  flow =  0\n",
      "(22, 30)  flow =  0\n",
      "(21, 12)  flow =  0\n",
      "(12, 22)  flow =  0\n",
      "(22, 13)  flow =  0\n",
      "(1, 13)  flow =  0\n",
      "(11, 21)  flow =  3\n",
      "(1, 10)  flow =  3\n",
      "(21, 30)  flow =  3\n",
      "(23, 30)  flow =  0\n"
     ]
    }
   ],
   "source": [
    "Iterate(G4)"
   ]
  },
  {
   "cell_type": "code",
   "execution_count": 42,
   "metadata": {},
   "outputs": [
    {
     "name": "stdout",
     "output_type": "stream",
     "text": [
      "Incremental Network: {(1, 12), (10, 11), (11, 10), (13, 23), (1, 11), (22, 30), (30, 21), (10, 1), (21, 12), (12, 22), (22, 13), (1, 13), (11, 21), (1, 10), (21, 11), (23, 30)}\n",
      "Paths from source to sink:  {(1, 13, 23, 30), (1, 11, 21, 12, 22, 30), (1, 10, 11, 21, 12, 22, 13, 23, 30), (1, 11, 21, 12, 22, 13, 23, 30), (1, 10, 11, 21, 12, 22, 30), (1, 12, 22, 13, 23, 30), (1, 12, 22, 30)}\n",
      "A best path in Gp is  (1, 10, 11, 21, 12, 22, 13, 23, 30)  of minimum cost  0\n",
      "The min capacity on this path is epsilon  1\n",
      "The min cost is  0\n",
      "(1, 12)  flow =  0\n",
      "(10, 11)  flow =  4\n",
      "(13, 23)  flow =  1\n",
      "(1, 11)  flow =  0\n",
      "(22, 30)  flow =  0\n",
      "(21, 12)  flow =  1\n",
      "(12, 22)  flow =  1\n",
      "(22, 13)  flow =  1\n",
      "(1, 13)  flow =  0\n",
      "(11, 21)  flow =  4\n",
      "(1, 10)  flow =  4\n",
      "(21, 30)  flow =  3\n",
      "(23, 30)  flow =  1\n"
     ]
    }
   ],
   "source": [
    "Iterate(G4)"
   ]
  },
  {
   "cell_type": "code",
   "execution_count": 43,
   "metadata": {},
   "outputs": [
    {
     "name": "stdout",
     "output_type": "stream",
     "text": [
      "Incremental Network: {(11, 10), (30, 23), (1, 11), (23, 13), (12, 22), (13, 22), (21, 11), (30, 21), (22, 12), (1, 12), (13, 23), (22, 30), (10, 1), (21, 12), (22, 13), (1, 13), (11, 21), (12, 21), (23, 30)}\n",
      "Paths from source to sink:  {(1, 13, 23, 30), (1, 13, 22, 30), (1, 11, 21, 12, 22, 30), (1, 11, 21, 12, 22, 13, 23, 30), (1, 12, 22, 13, 23, 30), (1, 12, 22, 30)}\n",
      "A best path in Gp is  (1, 12, 22, 13, 23, 30)  of minimum cost  2\n",
      "The min capacity on this path is epsilon  4\n",
      "The min cost is  2\n",
      "(1, 12)  flow =  4\n",
      "(10, 11)  flow =  4\n",
      "(13, 23)  flow =  5\n",
      "(1, 11)  flow =  0\n",
      "(22, 30)  flow =  0\n",
      "(21, 12)  flow =  1\n",
      "(12, 22)  flow =  5\n",
      "(22, 13)  flow =  5\n",
      "(1, 13)  flow =  0\n",
      "(11, 21)  flow =  4\n",
      "(1, 10)  flow =  4\n",
      "(21, 30)  flow =  3\n",
      "(23, 30)  flow =  5\n"
     ]
    }
   ],
   "source": [
    "Iterate(G4)"
   ]
  },
  {
   "cell_type": "code",
   "execution_count": 44,
   "metadata": {},
   "outputs": [
    {
     "name": "stdout",
     "output_type": "stream",
     "text": [
      "Incremental Network: {(12, 1), (11, 10), (30, 23), (1, 11), (23, 13), (13, 22), (30, 21), (21, 11), (22, 12), (1, 12), (22, 30), (10, 1), (21, 12), (1, 13), (11, 21), (12, 21), (23, 30)}\n",
      "Paths from source to sink:  {(1, 13, 22, 30)}\n",
      "A best path in Gp is  (1, 13, 22, 30)  of minimum cost  4\n",
      "The min capacity on this path is epsilon  5\n",
      "The min cost is  4\n",
      "(1, 12)  flow =  4\n",
      "(10, 11)  flow =  4\n",
      "(13, 23)  flow =  5\n",
      "(1, 11)  flow =  0\n",
      "(22, 30)  flow =  5\n",
      "(21, 12)  flow =  1\n",
      "(12, 22)  flow =  5\n",
      "(22, 13)  flow =  0\n",
      "(1, 13)  flow =  5\n",
      "(11, 21)  flow =  4\n",
      "(1, 10)  flow =  4\n",
      "(21, 30)  flow =  3\n",
      "(23, 30)  flow =  5\n"
     ]
    }
   ],
   "source": [
    "Iterate(G4)"
   ]
  },
  {
   "cell_type": "code",
   "execution_count": 45,
   "metadata": {},
   "outputs": [
    {
     "name": "stdout",
     "output_type": "stream",
     "text": [
      "Incremental Network: {(12, 1), (11, 10), (13, 1), (30, 23), (1, 11), (23, 13), (30, 21), (21, 11), (22, 12), (1, 12), (10, 1), (21, 12), (22, 13), (30, 22), (11, 21), (12, 21), (23, 30)}\n",
      "Paths from source to sink:  set()\n",
      "Maximal flow found: 13  with minimal cost  28\n",
      "(1, 12)  flow =  4\n",
      "(10, 11)  flow =  4\n",
      "(13, 23)  flow =  5\n",
      "(1, 11)  flow =  0\n",
      "(22, 30)  flow =  5\n",
      "(21, 12)  flow =  1\n",
      "(12, 22)  flow =  5\n",
      "(22, 13)  flow =  0\n",
      "(1, 13)  flow =  5\n",
      "(11, 21)  flow =  4\n",
      "(1, 10)  flow =  4\n",
      "(21, 30)  flow =  3\n",
      "(23, 30)  flow =  5\n"
     ]
    }
   ],
   "source": [
    "Iterate(G4)"
   ]
  },
  {
   "cell_type": "code",
   "execution_count": 46,
   "metadata": {},
   "outputs": [
    {
     "name": "stdout",
     "output_type": "stream",
     "text": [
      "Incremental Network: {(12, 1), (11, 10), (13, 1), (30, 23), (1, 11), (23, 13), (30, 21), (21, 11), (22, 12), (1, 12), (10, 1), (21, 12), (22, 13), (30, 22), (11, 21), (12, 21), (23, 30)}\n",
      "Paths from source to sink:  set()\n",
      "Maximal flow found: 13  with minimal cost  28\n",
      "(1, 12)  flow =  4\n",
      "(10, 11)  flow =  4\n",
      "(13, 23)  flow =  5\n",
      "(1, 11)  flow =  0\n",
      "(22, 30)  flow =  5\n",
      "(21, 12)  flow =  1\n",
      "(12, 22)  flow =  5\n",
      "(22, 13)  flow =  0\n",
      "(1, 13)  flow =  5\n",
      "(11, 21)  flow =  4\n",
      "(1, 10)  flow =  4\n",
      "(21, 30)  flow =  3\n",
      "(23, 30)  flow =  5\n"
     ]
    }
   ],
   "source": [
    "Iterate(G4)"
   ]
  },
  {
   "cell_type": "code",
   "execution_count": 47,
   "metadata": {},
   "outputs": [
    {
     "name": "stdout",
     "output_type": "stream",
     "text": [
      "Incremental Network: {(12, 1), (11, 10), (13, 1), (30, 23), (1, 11), (23, 13), (30, 21), (21, 11), (22, 12), (1, 12), (10, 1), (21, 12), (22, 13), (30, 22), (11, 21), (12, 21), (23, 30)}\n",
      "Paths from source to sink:  set()\n",
      "Maximal flow found: 13  with minimal cost  28\n",
      "(1, 12)  flow =  4\n",
      "(10, 11)  flow =  4\n",
      "(13, 23)  flow =  5\n",
      "(1, 11)  flow =  0\n",
      "(22, 30)  flow =  5\n",
      "(21, 12)  flow =  1\n",
      "(12, 22)  flow =  5\n",
      "(22, 13)  flow =  0\n",
      "(1, 13)  flow =  5\n",
      "(11, 21)  flow =  4\n",
      "(1, 10)  flow =  4\n",
      "(21, 30)  flow =  3\n",
      "(23, 30)  flow =  5\n"
     ]
    }
   ],
   "source": [
    "Iterate(G4)"
   ]
  },
  {
   "cell_type": "code",
   "execution_count": 48,
   "metadata": {},
   "outputs": [
    {
     "name": "stdout",
     "output_type": "stream",
     "text": [
      "Incremental Network: {(12, 1), (11, 10), (13, 1), (30, 23), (1, 11), (23, 13), (30, 21), (21, 11), (22, 12), (1, 12), (10, 1), (21, 12), (22, 13), (30, 22), (11, 21), (12, 21), (23, 30)}\n",
      "Paths from source to sink:  set()\n",
      "Maximal flow found: 13  with minimal cost  28\n",
      "(1, 12)  flow =  4\n",
      "(10, 11)  flow =  4\n",
      "(13, 23)  flow =  5\n",
      "(1, 11)  flow =  0\n",
      "(22, 30)  flow =  5\n",
      "(21, 12)  flow =  1\n",
      "(12, 22)  flow =  5\n",
      "(22, 13)  flow =  0\n",
      "(1, 13)  flow =  5\n",
      "(11, 21)  flow =  4\n",
      "(1, 10)  flow =  4\n",
      "(21, 30)  flow =  3\n",
      "(23, 30)  flow =  5\n"
     ]
    }
   ],
   "source": [
    "Iterate(G4)"
   ]
  },
  {
   "cell_type": "code",
   "execution_count": 49,
   "metadata": {},
   "outputs": [
    {
     "name": "stdout",
     "output_type": "stream",
     "text": [
      "Incremental Network: {(12, 1), (11, 10), (13, 1), (30, 23), (1, 11), (23, 13), (30, 21), (21, 11), (22, 12), (1, 12), (10, 1), (21, 12), (22, 13), (30, 22), (11, 21), (12, 21), (23, 30)}\n",
      "Paths from source to sink:  set()\n",
      "Maximal flow found: 13  with minimal cost  28\n",
      "(1, 12)  flow =  4\n",
      "(10, 11)  flow =  4\n",
      "(13, 23)  flow =  5\n",
      "(1, 11)  flow =  0\n",
      "(22, 30)  flow =  5\n",
      "(21, 12)  flow =  1\n",
      "(12, 22)  flow =  5\n",
      "(22, 13)  flow =  0\n",
      "(1, 13)  flow =  5\n",
      "(11, 21)  flow =  4\n",
      "(1, 10)  flow =  4\n",
      "(21, 30)  flow =  3\n",
      "(23, 30)  flow =  5\n"
     ]
    }
   ],
   "source": [
    "Iterate(G4)"
   ]
  },
  {
   "cell_type": "code",
   "execution_count": 50,
   "metadata": {},
   "outputs": [
    {
     "name": "stdout",
     "output_type": "stream",
     "text": [
      "Incremental Network: {(12, 1), (11, 10), (13, 1), (30, 23), (1, 11), (23, 13), (30, 21), (21, 11), (22, 12), (1, 12), (10, 1), (21, 12), (22, 13), (30, 22), (11, 21), (12, 21), (23, 30)}\n",
      "Paths from source to sink:  set()\n",
      "Maximal flow found: 13  with minimal cost  28\n",
      "(1, 12)  flow =  4\n",
      "(10, 11)  flow =  4\n",
      "(13, 23)  flow =  5\n",
      "(1, 11)  flow =  0\n",
      "(22, 30)  flow =  5\n",
      "(21, 12)  flow =  1\n",
      "(12, 22)  flow =  5\n",
      "(22, 13)  flow =  0\n",
      "(1, 13)  flow =  5\n",
      "(11, 21)  flow =  4\n",
      "(1, 10)  flow =  4\n",
      "(21, 30)  flow =  3\n",
      "(23, 30)  flow =  5\n"
     ]
    }
   ],
   "source": [
    "Iterate(G4)"
   ]
  },
  {
   "cell_type": "markdown",
   "metadata": {},
   "source": [
    "##### Iterate(G4)"
   ]
  },
  {
   "cell_type": "code",
   "execution_count": 51,
   "metadata": {},
   "outputs": [
    {
     "name": "stdout",
     "output_type": "stream",
     "text": [
      "Incremental Network: {(12, 1), (11, 10), (13, 1), (30, 23), (1, 11), (23, 13), (30, 21), (21, 11), (22, 12), (1, 12), (10, 1), (21, 12), (22, 13), (30, 22), (11, 21), (12, 21), (23, 30)}\n",
      "Paths from source to sink:  set()\n",
      "Maximal flow found: 13  with minimal cost  28\n",
      "(1, 12)  flow =  4\n",
      "(10, 11)  flow =  4\n",
      "(13, 23)  flow =  5\n",
      "(1, 11)  flow =  0\n",
      "(22, 30)  flow =  5\n",
      "(21, 12)  flow =  1\n",
      "(12, 22)  flow =  5\n",
      "(22, 13)  flow =  0\n",
      "(1, 13)  flow =  5\n",
      "(11, 21)  flow =  4\n",
      "(1, 10)  flow =  4\n",
      "(21, 30)  flow =  3\n",
      "(23, 30)  flow =  5\n"
     ]
    }
   ],
   "source": [
    "Iterate(G4)"
   ]
  },
  {
   "cell_type": "code",
   "execution_count": 52,
   "metadata": {},
   "outputs": [
    {
     "name": "stdout",
     "output_type": "stream",
     "text": [
      "Incremental Network: {(12, 1), (11, 10), (13, 1), (30, 23), (1, 11), (23, 13), (30, 21), (21, 11), (22, 12), (1, 12), (10, 1), (21, 12), (22, 13), (30, 22), (11, 21), (12, 21), (23, 30)}\n",
      "Paths from source to sink:  set()\n",
      "Maximal flow found: 13  with minimal cost  28\n",
      "(1, 12)  flow =  4\n",
      "(10, 11)  flow =  4\n",
      "(13, 23)  flow =  5\n",
      "(1, 11)  flow =  0\n",
      "(22, 30)  flow =  5\n",
      "(21, 12)  flow =  1\n",
      "(12, 22)  flow =  5\n",
      "(22, 13)  flow =  0\n",
      "(1, 13)  flow =  5\n",
      "(11, 21)  flow =  4\n",
      "(1, 10)  flow =  4\n",
      "(21, 30)  flow =  3\n",
      "(23, 30)  flow =  5\n"
     ]
    }
   ],
   "source": [
    "Iterate(G4)"
   ]
  },
  {
   "cell_type": "markdown",
   "metadata": {},
   "source": [
    "## Q B 500 Kg"
   ]
  },
  {
   "cell_type": "code",
   "execution_count": 53,
   "metadata": {},
   "outputs": [],
   "source": [
    "G5 = {(1, 11), (1, 12), (1, 13), (1, 14),\n",
    "      (1, 15), (1, 16), (1, 17), (1, 18),\n",
    "      (1, 19), (1, 20), (1, 21), (1, 22),\n",
    "      (11, 31), (12, 32), (13, 33), (14, 34),\n",
    "      (15, 35), (16, 36), (17, 37), (18, 38),\n",
    "      (19, 39), (20, 40), (21, 41), (22, 42),\n",
    "      (31, 12), (32, 13), (33, 14), (34, 15),\n",
    "      (35, 16), (36, 17), (37, 18), (38, 19),\n",
    "      (39, 20), (40, 21), (41, 22),\n",
    "      (31, 50), (32, 50), (33, 50), (34, 50),\n",
    "      (35, 50), (36, 50), (37, 50), (38, 50),\n",
    "      (39, 50), (40, 50), (41, 50), (42, 50),\n",
    "      \n",
    "      (1, 5), (5,11),\n",
    "      (42, 45), (45,50)} "
   ]
  },
  {
   "cell_type": "code",
   "execution_count": 54,
   "metadata": {},
   "outputs": [
    {
     "name": "stdout",
     "output_type": "stream",
     "text": [
      "All values of phi and l initialised to zero and c to 20\n"
     ]
    }
   ],
   "source": [
    "Initialise20(G5)"
   ]
  },
  {
   "cell_type": "code",
   "execution_count": 55,
   "metadata": {},
   "outputs": [],
   "source": [
    "c[31][50] = 9; c[32][50] = 6; c[33][50] = 6;\n",
    "c[34][50] = 7; c[35][50] = 11; c[36][50] = 14;\n",
    "c[37][50] = 16; c[38][50] = 18; c[39][50] = 15;\n",
    "c[40][50] = 10; c[41][50] = 7; c[42][50] = 6;\n",
    "\n",
    "c[1][5] = 5; c[5][11] = 5;\n",
    "c[42][45] = 5; c[45][50] = 5;"
   ]
  },
  {
   "cell_type": "code",
   "execution_count": 56,
   "metadata": {},
   "outputs": [],
   "source": [
    "l[1][11] = 18; l[1][12] = 17; l[1][13] = 17;\n",
    "l[1][14] = 15; l[1][15] = 12; l[1][16] = 8;\n",
    "l[1][17] = 7; l[1][18] = 6; l[1][19] = 9;\n",
    "l[1][20] = 12; l[1][21] = 14; l[1][22] = 17;\n",
    "\n",
    "l[11][31] = 1; l[12][32] = 1; l[13][33] = 2;\n",
    "l[14][34] = 2; l[15][35] = 3; l[16][36] = 5;\n",
    "l[17][37] = 6; l[18][38] = 6; l[19][39] = 5;\n",
    "l[20][40] = 3; l[21][41] = 2; l[22][42] = 1;\n"
   ]
  },
  {
   "cell_type": "code",
   "execution_count": 57,
   "metadata": {},
   "outputs": [
    {
     "name": "stdout",
     "output_type": "stream",
     "text": [
      "(42, 45)  has flow  0\n",
      "(13, 33)  has flow  0\n",
      "(18, 38)  has flow  0\n",
      "(37, 18)  has flow  0\n",
      "(38, 50)  has flow  0\n",
      "(40, 50)  has flow  0\n",
      "(33, 14)  has flow  0\n",
      "(14, 34)  has flow  0\n",
      "(31, 50)  has flow  0\n",
      "(1, 12)  has flow  0\n",
      "(1, 18)  has flow  0\n",
      "(36, 50)  has flow  0\n",
      "(1, 15)  has flow  0\n",
      "(1, 21)  has flow  0\n",
      "(38, 19)  has flow  0\n",
      "(19, 39)  has flow  0\n",
      "(39, 20)  has flow  0\n",
      "(42, 50)  has flow  0\n",
      "(15, 35)  has flow  0\n",
      "(33, 50)  has flow  0\n",
      "(34, 15)  has flow  0\n",
      "(35, 50)  has flow  0\n",
      "(20, 40)  has flow  0\n",
      "(39, 50)  has flow  0\n",
      "(1, 11)  has flow  0\n",
      "(1, 5)  has flow  0\n",
      "(1, 14)  has flow  0\n",
      "(1, 20)  has flow  0\n",
      "(35, 16)  has flow  0\n",
      "(1, 17)  has flow  0\n",
      "(11, 31)  has flow  0\n",
      "(37, 50)  has flow  0\n",
      "(31, 12)  has flow  0\n",
      "(40, 21)  has flow  0\n",
      "(45, 50)  has flow  0\n",
      "(41, 50)  has flow  0\n",
      "(16, 36)  has flow  0\n",
      "(32, 50)  has flow  0\n",
      "(5, 11)  has flow  0\n",
      "(36, 17)  has flow  0\n",
      "(12, 32)  has flow  0\n",
      "(21, 41)  has flow  0\n",
      "(32, 13)  has flow  0\n",
      "(22, 42)  has flow  0\n",
      "(1, 13)  has flow  0\n",
      "(17, 37)  has flow  0\n",
      "(1, 16)  has flow  0\n",
      "(41, 22)  has flow  0\n",
      "(34, 50)  has flow  0\n",
      "(1, 19)  has flow  0\n",
      "(1, 22)  has flow  0\n",
      "Total Cost is  0\n"
     ]
    }
   ],
   "source": [
    "Flows(G5)"
   ]
  },
  {
   "cell_type": "code",
   "execution_count": 58,
   "metadata": {},
   "outputs": [
    {
     "name": "stdout",
     "output_type": "stream",
     "text": [
      "Incremental Network: {(42, 45), (13, 33), (18, 38), (37, 18), (38, 50), (34, 50), (40, 50), (33, 14), (14, 34), (31, 50), (1, 12), (1, 18), (1, 15), (1, 21), (38, 19), (19, 39), (39, 20), (42, 50), (15, 35), (33, 50), (34, 15), (35, 50), (20, 40), (39, 50), (1, 11), (1, 5), (1, 14), (1, 20), (35, 16), (1, 17), (11, 31), (37, 50), (31, 12), (40, 21), (41, 50), (16, 36), (32, 50), (5, 11), (36, 17), (1, 22), (12, 32), (21, 41), (32, 13), (22, 42), (1, 13), (17, 37), (1, 16), (41, 22), (45, 50), (1, 19), (36, 50)}\n",
      "Paths from source to sink:  {(1, 16, 36, 17, 37, 50), (1, 5, 11, 31, 12, 32, 13, 33, 14, 34, 15, 35, 16, 36, 17, 37, 18, 38, 19, 39, 20, 40, 21, 41, 22, 42, 45, 50), (1, 11, 31, 12, 32, 13, 33, 14, 34, 50), (1, 17, 37, 18, 38, 19, 39, 20, 40, 50), (1, 11, 31, 12, 32, 13, 33, 14, 34, 15, 35, 16, 36, 17, 37, 18, 38, 19, 39, 20, 40, 21, 41, 22, 42, 50), (1, 18, 38, 19, 39, 20, 40, 21, 41, 22, 42, 50), (1, 13, 33, 14, 34, 50), (1, 21, 41, 22, 42, 50), (1, 5, 11, 31, 12, 32, 13, 33, 14, 34, 50), (1, 12, 32, 13, 33, 14, 34, 15, 35, 16, 36, 17, 37, 18, 38, 50), (1, 14, 34, 15, 35, 16, 36, 17, 37, 18, 38, 19, 39, 20, 40, 21, 41, 22, 42, 50), (1, 5, 11, 31, 12, 32, 13, 33, 14, 34, 15, 35, 16, 36, 17, 37, 18, 38, 19, 39, 20, 40, 50), (1, 15, 35, 16, 36, 17, 37, 18, 38, 50), (1, 18, 38, 19, 39, 50), (1, 19, 39, 20, 40, 50), (1, 16, 36, 17, 37, 18, 38, 19, 39, 20, 40, 21, 41, 50), (1, 15, 35, 16, 36, 17, 37, 18, 38, 19, 39, 50), (1, 14, 34, 15, 35, 16, 36, 17, 37, 50), (1, 18, 38, 19, 39, 20, 40, 21, 41, 22, 42, 45, 50), (1, 16, 36, 50), (1, 11, 31, 12, 32, 13, 33, 14, 34, 15, 35, 16, 36, 17, 37, 50), (1, 5, 11, 31, 12, 32, 13, 33, 14, 34, 15, 35, 16, 36, 17, 37, 18, 38, 50), (1, 20, 40, 21, 41, 50), (1, 13, 33, 14, 34, 15, 35, 50), (1, 17, 37, 18, 38, 19, 39, 20, 40, 21, 41, 50), (1, 20, 40, 21, 41, 22, 42, 45, 50), (1, 15, 35, 16, 36, 17, 37, 18, 38, 19, 39, 20, 40, 21, 41, 22, 42, 50), (1, 11, 31, 12, 32, 13, 33, 50), (1, 17, 37, 18, 38, 19, 39, 20, 40, 21, 41, 22, 42, 45, 50), (1, 16, 36, 17, 37, 18, 38, 19, 39, 20, 40, 21, 41, 22, 42, 45, 50), (1, 12, 32, 13, 33, 14, 34, 50), (1, 17, 37, 50), (1, 5, 11, 31, 50), (1, 5, 11, 31, 12, 32, 50), (1, 11, 31, 12, 32, 13, 33, 14, 34, 15, 35, 16, 36, 17, 37, 18, 38, 19, 39, 50), (1, 12, 32, 13, 33, 14, 34, 15, 35, 16, 36, 50), (1, 15, 35, 50), (1, 5, 11, 31, 12, 32, 13, 33, 14, 34, 15, 35, 16, 36, 17, 37, 18, 38, 19, 39, 50), (1, 19, 39, 20, 40, 21, 41, 22, 42, 50), (1, 11, 31, 12, 32, 13, 33, 14, 34, 15, 35, 16, 36, 50), (1, 13, 33, 14, 34, 15, 35, 16, 36, 17, 37, 18, 38, 19, 39, 50), (1, 5, 11, 31, 12, 32, 13, 33, 14, 34, 15, 35, 16, 36, 17, 37, 18, 38, 19, 39, 20, 40, 21, 41, 50), (1, 5, 11, 31, 12, 32, 13, 33, 14, 34, 15, 35, 16, 36, 17, 37, 18, 38, 19, 39, 20, 40, 21, 41, 22, 42, 50), (1, 18, 38, 19, 39, 20, 40, 21, 41, 50), (1, 22, 42, 45, 50), (1, 13, 33, 14, 34, 15, 35, 16, 36, 17, 37, 50), (1, 11, 31, 12, 32, 13, 33, 14, 34, 15, 35, 16, 36, 17, 37, 18, 38, 19, 39, 20, 40, 50), (1, 12, 32, 13, 33, 14, 34, 15, 35, 16, 36, 17, 37, 18, 38, 19, 39, 50), (1, 5, 11, 31, 12, 32, 13, 33, 14, 34, 15, 35, 16, 36, 50), (1, 14, 34, 50), (1, 18, 38, 50), (1, 15, 35, 16, 36, 17, 37, 50), (1, 13, 33, 14, 34, 15, 35, 16, 36, 17, 37, 18, 38, 19, 39, 20, 40, 21, 41, 50), (1, 12, 32, 13, 33, 14, 34, 15, 35, 16, 36, 17, 37, 18, 38, 19, 39, 20, 40, 50), (1, 14, 34, 15, 35, 16, 36, 50), (1, 14, 34, 15, 35, 16, 36, 17, 37, 18, 38, 19, 39, 20, 40, 21, 41, 22, 42, 45, 50), (1, 11, 31, 50), (1, 17, 37, 18, 38, 19, 39, 50), (1, 13, 33, 14, 34, 15, 35, 16, 36, 50), (1, 16, 36, 17, 37, 18, 38, 19, 39, 50), (1, 11, 31, 12, 32, 13, 33, 14, 34, 15, 35, 16, 36, 17, 37, 18, 38, 19, 39, 20, 40, 21, 41, 50), (1, 20, 40, 50), (1, 13, 33, 14, 34, 15, 35, 16, 36, 17, 37, 18, 38, 19, 39, 20, 40, 21, 41, 22, 42, 45, 50), (1, 12, 32, 50), (1, 13, 33, 14, 34, 15, 35, 16, 36, 17, 37, 18, 38, 19, 39, 20, 40, 50), (1, 17, 37, 18, 38, 19, 39, 20, 40, 21, 41, 22, 42, 50), (1, 21, 41, 50), (1, 15, 35, 16, 36, 17, 37, 18, 38, 19, 39, 20, 40, 21, 41, 50), (1, 14, 34, 15, 35, 16, 36, 17, 37, 18, 38, 19, 39, 20, 40, 50), (1, 15, 35, 16, 36, 17, 37, 18, 38, 19, 39, 20, 40, 50), (1, 19, 39, 20, 40, 21, 41, 50), (1, 14, 34, 15, 35, 16, 36, 17, 37, 18, 38, 50), (1, 11, 31, 12, 32, 13, 33, 14, 34, 15, 35, 50), (1, 16, 36, 17, 37, 18, 38, 50), (1, 20, 40, 21, 41, 22, 42, 50), (1, 15, 35, 16, 36, 50), (1, 14, 34, 15, 35, 16, 36, 17, 37, 18, 38, 19, 39, 50), (1, 5, 11, 31, 12, 32, 13, 33, 50), (1, 5, 11, 31, 12, 32, 13, 33, 14, 34, 15, 35, 50), (1, 14, 34, 15, 35, 16, 36, 17, 37, 18, 38, 19, 39, 20, 40, 21, 41, 50), (1, 12, 32, 13, 33, 14, 34, 15, 35, 16, 36, 17, 37, 50), (1, 15, 35, 16, 36, 17, 37, 18, 38, 19, 39, 20, 40, 21, 41, 22, 42, 45, 50), (1, 12, 32, 13, 33, 14, 34, 15, 35, 16, 36, 17, 37, 18, 38, 19, 39, 20, 40, 21, 41, 22, 42, 50), (1, 12, 32, 13, 33, 14, 34, 15, 35, 16, 36, 17, 37, 18, 38, 19, 39, 20, 40, 21, 41, 22, 42, 45, 50), (1, 22, 42, 50), (1, 19, 39, 50), (1, 12, 32, 13, 33, 50), (1, 12, 32, 13, 33, 14, 34, 15, 35, 16, 36, 17, 37, 18, 38, 19, 39, 20, 40, 21, 41, 50), (1, 11, 31, 12, 32, 13, 33, 14, 34, 15, 35, 16, 36, 17, 37, 18, 38, 19, 39, 20, 40, 21, 41, 22, 42, 45, 50), (1, 11, 31, 12, 32, 13, 33, 14, 34, 15, 35, 16, 36, 17, 37, 18, 38, 50), (1, 14, 34, 15, 35, 50), (1, 16, 36, 17, 37, 18, 38, 19, 39, 20, 40, 21, 41, 22, 42, 50), (1, 13, 33, 50), (1, 21, 41, 22, 42, 45, 50), (1, 13, 33, 14, 34, 15, 35, 16, 36, 17, 37, 18, 38, 50), (1, 5, 11, 31, 12, 32, 13, 33, 14, 34, 15, 35, 16, 36, 17, 37, 50), (1, 17, 37, 18, 38, 50), (1, 11, 31, 12, 32, 50), (1, 12, 32, 13, 33, 14, 34, 15, 35, 50), (1, 16, 36, 17, 37, 18, 38, 19, 39, 20, 40, 50), (1, 13, 33, 14, 34, 15, 35, 16, 36, 17, 37, 18, 38, 19, 39, 20, 40, 21, 41, 22, 42, 50), (1, 19, 39, 20, 40, 21, 41, 22, 42, 45, 50), (1, 18, 38, 19, 39, 20, 40, 50)}\n",
      "A best path in Gp is  (1, 5, 11, 31, 50)  of minimum cost  1\n",
      "The min capacity on this path is epsilon  5\n",
      "The min cost is  1\n",
      "(42, 45)  flow =  0\n",
      "(13, 33)  flow =  0\n",
      "(18, 38)  flow =  0\n",
      "(37, 18)  flow =  0\n",
      "(38, 50)  flow =  0\n",
      "(40, 50)  flow =  0\n",
      "(33, 14)  flow =  0\n",
      "(14, 34)  flow =  0\n",
      "(31, 50)  flow =  5\n",
      "(1, 12)  flow =  0\n",
      "(1, 18)  flow =  0\n",
      "(36, 50)  flow =  0\n",
      "(1, 15)  flow =  0\n",
      "(1, 21)  flow =  0\n",
      "(38, 19)  flow =  0\n",
      "(19, 39)  flow =  0\n",
      "(39, 20)  flow =  0\n",
      "(42, 50)  flow =  0\n",
      "(15, 35)  flow =  0\n",
      "(33, 50)  flow =  0\n",
      "(34, 15)  flow =  0\n",
      "(35, 50)  flow =  0\n",
      "(20, 40)  flow =  0\n",
      "(39, 50)  flow =  0\n",
      "(1, 11)  flow =  0\n",
      "(1, 5)  flow =  5\n",
      "(1, 14)  flow =  0\n",
      "(1, 20)  flow =  0\n",
      "(35, 16)  flow =  0\n",
      "(1, 17)  flow =  0\n",
      "(11, 31)  flow =  5\n",
      "(37, 50)  flow =  0\n",
      "(31, 12)  flow =  0\n",
      "(40, 21)  flow =  0\n",
      "(45, 50)  flow =  0\n",
      "(41, 50)  flow =  0\n",
      "(16, 36)  flow =  0\n",
      "(32, 50)  flow =  0\n",
      "(5, 11)  flow =  5\n",
      "(36, 17)  flow =  0\n",
      "(12, 32)  flow =  0\n",
      "(21, 41)  flow =  0\n",
      "(32, 13)  flow =  0\n",
      "(22, 42)  flow =  0\n",
      "(1, 13)  flow =  0\n",
      "(17, 37)  flow =  0\n",
      "(1, 16)  flow =  0\n",
      "(41, 22)  flow =  0\n",
      "(34, 50)  flow =  0\n",
      "(1, 19)  flow =  0\n",
      "(1, 22)  flow =  0\n"
     ]
    }
   ],
   "source": [
    "Iterate(G5)"
   ]
  },
  {
   "cell_type": "code",
   "execution_count": 59,
   "metadata": {},
   "outputs": [
    {
     "name": "stdout",
     "output_type": "stream",
     "text": [
      "Incremental Network: {(31, 11), (42, 45), (13, 33), (1, 16), (5, 1), (18, 38), (37, 18), (38, 50), (11, 5), (34, 50), (40, 50), (33, 14), (14, 34), (31, 50), (1, 12), (1, 18), (1, 15), (1, 21), (38, 19), (19, 39), (39, 20), (42, 50), (15, 35), (33, 50), (34, 15), (35, 50), (20, 40), (39, 50), (1, 11), (1, 14), (1, 20), (35, 16), (1, 17), (11, 31), (37, 50), (31, 12), (40, 21), (41, 50), (16, 36), (32, 50), (36, 17), (1, 22), (12, 32), (21, 41), (32, 13), (22, 42), (1, 13), (50, 31), (17, 37), (41, 22), (45, 50), (1, 19), (36, 50)}\n",
      "Paths from source to sink:  {(1, 16, 36, 17, 37, 50), (1, 11, 31, 12, 32, 13, 33, 14, 34, 50), (1, 17, 37, 18, 38, 19, 39, 20, 40, 50), (1, 11, 31, 12, 32, 13, 33, 14, 34, 15, 35, 16, 36, 17, 37, 18, 38, 19, 39, 20, 40, 21, 41, 22, 42, 50), (1, 18, 38, 19, 39, 20, 40, 21, 41, 22, 42, 50), (1, 13, 33, 14, 34, 50), (1, 21, 41, 22, 42, 50), (1, 12, 32, 13, 33, 14, 34, 15, 35, 16, 36, 17, 37, 18, 38, 50), (1, 14, 34, 15, 35, 16, 36, 17, 37, 18, 38, 19, 39, 20, 40, 21, 41, 22, 42, 50), (1, 15, 35, 16, 36, 17, 37, 18, 38, 50), (1, 18, 38, 19, 39, 50), (1, 19, 39, 20, 40, 50), (1, 16, 36, 17, 37, 18, 38, 19, 39, 20, 40, 21, 41, 50), (1, 15, 35, 16, 36, 17, 37, 18, 38, 19, 39, 50), (1, 14, 34, 15, 35, 16, 36, 17, 37, 50), (1, 18, 38, 19, 39, 20, 40, 21, 41, 22, 42, 45, 50), (1, 16, 36, 50), (1, 11, 31, 12, 32, 13, 33, 14, 34, 15, 35, 16, 36, 17, 37, 50), (1, 20, 40, 21, 41, 50), (1, 13, 33, 14, 34, 15, 35, 50), (1, 17, 37, 18, 38, 19, 39, 20, 40, 21, 41, 50), (1, 20, 40, 21, 41, 22, 42, 45, 50), (1, 15, 35, 16, 36, 17, 37, 18, 38, 19, 39, 20, 40, 21, 41, 22, 42, 50), (1, 11, 31, 12, 32, 13, 33, 50), (1, 17, 37, 18, 38, 19, 39, 20, 40, 21, 41, 22, 42, 45, 50), (1, 16, 36, 17, 37, 18, 38, 19, 39, 20, 40, 21, 41, 22, 42, 45, 50), (1, 12, 32, 13, 33, 14, 34, 50), (1, 17, 37, 50), (1, 11, 31, 12, 32, 13, 33, 14, 34, 15, 35, 16, 36, 17, 37, 18, 38, 19, 39, 50), (1, 12, 32, 13, 33, 14, 34, 15, 35, 16, 36, 50), (1, 15, 35, 50), (1, 19, 39, 20, 40, 21, 41, 22, 42, 50), (1, 11, 31, 12, 32, 13, 33, 14, 34, 15, 35, 16, 36, 50), (1, 13, 33, 14, 34, 15, 35, 16, 36, 17, 37, 18, 38, 19, 39, 50), (1, 18, 38, 19, 39, 20, 40, 21, 41, 50), (1, 22, 42, 45, 50), (1, 13, 33, 14, 34, 15, 35, 16, 36, 17, 37, 50), (1, 11, 31, 12, 32, 13, 33, 14, 34, 15, 35, 16, 36, 17, 37, 18, 38, 19, 39, 20, 40, 50), (1, 12, 32, 13, 33, 14, 34, 15, 35, 16, 36, 17, 37, 18, 38, 19, 39, 50), (1, 14, 34, 50), (1, 18, 38, 50), (1, 15, 35, 16, 36, 17, 37, 50), (1, 13, 33, 14, 34, 15, 35, 16, 36, 17, 37, 18, 38, 19, 39, 20, 40, 21, 41, 50), (1, 12, 32, 13, 33, 14, 34, 15, 35, 16, 36, 17, 37, 18, 38, 19, 39, 20, 40, 50), (1, 14, 34, 15, 35, 16, 36, 50), (1, 14, 34, 15, 35, 16, 36, 17, 37, 18, 38, 19, 39, 20, 40, 21, 41, 22, 42, 45, 50), (1, 11, 31, 50), (1, 17, 37, 18, 38, 19, 39, 50), (1, 13, 33, 14, 34, 15, 35, 16, 36, 50), (1, 16, 36, 17, 37, 18, 38, 19, 39, 50), (1, 11, 31, 12, 32, 13, 33, 14, 34, 15, 35, 16, 36, 17, 37, 18, 38, 19, 39, 20, 40, 21, 41, 50), (1, 20, 40, 50), (1, 13, 33, 14, 34, 15, 35, 16, 36, 17, 37, 18, 38, 19, 39, 20, 40, 21, 41, 22, 42, 45, 50), (1, 12, 32, 50), (1, 13, 33, 14, 34, 15, 35, 16, 36, 17, 37, 18, 38, 19, 39, 20, 40, 50), (1, 17, 37, 18, 38, 19, 39, 20, 40, 21, 41, 22, 42, 50), (1, 21, 41, 50), (1, 15, 35, 16, 36, 17, 37, 18, 38, 19, 39, 20, 40, 21, 41, 50), (1, 14, 34, 15, 35, 16, 36, 17, 37, 18, 38, 19, 39, 20, 40, 50), (1, 15, 35, 16, 36, 17, 37, 18, 38, 19, 39, 20, 40, 50), (1, 19, 39, 20, 40, 21, 41, 50), (1, 14, 34, 15, 35, 16, 36, 17, 37, 18, 38, 50), (1, 11, 31, 12, 32, 13, 33, 14, 34, 15, 35, 50), (1, 16, 36, 17, 37, 18, 38, 50), (1, 20, 40, 21, 41, 22, 42, 50), (1, 15, 35, 16, 36, 50), (1, 14, 34, 15, 35, 16, 36, 17, 37, 18, 38, 19, 39, 50), (1, 15, 35, 16, 36, 17, 37, 18, 38, 19, 39, 20, 40, 21, 41, 22, 42, 45, 50), (1, 12, 32, 13, 33, 14, 34, 15, 35, 16, 36, 17, 37, 18, 38, 19, 39, 20, 40, 21, 41, 22, 42, 50), (1, 14, 34, 15, 35, 16, 36, 17, 37, 18, 38, 19, 39, 20, 40, 21, 41, 50), (1, 12, 32, 13, 33, 14, 34, 15, 35, 16, 36, 17, 37, 50), (1, 12, 32, 13, 33, 14, 34, 15, 35, 16, 36, 17, 37, 18, 38, 19, 39, 20, 40, 21, 41, 22, 42, 45, 50), (1, 22, 42, 50), (1, 19, 39, 50), (1, 12, 32, 13, 33, 50), (1, 12, 32, 13, 33, 14, 34, 15, 35, 16, 36, 17, 37, 18, 38, 19, 39, 20, 40, 21, 41, 50), (1, 11, 31, 12, 32, 13, 33, 14, 34, 15, 35, 16, 36, 17, 37, 18, 38, 19, 39, 20, 40, 21, 41, 22, 42, 45, 50), (1, 11, 31, 12, 32, 13, 33, 14, 34, 15, 35, 16, 36, 17, 37, 18, 38, 50), (1, 14, 34, 15, 35, 50), (1, 16, 36, 17, 37, 18, 38, 19, 39, 20, 40, 21, 41, 22, 42, 50), (1, 13, 33, 50), (1, 21, 41, 22, 42, 45, 50), (1, 13, 33, 14, 34, 15, 35, 16, 36, 17, 37, 18, 38, 50), (1, 17, 37, 18, 38, 50), (1, 11, 31, 12, 32, 50), (1, 12, 32, 13, 33, 14, 34, 15, 35, 50), (1, 16, 36, 17, 37, 18, 38, 19, 39, 20, 40, 50), (1, 13, 33, 14, 34, 15, 35, 16, 36, 17, 37, 18, 38, 19, 39, 20, 40, 21, 41, 22, 42, 50), (1, 19, 39, 20, 40, 21, 41, 22, 42, 45, 50), (1, 18, 38, 19, 39, 20, 40, 50)}\n",
      "A best path in Gp is  (1, 18, 38, 50)  of minimum cost  12\n",
      "The min capacity on this path is epsilon  18\n",
      "The min cost is  12\n",
      "(42, 45)  flow =  0\n",
      "(13, 33)  flow =  0\n",
      "(18, 38)  flow =  18\n",
      "(37, 18)  flow =  0\n",
      "(38, 50)  flow =  18\n",
      "(40, 50)  flow =  0\n",
      "(33, 14)  flow =  0\n",
      "(14, 34)  flow =  0\n",
      "(31, 50)  flow =  5\n",
      "(1, 12)  flow =  0\n",
      "(1, 18)  flow =  18\n",
      "(36, 50)  flow =  0\n",
      "(1, 15)  flow =  0\n",
      "(1, 21)  flow =  0\n",
      "(38, 19)  flow =  0\n",
      "(19, 39)  flow =  0\n",
      "(39, 20)  flow =  0\n",
      "(42, 50)  flow =  0\n",
      "(15, 35)  flow =  0\n",
      "(33, 50)  flow =  0\n",
      "(34, 15)  flow =  0\n",
      "(35, 50)  flow =  0\n",
      "(20, 40)  flow =  0\n",
      "(39, 50)  flow =  0\n",
      "(1, 11)  flow =  0\n",
      "(1, 5)  flow =  5\n",
      "(1, 14)  flow =  0\n",
      "(1, 20)  flow =  0\n",
      "(35, 16)  flow =  0\n",
      "(1, 17)  flow =  0\n",
      "(11, 31)  flow =  5\n",
      "(37, 50)  flow =  0\n",
      "(31, 12)  flow =  0\n",
      "(40, 21)  flow =  0\n",
      "(45, 50)  flow =  0\n",
      "(41, 50)  flow =  0\n",
      "(16, 36)  flow =  0\n",
      "(32, 50)  flow =  0\n",
      "(5, 11)  flow =  5\n",
      "(36, 17)  flow =  0\n",
      "(12, 32)  flow =  0\n",
      "(21, 41)  flow =  0\n",
      "(32, 13)  flow =  0\n",
      "(22, 42)  flow =  0\n",
      "(1, 13)  flow =  0\n",
      "(17, 37)  flow =  0\n",
      "(1, 16)  flow =  0\n",
      "(41, 22)  flow =  0\n",
      "(34, 50)  flow =  0\n",
      "(1, 19)  flow =  0\n",
      "(1, 22)  flow =  0\n"
     ]
    }
   ],
   "source": [
    "Iterate(G5)"
   ]
  },
  {
   "cell_type": "code",
   "execution_count": 60,
   "metadata": {},
   "outputs": [
    {
     "name": "stdout",
     "output_type": "stream",
     "text": [
      "Incremental Network: {(31, 11), (42, 45), (13, 33), (1, 16), (5, 1), (18, 38), (37, 18), (11, 5), (34, 50), (40, 50), (33, 14), (14, 34), (31, 50), (1, 12), (1, 18), (18, 1), (1, 15), (1, 21), (38, 19), (19, 39), (39, 20), (42, 50), (15, 35), (33, 50), (34, 15), (35, 50), (20, 40), (39, 50), (1, 11), (1, 14), (1, 20), (35, 16), (50, 38), (38, 18), (1, 17), (11, 31), (37, 50), (31, 12), (40, 21), (41, 50), (16, 36), (32, 50), (36, 17), (1, 22), (12, 32), (21, 41), (32, 13), (22, 42), (1, 13), (50, 31), (17, 37), (41, 22), (45, 50), (1, 19), (36, 50)}\n",
      "Paths from source to sink:  {(1, 16, 36, 17, 37, 50), (1, 11, 31, 12, 32, 13, 33, 14, 34, 50), (1, 17, 37, 18, 38, 19, 39, 20, 40, 50), (1, 11, 31, 12, 32, 13, 33, 14, 34, 15, 35, 16, 36, 17, 37, 18, 38, 19, 39, 20, 40, 21, 41, 22, 42, 50), (1, 18, 38, 19, 39, 20, 40, 21, 41, 22, 42, 50), (1, 13, 33, 14, 34, 50), (1, 21, 41, 22, 42, 50), (1, 14, 34, 15, 35, 16, 36, 17, 37, 18, 38, 19, 39, 20, 40, 21, 41, 22, 42, 50), (1, 18, 38, 19, 39, 50), (1, 19, 39, 20, 40, 50), (1, 16, 36, 17, 37, 18, 38, 19, 39, 20, 40, 21, 41, 50), (1, 15, 35, 16, 36, 17, 37, 18, 38, 19, 39, 50), (1, 14, 34, 15, 35, 16, 36, 17, 37, 50), (1, 18, 38, 19, 39, 20, 40, 21, 41, 22, 42, 45, 50), (1, 16, 36, 50), (1, 11, 31, 12, 32, 13, 33, 14, 34, 15, 35, 16, 36, 17, 37, 50), (1, 20, 40, 21, 41, 50), (1, 13, 33, 14, 34, 15, 35, 50), (1, 17, 37, 18, 38, 19, 39, 20, 40, 21, 41, 50), (1, 20, 40, 21, 41, 22, 42, 45, 50), (1, 15, 35, 16, 36, 17, 37, 18, 38, 19, 39, 20, 40, 21, 41, 22, 42, 50), (1, 11, 31, 12, 32, 13, 33, 50), (1, 17, 37, 18, 38, 19, 39, 20, 40, 21, 41, 22, 42, 45, 50), (1, 16, 36, 17, 37, 18, 38, 19, 39, 20, 40, 21, 41, 22, 42, 45, 50), (1, 12, 32, 13, 33, 14, 34, 50), (1, 17, 37, 50), (1, 11, 31, 12, 32, 13, 33, 14, 34, 15, 35, 16, 36, 17, 37, 18, 38, 19, 39, 50), (1, 12, 32, 13, 33, 14, 34, 15, 35, 16, 36, 50), (1, 15, 35, 50), (1, 19, 39, 20, 40, 21, 41, 22, 42, 50), (1, 11, 31, 12, 32, 13, 33, 14, 34, 15, 35, 16, 36, 50), (1, 13, 33, 14, 34, 15, 35, 16, 36, 17, 37, 18, 38, 19, 39, 50), (1, 18, 38, 19, 39, 20, 40, 21, 41, 50), (1, 22, 42, 45, 50), (1, 13, 33, 14, 34, 15, 35, 16, 36, 17, 37, 50), (1, 11, 31, 12, 32, 13, 33, 14, 34, 15, 35, 16, 36, 17, 37, 18, 38, 19, 39, 20, 40, 50), (1, 12, 32, 13, 33, 14, 34, 15, 35, 16, 36, 17, 37, 18, 38, 19, 39, 50), (1, 14, 34, 50), (1, 15, 35, 16, 36, 17, 37, 50), (1, 13, 33, 14, 34, 15, 35, 16, 36, 17, 37, 18, 38, 19, 39, 20, 40, 21, 41, 50), (1, 12, 32, 13, 33, 14, 34, 15, 35, 16, 36, 17, 37, 18, 38, 19, 39, 20, 40, 50), (1, 14, 34, 15, 35, 16, 36, 50), (1, 14, 34, 15, 35, 16, 36, 17, 37, 18, 38, 19, 39, 20, 40, 21, 41, 22, 42, 45, 50), (1, 11, 31, 50), (1, 17, 37, 18, 38, 19, 39, 50), (1, 13, 33, 14, 34, 15, 35, 16, 36, 50), (1, 16, 36, 17, 37, 18, 38, 19, 39, 50), (1, 11, 31, 12, 32, 13, 33, 14, 34, 15, 35, 16, 36, 17, 37, 18, 38, 19, 39, 20, 40, 21, 41, 50), (1, 20, 40, 50), (1, 13, 33, 14, 34, 15, 35, 16, 36, 17, 37, 18, 38, 19, 39, 20, 40, 21, 41, 22, 42, 45, 50), (1, 12, 32, 50), (1, 13, 33, 14, 34, 15, 35, 16, 36, 17, 37, 18, 38, 19, 39, 20, 40, 50), (1, 17, 37, 18, 38, 19, 39, 20, 40, 21, 41, 22, 42, 50), (1, 21, 41, 50), (1, 15, 35, 16, 36, 17, 37, 18, 38, 19, 39, 20, 40, 21, 41, 50), (1, 14, 34, 15, 35, 16, 36, 17, 37, 18, 38, 19, 39, 20, 40, 50), (1, 15, 35, 16, 36, 17, 37, 18, 38, 19, 39, 20, 40, 50), (1, 19, 39, 20, 40, 21, 41, 50), (1, 11, 31, 12, 32, 13, 33, 14, 34, 15, 35, 50), (1, 20, 40, 21, 41, 22, 42, 50), (1, 15, 35, 16, 36, 50), (1, 14, 34, 15, 35, 16, 36, 17, 37, 18, 38, 19, 39, 50), (1, 15, 35, 16, 36, 17, 37, 18, 38, 19, 39, 20, 40, 21, 41, 22, 42, 45, 50), (1, 12, 32, 13, 33, 14, 34, 15, 35, 16, 36, 17, 37, 18, 38, 19, 39, 20, 40, 21, 41, 22, 42, 50), (1, 14, 34, 15, 35, 16, 36, 17, 37, 18, 38, 19, 39, 20, 40, 21, 41, 50), (1, 12, 32, 13, 33, 14, 34, 15, 35, 16, 36, 17, 37, 50), (1, 12, 32, 13, 33, 14, 34, 15, 35, 16, 36, 17, 37, 18, 38, 19, 39, 20, 40, 21, 41, 22, 42, 45, 50), (1, 22, 42, 50), (1, 19, 39, 50), (1, 12, 32, 13, 33, 50), (1, 12, 32, 13, 33, 14, 34, 15, 35, 16, 36, 17, 37, 18, 38, 19, 39, 20, 40, 21, 41, 50), (1, 11, 31, 12, 32, 13, 33, 14, 34, 15, 35, 16, 36, 17, 37, 18, 38, 19, 39, 20, 40, 21, 41, 22, 42, 45, 50), (1, 14, 34, 15, 35, 50), (1, 16, 36, 17, 37, 18, 38, 19, 39, 20, 40, 21, 41, 22, 42, 50), (1, 13, 33, 50), (1, 21, 41, 22, 42, 45, 50), (1, 12, 32, 13, 33, 14, 34, 15, 35, 50), (1, 11, 31, 12, 32, 50), (1, 16, 36, 17, 37, 18, 38, 19, 39, 20, 40, 50), (1, 13, 33, 14, 34, 15, 35, 16, 36, 17, 37, 18, 38, 19, 39, 20, 40, 21, 41, 22, 42, 50), (1, 19, 39, 20, 40, 21, 41, 22, 42, 45, 50), (1, 18, 38, 19, 39, 20, 40, 50)}\n",
      "A best path in Gp is  (1, 16, 36, 50)  of minimum cost  13\n",
      "The min capacity on this path is epsilon  14\n",
      "The min cost is  13\n",
      "(42, 45)  flow =  0\n",
      "(13, 33)  flow =  0\n",
      "(18, 38)  flow =  18\n",
      "(37, 18)  flow =  0\n",
      "(38, 50)  flow =  18\n",
      "(40, 50)  flow =  0\n",
      "(33, 14)  flow =  0\n",
      "(14, 34)  flow =  0\n",
      "(31, 50)  flow =  5\n",
      "(1, 12)  flow =  0\n",
      "(1, 18)  flow =  18\n",
      "(36, 50)  flow =  14\n",
      "(1, 15)  flow =  0\n",
      "(1, 21)  flow =  0\n",
      "(38, 19)  flow =  0\n",
      "(19, 39)  flow =  0\n",
      "(39, 20)  flow =  0\n",
      "(42, 50)  flow =  0\n",
      "(15, 35)  flow =  0\n",
      "(33, 50)  flow =  0\n",
      "(34, 15)  flow =  0\n",
      "(35, 50)  flow =  0\n",
      "(20, 40)  flow =  0\n",
      "(39, 50)  flow =  0\n",
      "(1, 11)  flow =  0\n",
      "(1, 5)  flow =  5\n",
      "(1, 14)  flow =  0\n",
      "(1, 20)  flow =  0\n",
      "(35, 16)  flow =  0\n",
      "(1, 17)  flow =  0\n",
      "(11, 31)  flow =  5\n",
      "(37, 50)  flow =  0\n",
      "(31, 12)  flow =  0\n",
      "(40, 21)  flow =  0\n",
      "(45, 50)  flow =  0\n",
      "(41, 50)  flow =  0\n",
      "(16, 36)  flow =  14\n",
      "(32, 50)  flow =  0\n",
      "(5, 11)  flow =  5\n",
      "(36, 17)  flow =  0\n",
      "(12, 32)  flow =  0\n",
      "(21, 41)  flow =  0\n",
      "(32, 13)  flow =  0\n",
      "(22, 42)  flow =  0\n",
      "(1, 13)  flow =  0\n",
      "(17, 37)  flow =  0\n",
      "(1, 16)  flow =  14\n",
      "(41, 22)  flow =  0\n",
      "(34, 50)  flow =  0\n",
      "(1, 19)  flow =  0\n",
      "(1, 22)  flow =  0\n"
     ]
    }
   ],
   "source": [
    "Iterate(G5)"
   ]
  },
  {
   "cell_type": "code",
   "execution_count": 61,
   "metadata": {},
   "outputs": [
    {
     "name": "stdout",
     "output_type": "stream",
     "text": [
      "Incremental Network: {(31, 11), (42, 45), (13, 33), (1, 16), (5, 1), (36, 16), (18, 38), (37, 18), (11, 5), (34, 50), (40, 50), (33, 14), (14, 34), (31, 50), (1, 12), (1, 18), (16, 1), (18, 1), (50, 36), (1, 15), (1, 21), (38, 19), (19, 39), (39, 20), (42, 50), (15, 35), (33, 50), (34, 15), (35, 50), (20, 40), (39, 50), (1, 11), (1, 14), (1, 20), (35, 16), (50, 38), (38, 18), (1, 17), (11, 31), (37, 50), (31, 12), (40, 21), (41, 50), (16, 36), (32, 50), (36, 17), (12, 32), (21, 41), (32, 13), (22, 42), (1, 13), (50, 31), (17, 37), (41, 22), (45, 50), (1, 19), (1, 22)}\n",
      "Paths from source to sink:  {(1, 16, 36, 17, 37, 50), (1, 11, 31, 12, 32, 13, 33, 14, 34, 50), (1, 17, 37, 18, 38, 19, 39, 20, 40, 50), (1, 11, 31, 12, 32, 13, 33, 14, 34, 15, 35, 16, 36, 17, 37, 18, 38, 19, 39, 20, 40, 21, 41, 22, 42, 50), (1, 18, 38, 19, 39, 20, 40, 21, 41, 22, 42, 50), (1, 13, 33, 14, 34, 50), (1, 21, 41, 22, 42, 50), (1, 14, 34, 15, 35, 16, 36, 17, 37, 18, 38, 19, 39, 20, 40, 21, 41, 22, 42, 50), (1, 18, 38, 19, 39, 50), (1, 19, 39, 20, 40, 50), (1, 16, 36, 17, 37, 18, 38, 19, 39, 20, 40, 21, 41, 50), (1, 15, 35, 16, 36, 17, 37, 18, 38, 19, 39, 50), (1, 14, 34, 15, 35, 16, 36, 17, 37, 50), (1, 18, 38, 19, 39, 20, 40, 21, 41, 22, 42, 45, 50), (1, 11, 31, 12, 32, 13, 33, 14, 34, 15, 35, 16, 36, 17, 37, 50), (1, 20, 40, 21, 41, 50), (1, 13, 33, 14, 34, 15, 35, 50), (1, 17, 37, 18, 38, 19, 39, 20, 40, 21, 41, 50), (1, 20, 40, 21, 41, 22, 42, 45, 50), (1, 15, 35, 16, 36, 17, 37, 18, 38, 19, 39, 20, 40, 21, 41, 22, 42, 50), (1, 11, 31, 12, 32, 13, 33, 50), (1, 17, 37, 18, 38, 19, 39, 20, 40, 21, 41, 22, 42, 45, 50), (1, 16, 36, 17, 37, 18, 38, 19, 39, 20, 40, 21, 41, 22, 42, 45, 50), (1, 12, 32, 13, 33, 14, 34, 50), (1, 17, 37, 50), (1, 11, 31, 12, 32, 13, 33, 14, 34, 15, 35, 16, 36, 17, 37, 18, 38, 19, 39, 50), (1, 15, 35, 50), (1, 19, 39, 20, 40, 21, 41, 22, 42, 50), (1, 13, 33, 14, 34, 15, 35, 16, 36, 17, 37, 18, 38, 19, 39, 50), (1, 18, 38, 19, 39, 20, 40, 21, 41, 50), (1, 22, 42, 45, 50), (1, 13, 33, 14, 34, 15, 35, 16, 36, 17, 37, 50), (1, 11, 31, 12, 32, 13, 33, 14, 34, 15, 35, 16, 36, 17, 37, 18, 38, 19, 39, 20, 40, 50), (1, 12, 32, 13, 33, 14, 34, 15, 35, 16, 36, 17, 37, 18, 38, 19, 39, 50), (1, 14, 34, 50), (1, 15, 35, 16, 36, 17, 37, 50), (1, 13, 33, 14, 34, 15, 35, 16, 36, 17, 37, 18, 38, 19, 39, 20, 40, 21, 41, 50), (1, 12, 32, 13, 33, 14, 34, 15, 35, 16, 36, 17, 37, 18, 38, 19, 39, 20, 40, 50), (1, 14, 34, 15, 35, 16, 36, 17, 37, 18, 38, 19, 39, 20, 40, 21, 41, 22, 42, 45, 50), (1, 11, 31, 50), (1, 17, 37, 18, 38, 19, 39, 50), (1, 16, 36, 17, 37, 18, 38, 19, 39, 50), (1, 11, 31, 12, 32, 13, 33, 14, 34, 15, 35, 16, 36, 17, 37, 18, 38, 19, 39, 20, 40, 21, 41, 50), (1, 20, 40, 50), (1, 13, 33, 14, 34, 15, 35, 16, 36, 17, 37, 18, 38, 19, 39, 20, 40, 21, 41, 22, 42, 45, 50), (1, 12, 32, 50), (1, 13, 33, 14, 34, 15, 35, 16, 36, 17, 37, 18, 38, 19, 39, 20, 40, 50), (1, 17, 37, 18, 38, 19, 39, 20, 40, 21, 41, 22, 42, 50), (1, 21, 41, 50), (1, 15, 35, 16, 36, 17, 37, 18, 38, 19, 39, 20, 40, 21, 41, 50), (1, 14, 34, 15, 35, 16, 36, 17, 37, 18, 38, 19, 39, 20, 40, 50), (1, 15, 35, 16, 36, 17, 37, 18, 38, 19, 39, 20, 40, 50), (1, 19, 39, 20, 40, 21, 41, 50), (1, 11, 31, 12, 32, 13, 33, 14, 34, 15, 35, 50), (1, 20, 40, 21, 41, 22, 42, 50), (1, 14, 34, 15, 35, 16, 36, 17, 37, 18, 38, 19, 39, 50), (1, 15, 35, 16, 36, 17, 37, 18, 38, 19, 39, 20, 40, 21, 41, 22, 42, 45, 50), (1, 12, 32, 13, 33, 14, 34, 15, 35, 16, 36, 17, 37, 18, 38, 19, 39, 20, 40, 21, 41, 22, 42, 50), (1, 14, 34, 15, 35, 16, 36, 17, 37, 18, 38, 19, 39, 20, 40, 21, 41, 50), (1, 12, 32, 13, 33, 14, 34, 15, 35, 16, 36, 17, 37, 50), (1, 12, 32, 13, 33, 14, 34, 15, 35, 16, 36, 17, 37, 18, 38, 19, 39, 20, 40, 21, 41, 22, 42, 45, 50), (1, 22, 42, 50), (1, 19, 39, 50), (1, 12, 32, 13, 33, 50), (1, 12, 32, 13, 33, 14, 34, 15, 35, 16, 36, 17, 37, 18, 38, 19, 39, 20, 40, 21, 41, 50), (1, 11, 31, 12, 32, 13, 33, 14, 34, 15, 35, 16, 36, 17, 37, 18, 38, 19, 39, 20, 40, 21, 41, 22, 42, 45, 50), (1, 14, 34, 15, 35, 50), (1, 16, 36, 17, 37, 18, 38, 19, 39, 20, 40, 21, 41, 22, 42, 50), (1, 13, 33, 50), (1, 21, 41, 22, 42, 45, 50), (1, 12, 32, 13, 33, 14, 34, 15, 35, 50), (1, 11, 31, 12, 32, 50), (1, 16, 36, 17, 37, 18, 38, 19, 39, 20, 40, 50), (1, 13, 33, 14, 34, 15, 35, 16, 36, 17, 37, 18, 38, 19, 39, 20, 40, 21, 41, 22, 42, 50), (1, 19, 39, 20, 40, 21, 41, 22, 42, 45, 50), (1, 18, 38, 19, 39, 20, 40, 50)}\n",
      "A best path in Gp is  (1, 17, 37, 50)  of minimum cost  13\n",
      "The min capacity on this path is epsilon  16\n",
      "The min cost is  13\n",
      "(42, 45)  flow =  0\n",
      "(13, 33)  flow =  0\n",
      "(18, 38)  flow =  18\n",
      "(37, 18)  flow =  0\n",
      "(38, 50)  flow =  18\n",
      "(40, 50)  flow =  0\n",
      "(33, 14)  flow =  0\n",
      "(14, 34)  flow =  0\n",
      "(31, 50)  flow =  5\n",
      "(1, 12)  flow =  0\n",
      "(1, 18)  flow =  18\n",
      "(36, 50)  flow =  14\n",
      "(1, 15)  flow =  0\n",
      "(1, 21)  flow =  0\n",
      "(38, 19)  flow =  0\n",
      "(19, 39)  flow =  0\n",
      "(39, 20)  flow =  0\n",
      "(42, 50)  flow =  0\n",
      "(15, 35)  flow =  0\n",
      "(33, 50)  flow =  0\n",
      "(34, 15)  flow =  0\n",
      "(35, 50)  flow =  0\n",
      "(20, 40)  flow =  0\n",
      "(39, 50)  flow =  0\n",
      "(1, 11)  flow =  0\n",
      "(1, 5)  flow =  5\n",
      "(1, 14)  flow =  0\n",
      "(1, 20)  flow =  0\n",
      "(35, 16)  flow =  0\n",
      "(1, 17)  flow =  16\n",
      "(11, 31)  flow =  5\n",
      "(37, 50)  flow =  16\n",
      "(31, 12)  flow =  0\n",
      "(40, 21)  flow =  0\n",
      "(45, 50)  flow =  0\n",
      "(41, 50)  flow =  0\n",
      "(16, 36)  flow =  14\n",
      "(32, 50)  flow =  0\n",
      "(5, 11)  flow =  5\n",
      "(36, 17)  flow =  0\n",
      "(12, 32)  flow =  0\n",
      "(21, 41)  flow =  0\n",
      "(32, 13)  flow =  0\n",
      "(22, 42)  flow =  0\n",
      "(1, 13)  flow =  0\n",
      "(17, 37)  flow =  16\n",
      "(1, 16)  flow =  14\n",
      "(41, 22)  flow =  0\n",
      "(34, 50)  flow =  0\n",
      "(1, 19)  flow =  0\n",
      "(1, 22)  flow =  0\n"
     ]
    }
   ],
   "source": [
    "Iterate(G5)"
   ]
  },
  {
   "cell_type": "code",
   "execution_count": 62,
   "metadata": {},
   "outputs": [
    {
     "name": "stdout",
     "output_type": "stream",
     "text": [
      "Incremental Network: {(31, 11), (42, 45), (13, 33), (1, 16), (5, 1), (36, 16), (18, 38), (37, 18), (11, 5), (34, 50), (40, 50), (33, 14), (14, 34), (31, 50), (1, 12), (1, 18), (16, 1), (18, 1), (50, 36), (1, 15), (1, 21), (38, 19), (19, 39), (39, 20), (42, 50), (15, 35), (33, 50), (34, 15), (35, 50), (37, 17), (20, 40), (39, 50), (1, 11), (1, 14), (1, 20), (35, 16), (50, 38), (38, 18), (1, 17), (11, 31), (31, 12), (40, 21), (41, 50), (16, 36), (17, 1), (32, 50), (36, 17), (12, 32), (21, 41), (32, 13), (22, 42), (1, 13), (50, 31), (50, 37), (17, 37), (41, 22), (45, 50), (1, 19), (1, 22)}\n",
      "Paths from source to sink:  {(1, 11, 31, 12, 32, 13, 33, 14, 34, 50), (1, 17, 37, 18, 38, 19, 39, 20, 40, 50), (1, 11, 31, 12, 32, 13, 33, 14, 34, 15, 35, 16, 36, 17, 37, 18, 38, 19, 39, 20, 40, 21, 41, 22, 42, 50), (1, 18, 38, 19, 39, 20, 40, 21, 41, 22, 42, 50), (1, 13, 33, 14, 34, 50), (1, 21, 41, 22, 42, 50), (1, 14, 34, 15, 35, 16, 36, 17, 37, 18, 38, 19, 39, 20, 40, 21, 41, 22, 42, 50), (1, 18, 38, 19, 39, 50), (1, 19, 39, 20, 40, 50), (1, 16, 36, 17, 37, 18, 38, 19, 39, 20, 40, 21, 41, 50), (1, 15, 35, 16, 36, 17, 37, 18, 38, 19, 39, 50), (1, 18, 38, 19, 39, 20, 40, 21, 41, 22, 42, 45, 50), (1, 20, 40, 21, 41, 50), (1, 13, 33, 14, 34, 15, 35, 50), (1, 17, 37, 18, 38, 19, 39, 20, 40, 21, 41, 50), (1, 20, 40, 21, 41, 22, 42, 45, 50), (1, 15, 35, 16, 36, 17, 37, 18, 38, 19, 39, 20, 40, 21, 41, 22, 42, 50), (1, 11, 31, 12, 32, 13, 33, 50), (1, 17, 37, 18, 38, 19, 39, 20, 40, 21, 41, 22, 42, 45, 50), (1, 16, 36, 17, 37, 18, 38, 19, 39, 20, 40, 21, 41, 22, 42, 45, 50), (1, 12, 32, 13, 33, 14, 34, 50), (1, 11, 31, 12, 32, 13, 33, 14, 34, 15, 35, 16, 36, 17, 37, 18, 38, 19, 39, 50), (1, 15, 35, 50), (1, 19, 39, 20, 40, 21, 41, 22, 42, 50), (1, 13, 33, 14, 34, 15, 35, 16, 36, 17, 37, 18, 38, 19, 39, 50), (1, 18, 38, 19, 39, 20, 40, 21, 41, 50), (1, 22, 42, 45, 50), (1, 11, 31, 12, 32, 13, 33, 14, 34, 15, 35, 16, 36, 17, 37, 18, 38, 19, 39, 20, 40, 50), (1, 12, 32, 13, 33, 14, 34, 15, 35, 16, 36, 17, 37, 18, 38, 19, 39, 50), (1, 14, 34, 50), (1, 13, 33, 14, 34, 15, 35, 16, 36, 17, 37, 18, 38, 19, 39, 20, 40, 21, 41, 50), (1, 12, 32, 13, 33, 14, 34, 15, 35, 16, 36, 17, 37, 18, 38, 19, 39, 20, 40, 50), (1, 14, 34, 15, 35, 16, 36, 17, 37, 18, 38, 19, 39, 20, 40, 21, 41, 22, 42, 45, 50), (1, 11, 31, 50), (1, 17, 37, 18, 38, 19, 39, 50), (1, 16, 36, 17, 37, 18, 38, 19, 39, 50), (1, 11, 31, 12, 32, 13, 33, 14, 34, 15, 35, 16, 36, 17, 37, 18, 38, 19, 39, 20, 40, 21, 41, 50), (1, 20, 40, 50), (1, 13, 33, 14, 34, 15, 35, 16, 36, 17, 37, 18, 38, 19, 39, 20, 40, 21, 41, 22, 42, 45, 50), (1, 12, 32, 50), (1, 13, 33, 14, 34, 15, 35, 16, 36, 17, 37, 18, 38, 19, 39, 20, 40, 50), (1, 17, 37, 18, 38, 19, 39, 20, 40, 21, 41, 22, 42, 50), (1, 21, 41, 50), (1, 15, 35, 16, 36, 17, 37, 18, 38, 19, 39, 20, 40, 21, 41, 50), (1, 14, 34, 15, 35, 16, 36, 17, 37, 18, 38, 19, 39, 20, 40, 50), (1, 15, 35, 16, 36, 17, 37, 18, 38, 19, 39, 20, 40, 50), (1, 19, 39, 20, 40, 21, 41, 50), (1, 11, 31, 12, 32, 13, 33, 14, 34, 15, 35, 50), (1, 20, 40, 21, 41, 22, 42, 50), (1, 14, 34, 15, 35, 16, 36, 17, 37, 18, 38, 19, 39, 50), (1, 15, 35, 16, 36, 17, 37, 18, 38, 19, 39, 20, 40, 21, 41, 22, 42, 45, 50), (1, 12, 32, 13, 33, 14, 34, 15, 35, 16, 36, 17, 37, 18, 38, 19, 39, 20, 40, 21, 41, 22, 42, 50), (1, 14, 34, 15, 35, 16, 36, 17, 37, 18, 38, 19, 39, 20, 40, 21, 41, 50), (1, 12, 32, 13, 33, 14, 34, 15, 35, 16, 36, 17, 37, 18, 38, 19, 39, 20, 40, 21, 41, 22, 42, 45, 50), (1, 22, 42, 50), (1, 19, 39, 50), (1, 12, 32, 13, 33, 50), (1, 12, 32, 13, 33, 14, 34, 15, 35, 16, 36, 17, 37, 18, 38, 19, 39, 20, 40, 21, 41, 50), (1, 11, 31, 12, 32, 13, 33, 14, 34, 15, 35, 16, 36, 17, 37, 18, 38, 19, 39, 20, 40, 21, 41, 22, 42, 45, 50), (1, 14, 34, 15, 35, 50), (1, 16, 36, 17, 37, 18, 38, 19, 39, 20, 40, 21, 41, 22, 42, 50), (1, 13, 33, 50), (1, 21, 41, 22, 42, 45, 50), (1, 12, 32, 13, 33, 14, 34, 15, 35, 50), (1, 11, 31, 12, 32, 50), (1, 16, 36, 17, 37, 18, 38, 19, 39, 20, 40, 50), (1, 13, 33, 14, 34, 15, 35, 16, 36, 17, 37, 18, 38, 19, 39, 20, 40, 21, 41, 22, 42, 50), (1, 19, 39, 20, 40, 21, 41, 22, 42, 45, 50), (1, 18, 38, 19, 39, 20, 40, 50)}\n",
      "A best path in Gp is  (1, 19, 39, 50)  of minimum cost  14\n",
      "The min capacity on this path is epsilon  15\n",
      "The min cost is  14\n",
      "(42, 45)  flow =  0\n",
      "(13, 33)  flow =  0\n",
      "(18, 38)  flow =  18\n",
      "(37, 18)  flow =  0\n",
      "(38, 50)  flow =  18\n",
      "(40, 50)  flow =  0\n",
      "(33, 14)  flow =  0\n",
      "(14, 34)  flow =  0\n",
      "(31, 50)  flow =  5\n",
      "(1, 12)  flow =  0\n",
      "(1, 18)  flow =  18\n",
      "(36, 50)  flow =  14\n",
      "(1, 15)  flow =  0\n",
      "(1, 21)  flow =  0\n",
      "(38, 19)  flow =  0\n",
      "(19, 39)  flow =  15\n",
      "(39, 20)  flow =  0\n",
      "(42, 50)  flow =  0\n",
      "(15, 35)  flow =  0\n",
      "(33, 50)  flow =  0\n",
      "(34, 15)  flow =  0\n",
      "(35, 50)  flow =  0\n",
      "(20, 40)  flow =  0\n",
      "(39, 50)  flow =  15\n",
      "(1, 11)  flow =  0\n",
      "(1, 5)  flow =  5\n",
      "(1, 14)  flow =  0\n",
      "(1, 20)  flow =  0\n",
      "(35, 16)  flow =  0\n",
      "(1, 17)  flow =  16\n",
      "(11, 31)  flow =  5\n",
      "(37, 50)  flow =  16\n",
      "(31, 12)  flow =  0\n",
      "(40, 21)  flow =  0\n",
      "(45, 50)  flow =  0\n",
      "(41, 50)  flow =  0\n",
      "(16, 36)  flow =  14\n",
      "(32, 50)  flow =  0\n",
      "(5, 11)  flow =  5\n",
      "(36, 17)  flow =  0\n",
      "(12, 32)  flow =  0\n",
      "(21, 41)  flow =  0\n",
      "(32, 13)  flow =  0\n",
      "(22, 42)  flow =  0\n",
      "(1, 13)  flow =  0\n",
      "(17, 37)  flow =  16\n",
      "(1, 16)  flow =  14\n",
      "(41, 22)  flow =  0\n",
      "(34, 50)  flow =  0\n",
      "(1, 19)  flow =  15\n",
      "(1, 22)  flow =  0\n"
     ]
    }
   ],
   "source": [
    "Iterate(G5)"
   ]
  },
  {
   "cell_type": "code",
   "execution_count": 63,
   "metadata": {},
   "outputs": [
    {
     "name": "stdout",
     "output_type": "stream",
     "text": [
      "Incremental Network: {(31, 11), (42, 45), (13, 33), (1, 16), (5, 1), (36, 16), (18, 38), (37, 18), (11, 5), (34, 50), (40, 50), (33, 14), (14, 34), (31, 50), (1, 12), (1, 18), (16, 1), (18, 1), (50, 36), (1, 15), (1, 21), (50, 39), (38, 19), (19, 39), (39, 20), (42, 50), (15, 35), (33, 50), (34, 15), (35, 50), (37, 17), (20, 40), (1, 11), (1, 14), (1, 20), (35, 16), (50, 38), (38, 18), (1, 17), (11, 31), (31, 12), (39, 19), (40, 21), (41, 50), (16, 36), (17, 1), (32, 50), (19, 1), (36, 17), (12, 32), (21, 41), (32, 13), (22, 42), (1, 13), (50, 31), (50, 37), (17, 37), (41, 22), (45, 50), (1, 19), (1, 22)}\n",
      "Paths from source to sink:  {(1, 14, 34, 50), (1, 11, 31, 12, 32, 13, 33, 14, 34, 50), (1, 13, 33, 14, 34, 15, 35, 16, 36, 17, 37, 18, 38, 19, 39, 20, 40, 21, 41, 50), (1, 17, 37, 18, 38, 19, 39, 20, 40, 50), (1, 12, 32, 13, 33, 14, 34, 15, 35, 16, 36, 17, 37, 18, 38, 19, 39, 20, 40, 50), (1, 11, 31, 12, 32, 13, 33, 14, 34, 15, 35, 16, 36, 17, 37, 18, 38, 19, 39, 20, 40, 21, 41, 22, 42, 50), (1, 18, 38, 19, 39, 20, 40, 21, 41, 22, 42, 50), (1, 13, 33, 14, 34, 50), (1, 21, 41, 22, 42, 50), (1, 14, 34, 15, 35, 16, 36, 17, 37, 18, 38, 19, 39, 20, 40, 21, 41, 22, 42, 50), (1, 14, 34, 15, 35, 16, 36, 17, 37, 18, 38, 19, 39, 20, 40, 21, 41, 22, 42, 45, 50), (1, 11, 31, 50), (1, 19, 39, 20, 40, 50), (1, 16, 36, 17, 37, 18, 38, 19, 39, 20, 40, 21, 41, 50), (1, 18, 38, 19, 39, 20, 40, 21, 41, 22, 42, 45, 50), (1, 11, 31, 12, 32, 13, 33, 14, 34, 15, 35, 16, 36, 17, 37, 18, 38, 19, 39, 20, 40, 21, 41, 50), (1, 20, 40, 50), (1, 20, 40, 21, 41, 50), (1, 13, 33, 14, 34, 15, 35, 16, 36, 17, 37, 18, 38, 19, 39, 20, 40, 21, 41, 22, 42, 45, 50), (1, 13, 33, 14, 34, 15, 35, 50), (1, 12, 32, 50), (1, 17, 37, 18, 38, 19, 39, 20, 40, 21, 41, 50), (1, 13, 33, 14, 34, 15, 35, 16, 36, 17, 37, 18, 38, 19, 39, 20, 40, 50), (1, 17, 37, 18, 38, 19, 39, 20, 40, 21, 41, 22, 42, 50), (1, 21, 41, 50), (1, 20, 40, 21, 41, 22, 42, 45, 50), (1, 15, 35, 16, 36, 17, 37, 18, 38, 19, 39, 20, 40, 21, 41, 50), (1, 15, 35, 16, 36, 17, 37, 18, 38, 19, 39, 20, 40, 21, 41, 22, 42, 50), (1, 11, 31, 12, 32, 13, 33, 50), (1, 17, 37, 18, 38, 19, 39, 20, 40, 21, 41, 22, 42, 45, 50), (1, 15, 35, 16, 36, 17, 37, 18, 38, 19, 39, 20, 40, 50), (1, 19, 39, 20, 40, 21, 41, 50), (1, 12, 32, 13, 33, 14, 34, 50), (1, 14, 34, 15, 35, 16, 36, 17, 37, 18, 38, 19, 39, 20, 40, 50), (1, 16, 36, 17, 37, 18, 38, 19, 39, 20, 40, 21, 41, 22, 42, 45, 50), (1, 11, 31, 12, 32, 13, 33, 14, 34, 15, 35, 50), (1, 20, 40, 21, 41, 22, 42, 50), (1, 15, 35, 16, 36, 17, 37, 18, 38, 19, 39, 20, 40, 21, 41, 22, 42, 45, 50), (1, 12, 32, 13, 33, 14, 34, 15, 35, 16, 36, 17, 37, 18, 38, 19, 39, 20, 40, 21, 41, 22, 42, 50), (1, 14, 34, 15, 35, 16, 36, 17, 37, 18, 38, 19, 39, 20, 40, 21, 41, 50), (1, 15, 35, 50), (1, 12, 32, 13, 33, 14, 34, 15, 35, 16, 36, 17, 37, 18, 38, 19, 39, 20, 40, 21, 41, 22, 42, 45, 50), (1, 22, 42, 50), (1, 19, 39, 20, 40, 21, 41, 22, 42, 50), (1, 12, 32, 13, 33, 50), (1, 12, 32, 13, 33, 14, 34, 15, 35, 16, 36, 17, 37, 18, 38, 19, 39, 20, 40, 21, 41, 50), (1, 11, 31, 12, 32, 13, 33, 14, 34, 15, 35, 16, 36, 17, 37, 18, 38, 19, 39, 20, 40, 21, 41, 22, 42, 45, 50), (1, 14, 34, 15, 35, 50), (1, 16, 36, 17, 37, 18, 38, 19, 39, 20, 40, 21, 41, 22, 42, 50), (1, 13, 33, 50), (1, 22, 42, 45, 50), (1, 21, 41, 22, 42, 45, 50), (1, 18, 38, 19, 39, 20, 40, 21, 41, 50), (1, 12, 32, 13, 33, 14, 34, 15, 35, 50), (1, 11, 31, 12, 32, 50), (1, 11, 31, 12, 32, 13, 33, 14, 34, 15, 35, 16, 36, 17, 37, 18, 38, 19, 39, 20, 40, 50), (1, 16, 36, 17, 37, 18, 38, 19, 39, 20, 40, 50), (1, 13, 33, 14, 34, 15, 35, 16, 36, 17, 37, 18, 38, 19, 39, 20, 40, 21, 41, 22, 42, 50), (1, 19, 39, 20, 40, 21, 41, 22, 42, 45, 50), (1, 18, 38, 19, 39, 20, 40, 50)}\n",
      "A best path in Gp is  (1, 20, 40, 50)  of minimum cost  15\n",
      "The min capacity on this path is epsilon  10\n",
      "The min cost is  15\n",
      "(42, 45)  flow =  0\n",
      "(13, 33)  flow =  0\n",
      "(18, 38)  flow =  18\n",
      "(37, 18)  flow =  0\n",
      "(38, 50)  flow =  18\n",
      "(40, 50)  flow =  10\n",
      "(33, 14)  flow =  0\n",
      "(14, 34)  flow =  0\n",
      "(31, 50)  flow =  5\n",
      "(1, 12)  flow =  0\n",
      "(1, 18)  flow =  18\n",
      "(36, 50)  flow =  14\n",
      "(1, 15)  flow =  0\n",
      "(1, 21)  flow =  0\n",
      "(38, 19)  flow =  0\n",
      "(19, 39)  flow =  15\n",
      "(39, 20)  flow =  0\n",
      "(42, 50)  flow =  0\n",
      "(15, 35)  flow =  0\n",
      "(33, 50)  flow =  0\n",
      "(34, 15)  flow =  0\n",
      "(35, 50)  flow =  0\n",
      "(20, 40)  flow =  10\n",
      "(39, 50)  flow =  15\n",
      "(1, 11)  flow =  0\n",
      "(1, 5)  flow =  5\n",
      "(1, 14)  flow =  0\n",
      "(1, 20)  flow =  10\n",
      "(35, 16)  flow =  0\n",
      "(1, 17)  flow =  16\n",
      "(11, 31)  flow =  5\n",
      "(37, 50)  flow =  16\n",
      "(31, 12)  flow =  0\n",
      "(40, 21)  flow =  0\n",
      "(45, 50)  flow =  0\n",
      "(41, 50)  flow =  0\n",
      "(16, 36)  flow =  14\n",
      "(32, 50)  flow =  0\n",
      "(5, 11)  flow =  5\n",
      "(36, 17)  flow =  0\n",
      "(12, 32)  flow =  0\n",
      "(21, 41)  flow =  0\n",
      "(32, 13)  flow =  0\n",
      "(22, 42)  flow =  0\n",
      "(1, 13)  flow =  0\n",
      "(17, 37)  flow =  16\n",
      "(1, 16)  flow =  14\n",
      "(41, 22)  flow =  0\n",
      "(34, 50)  flow =  0\n",
      "(1, 19)  flow =  15\n",
      "(1, 22)  flow =  0\n"
     ]
    }
   ],
   "source": [
    "Iterate(G5)"
   ]
  },
  {
   "cell_type": "code",
   "execution_count": 64,
   "metadata": {},
   "outputs": [
    {
     "name": "stdout",
     "output_type": "stream",
     "text": [
      "Incremental Network: {(31, 11), (42, 45), (13, 33), (40, 20), (1, 16), (5, 1), (36, 16), (18, 38), (37, 18), (11, 5), (34, 50), (33, 14), (14, 34), (31, 50), (1, 12), (1, 18), (16, 1), (18, 1), (50, 36), (1, 15), (1, 21), (50, 39), (38, 19), (20, 1), (19, 39), (39, 20), (42, 50), (15, 35), (33, 50), (34, 15), (35, 50), (37, 17), (20, 40), (1, 11), (1, 14), (1, 20), (35, 16), (50, 38), (38, 18), (1, 17), (11, 31), (31, 12), (39, 19), (40, 21), (41, 50), (16, 36), (17, 1), (32, 50), (1, 19), (19, 1), (36, 17), (12, 32), (21, 41), (32, 13), (22, 42), (1, 13), (50, 31), (50, 37), (17, 37), (41, 22), (45, 50), (50, 40), (1, 22)}\n",
      "Paths from source to sink:  {(1, 14, 34, 50), (1, 11, 31, 12, 32, 13, 33, 14, 34, 50), (1, 13, 33, 14, 34, 15, 35, 16, 36, 17, 37, 18, 38, 19, 39, 20, 40, 21, 41, 50), (1, 11, 31, 12, 32, 13, 33, 14, 34, 15, 35, 16, 36, 17, 37, 18, 38, 19, 39, 20, 40, 21, 41, 22, 42, 50), (1, 18, 38, 19, 39, 20, 40, 21, 41, 22, 42, 50), (1, 13, 33, 14, 34, 50), (1, 21, 41, 22, 42, 50), (1, 14, 34, 15, 35, 16, 36, 17, 37, 18, 38, 19, 39, 20, 40, 21, 41, 22, 42, 50), (1, 14, 34, 15, 35, 16, 36, 17, 37, 18, 38, 19, 39, 20, 40, 21, 41, 22, 42, 45, 50), (1, 11, 31, 50), (1, 16, 36, 17, 37, 18, 38, 19, 39, 20, 40, 21, 41, 50), (1, 18, 38, 19, 39, 20, 40, 21, 41, 22, 42, 45, 50), (1, 11, 31, 12, 32, 13, 33, 14, 34, 15, 35, 16, 36, 17, 37, 18, 38, 19, 39, 20, 40, 21, 41, 50), (1, 20, 40, 21, 41, 50), (1, 13, 33, 14, 34, 15, 35, 16, 36, 17, 37, 18, 38, 19, 39, 20, 40, 21, 41, 22, 42, 45, 50), (1, 13, 33, 14, 34, 15, 35, 50), (1, 12, 32, 50), (1, 17, 37, 18, 38, 19, 39, 20, 40, 21, 41, 50), (1, 17, 37, 18, 38, 19, 39, 20, 40, 21, 41, 22, 42, 50), (1, 21, 41, 50), (1, 20, 40, 21, 41, 22, 42, 45, 50), (1, 15, 35, 16, 36, 17, 37, 18, 38, 19, 39, 20, 40, 21, 41, 50), (1, 15, 35, 16, 36, 17, 37, 18, 38, 19, 39, 20, 40, 21, 41, 22, 42, 50), (1, 11, 31, 12, 32, 13, 33, 50), (1, 17, 37, 18, 38, 19, 39, 20, 40, 21, 41, 22, 42, 45, 50), (1, 16, 36, 17, 37, 18, 38, 19, 39, 20, 40, 21, 41, 22, 42, 45, 50), (1, 19, 39, 20, 40, 21, 41, 50), (1, 12, 32, 13, 33, 14, 34, 50), (1, 11, 31, 12, 32, 13, 33, 14, 34, 15, 35, 50), (1, 20, 40, 21, 41, 22, 42, 50), (1, 15, 35, 16, 36, 17, 37, 18, 38, 19, 39, 20, 40, 21, 41, 22, 42, 45, 50), (1, 12, 32, 13, 33, 14, 34, 15, 35, 16, 36, 17, 37, 18, 38, 19, 39, 20, 40, 21, 41, 22, 42, 50), (1, 14, 34, 15, 35, 16, 36, 17, 37, 18, 38, 19, 39, 20, 40, 21, 41, 50), (1, 15, 35, 50), (1, 12, 32, 13, 33, 14, 34, 15, 35, 16, 36, 17, 37, 18, 38, 19, 39, 20, 40, 21, 41, 22, 42, 45, 50), (1, 22, 42, 50), (1, 19, 39, 20, 40, 21, 41, 22, 42, 50), (1, 12, 32, 13, 33, 50), (1, 12, 32, 13, 33, 14, 34, 15, 35, 16, 36, 17, 37, 18, 38, 19, 39, 20, 40, 21, 41, 50), (1, 11, 31, 12, 32, 13, 33, 14, 34, 15, 35, 16, 36, 17, 37, 18, 38, 19, 39, 20, 40, 21, 41, 22, 42, 45, 50), (1, 14, 34, 15, 35, 50), (1, 16, 36, 17, 37, 18, 38, 19, 39, 20, 40, 21, 41, 22, 42, 50), (1, 13, 33, 50), (1, 22, 42, 45, 50), (1, 21, 41, 22, 42, 45, 50), (1, 18, 38, 19, 39, 20, 40, 21, 41, 50), (1, 12, 32, 13, 33, 14, 34, 15, 35, 50), (1, 11, 31, 12, 32, 50), (1, 13, 33, 14, 34, 15, 35, 16, 36, 17, 37, 18, 38, 19, 39, 20, 40, 21, 41, 22, 42, 50), (1, 19, 39, 20, 40, 21, 41, 22, 42, 45, 50)}\n",
      "A best path in Gp is  (1, 15, 35, 50)  of minimum cost  15\n",
      "The min capacity on this path is epsilon  11\n",
      "The min cost is  15\n",
      "(42, 45)  flow =  0\n",
      "(13, 33)  flow =  0\n",
      "(18, 38)  flow =  18\n",
      "(37, 18)  flow =  0\n",
      "(38, 50)  flow =  18\n",
      "(40, 50)  flow =  10\n",
      "(33, 14)  flow =  0\n",
      "(14, 34)  flow =  0\n",
      "(31, 50)  flow =  5\n",
      "(1, 12)  flow =  0\n",
      "(1, 18)  flow =  18\n",
      "(36, 50)  flow =  14\n",
      "(1, 15)  flow =  11\n",
      "(1, 21)  flow =  0\n",
      "(38, 19)  flow =  0\n",
      "(19, 39)  flow =  15\n",
      "(39, 20)  flow =  0\n",
      "(42, 50)  flow =  0\n",
      "(15, 35)  flow =  11\n",
      "(33, 50)  flow =  0\n",
      "(34, 15)  flow =  0\n",
      "(35, 50)  flow =  11\n",
      "(20, 40)  flow =  10\n",
      "(39, 50)  flow =  15\n",
      "(1, 11)  flow =  0\n",
      "(1, 5)  flow =  5\n",
      "(1, 14)  flow =  0\n",
      "(1, 20)  flow =  10\n",
      "(35, 16)  flow =  0\n",
      "(1, 17)  flow =  16\n",
      "(11, 31)  flow =  5\n",
      "(37, 50)  flow =  16\n",
      "(31, 12)  flow =  0\n",
      "(40, 21)  flow =  0\n",
      "(45, 50)  flow =  0\n",
      "(41, 50)  flow =  0\n",
      "(16, 36)  flow =  14\n",
      "(32, 50)  flow =  0\n",
      "(5, 11)  flow =  5\n",
      "(36, 17)  flow =  0\n",
      "(12, 32)  flow =  0\n",
      "(21, 41)  flow =  0\n",
      "(32, 13)  flow =  0\n",
      "(22, 42)  flow =  0\n",
      "(1, 13)  flow =  0\n",
      "(17, 37)  flow =  16\n",
      "(1, 16)  flow =  14\n",
      "(41, 22)  flow =  0\n",
      "(34, 50)  flow =  0\n",
      "(1, 19)  flow =  15\n",
      "(1, 22)  flow =  0\n"
     ]
    }
   ],
   "source": [
    "Iterate(G5)"
   ]
  },
  {
   "cell_type": "code",
   "execution_count": 65,
   "metadata": {},
   "outputs": [
    {
     "name": "stdout",
     "output_type": "stream",
     "text": [
      "Incremental Network: {(13, 33), (5, 1), (36, 16), (11, 5), (33, 14), (1, 18), (18, 1), (50, 36), (1, 15), (19, 39), (39, 20), (42, 50), (37, 17), (20, 40), (1, 11), (1, 20), (50, 38), (38, 18), (1, 17), (11, 31), (40, 21), (39, 19), (45, 50), (41, 50), (19, 1), (36, 17), (21, 41), (1, 13), (50, 31), (1, 19), (50, 40), (31, 11), (42, 45), (40, 20), (18, 38), (37, 18), (14, 34), (31, 50), (1, 12), (16, 1), (1, 21), (50, 39), (38, 19), (20, 1), (50, 37), (15, 35), (33, 50), (34, 15), (15, 1), (50, 35), (1, 14), (35, 16), (35, 15), (31, 12), (16, 36), (17, 1), (32, 50), (12, 32), (32, 13), (22, 42), (17, 37), (1, 16), (41, 22), (34, 50), (1, 22)}\n",
      "Paths from source to sink:  {(1, 14, 34, 50), (1, 11, 31, 12, 32, 13, 33, 14, 34, 50), (1, 13, 33, 14, 34, 15, 35, 16, 36, 17, 37, 18, 38, 19, 39, 20, 40, 21, 41, 50), (1, 11, 31, 12, 32, 13, 33, 14, 34, 15, 35, 16, 36, 17, 37, 18, 38, 19, 39, 20, 40, 21, 41, 22, 42, 50), (1, 18, 38, 19, 39, 20, 40, 21, 41, 22, 42, 50), (1, 13, 33, 14, 34, 50), (1, 21, 41, 22, 42, 50), (1, 14, 34, 15, 35, 16, 36, 17, 37, 18, 38, 19, 39, 20, 40, 21, 41, 22, 42, 50), (1, 14, 34, 15, 35, 16, 36, 17, 37, 18, 38, 19, 39, 20, 40, 21, 41, 22, 42, 45, 50), (1, 11, 31, 50), (1, 16, 36, 17, 37, 18, 38, 19, 39, 20, 40, 21, 41, 50), (1, 18, 38, 19, 39, 20, 40, 21, 41, 22, 42, 45, 50), (1, 11, 31, 12, 32, 13, 33, 14, 34, 15, 35, 16, 36, 17, 37, 18, 38, 19, 39, 20, 40, 21, 41, 50), (1, 20, 40, 21, 41, 50), (1, 13, 33, 14, 34, 15, 35, 16, 36, 17, 37, 18, 38, 19, 39, 20, 40, 21, 41, 22, 42, 45, 50), (1, 12, 32, 50), (1, 17, 37, 18, 38, 19, 39, 20, 40, 21, 41, 50), (1, 17, 37, 18, 38, 19, 39, 20, 40, 21, 41, 22, 42, 50), (1, 21, 41, 50), (1, 15, 35, 16, 36, 17, 37, 18, 38, 19, 39, 20, 40, 21, 41, 50), (1, 20, 40, 21, 41, 22, 42, 45, 50), (1, 15, 35, 16, 36, 17, 37, 18, 38, 19, 39, 20, 40, 21, 41, 22, 42, 50), (1, 11, 31, 12, 32, 13, 33, 50), (1, 17, 37, 18, 38, 19, 39, 20, 40, 21, 41, 22, 42, 45, 50), (1, 16, 36, 17, 37, 18, 38, 19, 39, 20, 40, 21, 41, 22, 42, 45, 50), (1, 19, 39, 20, 40, 21, 41, 50), (1, 12, 32, 13, 33, 14, 34, 50), (1, 20, 40, 21, 41, 22, 42, 50), (1, 15, 35, 16, 36, 17, 37, 18, 38, 19, 39, 20, 40, 21, 41, 22, 42, 45, 50), (1, 12, 32, 13, 33, 14, 34, 15, 35, 16, 36, 17, 37, 18, 38, 19, 39, 20, 40, 21, 41, 22, 42, 50), (1, 14, 34, 15, 35, 16, 36, 17, 37, 18, 38, 19, 39, 20, 40, 21, 41, 50), (1, 12, 32, 13, 33, 14, 34, 15, 35, 16, 36, 17, 37, 18, 38, 19, 39, 20, 40, 21, 41, 22, 42, 45, 50), (1, 22, 42, 50), (1, 19, 39, 20, 40, 21, 41, 22, 42, 50), (1, 12, 32, 13, 33, 50), (1, 12, 32, 13, 33, 14, 34, 15, 35, 16, 36, 17, 37, 18, 38, 19, 39, 20, 40, 21, 41, 50), (1, 11, 31, 12, 32, 13, 33, 14, 34, 15, 35, 16, 36, 17, 37, 18, 38, 19, 39, 20, 40, 21, 41, 22, 42, 45, 50), (1, 16, 36, 17, 37, 18, 38, 19, 39, 20, 40, 21, 41, 22, 42, 50), (1, 13, 33, 50), (1, 22, 42, 45, 50), (1, 21, 41, 22, 42, 45, 50), (1, 18, 38, 19, 39, 20, 40, 21, 41, 50), (1, 11, 31, 12, 32, 50), (1, 13, 33, 14, 34, 15, 35, 16, 36, 17, 37, 18, 38, 19, 39, 20, 40, 21, 41, 22, 42, 50), (1, 19, 39, 20, 40, 21, 41, 22, 42, 45, 50)}\n",
      "A best path in Gp is  (1, 21, 41, 50)  of minimum cost  16\n",
      "The min capacity on this path is epsilon  7\n",
      "The min cost is  16\n",
      "(42, 45)  flow =  0\n",
      "(13, 33)  flow =  0\n",
      "(18, 38)  flow =  18\n",
      "(37, 18)  flow =  0\n",
      "(38, 50)  flow =  18\n",
      "(40, 50)  flow =  10\n",
      "(33, 14)  flow =  0\n",
      "(14, 34)  flow =  0\n",
      "(31, 50)  flow =  5\n",
      "(1, 12)  flow =  0\n",
      "(1, 18)  flow =  18\n",
      "(36, 50)  flow =  14\n",
      "(1, 15)  flow =  11\n",
      "(1, 21)  flow =  7\n",
      "(38, 19)  flow =  0\n",
      "(19, 39)  flow =  15\n",
      "(39, 20)  flow =  0\n",
      "(42, 50)  flow =  0\n",
      "(15, 35)  flow =  11\n",
      "(33, 50)  flow =  0\n",
      "(34, 15)  flow =  0\n",
      "(35, 50)  flow =  11\n",
      "(20, 40)  flow =  10\n",
      "(39, 50)  flow =  15\n",
      "(1, 11)  flow =  0\n",
      "(1, 5)  flow =  5\n",
      "(1, 14)  flow =  0\n",
      "(1, 20)  flow =  10\n",
      "(35, 16)  flow =  0\n",
      "(1, 17)  flow =  16\n",
      "(11, 31)  flow =  5\n",
      "(37, 50)  flow =  16\n",
      "(31, 12)  flow =  0\n",
      "(40, 21)  flow =  0\n",
      "(45, 50)  flow =  0\n",
      "(41, 50)  flow =  7\n",
      "(16, 36)  flow =  14\n",
      "(32, 50)  flow =  0\n",
      "(5, 11)  flow =  5\n",
      "(36, 17)  flow =  0\n",
      "(12, 32)  flow =  0\n",
      "(21, 41)  flow =  7\n",
      "(32, 13)  flow =  0\n",
      "(22, 42)  flow =  0\n",
      "(1, 13)  flow =  0\n",
      "(17, 37)  flow =  16\n",
      "(1, 16)  flow =  14\n",
      "(41, 22)  flow =  0\n",
      "(34, 50)  flow =  0\n",
      "(1, 19)  flow =  15\n",
      "(1, 22)  flow =  0\n"
     ]
    }
   ],
   "source": [
    "Iterate(G5)"
   ]
  },
  {
   "cell_type": "code",
   "execution_count": 66,
   "metadata": {},
   "outputs": [
    {
     "name": "stdout",
     "output_type": "stream",
     "text": [
      "Incremental Network: {(13, 33), (5, 1), (36, 16), (11, 5), (33, 14), (1, 18), (18, 1), (50, 36), (1, 15), (19, 39), (39, 20), (42, 50), (37, 17), (20, 40), (1, 11), (1, 20), (50, 38), (38, 18), (1, 17), (11, 31), (40, 21), (39, 19), (45, 50), (19, 1), (36, 17), (21, 41), (1, 13), (50, 31), (50, 40), (1, 19), (21, 1), (31, 11), (42, 45), (40, 20), (18, 38), (37, 18), (41, 21), (14, 34), (31, 50), (1, 12), (16, 1), (1, 21), (50, 39), (38, 19), (20, 1), (50, 37), (15, 35), (33, 50), (34, 15), (15, 1), (50, 35), (1, 14), (35, 16), (35, 15), (50, 41), (31, 12), (16, 36), (17, 1), (32, 50), (12, 32), (32, 13), (22, 42), (17, 37), (1, 16), (41, 22), (34, 50), (1, 22)}\n",
      "Paths from source to sink:  {(1, 14, 34, 50), (1, 11, 31, 12, 32, 13, 33, 14, 34, 50), (1, 11, 31, 12, 32, 13, 33, 14, 34, 15, 35, 16, 36, 17, 37, 18, 38, 19, 39, 20, 40, 21, 41, 22, 42, 50), (1, 18, 38, 19, 39, 20, 40, 21, 41, 22, 42, 50), (1, 13, 33, 14, 34, 50), (1, 21, 41, 22, 42, 50), (1, 14, 34, 15, 35, 16, 36, 17, 37, 18, 38, 19, 39, 20, 40, 21, 41, 22, 42, 50), (1, 14, 34, 15, 35, 16, 36, 17, 37, 18, 38, 19, 39, 20, 40, 21, 41, 22, 42, 45, 50), (1, 11, 31, 50), (1, 18, 38, 19, 39, 20, 40, 21, 41, 22, 42, 45, 50), (1, 13, 33, 14, 34, 15, 35, 16, 36, 17, 37, 18, 38, 19, 39, 20, 40, 21, 41, 22, 42, 45, 50), (1, 12, 32, 50), (1, 17, 37, 18, 38, 19, 39, 20, 40, 21, 41, 22, 42, 50), (1, 20, 40, 21, 41, 22, 42, 45, 50), (1, 15, 35, 16, 36, 17, 37, 18, 38, 19, 39, 20, 40, 21, 41, 22, 42, 50), (1, 11, 31, 12, 32, 13, 33, 50), (1, 17, 37, 18, 38, 19, 39, 20, 40, 21, 41, 22, 42, 45, 50), (1, 16, 36, 17, 37, 18, 38, 19, 39, 20, 40, 21, 41, 22, 42, 45, 50), (1, 12, 32, 13, 33, 14, 34, 50), (1, 20, 40, 21, 41, 22, 42, 50), (1, 15, 35, 16, 36, 17, 37, 18, 38, 19, 39, 20, 40, 21, 41, 22, 42, 45, 50), (1, 12, 32, 13, 33, 14, 34, 15, 35, 16, 36, 17, 37, 18, 38, 19, 39, 20, 40, 21, 41, 22, 42, 50), (1, 12, 32, 13, 33, 14, 34, 15, 35, 16, 36, 17, 37, 18, 38, 19, 39, 20, 40, 21, 41, 22, 42, 45, 50), (1, 22, 42, 50), (1, 19, 39, 20, 40, 21, 41, 22, 42, 50), (1, 12, 32, 13, 33, 50), (1, 11, 31, 12, 32, 13, 33, 14, 34, 15, 35, 16, 36, 17, 37, 18, 38, 19, 39, 20, 40, 21, 41, 22, 42, 45, 50), (1, 16, 36, 17, 37, 18, 38, 19, 39, 20, 40, 21, 41, 22, 42, 50), (1, 13, 33, 50), (1, 22, 42, 45, 50), (1, 21, 41, 22, 42, 45, 50), (1, 11, 31, 12, 32, 50), (1, 13, 33, 14, 34, 15, 35, 16, 36, 17, 37, 18, 38, 19, 39, 20, 40, 21, 41, 22, 42, 50), (1, 19, 39, 20, 40, 21, 41, 22, 42, 45, 50)}\n",
      "A best path in Gp is  (1, 14, 34, 50)  of minimum cost  17\n",
      "The min capacity on this path is epsilon  7\n",
      "The min cost is  17\n",
      "(42, 45)  flow =  0\n",
      "(13, 33)  flow =  0\n",
      "(18, 38)  flow =  18\n",
      "(37, 18)  flow =  0\n",
      "(38, 50)  flow =  18\n",
      "(40, 50)  flow =  10\n",
      "(33, 14)  flow =  0\n",
      "(14, 34)  flow =  7\n",
      "(31, 50)  flow =  5\n",
      "(1, 12)  flow =  0\n",
      "(1, 18)  flow =  18\n",
      "(36, 50)  flow =  14\n",
      "(1, 15)  flow =  11\n",
      "(1, 21)  flow =  7\n",
      "(38, 19)  flow =  0\n",
      "(19, 39)  flow =  15\n",
      "(39, 20)  flow =  0\n",
      "(42, 50)  flow =  0\n",
      "(15, 35)  flow =  11\n",
      "(33, 50)  flow =  0\n",
      "(34, 15)  flow =  0\n",
      "(35, 50)  flow =  11\n",
      "(20, 40)  flow =  10\n",
      "(39, 50)  flow =  15\n",
      "(1, 11)  flow =  0\n",
      "(1, 5)  flow =  5\n",
      "(1, 14)  flow =  7\n",
      "(1, 20)  flow =  10\n",
      "(35, 16)  flow =  0\n",
      "(1, 17)  flow =  16\n",
      "(11, 31)  flow =  5\n",
      "(37, 50)  flow =  16\n",
      "(31, 12)  flow =  0\n",
      "(40, 21)  flow =  0\n",
      "(45, 50)  flow =  0\n",
      "(41, 50)  flow =  7\n",
      "(16, 36)  flow =  14\n",
      "(32, 50)  flow =  0\n",
      "(5, 11)  flow =  5\n",
      "(36, 17)  flow =  0\n",
      "(12, 32)  flow =  0\n",
      "(21, 41)  flow =  7\n",
      "(32, 13)  flow =  0\n",
      "(22, 42)  flow =  0\n",
      "(1, 13)  flow =  0\n",
      "(17, 37)  flow =  16\n",
      "(1, 16)  flow =  14\n",
      "(41, 22)  flow =  0\n",
      "(34, 50)  flow =  7\n",
      "(1, 19)  flow =  15\n",
      "(1, 22)  flow =  0\n"
     ]
    }
   ],
   "source": [
    "Iterate(G5)"
   ]
  },
  {
   "cell_type": "code",
   "execution_count": 67,
   "metadata": {},
   "outputs": [
    {
     "name": "stdout",
     "output_type": "stream",
     "text": [
      "Incremental Network: {(13, 33), (5, 1), (36, 16), (11, 5), (33, 14), (1, 18), (18, 1), (50, 36), (1, 15), (19, 39), (39, 20), (42, 50), (37, 17), (20, 40), (1, 11), (1, 20), (50, 38), (38, 18), (1, 17), (11, 31), (40, 21), (39, 19), (34, 14), (19, 1), (36, 17), (21, 41), (1, 13), (50, 31), (50, 40), (1, 19), (21, 1), (31, 11), (42, 45), (40, 20), (14, 1), (18, 38), (37, 18), (41, 21), (14, 34), (31, 50), (1, 12), (16, 1), (1, 21), (50, 39), (38, 19), (20, 1), (50, 37), (50, 34), (15, 35), (33, 50), (34, 15), (15, 1), (50, 35), (1, 14), (35, 16), (35, 15), (50, 41), (31, 12), (16, 36), (17, 1), (32, 50), (12, 32), (32, 13), (22, 42), (17, 37), (1, 16), (41, 22), (45, 50), (1, 22)}\n",
      "Paths from source to sink:  {(1, 15, 35, 16, 36, 17, 37, 18, 38, 19, 39, 20, 40, 21, 41, 22, 42, 50), (1, 11, 31, 12, 32, 13, 33, 50), (1, 17, 37, 18, 38, 19, 39, 20, 40, 21, 41, 22, 42, 45, 50), (1, 16, 36, 17, 37, 18, 38, 19, 39, 20, 40, 21, 41, 22, 42, 45, 50), (1, 11, 31, 12, 32, 13, 33, 14, 34, 15, 35, 16, 36, 17, 37, 18, 38, 19, 39, 20, 40, 21, 41, 22, 42, 50), (1, 18, 38, 19, 39, 20, 40, 21, 41, 22, 42, 50), (1, 14, 34, 15, 35, 16, 36, 17, 37, 18, 38, 19, 39, 20, 40, 21, 41, 22, 42, 45, 50), (1, 21, 41, 22, 42, 50), (1, 14, 34, 15, 35, 16, 36, 17, 37, 18, 38, 19, 39, 20, 40, 21, 41, 22, 42, 50), (1, 20, 40, 21, 41, 22, 42, 50), (1, 11, 31, 50), (1, 15, 35, 16, 36, 17, 37, 18, 38, 19, 39, 20, 40, 21, 41, 22, 42, 45, 50), (1, 12, 32, 13, 33, 14, 34, 15, 35, 16, 36, 17, 37, 18, 38, 19, 39, 20, 40, 21, 41, 22, 42, 50), (1, 12, 32, 13, 33, 14, 34, 15, 35, 16, 36, 17, 37, 18, 38, 19, 39, 20, 40, 21, 41, 22, 42, 45, 50), (1, 22, 42, 50), (1, 19, 39, 20, 40, 21, 41, 22, 42, 50), (1, 12, 32, 13, 33, 50), (1, 18, 38, 19, 39, 20, 40, 21, 41, 22, 42, 45, 50), (1, 11, 31, 12, 32, 13, 33, 14, 34, 15, 35, 16, 36, 17, 37, 18, 38, 19, 39, 20, 40, 21, 41, 22, 42, 45, 50), (1, 16, 36, 17, 37, 18, 38, 19, 39, 20, 40, 21, 41, 22, 42, 50), (1, 13, 33, 50), (1, 22, 42, 45, 50), (1, 21, 41, 22, 42, 45, 50), (1, 13, 33, 14, 34, 15, 35, 16, 36, 17, 37, 18, 38, 19, 39, 20, 40, 21, 41, 22, 42, 45, 50), (1, 11, 31, 12, 32, 50), (1, 12, 32, 50), (1, 13, 33, 14, 34, 15, 35, 16, 36, 17, 37, 18, 38, 19, 39, 20, 40, 21, 41, 22, 42, 50), (1, 19, 39, 20, 40, 21, 41, 22, 42, 45, 50), (1, 17, 37, 18, 38, 19, 39, 20, 40, 21, 41, 22, 42, 50), (1, 20, 40, 21, 41, 22, 42, 45, 50)}\n",
      "A best path in Gp is  (1, 21, 41, 22, 42, 50)  of minimum cost  17\n",
      "The min capacity on this path is epsilon  6\n",
      "The min cost is  17\n",
      "(42, 45)  flow =  0\n",
      "(13, 33)  flow =  0\n",
      "(18, 38)  flow =  18\n",
      "(37, 18)  flow =  0\n",
      "(38, 50)  flow =  18\n",
      "(40, 50)  flow =  10\n",
      "(33, 14)  flow =  0\n",
      "(14, 34)  flow =  7\n",
      "(31, 50)  flow =  5\n",
      "(1, 12)  flow =  0\n",
      "(1, 18)  flow =  18\n",
      "(36, 50)  flow =  14\n",
      "(1, 15)  flow =  11\n",
      "(1, 21)  flow =  13\n",
      "(38, 19)  flow =  0\n",
      "(19, 39)  flow =  15\n",
      "(39, 20)  flow =  0\n",
      "(42, 50)  flow =  6\n",
      "(15, 35)  flow =  11\n",
      "(33, 50)  flow =  0\n",
      "(34, 15)  flow =  0\n",
      "(35, 50)  flow =  11\n",
      "(20, 40)  flow =  10\n",
      "(39, 50)  flow =  15\n",
      "(1, 11)  flow =  0\n",
      "(1, 5)  flow =  5\n",
      "(1, 14)  flow =  7\n",
      "(1, 20)  flow =  10\n",
      "(35, 16)  flow =  0\n",
      "(1, 17)  flow =  16\n",
      "(11, 31)  flow =  5\n",
      "(37, 50)  flow =  16\n",
      "(31, 12)  flow =  0\n",
      "(40, 21)  flow =  0\n",
      "(45, 50)  flow =  0\n",
      "(41, 50)  flow =  7\n",
      "(16, 36)  flow =  14\n",
      "(32, 50)  flow =  0\n",
      "(5, 11)  flow =  5\n",
      "(36, 17)  flow =  0\n",
      "(12, 32)  flow =  0\n",
      "(21, 41)  flow =  13\n",
      "(32, 13)  flow =  0\n",
      "(22, 42)  flow =  6\n",
      "(1, 13)  flow =  0\n",
      "(17, 37)  flow =  16\n",
      "(1, 16)  flow =  14\n",
      "(41, 22)  flow =  6\n",
      "(34, 50)  flow =  7\n",
      "(1, 19)  flow =  15\n",
      "(1, 22)  flow =  0\n"
     ]
    }
   ],
   "source": [
    "Iterate(G5)"
   ]
  },
  {
   "cell_type": "code",
   "execution_count": 68,
   "metadata": {},
   "outputs": [
    {
     "name": "stdout",
     "output_type": "stream",
     "text": [
      "Incremental Network: {(13, 33), (5, 1), (36, 16), (11, 5), (33, 14), (22, 41), (1, 18), (18, 1), (50, 36), (1, 15), (19, 39), (39, 20), (37, 17), (20, 40), (1, 11), (1, 20), (50, 38), (38, 18), (1, 17), (11, 31), (40, 21), (39, 19), (34, 14), (19, 1), (36, 17), (21, 41), (1, 13), (50, 31), (50, 40), (1, 19), (21, 1), (31, 11), (42, 45), (40, 20), (14, 1), (18, 38), (37, 18), (41, 21), (14, 34), (31, 50), (1, 12), (16, 1), (1, 21), (50, 42), (50, 39), (38, 19), (20, 1), (50, 37), (50, 34), (15, 35), (33, 50), (34, 15), (42, 22), (15, 1), (50, 35), (1, 14), (35, 16), (35, 15), (50, 41), (31, 12), (16, 36), (17, 1), (32, 50), (12, 32), (32, 13), (22, 42), (17, 37), (1, 16), (41, 22), (45, 50), (1, 22)}\n",
      "Paths from source to sink:  {(1, 11, 31, 12, 32, 13, 33, 50), (1, 17, 37, 18, 38, 19, 39, 20, 40, 21, 41, 22, 42, 45, 50), (1, 16, 36, 17, 37, 18, 38, 19, 39, 20, 40, 21, 41, 22, 42, 45, 50), (1, 14, 34, 15, 35, 16, 36, 17, 37, 18, 38, 19, 39, 20, 40, 21, 41, 22, 42, 45, 50), (1, 11, 31, 50), (1, 15, 35, 16, 36, 17, 37, 18, 38, 19, 39, 20, 40, 21, 41, 22, 42, 45, 50), (1, 12, 32, 13, 33, 14, 34, 15, 35, 16, 36, 17, 37, 18, 38, 19, 39, 20, 40, 21, 41, 22, 42, 45, 50), (1, 12, 32, 13, 33, 50), (1, 18, 38, 19, 39, 20, 40, 21, 41, 22, 42, 45, 50), (1, 11, 31, 12, 32, 13, 33, 14, 34, 15, 35, 16, 36, 17, 37, 18, 38, 19, 39, 20, 40, 21, 41, 22, 42, 45, 50), (1, 13, 33, 50), (1, 22, 42, 45, 50), (1, 21, 41, 22, 42, 45, 50), (1, 13, 33, 14, 34, 15, 35, 16, 36, 17, 37, 18, 38, 19, 39, 20, 40, 21, 41, 22, 42, 45, 50), (1, 11, 31, 12, 32, 50), (1, 12, 32, 50), (1, 19, 39, 20, 40, 21, 41, 22, 42, 45, 50), (1, 20, 40, 21, 41, 22, 42, 45, 50)}\n",
      "A best path in Gp is  (1, 21, 41, 22, 42, 45, 50)  of minimum cost  17\n",
      "The min capacity on this path is epsilon  5\n",
      "The min cost is  17\n",
      "(42, 45)  flow =  5\n",
      "(13, 33)  flow =  0\n",
      "(18, 38)  flow =  18\n",
      "(37, 18)  flow =  0\n",
      "(38, 50)  flow =  18\n",
      "(40, 50)  flow =  10\n",
      "(33, 14)  flow =  0\n",
      "(14, 34)  flow =  7\n",
      "(31, 50)  flow =  5\n",
      "(1, 12)  flow =  0\n",
      "(1, 18)  flow =  18\n",
      "(36, 50)  flow =  14\n",
      "(1, 15)  flow =  11\n",
      "(1, 21)  flow =  18\n",
      "(38, 19)  flow =  0\n",
      "(19, 39)  flow =  15\n",
      "(39, 20)  flow =  0\n",
      "(42, 50)  flow =  6\n",
      "(15, 35)  flow =  11\n",
      "(33, 50)  flow =  0\n",
      "(34, 15)  flow =  0\n",
      "(35, 50)  flow =  11\n",
      "(20, 40)  flow =  10\n",
      "(39, 50)  flow =  15\n",
      "(1, 11)  flow =  0\n",
      "(1, 5)  flow =  5\n",
      "(1, 14)  flow =  7\n",
      "(1, 20)  flow =  10\n",
      "(35, 16)  flow =  0\n",
      "(1, 17)  flow =  16\n",
      "(11, 31)  flow =  5\n",
      "(37, 50)  flow =  16\n",
      "(31, 12)  flow =  0\n",
      "(40, 21)  flow =  0\n",
      "(45, 50)  flow =  5\n",
      "(41, 50)  flow =  7\n",
      "(16, 36)  flow =  14\n",
      "(32, 50)  flow =  0\n",
      "(5, 11)  flow =  5\n",
      "(36, 17)  flow =  0\n",
      "(12, 32)  flow =  0\n",
      "(21, 41)  flow =  18\n",
      "(32, 13)  flow =  0\n",
      "(22, 42)  flow =  11\n",
      "(1, 13)  flow =  0\n",
      "(17, 37)  flow =  16\n",
      "(1, 16)  flow =  14\n",
      "(41, 22)  flow =  11\n",
      "(34, 50)  flow =  7\n",
      "(1, 19)  flow =  15\n",
      "(1, 22)  flow =  0\n"
     ]
    }
   ],
   "source": [
    "Iterate(G5)"
   ]
  },
  {
   "cell_type": "code",
   "execution_count": 69,
   "metadata": {},
   "outputs": [
    {
     "name": "stdout",
     "output_type": "stream",
     "text": [
      "Incremental Network: {(13, 33), (5, 1), (36, 16), (11, 5), (33, 14), (22, 41), (1, 18), (18, 1), (50, 36), (1, 15), (50, 45), (19, 39), (39, 20), (37, 17), (20, 40), (1, 11), (1, 20), (50, 38), (38, 18), (1, 17), (11, 31), (40, 21), (39, 19), (34, 14), (19, 1), (36, 17), (21, 41), (1, 13), (50, 31), (50, 40), (1, 19), (21, 1), (31, 11), (40, 20), (14, 1), (18, 38), (37, 18), (41, 21), (14, 34), (31, 50), (1, 12), (16, 1), (1, 21), (50, 42), (50, 39), (38, 19), (20, 1), (50, 37), (50, 34), (15, 35), (33, 50), (34, 15), (45, 42), (42, 22), (15, 1), (50, 35), (1, 14), (35, 16), (50, 41), (31, 12), (16, 36), (17, 1), (32, 50), (12, 32), (32, 13), (22, 42), (17, 37), (1, 16), (41, 22), (35, 15), (1, 22)}\n",
      "Paths from source to sink:  {(1, 13, 33, 50), (1, 11, 31, 12, 32, 13, 33, 50), (1, 11, 31, 50), (1, 11, 31, 12, 32, 50), (1, 12, 32, 13, 33, 50), (1, 12, 32, 50)}\n",
      "A best path in Gp is  (1, 12, 32, 50)  of minimum cost  18\n",
      "The min capacity on this path is epsilon  6\n",
      "The min cost is  18\n",
      "(42, 45)  flow =  5\n",
      "(13, 33)  flow =  0\n",
      "(18, 38)  flow =  18\n",
      "(37, 18)  flow =  0\n",
      "(38, 50)  flow =  18\n",
      "(40, 50)  flow =  10\n",
      "(33, 14)  flow =  0\n",
      "(14, 34)  flow =  7\n",
      "(31, 50)  flow =  5\n",
      "(1, 12)  flow =  6\n",
      "(1, 18)  flow =  18\n",
      "(36, 50)  flow =  14\n",
      "(1, 15)  flow =  11\n",
      "(1, 21)  flow =  18\n",
      "(38, 19)  flow =  0\n",
      "(19, 39)  flow =  15\n",
      "(39, 20)  flow =  0\n",
      "(42, 50)  flow =  6\n",
      "(15, 35)  flow =  11\n",
      "(33, 50)  flow =  0\n",
      "(34, 15)  flow =  0\n",
      "(35, 50)  flow =  11\n",
      "(20, 40)  flow =  10\n",
      "(39, 50)  flow =  15\n",
      "(1, 11)  flow =  0\n",
      "(1, 5)  flow =  5\n",
      "(1, 14)  flow =  7\n",
      "(1, 20)  flow =  10\n",
      "(35, 16)  flow =  0\n",
      "(1, 17)  flow =  16\n",
      "(11, 31)  flow =  5\n",
      "(37, 50)  flow =  16\n",
      "(31, 12)  flow =  0\n",
      "(40, 21)  flow =  0\n",
      "(45, 50)  flow =  5\n",
      "(41, 50)  flow =  7\n",
      "(16, 36)  flow =  14\n",
      "(32, 50)  flow =  6\n",
      "(5, 11)  flow =  5\n",
      "(36, 17)  flow =  0\n",
      "(12, 32)  flow =  6\n",
      "(21, 41)  flow =  18\n",
      "(32, 13)  flow =  0\n",
      "(22, 42)  flow =  11\n",
      "(1, 13)  flow =  0\n",
      "(17, 37)  flow =  16\n",
      "(1, 16)  flow =  14\n",
      "(41, 22)  flow =  11\n",
      "(34, 50)  flow =  7\n",
      "(1, 19)  flow =  15\n",
      "(1, 22)  flow =  0\n"
     ]
    }
   ],
   "source": [
    "Iterate(G5)"
   ]
  },
  {
   "cell_type": "code",
   "execution_count": 70,
   "metadata": {},
   "outputs": [
    {
     "name": "stdout",
     "output_type": "stream",
     "text": [
      "Incremental Network: {(12, 1), (13, 33), (1, 16), (5, 1), (36, 16), (11, 5), (33, 14), (32, 12), (22, 41), (1, 18), (18, 1), (50, 36), (1, 15), (50, 45), (19, 39), (39, 20), (37, 17), (20, 40), (1, 11), (50, 32), (1, 20), (50, 38), (38, 18), (1, 17), (11, 31), (40, 21), (39, 19), (34, 14), (19, 1), (36, 17), (21, 41), (1, 13), (50, 31), (50, 40), (1, 19), (21, 1), (31, 11), (40, 20), (14, 1), (18, 38), (37, 18), (41, 21), (14, 34), (31, 50), (1, 12), (16, 1), (1, 21), (50, 42), (50, 39), (38, 19), (20, 1), (50, 34), (15, 35), (33, 50), (34, 15), (45, 42), (42, 22), (15, 1), (50, 35), (1, 14), (35, 16), (50, 41), (31, 12), (16, 36), (17, 1), (12, 32), (32, 13), (22, 42), (17, 37), (50, 37), (41, 22), (35, 15), (1, 22)}\n",
      "Paths from source to sink:  {(1, 12, 32, 13, 33, 50), (1, 13, 33, 50), (1, 11, 31, 12, 32, 13, 33, 50), (1, 11, 31, 50)}\n",
      "A best path in Gp is  (1, 13, 33, 50)  of minimum cost  19\n",
      "The min capacity on this path is epsilon  6\n",
      "The min cost is  19\n",
      "(42, 45)  flow =  5\n",
      "(13, 33)  flow =  6\n",
      "(18, 38)  flow =  18\n",
      "(37, 18)  flow =  0\n",
      "(38, 50)  flow =  18\n",
      "(40, 50)  flow =  10\n",
      "(33, 14)  flow =  0\n",
      "(14, 34)  flow =  7\n",
      "(31, 50)  flow =  5\n",
      "(1, 12)  flow =  6\n",
      "(1, 18)  flow =  18\n",
      "(36, 50)  flow =  14\n",
      "(1, 15)  flow =  11\n",
      "(1, 21)  flow =  18\n",
      "(38, 19)  flow =  0\n",
      "(19, 39)  flow =  15\n",
      "(39, 20)  flow =  0\n",
      "(42, 50)  flow =  6\n",
      "(15, 35)  flow =  11\n",
      "(33, 50)  flow =  6\n",
      "(34, 15)  flow =  0\n",
      "(35, 50)  flow =  11\n",
      "(20, 40)  flow =  10\n",
      "(39, 50)  flow =  15\n",
      "(1, 11)  flow =  0\n",
      "(1, 5)  flow =  5\n",
      "(1, 14)  flow =  7\n",
      "(1, 20)  flow =  10\n",
      "(35, 16)  flow =  0\n",
      "(1, 17)  flow =  16\n",
      "(11, 31)  flow =  5\n",
      "(37, 50)  flow =  16\n",
      "(31, 12)  flow =  0\n",
      "(40, 21)  flow =  0\n",
      "(45, 50)  flow =  5\n",
      "(41, 50)  flow =  7\n",
      "(16, 36)  flow =  14\n",
      "(32, 50)  flow =  6\n",
      "(5, 11)  flow =  5\n",
      "(36, 17)  flow =  0\n",
      "(12, 32)  flow =  6\n",
      "(21, 41)  flow =  18\n",
      "(32, 13)  flow =  0\n",
      "(22, 42)  flow =  11\n",
      "(1, 13)  flow =  6\n",
      "(17, 37)  flow =  16\n",
      "(1, 16)  flow =  14\n",
      "(41, 22)  flow =  11\n",
      "(34, 50)  flow =  7\n",
      "(1, 19)  flow =  15\n",
      "(1, 22)  flow =  0\n"
     ]
    }
   ],
   "source": [
    "Iterate(G5)"
   ]
  },
  {
   "cell_type": "code",
   "execution_count": 71,
   "metadata": {},
   "outputs": [
    {
     "name": "stdout",
     "output_type": "stream",
     "text": [
      "Incremental Network: {(12, 1), (13, 33), (1, 16), (5, 1), (36, 16), (11, 5), (33, 14), (32, 12), (22, 41), (1, 18), (18, 1), (50, 36), (1, 15), (50, 45), (19, 39), (39, 20), (37, 17), (20, 40), (13, 1), (1, 11), (50, 32), (33, 13), (1, 20), (50, 38), (38, 18), (1, 17), (11, 31), (40, 21), (39, 19), (34, 14), (19, 1), (36, 17), (21, 41), (1, 13), (50, 31), (50, 40), (1, 19), (21, 1), (31, 11), (40, 20), (14, 1), (18, 38), (37, 18), (41, 21), (14, 34), (31, 50), (1, 12), (50, 33), (16, 1), (1, 21), (50, 42), (50, 39), (38, 19), (20, 1), (50, 34), (15, 35), (34, 15), (45, 42), (42, 22), (15, 1), (50, 35), (1, 14), (35, 16), (50, 41), (31, 12), (16, 36), (17, 1), (12, 32), (32, 13), (22, 42), (17, 37), (50, 37), (41, 22), (35, 15), (1, 22)}\n",
      "Paths from source to sink:  {(1, 11, 31, 50)}\n",
      "A best path in Gp is  (1, 11, 31, 50)  of minimum cost  19\n",
      "The min capacity on this path is epsilon  4\n",
      "The min cost is  19\n",
      "(42, 45)  flow =  5\n",
      "(13, 33)  flow =  6\n",
      "(18, 38)  flow =  18\n",
      "(37, 18)  flow =  0\n",
      "(38, 50)  flow =  18\n",
      "(40, 50)  flow =  10\n",
      "(33, 14)  flow =  0\n",
      "(14, 34)  flow =  7\n",
      "(31, 50)  flow =  9\n",
      "(1, 12)  flow =  6\n",
      "(1, 18)  flow =  18\n",
      "(36, 50)  flow =  14\n",
      "(1, 15)  flow =  11\n",
      "(1, 21)  flow =  18\n",
      "(38, 19)  flow =  0\n",
      "(19, 39)  flow =  15\n",
      "(39, 20)  flow =  0\n",
      "(42, 50)  flow =  6\n",
      "(15, 35)  flow =  11\n",
      "(33, 50)  flow =  6\n",
      "(34, 15)  flow =  0\n",
      "(35, 50)  flow =  11\n",
      "(20, 40)  flow =  10\n",
      "(39, 50)  flow =  15\n",
      "(1, 11)  flow =  4\n",
      "(1, 5)  flow =  5\n",
      "(1, 14)  flow =  7\n",
      "(1, 20)  flow =  10\n",
      "(35, 16)  flow =  0\n",
      "(1, 17)  flow =  16\n",
      "(11, 31)  flow =  9\n",
      "(37, 50)  flow =  16\n",
      "(31, 12)  flow =  0\n",
      "(40, 21)  flow =  0\n",
      "(45, 50)  flow =  5\n",
      "(41, 50)  flow =  7\n",
      "(16, 36)  flow =  14\n",
      "(32, 50)  flow =  6\n",
      "(5, 11)  flow =  5\n",
      "(36, 17)  flow =  0\n",
      "(12, 32)  flow =  6\n",
      "(21, 41)  flow =  18\n",
      "(32, 13)  flow =  0\n",
      "(22, 42)  flow =  11\n",
      "(1, 13)  flow =  6\n",
      "(17, 37)  flow =  16\n",
      "(1, 16)  flow =  14\n",
      "(41, 22)  flow =  11\n",
      "(34, 50)  flow =  7\n",
      "(1, 19)  flow =  15\n",
      "(1, 22)  flow =  0\n"
     ]
    }
   ],
   "source": [
    "Iterate(G5)"
   ]
  },
  {
   "cell_type": "code",
   "execution_count": 72,
   "metadata": {},
   "outputs": [
    {
     "name": "stdout",
     "output_type": "stream",
     "text": [
      "Incremental Network: {(12, 1), (13, 33), (1, 16), (5, 1), (36, 16), (11, 5), (33, 14), (32, 12), (22, 41), (1, 18), (18, 1), (50, 36), (1, 15), (50, 45), (19, 39), (39, 20), (37, 17), (20, 40), (13, 1), (1, 11), (50, 32), (33, 13), (1, 20), (50, 38), (38, 18), (1, 17), (11, 31), (40, 21), (39, 19), (34, 14), (19, 1), (36, 17), (21, 41), (1, 13), (50, 31), (50, 40), (1, 19), (21, 1), (31, 11), (40, 20), (14, 1), (18, 38), (37, 18), (41, 21), (14, 34), (16, 1), (1, 12), (50, 33), (1, 21), (50, 42), (50, 39), (38, 19), (20, 1), (50, 34), (15, 35), (34, 15), (11, 1), (45, 42), (42, 22), (15, 1), (50, 35), (1, 14), (35, 16), (50, 41), (31, 12), (16, 36), (17, 1), (12, 32), (32, 13), (22, 42), (17, 37), (50, 37), (41, 22), (35, 15), (1, 22)}\n",
      "Paths from source to sink:  set()\n",
      "Maximal flow found: 130  with minimal cost  1852\n",
      "(42, 45)  flow =  5\n",
      "(13, 33)  flow =  6\n",
      "(18, 38)  flow =  18\n",
      "(37, 18)  flow =  0\n",
      "(38, 50)  flow =  18\n",
      "(40, 50)  flow =  10\n",
      "(33, 14)  flow =  0\n",
      "(14, 34)  flow =  7\n",
      "(31, 50)  flow =  9\n",
      "(1, 12)  flow =  6\n",
      "(1, 18)  flow =  18\n",
      "(36, 50)  flow =  14\n",
      "(1, 15)  flow =  11\n",
      "(1, 21)  flow =  18\n",
      "(38, 19)  flow =  0\n",
      "(19, 39)  flow =  15\n",
      "(39, 20)  flow =  0\n",
      "(42, 50)  flow =  6\n",
      "(15, 35)  flow =  11\n",
      "(33, 50)  flow =  6\n",
      "(34, 15)  flow =  0\n",
      "(35, 50)  flow =  11\n",
      "(20, 40)  flow =  10\n",
      "(39, 50)  flow =  15\n",
      "(1, 11)  flow =  4\n",
      "(1, 5)  flow =  5\n",
      "(1, 14)  flow =  7\n",
      "(1, 20)  flow =  10\n",
      "(35, 16)  flow =  0\n",
      "(1, 17)  flow =  16\n",
      "(11, 31)  flow =  9\n",
      "(37, 50)  flow =  16\n",
      "(31, 12)  flow =  0\n",
      "(40, 21)  flow =  0\n",
      "(45, 50)  flow =  5\n",
      "(41, 50)  flow =  7\n",
      "(16, 36)  flow =  14\n",
      "(32, 50)  flow =  6\n",
      "(5, 11)  flow =  5\n",
      "(36, 17)  flow =  0\n",
      "(12, 32)  flow =  6\n",
      "(21, 41)  flow =  18\n",
      "(32, 13)  flow =  0\n",
      "(22, 42)  flow =  11\n",
      "(1, 13)  flow =  6\n",
      "(17, 37)  flow =  16\n",
      "(1, 16)  flow =  14\n",
      "(41, 22)  flow =  11\n",
      "(34, 50)  flow =  7\n",
      "(1, 19)  flow =  15\n",
      "(1, 22)  flow =  0\n"
     ]
    }
   ],
   "source": [
    "Iterate(G5)"
   ]
  },
  {
   "cell_type": "code",
   "execution_count": null,
   "metadata": {},
   "outputs": [],
   "source": []
  },
  {
   "cell_type": "code",
   "execution_count": null,
   "metadata": {},
   "outputs": [],
   "source": []
  }
 ],
 "metadata": {
  "kernelspec": {
   "display_name": "Python 3 (ipykernel)",
   "language": "python",
   "name": "python3"
  },
  "language_info": {
   "codemirror_mode": {
    "name": "ipython",
    "version": 3
   },
   "file_extension": ".py",
   "mimetype": "text/x-python",
   "name": "python",
   "nbconvert_exporter": "python",
   "pygments_lexer": "ipython3",
   "version": "3.8.12"
  }
 },
 "nbformat": 4,
 "nbformat_minor": 4
}

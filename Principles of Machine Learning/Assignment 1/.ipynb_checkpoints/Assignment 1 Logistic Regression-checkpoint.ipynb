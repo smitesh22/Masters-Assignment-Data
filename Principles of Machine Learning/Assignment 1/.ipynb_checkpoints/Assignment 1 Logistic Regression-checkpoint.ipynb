{
 "cells": [
  {
   "cell_type": "code",
   "execution_count": 1,
   "id": "c68ee9fd",
   "metadata": {},
   "outputs": [],
   "source": [
    "import pandas as pd\n",
    "\n",
    "train_data = pd.read_csv(\"plant-data/plant-train.csv\")\n",
    "test_data = pd.read_csv(\"plant-data/plant-test.csv\")"
   ]
  },
  {
   "cell_type": "code",
   "execution_count": 2,
   "id": "03036d20",
   "metadata": {},
   "outputs": [
    {
     "name": "stdout",
     "output_type": "stream",
     "text": [
      "setosa       40\n",
      "virginica    40\n",
      "Name: target/label, dtype: int64\n",
      "setosa       10\n",
      "virginica    10\n",
      "Name: target/label, dtype: int64\n"
     ]
    }
   ],
   "source": [
    "print(train_data[\"target/label\"].value_counts())\n",
    "print(test_data[\"target/label\"].value_counts())"
   ]
  },
  {
   "cell_type": "code",
   "execution_count": 3,
   "id": "956737eb",
   "metadata": {},
   "outputs": [],
   "source": [
    "from sklearn.utils import shuffle\n",
    "\n",
    "train_data = shuffle(train_data)\n",
    "test_data = shuffle(test_data)"
   ]
  },
  {
   "cell_type": "code",
   "execution_count": 4,
   "id": "e091967e",
   "metadata": {},
   "outputs": [],
   "source": [
    "X_train = train_data.loc[:, train_data.columns != 'target/label']\n",
    "Y_train = train_data.loc[:, train_data.columns == 'target/label']\n",
    "x_test = test_data.loc[:, test_data.columns != 'target/label']\n",
    "y_test = test_data.loc[:, test_data.columns == 'target/label']"
   ]
  },
  {
   "cell_type": "code",
   "execution_count": 5,
   "id": "6d02e257",
   "metadata": {},
   "outputs": [],
   "source": [
    "from sklearn.linear_model import LogisticRegression\n",
    "lr = LogisticRegression(random_state=1,solver='lbfgs', multi_class='auto')"
   ]
  },
  {
   "cell_type": "code",
   "execution_count": 6,
   "id": "70a2235e",
   "metadata": {},
   "outputs": [
    {
     "data": {
      "text/plain": [
       "LogisticRegression(random_state=1)"
      ]
     },
     "execution_count": 6,
     "metadata": {},
     "output_type": "execute_result"
    }
   ],
   "source": [
    "lr.fit(X_train, Y_train.values.ravel())"
   ]
  },
  {
   "cell_type": "code",
   "execution_count": 7,
   "id": "61d0b2f9",
   "metadata": {},
   "outputs": [],
   "source": [
    "y_pred = lr.predict(x_test)"
   ]
  },
  {
   "cell_type": "code",
   "execution_count": 8,
   "id": "4899997b",
   "metadata": {},
   "outputs": [],
   "source": [
    "from sklearn.metrics import accuracy_score, precision_recall_fscore_support"
   ]
  },
  {
   "cell_type": "code",
   "execution_count": 9,
   "id": "1d482449",
   "metadata": {},
   "outputs": [
    {
     "data": {
      "text/plain": [
       "1.0"
      ]
     },
     "execution_count": 9,
     "metadata": {},
     "output_type": "execute_result"
    }
   ],
   "source": [
    "accuracy_score(y_test, y_pred)"
   ]
  },
  {
   "cell_type": "code",
   "execution_count": 10,
   "id": "f604a48a",
   "metadata": {},
   "outputs": [
    {
     "data": {
      "text/plain": [
       "(array([1., 1.]),\n",
       " array([1., 1.]),\n",
       " array([1., 1.]),\n",
       " array([10, 10], dtype=int64))"
      ]
     },
     "execution_count": 10,
     "metadata": {},
     "output_type": "execute_result"
    }
   ],
   "source": [
    "precision_recall_fscore_support(y_test, y_pred)"
   ]
  },
  {
   "cell_type": "code",
   "execution_count": null,
   "id": "106eb21a",
   "metadata": {},
   "outputs": [],
   "source": []
  }
 ],
 "metadata": {
  "kernelspec": {
   "display_name": "Python 3",
   "language": "python",
   "name": "python3"
  },
  "language_info": {
   "codemirror_mode": {
    "name": "ipython",
    "version": 3
   },
   "file_extension": ".py",
   "mimetype": "text/x-python",
   "name": "python",
   "nbconvert_exporter": "python",
   "pygments_lexer": "ipython3",
   "version": "3.8.8"
  }
 },
 "nbformat": 4,
 "nbformat_minor": 5
}

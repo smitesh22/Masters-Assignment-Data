{
 "cells": [
  {
   "cell_type": "code",
   "execution_count": 1,
   "id": "440f29ed",
   "metadata": {},
   "outputs": [
    {
     "name": "stdout",
     "output_type": "stream",
     "text": [
      "[4.8   1.21  2.385]\n"
     ]
    }
   ],
   "source": [
    "import numpy as np\n",
    "\n",
    "inputs = [1, 2, 3, 2.5]\n",
    "\n",
    "weights = [[ 0.2, 0.8, - 0.5, 1 ],\n",
    "           [ 0.5, - 0.91, 0.26, - 0.5 ],\n",
    "           [ - 0.26, - 0.27, 0.17, 0.87 ]]\n",
    "\n",
    "biases = [2, 3, 0.5]\n",
    "\n",
    "outputs = np.dot(weights, inputs) + biases\n",
    "\n",
    "# Or Use this method \n",
    "# np.dot(inputs, weights.T) + biases\n",
    "\n",
    "print (outputs)"
   ]
  },
  {
   "cell_type": "code",
   "execution_count": 2,
   "id": "1742a140",
   "metadata": {},
   "outputs": [],
   "source": [
    "import numpy as np\n",
    "import matplotlib.pyplot as plt"
   ]
  },
  {
   "cell_type": "code",
   "execution_count": 3,
   "id": "3f485756",
   "metadata": {},
   "outputs": [],
   "source": [
    "a = np.array([0, 0, 1, 1])\n",
    "b = np.array([0, 1, 0, 1])\n",
    "\n",
    "# y_and = np.array([[0, 0, 0, 1]])\n",
    "y_xor = np.array([[0,1,1,0]])"
   ]
  },
  {
   "cell_type": "code",
   "execution_count": 4,
   "id": "1d71c389",
   "metadata": {},
   "outputs": [],
   "source": [
    "total_input = []\n",
    "\n",
    "total_input = [a, b]\n",
    "    \n",
    "total_input = np.array(total_input)"
   ]
  },
  {
   "cell_type": "code",
   "execution_count": 5,
   "id": "5db6572b",
   "metadata": {},
   "outputs": [],
   "source": [
    "# Define the sigmoid activation function:\n",
    "def sigmoid (x):\n",
    "    return 1/(1 + np.exp(-x))\n",
    "\n",
    "# Define the number of neurons\n",
    "input_neurons, hidden_neurons, output_neurons = 2, 2, 1\n",
    "\n",
    "# Total training examples\n",
    "samples = total_input.shape[1]\n",
    "\n",
    "# Learning rate\n",
    "lr = 0.1\n",
    "\n",
    "# Define random seed to replicate the outputs\n",
    "np.random.seed(42)"
   ]
  },
  {
   "cell_type": "code",
   "execution_count": 14,
   "id": "9346fb52",
   "metadata": {},
   "outputs": [],
   "source": [
    "# Initializing the weights for hidden and output layers\n",
    "\n",
    "w1 = np.random.rand(hidden_neurons, input_neurons)\n",
    "w2 = np.random.rand(output_neurons, hidden_neurons)"
   ]
  },
  {
   "cell_type": "code",
   "execution_count": 7,
   "id": "535e534a",
   "metadata": {},
   "outputs": [],
   "source": [
    "# Forward propagation\n",
    "def forward_prop(w1, w2, x):\n",
    "    z1 = np.dot(w1, x)\n",
    "    a1 = sigmoid(z1)    \n",
    "    z2 = np.dot(w2, a1) \n",
    "    a2 = sigmoid(z2)\n",
    "    return z1, a1, z2, a2\n",
    "\n",
    "# Backward propagation\n",
    "def back_prop(m, w1, w2, z1, a1, z2, a2, y):\n",
    "    \n",
    "    dz2 = a2-y\n",
    "    dw2 = np.dot(dz2, a1.T)/m\n",
    "    dz1 = np.dot(w2.T, dz2) * a1*(1-a1)\n",
    "    dw1 = np.dot(dz1, total_input.T)/m\n",
    "    dw1 = np.reshape(dw1, w1.shape)\n",
    "    \n",
    "    dw2 = np.reshape(dw2,w2.shape)    \n",
    "    return dz2,dw2,dz1,dw1"
   ]
  },
  {
   "cell_type": "code",
   "execution_count": 11,
   "id": "ca4d4cba",
   "metadata": {},
   "outputs": [
    {
     "data": {
      "text/plain": [
       "Text(0, 0.5, 'Loss value')"
      ]
     },
     "execution_count": 11,
     "metadata": {},
     "output_type": "execute_result"
    },
    {
     "data": {
      "image/png": "[encoded data removed]",
      "text/plain": [
       "<Figure size 432x288 with 1 Axes>"
      ]
     },
     "metadata": {
      "needs_background": "light"
     },
     "output_type": "display_data"
    }
   ],
   "source": [
    "losses = []\n",
    "iterations = 10000\n",
    "\n",
    "for i in range(iterations):\n",
    "    z1, a1, z2, a2 = forward_prop(w1, w2, total_input)\n",
    "    loss = -(1/samples)*np.sum(y_xor*np.log(a2)+(1-y_xor)*np.log(1-a2))\n",
    "    losses.append(loss)\n",
    "    da2, dw2, dz1, dw1 = back_prop(samples, w1, w2, z1, a1, z2, a2, y_xor)\n",
    "    w2 = w2-lr*dw2\n",
    "    w1 = w1-lr*dw1\n",
    "\n",
    "# We plot losses to see how our network is doing\n",
    "plt.plot(losses)\n",
    "plt.xlabel(\"EPOCHS\")\n",
    "plt.ylabel(\"Loss value\")"
   ]
  },
  {
   "cell_type": "code",
   "execution_count": 12,
   "id": "2dc2a2bc",
   "metadata": {},
   "outputs": [],
   "source": [
    "# Creating the predict function\n",
    "\n",
    "def predict(w1,w2,input):\n",
    "    z1, a1, z2, a2 = forward_prop(w1,w2,test)\n",
    "    a2 = np.squeeze(a2)\n",
    "    \n",
    "    if a2>=0.5:\n",
    "        print(\"For input\", [i[0] for i in input], a2, \"output is 1\")\n",
    "    else:\n",
    "        print(\"For input\", [i[0] for i in input], a2,\"output is 0\")"
   ]
  },
  {
   "cell_type": "code",
   "execution_count": 13,
   "id": "8bc381a2",
   "metadata": {},
   "outputs": [
    {
     "name": "stdout",
     "output_type": "stream",
     "text": [
      "For input [0, 0] 0.2137342790968918 output is 0\n",
      "For input [0, 1] 0.7323600580450425 output is 1\n",
      "For input [1, 0] 0.7324809803267608 output is 1\n",
      "For input [1, 1] 0.3824409434267071 output is 0\n"
     ]
    }
   ],
   "source": [
    "test = np.array([[0],[0]])\n",
    "predict(w1,w2,test)\n",
    "\n",
    "test = np.array([[0],[1]])\n",
    "predict(w1,w2,test)\n",
    "\n",
    "test = np.array([[1],[0]])\n",
    "predict(w1,w2,test)\n",
    "\n",
    "test = np.array([[1],[1]])\n",
    "predict(w1,w2,test)"
   ]
  },
  {
   "cell_type": "code",
   "execution_count": null,
   "id": "4e35714a",
   "metadata": {},
   "outputs": [],
   "source": []
  }
 ],
 "metadata": {
  "kernelspec": {
   "display_name": "Python 3",
   "language": "python",
   "name": "python3"
  },
  "language_info": {
   "codemirror_mode": {
    "name": "ipython",
    "version": 3
   },
   "file_extension": ".py",
   "mimetype": "text/x-python",
   "name": "python",
   "nbconvert_exporter": "python",
   "pygments_lexer": "ipython3",
   "version": "3.8.8"
  }
 },
 "nbformat": 4,
 "nbformat_minor": 5
}

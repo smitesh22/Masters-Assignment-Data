{
  "cells": [
    {
      "cell_type": "markdown",
      "metadata": {
        "id": "qdQYpFW3MKWX"
      },
      "source": [
        "# Exercise Sheet 5 Solutions – Parsing"
      ]
    },
    {
      "cell_type": "markdown",
      "metadata": {
        "id": "wqXq0AwXXXtV"
      },
      "source": [
        "# Learning Objectives\n",
        "\n",
        "In this lab we're going to learn:\n",
        "- to represent the structure of sentences using syntax trees;\n",
        "- to use NLTK CFG parser;\n",
        "- to use NLTK dependency parser;\n",
        "- the difference between constituency parsing and dependency parsing."
      ]
    },
    {
      "cell_type": "markdown",
      "metadata": {
        "id": "hsJkPI2ukrFn"
      },
      "source": [
        "### For Mac users\n",
        "To run the notebook locally, execute te following cell."
      ]
    },
    {
      "cell_type": "code",
      "execution_count": null,
      "metadata": {
        "id": "OwCfBu3xkrFp",
        "outputId": "6b1a8783-b984-41e2-e25f-95eea4b45816"
      },
      "outputs": [
        {
          "name": "stdout",
          "output_type": "stream",
          "text": [
            "Running `brew update --auto-update`...\n",
            "\u001b[33mWarning:\u001b[0m ghostscript 10.0.0 is already installed and up-to-date.\n",
            "To reinstall 10.0.0, run:\n",
            "  brew reinstall ghostscript\n"
          ]
        }
      ],
      "source": [
        "!brew install ghostscript"
      ]
    },
    {
      "cell_type": "markdown",
      "metadata": {
        "id": "tgBAw7EUkrFr"
      },
      "source": [
        "### For Linux users\n",
        "To run the notebook locally, execute te following cells."
      ]
    },
    {
      "cell_type": "code",
      "execution_count": null,
      "metadata": {
        "collapsed": true,
        "id": "l2_U3j0_uIHr",
        "outputId": "06996f34-8cdf-485a-8240-df2bf585dc87"
      },
      "outputs": [
        {
          "name": "stdout",
          "output_type": "stream",
          "text": [
            "The operation couldn’t be completed. Unable to locate a Java Runtime that supports apt.\n",
            "Please visit http://www.java.com for information on installing Java.\n",
            "\n",
            "zsh:1: command not found: apt-get\n"
          ]
        }
      ],
      "source": [
        "# CREATE VIRTUAL DISPLAY\n",
        "!apt install ghostscript python3-tk\n",
        "\n",
        "# Install X Virtual Frame Buffer\n",
        "!apt-get install -y xvfb "
      ]
    },
    {
      "cell_type": "code",
      "execution_count": null,
      "metadata": {
        "id": "pgBC1FruXlR1"
      },
      "outputs": [],
      "source": [
        "### CREATE VIRTUAL DISPLAY ###\n",
        "import os\n",
        "\n",
        "# create virtual display with size 1600x1200 and 16 bit color. Color can be changed to 24 or 8\n",
        "os.system('Xvfb :1 -screen 0 1600x1200x16  &')    \n",
        "os.environ['DISPLAY']=':1.0'"
      ]
    },
    {
      "cell_type": "markdown",
      "metadata": {
        "id": "hHVp_2VbkrFx"
      },
      "source": [
        "### For everyone"
      ]
    },
    {
      "cell_type": "code",
      "execution_count": 3,
      "metadata": {
        "colab": {
          "base_uri": "https://localhost:8080/"
        },
        "collapsed": true,
        "id": "rrpoTwaKFOQ-",
        "outputId": "39a1ee8e-bea1-49d3-a717-c34b7cf2a536"
      },
      "outputs": [
        {
          "output_type": "stream",
          "name": "stdout",
          "text": [
            "Looking in indexes: https://pypi.org/simple, https://us-python.pkg.dev/colab-wheels/public/simple/\n",
            "Collecting benepar\n",
            "  Downloading benepar-0.2.0.tar.gz (33 kB)\n",
            "Requirement already satisfied: nltk>=3.2 in /usr/local/lib/python3.7/dist-packages (from benepar) (3.7)\n",
            "Requirement already satisfied: spacy>=2.0.9 in /usr/local/lib/python3.7/dist-packages (from benepar) (3.4.1)\n",
            "Requirement already satisfied: torch>=1.6.0 in /usr/local/lib/python3.7/dist-packages (from benepar) (1.12.1+cu113)\n",
            "Collecting torch-struct>=0.5\n",
            "  Downloading torch_struct-0.5-py3-none-any.whl (34 kB)\n",
            "Collecting tokenizers>=0.9.4\n",
            "  Downloading tokenizers-0.13.1-cp37-cp37m-manylinux_2_17_x86_64.manylinux2014_x86_64.whl (7.6 MB)\n",
            "\u001b[K     |████████████████████████████████| 7.6 MB 7.0 MB/s \n",
            "\u001b[?25hCollecting transformers[tokenizers,torch]>=4.2.2\n",
            "  Downloading transformers-4.22.2-py3-none-any.whl (4.9 MB)\n",
            "\u001b[K     |████████████████████████████████| 4.9 MB 44.8 MB/s \n",
            "\u001b[?25hRequirement already satisfied: protobuf in /usr/local/lib/python3.7/dist-packages (from benepar) (3.17.3)\n",
            "Collecting sentencepiece>=0.1.91\n",
            "  Downloading sentencepiece-0.1.97-cp37-cp37m-manylinux_2_17_x86_64.manylinux2014_x86_64.whl (1.3 MB)\n",
            "\u001b[K     |████████████████████████████████| 1.3 MB 53.2 MB/s \n",
            "\u001b[?25hRequirement already satisfied: click in /usr/local/lib/python3.7/dist-packages (from nltk>=3.2->benepar) (7.1.2)\n",
            "Requirement already satisfied: regex>=2021.8.3 in /usr/local/lib/python3.7/dist-packages (from nltk>=3.2->benepar) (2022.6.2)\n",
            "Requirement already satisfied: joblib in /usr/local/lib/python3.7/dist-packages (from nltk>=3.2->benepar) (1.2.0)\n",
            "Requirement already satisfied: tqdm in /usr/local/lib/python3.7/dist-packages (from nltk>=3.2->benepar) (4.64.1)\n",
            "Requirement already satisfied: murmurhash<1.1.0,>=0.28.0 in /usr/local/lib/python3.7/dist-packages (from spacy>=2.0.9->benepar) (1.0.8)\n",
            "Requirement already satisfied: pathy>=0.3.5 in /usr/local/lib/python3.7/dist-packages (from spacy>=2.0.9->benepar) (0.6.2)\n",
            "Requirement already satisfied: wasabi<1.1.0,>=0.9.1 in /usr/local/lib/python3.7/dist-packages (from spacy>=2.0.9->benepar) (0.10.1)\n",
            "Requirement already satisfied: packaging>=20.0 in /usr/local/lib/python3.7/dist-packages (from spacy>=2.0.9->benepar) (21.3)\n",
            "Requirement already satisfied: thinc<8.2.0,>=8.1.0 in /usr/local/lib/python3.7/dist-packages (from spacy>=2.0.9->benepar) (8.1.2)\n",
            "Requirement already satisfied: requests<3.0.0,>=2.13.0 in /usr/local/lib/python3.7/dist-packages (from spacy>=2.0.9->benepar) (2.23.0)\n",
            "Requirement already satisfied: typer<0.5.0,>=0.3.0 in /usr/local/lib/python3.7/dist-packages (from spacy>=2.0.9->benepar) (0.4.2)\n",
            "Requirement already satisfied: cymem<2.1.0,>=2.0.2 in /usr/local/lib/python3.7/dist-packages (from spacy>=2.0.9->benepar) (2.0.6)\n",
            "Requirement already satisfied: srsly<3.0.0,>=2.4.3 in /usr/local/lib/python3.7/dist-packages (from spacy>=2.0.9->benepar) (2.4.4)\n",
            "Requirement already satisfied: pydantic!=1.8,!=1.8.1,<1.10.0,>=1.7.4 in /usr/local/lib/python3.7/dist-packages (from spacy>=2.0.9->benepar) (1.9.2)\n",
            "Requirement already satisfied: jinja2 in /usr/local/lib/python3.7/dist-packages (from spacy>=2.0.9->benepar) (2.11.3)\n",
            "Requirement already satisfied: setuptools in /usr/local/lib/python3.7/dist-packages (from spacy>=2.0.9->benepar) (57.4.0)\n",
            "Requirement already satisfied: spacy-legacy<3.1.0,>=3.0.9 in /usr/local/lib/python3.7/dist-packages (from spacy>=2.0.9->benepar) (3.0.10)\n",
            "Requirement already satisfied: spacy-loggers<2.0.0,>=1.0.0 in /usr/local/lib/python3.7/dist-packages (from spacy>=2.0.9->benepar) (1.0.3)\n",
            "Requirement already satisfied: langcodes<4.0.0,>=3.2.0 in /usr/local/lib/python3.7/dist-packages (from spacy>=2.0.9->benepar) (3.3.0)\n",
            "Requirement already satisfied: typing-extensions<4.2.0,>=3.7.4 in /usr/local/lib/python3.7/dist-packages (from spacy>=2.0.9->benepar) (4.1.1)\n",
            "Requirement already satisfied: numpy>=1.15.0 in /usr/local/lib/python3.7/dist-packages (from spacy>=2.0.9->benepar) (1.21.6)\n",
            "Requirement already satisfied: preshed<3.1.0,>=3.0.2 in /usr/local/lib/python3.7/dist-packages (from spacy>=2.0.9->benepar) (3.0.7)\n",
            "Requirement already satisfied: catalogue<2.1.0,>=2.0.6 in /usr/local/lib/python3.7/dist-packages (from spacy>=2.0.9->benepar) (2.0.8)\n",
            "Requirement already satisfied: zipp>=0.5 in /usr/local/lib/python3.7/dist-packages (from catalogue<2.1.0,>=2.0.6->spacy>=2.0.9->benepar) (3.8.1)\n",
            "Requirement already satisfied: pyparsing!=3.0.5,>=2.0.2 in /usr/local/lib/python3.7/dist-packages (from packaging>=20.0->spacy>=2.0.9->benepar) (3.0.9)\n",
            "Requirement already satisfied: smart-open<6.0.0,>=5.2.1 in /usr/local/lib/python3.7/dist-packages (from pathy>=0.3.5->spacy>=2.0.9->benepar) (5.2.1)\n",
            "Requirement already satisfied: urllib3!=1.25.0,!=1.25.1,<1.26,>=1.21.1 in /usr/local/lib/python3.7/dist-packages (from requests<3.0.0,>=2.13.0->spacy>=2.0.9->benepar) (1.24.3)\n",
            "Requirement already satisfied: idna<3,>=2.5 in /usr/local/lib/python3.7/dist-packages (from requests<3.0.0,>=2.13.0->spacy>=2.0.9->benepar) (2.10)\n",
            "Requirement already satisfied: chardet<4,>=3.0.2 in /usr/local/lib/python3.7/dist-packages (from requests<3.0.0,>=2.13.0->spacy>=2.0.9->benepar) (3.0.4)\n",
            "Requirement already satisfied: certifi>=2017.4.17 in /usr/local/lib/python3.7/dist-packages (from requests<3.0.0,>=2.13.0->spacy>=2.0.9->benepar) (2022.9.24)\n",
            "Requirement already satisfied: confection<1.0.0,>=0.0.1 in /usr/local/lib/python3.7/dist-packages (from thinc<8.2.0,>=8.1.0->spacy>=2.0.9->benepar) (0.0.2)\n",
            "Requirement already satisfied: blis<0.8.0,>=0.7.8 in /usr/local/lib/python3.7/dist-packages (from thinc<8.2.0,>=8.1.0->spacy>=2.0.9->benepar) (0.7.8)\n",
            "Requirement already satisfied: filelock in /usr/local/lib/python3.7/dist-packages (from transformers[tokenizers,torch]>=4.2.2->benepar) (3.8.0)\n",
            "Requirement already satisfied: importlib-metadata in /usr/local/lib/python3.7/dist-packages (from transformers[tokenizers,torch]>=4.2.2->benepar) (5.0.0)\n",
            "Requirement already satisfied: pyyaml>=5.1 in /usr/local/lib/python3.7/dist-packages (from transformers[tokenizers,torch]>=4.2.2->benepar) (6.0)\n",
            "Collecting huggingface-hub<1.0,>=0.9.0\n",
            "  Downloading huggingface_hub-0.10.0-py3-none-any.whl (163 kB)\n",
            "\u001b[K     |████████████████████████████████| 163 kB 65.5 MB/s \n",
            "\u001b[?25hCollecting tokenizers>=0.9.4\n",
            "  Downloading tokenizers-0.12.1-cp37-cp37m-manylinux_2_12_x86_64.manylinux2010_x86_64.whl (6.6 MB)\n",
            "\u001b[K     |████████████████████████████████| 6.6 MB 52.0 MB/s \n",
            "\u001b[?25hRequirement already satisfied: MarkupSafe>=0.23 in /usr/local/lib/python3.7/dist-packages (from jinja2->spacy>=2.0.9->benepar) (2.0.1)\n",
            "Requirement already satisfied: six>=1.9 in /usr/local/lib/python3.7/dist-packages (from protobuf->benepar) (1.15.0)\n",
            "Building wheels for collected packages: benepar\n",
            "  Building wheel for benepar (setup.py) ... \u001b[?25l\u001b[?25hdone\n",
            "  Created wheel for benepar: filename=benepar-0.2.0-py3-none-any.whl size=37647 sha256=e6956de03572a8d36ccdff6a31438e3c9035028a0a2d60218c46945761421152\n",
            "  Stored in directory: /root/.cache/pip/wheels/dc/6f/a3/4d27ce92766bdedd2cbbbedb8857fb7a53534331191cda4994\n",
            "Successfully built benepar\n",
            "Installing collected packages: tokenizers, huggingface-hub, transformers, torch-struct, sentencepiece, benepar\n",
            "Successfully installed benepar-0.2.0 huggingface-hub-0.10.0 sentencepiece-0.1.97 tokenizers-0.12.1 torch-struct-0.5 transformers-4.22.2\n",
            "Looking in indexes: https://pypi.org/simple, https://us-python.pkg.dev/colab-wheels/public/simple/\n",
            "Collecting svgling\n",
            "  Downloading svgling-0.3.1-py3-none-any.whl (21 kB)\n",
            "Collecting svgwrite\n",
            "  Downloading svgwrite-1.4.3-py3-none-any.whl (67 kB)\n",
            "\u001b[K     |████████████████████████████████| 67 kB 2.4 MB/s \n",
            "\u001b[?25hInstalling collected packages: svgwrite, svgling\n",
            "Successfully installed svgling-0.3.1 svgwrite-1.4.3\n"
          ]
        }
      ],
      "source": [
        "# Installing Berkeley Neural Parser\n",
        "!pip install benepar\n",
        "\n",
        "# Requirement to display trees\n",
        "!pip install svgling\n",
        "\n",
        "# Uncomment the next lines if you're running the code on your local machine\n",
        "\n",
        "# !pip install -U spacy\n",
        "# !python -m spacy download en_core_web_sm\n",
        "# !pip install tensorflow==1.15.0\n",
        "# !pip install -U transformers"
      ]
    },
    {
      "cell_type": "markdown",
      "metadata": {
        "id": "F2cZmweQXXtX"
      },
      "source": [
        "# Syntax Trees\n",
        "\n",
        "The structure of a sentence  can be represented with **syntax trees**, or **parse trees**. NLTK’s `tree` module implements the `Tree` class. It consists of a node value (typically a string label) and a Python iterable structure containing the node’s children. The iterable can be any Python iterable except for a string, but it is typically a list. The node’s children can be of any type, but they are typically leaf labels (i.e. strings) or `Tree` objects.\n"
      ]
    },
    {
      "cell_type": "code",
      "execution_count": 4,
      "metadata": {
        "id": "4_vNzTyDFMW6"
      },
      "outputs": [],
      "source": [
        "import nltk\n",
        "from nltk.tree import *\n",
        "from nltk.draw.tree import TreeView\n",
        "%matplotlib inline\n",
        "import IPython"
      ]
    },
    {
      "cell_type": "code",
      "execution_count": 5,
      "metadata": {
        "colab": {
          "base_uri": "https://localhost:8080/"
        },
        "id": "lZbQL0-607Yl",
        "outputId": "887dc424-eb68-4fd5-e88e-f3b5d9cbdbe5"
      },
      "outputs": [
        {
          "output_type": "stream",
          "name": "stderr",
          "text": [
            "[nltk_data] Downloading package benepar_en3 to /root/nltk_data...\n",
            "[nltk_data]   Unzipping models/benepar_en3.zip.\n"
          ]
        }
      ],
      "source": [
        "import benepar, spacy\n",
        "benepar.download('benepar_en3')\n",
        "\n",
        "nlp = spacy.load('en_core_web_sm')\n",
        "if spacy.__version__.startswith('2'):\n",
        "    nlp.add_pipe(benepar.BeneparComponent(\"benepar_en3\"))\n",
        "else:\n",
        "    nlp.add_pipe(\"benepar\", config={\"model\": \"benepar_en3\"})"
      ]
    },
    {
      "cell_type": "code",
      "source": [
        "t = Tree('S', [Tree('PRP',['We']), Tree('VBD', ['saw']),\n",
        "                Tree('NP', [Tree('DT',['the']), Tree('JJ',['yellow']), Tree('NN',['dog'])]) ])\n",
        "\n",
        "# Bracket notation\n",
        "print(t)\n",
        "\n",
        "# This does not work with Google Colab, but only locally\n",
        "# A picture of a tree will open in a separate window\n",
        "# print(t.draw())\n",
        "\n",
        "# Prints the label of the root tree\n",
        "print(t.label())\n",
        "\n",
        "# Prints the first subtree of the root tree\n",
        "print (list(i for i in t.subtrees())[1])"
      ],
      "metadata": {
        "id": "tW_YyqbUVduv",
        "colab": {
          "base_uri": "https://localhost:8080/"
        },
        "outputId": "a2c7af33-e911-4545-e96f-82ac8764cc7a"
      },
      "execution_count": null,
      "outputs": [
        {
          "output_type": "stream",
          "name": "stdout",
          "text": [
            "(S (PRP We) (VBD saw) (NP (DT the) (JJ yellow) (NN dog)))\n",
            "S\n",
            "(PRP We)\n"
          ]
        }
      ]
    },
    {
      "cell_type": "code",
      "metadata": {
        "colab": {
          "base_uri": "https://localhost:8080/",
          "height": 265
        },
        "id": "4ITUufI0MNZ_",
        "outputId": "6c72d342-85a4-47e7-cfc7-4ba26280dbde"
      },
      "source": [
        "# Another way to parse a sentence display the tree diagram\n",
        "from spacy import displacy\n",
        "\n",
        "def constituency_parse(text):\n",
        "    tree = Tree.fromstring(list(nlp(text).sents)[0]._.parse_string)\n",
        "    IPython.core.display.display(tree)\n",
        "\n",
        "constituency_parse(\"We saw the yellow dog\")"
      ],
      "execution_count": null,
      "outputs": [
        {
          "output_type": "stream",
          "name": "stderr",
          "text": [
            "/usr/local/lib/python3.7/dist-packages/torch/distributions/distribution.py:46: UserWarning: <class 'torch_struct.distributions.TreeCRF'> does not define `arg_constraints`. Please set `arg_constraints = {}` or initialize the distribution with `validate_args=False` to turn off validation.\n",
            "  'with `validate_args=False` to turn off validation.')\n"
          ]
        },
        {
          "output_type": "display_data",
          "data": {
            "image/png": "[encoded data removed]",
            "text/plain": [
              "Tree('S', [Tree('NP', [Tree('PRP', ['We'])]), Tree('VP', [Tree('VBD', ['saw']), Tree('NP', [Tree('DT', ['the']), Tree('JJ', ['yellow']), Tree('NN', ['dog'])])])])"
            ]
          },
          "metadata": {}
        }
      ]
    },
    {
      "cell_type": "markdown",
      "metadata": {
        "id": "3VyB7umyXXtd"
      },
      "source": [
        "### Exercise 1\n",
        "\n",
        "Draw syntax trees of the two sentences below using NLTK.\n",
        "\n",
        "1. \"The student loved his NLP assignment.\"\n",
        "\n",
        "2. \"The big yellow book.\"\n"
      ]
    },
    {
      "cell_type": "code",
      "execution_count": 6,
      "metadata": {
        "colab": {
          "base_uri": "https://localhost:8080/"
        },
        "id": "71efXrpTaq8L",
        "outputId": "f4e8e0dd-4c2f-4b16-bfff-38fa7372ed99",
        "scrolled": true
      },
      "outputs": [
        {
          "output_type": "stream",
          "name": "stdout",
          "text": [
            "(S\n",
            "  (NP (DT The) (NN student))\n",
            "  (VP (VBD loved) (NP (DT his) (JJ NLP) (NN assignment))))\n",
            "(NP (DT The) (NN student))\n"
          ]
        }
      ],
      "source": [
        "# YOUR CODE HERE\n",
        "\n",
        "# Sentence 1\n",
        "t = Tree('S', [Tree('NP', [Tree('DT',['The']),Tree('NN',['student'])]), Tree('VP', [Tree('VBD',['loved']), \n",
        "               Tree('NP', [Tree('DT',['his']),Tree('JJ',['NLP']),Tree('NN',['assignment'])])])])\n",
        "\n",
        "print(t)\n",
        "\n",
        "# This does not work with Google Colab, but only locally\n",
        "# print(t.draw())\n",
        "\n",
        "# prints the first subtree of the root tree\n",
        "print (list(i for i in t.subtrees())[1])\n"
      ]
    },
    {
      "cell_type": "code",
      "execution_count": null,
      "metadata": {
        "colab": {
          "base_uri": "https://localhost:8080/",
          "height": 274
        },
        "id": "sCm1uYi1q0x2",
        "outputId": "66463007-de3d-43eb-f3b0-191a0542f337"
      },
      "outputs": [
        {
          "name": "stderr",
          "output_type": "stream",
          "text": [
            "You're using a T5TokenizerFast tokenizer. Please note that with a fast tokenizer, using the `__call__` method is faster than using a method to encode the text followed by a call to the `pad` method to get a padded encoding.\n",
            "/Users/oksder/opt/anaconda3/lib/python3.7/site-packages/torch/distributions/distribution.py:46: UserWarning: <class 'torch_struct.distributions.TreeCRF'> does not define `arg_constraints`. Please set `arg_constraints = {}` or initialize the distribution with `validate_args=False` to turn off validation.\n",
            "  'with `validate_args=False` to turn off validation.')\n"
          ]
        },
        {
          "data": {
            "image/png": "[encoded data removed]",
            "text/plain": [
              "Tree('S', [Tree('NP', [Tree('DT', ['The']), Tree('NN', ['student'])]), Tree('VP', [Tree('VBD', ['loved']), Tree('NP', [Tree('PRP$', ['his']), Tree('NNP', ['NLP']), Tree('NN', ['assignment'])])])])"
            ]
          },
          "metadata": {},
          "output_type": "display_data"
        }
      ],
      "source": [
        "# Display the tree diagram for Sentence 1\n",
        "def constituency_parse(text):\n",
        "    tree = Tree.fromstring(list(nlp(text).sents)[0]._.parse_string)\n",
        "    IPython.core.display.display(tree)\n",
        "\n",
        "constituency_parse(\"The student loved his NLP assignment\")"
      ]
    },
    {
      "cell_type": "code",
      "execution_count": null,
      "metadata": {
        "colab": {
          "base_uri": "https://localhost:8080/"
        },
        "id": "P3P21BCVYJ2K",
        "outputId": "138d86d1-e0e0-43bf-9d81-7c7ac1a5ab8e"
      },
      "outputs": [
        {
          "name": "stdout",
          "output_type": "stream",
          "text": [
            "(NP (DT the) (JJ big) (JJ yellow) (NN book))\n"
          ]
        }
      ],
      "source": [
        "# Sentence 2\n",
        "\n",
        "t = Tree('NP', [Tree('DT',['the']),Tree('JJ',['big']),Tree('JJ',['yellow']),Tree('NN',['book'])])\n",
        "\n",
        "print(t)\n",
        "\n",
        "# This does not work with Google Colab, but only locally\n",
        "# print(t.draw())"
      ]
    },
    {
      "cell_type": "code",
      "execution_count": null,
      "metadata": {
        "colab": {
          "base_uri": "https://localhost:8080/",
          "height": 141
        },
        "id": "j5i4v2GVtJnl",
        "outputId": "3f9d14ca-debb-490c-c920-af3aae8f1380"
      },
      "outputs": [
        {
          "data": {
            "image/png": "[encoded data removed]",
            "text/plain": [
              "Tree('NP', [Tree('DT', ['The']), Tree('JJ', ['big']), Tree('JJ', ['yellow']), Tree('NN', ['book'])])"
            ]
          },
          "metadata": {},
          "output_type": "display_data"
        }
      ],
      "source": [
        "# Display the tree diagram for Sentence 2\n",
        "def constituency_parse(text):\n",
        "    tree = Tree.fromstring(list(nlp(text).sents)[0]._.parse_string)\n",
        "    IPython.core.display.display(tree)\n",
        "\n",
        "constituency_parse(\"The big yellow book\")"
      ]
    },
    {
      "cell_type": "markdown",
      "metadata": {
        "id": "5YMcc1KSXXtW"
      },
      "source": [
        "# Constituency vs Dependency Parsing\n",
        "\n",
        "**Syntactic parsing** is the task of analyzing the syntactic structure of a sentence. There are 2 major formalisms behind it in NLP:\n",
        "1. Constituency grammar / GFG\n",
        "2. Dependency grammar\n",
        "\n",
        "### Constituency grammar \n",
        "\n",
        "A **context-free grammar (CFG)** is concerned with how words and sequences of words combine to form **constituents**. Modelling a syntactic structure on context-free grammar is known as **constituency parsing**. For this, we use a set of terminal and non-terminal symbols together with production rules to represent the constituents of a given sentence as shown in *Figure 1*. However, constituency parsing cannot handle lexical dependencies. Possible solution to this is using **probabilistic context-free grammar (PCFG)** or **dependency grammar**.\n",
        "\n",
        "![CFG.png](https://i.pinimg.com/originals/a6/68/50/a668505fbc3f63178614d680289939d6.png)\n",
        "\n",
        "*Figure 1: A constituency syntax tree*\n",
        "\n",
        "#### Available tools\n",
        "\n",
        "- <a href=\"https://github.com/nikitakit/self-attentive-parser\">Berkeley Neural Parser</a>\n",
        "\n",
        "### Dependency Grammar\n",
        "\n",
        "**Dependency Grammar** is represented as a set of binary relations between words in a sentence. Each link has a label and forms an acyclic structure as shown in *Figure 2*.\n",
        "\n",
        "![dependency.png](https://www.nltk.org/images/depgraph0.png)\n",
        "\n",
        "*Figure 2: A dependency syntax tree*\n",
        "\n",
        "#### Available tools\n",
        "- <a href=\"http://nlp.stanford.edu:8080/parser/index.jsp\">Stanford Parser</a> <br>\n",
        "- <a href=\"http://www.cs.cmu.edu/~ark/TweetNLP/\">CMU Twitter Parser</a> \n",
        "- <a href=\"http://ufal.mff.cuni.cz/udpipe\">UDPipe</a>\n",
        "\n"
      ]
    },
    {
      "cell_type": "markdown",
      "metadata": {
        "id": "7MpFc_WmXXti"
      },
      "source": [
        "## Consituency Parsing (CFG parsing)"
      ]
    },
    {
      "cell_type": "markdown",
      "metadata": {
        "id": "Mipaw3EQbvnt"
      },
      "source": [
        "In this example, let us parse a sentence using CFG rules. In order to do that we will use recursive descent parser from NLTK. "
      ]
    },
    {
      "cell_type": "code",
      "execution_count": null,
      "metadata": {
        "colab": {
          "base_uri": "https://localhost:8080/"
        },
        "id": "TnQyZxeoeqCg",
        "outputId": "c4cbb790-9fd9-4d21-e669-98afda726457"
      },
      "outputs": [
        {
          "output_type": "stream",
          "name": "stdout",
          "text": [
            "(S (NP (N Mary)) (VP (V saw) (NP (Det a) (N dog))))\n"
          ]
        }
      ],
      "source": [
        "def CFG_parse(sentence):\n",
        "    #grammar with only one rule\n",
        "    grammar1 = nltk.CFG.fromstring(\"\"\"\n",
        "    S -> NP VP\n",
        "    VP -> V NP \n",
        "    V -> \"saw\" \n",
        "    NP -> N | Det N | \n",
        "    Det -> \"a\" \n",
        "    N -> \"dog\" | \"Mary\"\n",
        "    \"\"\")\n",
        "    rd_parser = nltk.RecursiveDescentParser(grammar1)\n",
        "    sent = sentence.split() # create a chunk parser using this grammar\n",
        "    for tree in rd_parser.parse(sent):\n",
        "        print (tree)\n",
        "        return tree\n",
        "\n",
        "cp = CFG_parse('Mary saw a dog')\n",
        "#print(cp)"
      ]
    },
    {
      "cell_type": "code",
      "execution_count": null,
      "metadata": {
        "colab": {
          "base_uri": "https://localhost:8080/",
          "height": 237
        },
        "id": "_tYDleBXvR6h",
        "outputId": "6e53af58-dd17-4fc9-ac9d-260ae892fda2"
      },
      "outputs": [
        {
          "data": {
            "image/png": "[encoded data removed]",
            "text/plain": [
              "Tree('S', [Tree('NP', [Tree('NNP', ['Mary'])]), Tree('VP', [Tree('VBD', ['saw']), Tree('NP', [Tree('DT', ['a']), Tree('NN', ['dog'])])])])"
            ]
          },
          "metadata": {},
          "output_type": "display_data"
        }
      ],
      "source": [
        "# Display the tree diagram\n",
        "def CFG_parse(text):\n",
        "    tree = Tree.fromstring(list(nlp(text).sents)[0]._.parse_string)\n",
        "    IPython.core.display.display(tree)\n",
        "\n",
        "CFG_parse(\"Mary saw a dog\")"
      ]
    },
    {
      "cell_type": "markdown",
      "metadata": {
        "id": "giqwi1SJXXtm"
      },
      "source": [
        "### Exercise 2\n",
        "Write a `CFG_parse(sentence)` function to parse the sentence \"He hit the man with a hat\". You may modify the CFG_parse function above.\n",
        "\n"
      ]
    },
    {
      "cell_type": "code",
      "execution_count": null,
      "metadata": {
        "colab": {
          "base_uri": "https://localhost:8080/"
        },
        "id": "PtnDVNavJC0P",
        "outputId": "27a3084f-2d4f-4477-e8b4-56f6fb206f40"
      },
      "outputs": [
        {
          "name": "stdout",
          "output_type": "stream",
          "text": [
            "(S\n",
            "  (NP (Pro He))\n",
            "  (VP\n",
            "    (V hit)\n",
            "    (NP (Det the) (N man) (PP (P with) (NP (Det a) (N hat))))))\n",
            "None\n"
          ]
        }
      ],
      "source": [
        "# YOUR CODE HERE\n",
        "\n",
        "def CFG_parse(sentence):\n",
        "    # Grammar with only one rule\n",
        "    grammar1 = nltk.CFG.fromstring(\"\"\"\n",
        "    S -> NP VP\n",
        "    VP -> V NP | V NP PP\n",
        "    NP -> Pro | Det N | Det N PP\n",
        "    PP -> P NP\n",
        "    V -> \"hit\"\n",
        "    Det -> \"a\" | \"the\"\n",
        "    N -> \"man\" | \"hat\"\n",
        "    Pro -> \"He\"\n",
        "    P -> \"with\"\n",
        "    \"\"\")\n",
        "    rd_parser = nltk.RecursiveDescentParser(grammar1)\n",
        "    sent = sentence.split() # create a chunk parser using this grammar\n",
        "    for tree in rd_parser.parse(sent):\n",
        "        print (tree)\n",
        "        return tree\n",
        "\n",
        "cp = CFG_parse('He hit the man with a hat') # already tokenised sentences\n",
        "# print(cp.draw())"
      ]
    },
    {
      "cell_type": "code",
      "execution_count": null,
      "metadata": {
        "colab": {
          "base_uri": "https://localhost:8080/",
          "height": 285
        },
        "id": "6jbitMtOxOZw",
        "outputId": "4ec1a58a-5152-4963-cf15-8365b298614b"
      },
      "outputs": [
        {
          "data": {
            "image/png": "[encoded data removed]",
            "text/plain": [
              "Tree('S', [Tree('NP', [Tree('PRP', ['He'])]), Tree('VP', [Tree('VBD', ['hit']), Tree('NP', [Tree('DT', ['the']), Tree('NN', ['man'])]), Tree('PP', [Tree('IN', ['with']), Tree('NP', [Tree('DT', ['a']), Tree('NN', ['hat'])])])])])"
            ]
          },
          "metadata": {},
          "output_type": "display_data"
        }
      ],
      "source": [
        "# Display the tree diagram\n",
        "def CFG_parse(text):\n",
        "    tree = Tree.fromstring(list(nlp(text).sents)[0]._.parse_string)\n",
        "    IPython.core.display.display(tree)\n",
        "\n",
        "CFG_parse(\"He hit the man with a hat\")"
      ]
    },
    {
      "cell_type": "markdown",
      "metadata": {
        "id": "Y4SUhDEGLA2A"
      },
      "source": [
        "## Dependency Parsing"
      ]
    },
    {
      "cell_type": "code",
      "execution_count": null,
      "metadata": {
        "colab": {
          "base_uri": "https://localhost:8080/"
        },
        "id": "C1UX6mY2LA2A",
        "outputId": "451c1867-029e-4c32-a563-a97235e9bb71"
      },
      "outputs": [
        {
          "name": "stdout",
          "output_type": "stream",
          "text": [
            "(shot I (elephant an (in (pajamas my))))\n"
          ]
        }
      ],
      "source": [
        "# Based on dependency grammar rules to detect linguistic phrases\n",
        "\n",
        "def dependency_parse(sentence):\n",
        "    groucho_dep_grammar = nltk.DependencyGrammar.fromstring(\"\"\"\n",
        "    'shot' -> 'I' | 'elephant' | 'in'\n",
        "    'elephant' -> 'an' | 'in'\n",
        "    'in' -> 'pajamas'\n",
        "    'pajamas' -> 'my'\n",
        "    \"\"\")\n",
        "    dp_parser = nltk.ProjectiveDependencyParser(groucho_dep_grammar)\n",
        "    sent = sentence.split() \n",
        "    trees = dp_parser.parse(sent)\n",
        "    for tree in trees:\n",
        "        print (tree)\n",
        "        return tree\n",
        "     \n",
        "\n",
        "dp = dependency_parse('I shot an elephant in my pajamas')\n",
        "#print(dp.draw())"
      ]
    },
    {
      "cell_type": "code",
      "execution_count": null,
      "metadata": {
        "colab": {
          "base_uri": "https://localhost:8080/",
          "height": 420
        },
        "id": "hYzrwTP2xcfF",
        "outputId": "439a0679-fb73-4aaa-d5fc-befef7e0c071"
      },
      "outputs": [
        {
          "name": "stderr",
          "output_type": "stream",
          "text": [
            "/Users/oksder/opt/anaconda3/lib/python3.7/site-packages/torch/distributions/distribution.py:46: UserWarning: <class 'torch_struct.distributions.TreeCRF'> does not define `arg_constraints`. Please set `arg_constraints = {}` or initialize the distribution with `validate_args=False` to turn off validation.\n",
            "  'with `validate_args=False` to turn off validation.')\n"
          ]
        },
        {
          "data": {
            "text/html": [
              "<span class=\"tex2jax_ignore\"><svg xmlns=\"http://www.w3.org/2000/svg\" xmlns:xlink=\"http://www.w3.org/1999/xlink\" xml:lang=\"en\" id=\"7a5e4f13cdbb421da0788d03085f99b5-0\" class=\"displacy\" width=\"1275\" height=\"399.5\" direction=\"ltr\" style=\"max-width: none; height: 399.5px; color: #000000; background: #ffffff; font-family: Arial; direction: ltr\">\n",
              "<text class=\"displacy-token\" fill=\"currentColor\" text-anchor=\"middle\" y=\"309.5\">\n",
              "    <tspan class=\"displacy-word\" fill=\"currentColor\" x=\"50\">I</tspan>\n",
              "    <tspan class=\"displacy-tag\" dy=\"2em\" fill=\"currentColor\" x=\"50\">PRON</tspan>\n",
              "</text>\n",
              "\n",
              "<text class=\"displacy-token\" fill=\"currentColor\" text-anchor=\"middle\" y=\"309.5\">\n",
              "    <tspan class=\"displacy-word\" fill=\"currentColor\" x=\"225\">shot</tspan>\n",
              "    <tspan class=\"displacy-tag\" dy=\"2em\" fill=\"currentColor\" x=\"225\">VERB</tspan>\n",
              "</text>\n",
              "\n",
              "<text class=\"displacy-token\" fill=\"currentColor\" text-anchor=\"middle\" y=\"309.5\">\n",
              "    <tspan class=\"displacy-word\" fill=\"currentColor\" x=\"400\">an</tspan>\n",
              "    <tspan class=\"displacy-tag\" dy=\"2em\" fill=\"currentColor\" x=\"400\">DET</tspan>\n",
              "</text>\n",
              "\n",
              "<text class=\"displacy-token\" fill=\"currentColor\" text-anchor=\"middle\" y=\"309.5\">\n",
              "    <tspan class=\"displacy-word\" fill=\"currentColor\" x=\"575\">elephant</tspan>\n",
              "    <tspan class=\"displacy-tag\" dy=\"2em\" fill=\"currentColor\" x=\"575\">NOUN</tspan>\n",
              "</text>\n",
              "\n",
              "<text class=\"displacy-token\" fill=\"currentColor\" text-anchor=\"middle\" y=\"309.5\">\n",
              "    <tspan class=\"displacy-word\" fill=\"currentColor\" x=\"750\">in</tspan>\n",
              "    <tspan class=\"displacy-tag\" dy=\"2em\" fill=\"currentColor\" x=\"750\">ADP</tspan>\n",
              "</text>\n",
              "\n",
              "<text class=\"displacy-token\" fill=\"currentColor\" text-anchor=\"middle\" y=\"309.5\">\n",
              "    <tspan class=\"displacy-word\" fill=\"currentColor\" x=\"925\">my</tspan>\n",
              "    <tspan class=\"displacy-tag\" dy=\"2em\" fill=\"currentColor\" x=\"925\">PRON</tspan>\n",
              "</text>\n",
              "\n",
              "<text class=\"displacy-token\" fill=\"currentColor\" text-anchor=\"middle\" y=\"309.5\">\n",
              "    <tspan class=\"displacy-word\" fill=\"currentColor\" x=\"1100\">pajamas</tspan>\n",
              "    <tspan class=\"displacy-tag\" dy=\"2em\" fill=\"currentColor\" x=\"1100\">NOUN</tspan>\n",
              "</text>\n",
              "\n",
              "<g class=\"displacy-arrow\">\n",
              "    <path class=\"displacy-arc\" id=\"arrow-7a5e4f13cdbb421da0788d03085f99b5-0-0\" stroke-width=\"2px\" d=\"M70,264.5 C70,177.0 215.0,177.0 215.0,264.5\" fill=\"none\" stroke=\"currentColor\"/>\n",
              "    <text dy=\"1.25em\" style=\"font-size: 0.8em; letter-spacing: 1px\">\n",
              "        <textPath xlink:href=\"#arrow-7a5e4f13cdbb421da0788d03085f99b5-0-0\" class=\"displacy-label\" startOffset=\"50%\" side=\"left\" fill=\"currentColor\" text-anchor=\"middle\">nsubj</textPath>\n",
              "    </text>\n",
              "    <path class=\"displacy-arrowhead\" d=\"M70,266.5 L62,254.5 78,254.5\" fill=\"currentColor\"/>\n",
              "</g>\n",
              "\n",
              "<g class=\"displacy-arrow\">\n",
              "    <path class=\"displacy-arc\" id=\"arrow-7a5e4f13cdbb421da0788d03085f99b5-0-1\" stroke-width=\"2px\" d=\"M420,264.5 C420,177.0 565.0,177.0 565.0,264.5\" fill=\"none\" stroke=\"currentColor\"/>\n",
              "    <text dy=\"1.25em\" style=\"font-size: 0.8em; letter-spacing: 1px\">\n",
              "        <textPath xlink:href=\"#arrow-7a5e4f13cdbb421da0788d03085f99b5-0-1\" class=\"displacy-label\" startOffset=\"50%\" side=\"left\" fill=\"currentColor\" text-anchor=\"middle\">det</textPath>\n",
              "    </text>\n",
              "    <path class=\"displacy-arrowhead\" d=\"M420,266.5 L412,254.5 428,254.5\" fill=\"currentColor\"/>\n",
              "</g>\n",
              "\n",
              "<g class=\"displacy-arrow\">\n",
              "    <path class=\"displacy-arc\" id=\"arrow-7a5e4f13cdbb421da0788d03085f99b5-0-2\" stroke-width=\"2px\" d=\"M245,264.5 C245,89.5 570.0,89.5 570.0,264.5\" fill=\"none\" stroke=\"currentColor\"/>\n",
              "    <text dy=\"1.25em\" style=\"font-size: 0.8em; letter-spacing: 1px\">\n",
              "        <textPath xlink:href=\"#arrow-7a5e4f13cdbb421da0788d03085f99b5-0-2\" class=\"displacy-label\" startOffset=\"50%\" side=\"left\" fill=\"currentColor\" text-anchor=\"middle\">dobj</textPath>\n",
              "    </text>\n",
              "    <path class=\"displacy-arrowhead\" d=\"M570.0,266.5 L578.0,254.5 562.0,254.5\" fill=\"currentColor\"/>\n",
              "</g>\n",
              "\n",
              "<g class=\"displacy-arrow\">\n",
              "    <path class=\"displacy-arc\" id=\"arrow-7a5e4f13cdbb421da0788d03085f99b5-0-3\" stroke-width=\"2px\" d=\"M245,264.5 C245,2.0 750.0,2.0 750.0,264.5\" fill=\"none\" stroke=\"currentColor\"/>\n",
              "    <text dy=\"1.25em\" style=\"font-size: 0.8em; letter-spacing: 1px\">\n",
              "        <textPath xlink:href=\"#arrow-7a5e4f13cdbb421da0788d03085f99b5-0-3\" class=\"displacy-label\" startOffset=\"50%\" side=\"left\" fill=\"currentColor\" text-anchor=\"middle\">prep</textPath>\n",
              "    </text>\n",
              "    <path class=\"displacy-arrowhead\" d=\"M750.0,266.5 L758.0,254.5 742.0,254.5\" fill=\"currentColor\"/>\n",
              "</g>\n",
              "\n",
              "<g class=\"displacy-arrow\">\n",
              "    <path class=\"displacy-arc\" id=\"arrow-7a5e4f13cdbb421da0788d03085f99b5-0-4\" stroke-width=\"2px\" d=\"M945,264.5 C945,177.0 1090.0,177.0 1090.0,264.5\" fill=\"none\" stroke=\"currentColor\"/>\n",
              "    <text dy=\"1.25em\" style=\"font-size: 0.8em; letter-spacing: 1px\">\n",
              "        <textPath xlink:href=\"#arrow-7a5e4f13cdbb421da0788d03085f99b5-0-4\" class=\"displacy-label\" startOffset=\"50%\" side=\"left\" fill=\"currentColor\" text-anchor=\"middle\">poss</textPath>\n",
              "    </text>\n",
              "    <path class=\"displacy-arrowhead\" d=\"M945,266.5 L937,254.5 953,254.5\" fill=\"currentColor\"/>\n",
              "</g>\n",
              "\n",
              "<g class=\"displacy-arrow\">\n",
              "    <path class=\"displacy-arc\" id=\"arrow-7a5e4f13cdbb421da0788d03085f99b5-0-5\" stroke-width=\"2px\" d=\"M770,264.5 C770,89.5 1095.0,89.5 1095.0,264.5\" fill=\"none\" stroke=\"currentColor\"/>\n",
              "    <text dy=\"1.25em\" style=\"font-size: 0.8em; letter-spacing: 1px\">\n",
              "        <textPath xlink:href=\"#arrow-7a5e4f13cdbb421da0788d03085f99b5-0-5\" class=\"displacy-label\" startOffset=\"50%\" side=\"left\" fill=\"currentColor\" text-anchor=\"middle\">pobj</textPath>\n",
              "    </text>\n",
              "    <path class=\"displacy-arrowhead\" d=\"M1095.0,266.5 L1103.0,254.5 1087.0,254.5\" fill=\"currentColor\"/>\n",
              "</g>\n",
              "</svg></span>"
            ],
            "text/plain": [
              "<IPython.core.display.HTML object>"
            ]
          },
          "metadata": {},
          "output_type": "display_data"
        }
      ],
      "source": [
        "def dependency_parse(text):\n",
        "    displacy.render(nlp(text),jupyter=True)\n",
        "\n",
        "dependency_parse(\"I shot an elephant in my pajamas\")"
      ]
    },
    {
      "cell_type": "markdown",
      "metadata": {
        "id": "8K5NNa0JLA2E"
      },
      "source": [
        "### Exercise 3\n",
        "Write a `dependency_parse(sentence)` function to parse the sentence \"He hit the man with a hat\". You may modify the dependency_parse function above."
      ]
    },
    {
      "cell_type": "code",
      "execution_count": null,
      "metadata": {
        "colab": {
          "base_uri": "https://localhost:8080/"
        },
        "id": "xaDceD7Eg2wm",
        "outputId": "626db4ec-7657-46d8-bad0-10f4edc792fc"
      },
      "outputs": [
        {
          "name": "stdout",
          "output_type": "stream",
          "text": [
            "(hit He (man the (with (hat a))))\n"
          ]
        }
      ],
      "source": [
        "# YOUR CODE HERE\n",
        "\n",
        "def dependency_parse(sentence):\n",
        "    groucho_dep_grammar = nltk.DependencyGrammar.fromstring(\"\"\"\n",
        "    'hit' -> 'He' | 'man' | 'with'\n",
        "    'man' -> 'the' | 'with'\n",
        "    'with' -> 'hat'\n",
        "    'hat' -> 'a'\n",
        "    \"\"\")\n",
        "    dp_parser = nltk.ProjectiveDependencyParser(groucho_dep_grammar)\n",
        "    sent = sentence.split() # create a chunk parser using this grammar\n",
        "    trees = dp_parser.parse(sent)\n",
        "    for tree in trees:\n",
        "        print (tree)\n",
        "        #print(tree.draw())\n",
        "        return tree\n",
        "     \n",
        "\n",
        "dp = dependency_parse('He hit the man with a hat')\n",
        "# print(dp.draw())"
      ]
    },
    {
      "cell_type": "code",
      "execution_count": null,
      "metadata": {
        "colab": {
          "base_uri": "https://localhost:8080/",
          "height": 420
        },
        "id": "KEgwk8i1x7SB",
        "outputId": "8e355f5e-048b-47da-d751-ca29178b9c8a"
      },
      "outputs": [
        {
          "data": {
            "text/html": [
              "<span class=\"tex2jax_ignore\"><svg xmlns=\"http://www.w3.org/2000/svg\" xmlns:xlink=\"http://www.w3.org/1999/xlink\" xml:lang=\"en\" id=\"ba50fe5ebdf747adaa34c3f5aac3bd1f-0\" class=\"displacy\" width=\"1275\" height=\"399.5\" direction=\"ltr\" style=\"max-width: none; height: 399.5px; color: #000000; background: #ffffff; font-family: Arial; direction: ltr\">\n",
              "<text class=\"displacy-token\" fill=\"currentColor\" text-anchor=\"middle\" y=\"309.5\">\n",
              "    <tspan class=\"displacy-word\" fill=\"currentColor\" x=\"50\">He</tspan>\n",
              "    <tspan class=\"displacy-tag\" dy=\"2em\" fill=\"currentColor\" x=\"50\">PRON</tspan>\n",
              "</text>\n",
              "\n",
              "<text class=\"displacy-token\" fill=\"currentColor\" text-anchor=\"middle\" y=\"309.5\">\n",
              "    <tspan class=\"displacy-word\" fill=\"currentColor\" x=\"225\">hit</tspan>\n",
              "    <tspan class=\"displacy-tag\" dy=\"2em\" fill=\"currentColor\" x=\"225\">VERB</tspan>\n",
              "</text>\n",
              "\n",
              "<text class=\"displacy-token\" fill=\"currentColor\" text-anchor=\"middle\" y=\"309.5\">\n",
              "    <tspan class=\"displacy-word\" fill=\"currentColor\" x=\"400\">the</tspan>\n",
              "    <tspan class=\"displacy-tag\" dy=\"2em\" fill=\"currentColor\" x=\"400\">DET</tspan>\n",
              "</text>\n",
              "\n",
              "<text class=\"displacy-token\" fill=\"currentColor\" text-anchor=\"middle\" y=\"309.5\">\n",
              "    <tspan class=\"displacy-word\" fill=\"currentColor\" x=\"575\">man</tspan>\n",
              "    <tspan class=\"displacy-tag\" dy=\"2em\" fill=\"currentColor\" x=\"575\">NOUN</tspan>\n",
              "</text>\n",
              "\n",
              "<text class=\"displacy-token\" fill=\"currentColor\" text-anchor=\"middle\" y=\"309.5\">\n",
              "    <tspan class=\"displacy-word\" fill=\"currentColor\" x=\"750\">with</tspan>\n",
              "    <tspan class=\"displacy-tag\" dy=\"2em\" fill=\"currentColor\" x=\"750\">ADP</tspan>\n",
              "</text>\n",
              "\n",
              "<text class=\"displacy-token\" fill=\"currentColor\" text-anchor=\"middle\" y=\"309.5\">\n",
              "    <tspan class=\"displacy-word\" fill=\"currentColor\" x=\"925\">a</tspan>\n",
              "    <tspan class=\"displacy-tag\" dy=\"2em\" fill=\"currentColor\" x=\"925\">DET</tspan>\n",
              "</text>\n",
              "\n",
              "<text class=\"displacy-token\" fill=\"currentColor\" text-anchor=\"middle\" y=\"309.5\">\n",
              "    <tspan class=\"displacy-word\" fill=\"currentColor\" x=\"1100\">hat</tspan>\n",
              "    <tspan class=\"displacy-tag\" dy=\"2em\" fill=\"currentColor\" x=\"1100\">NOUN</tspan>\n",
              "</text>\n",
              "\n",
              "<g class=\"displacy-arrow\">\n",
              "    <path class=\"displacy-arc\" id=\"arrow-ba50fe5ebdf747adaa34c3f5aac3bd1f-0-0\" stroke-width=\"2px\" d=\"M70,264.5 C70,177.0 215.0,177.0 215.0,264.5\" fill=\"none\" stroke=\"currentColor\"/>\n",
              "    <text dy=\"1.25em\" style=\"font-size: 0.8em; letter-spacing: 1px\">\n",
              "        <textPath xlink:href=\"#arrow-ba50fe5ebdf747adaa34c3f5aac3bd1f-0-0\" class=\"displacy-label\" startOffset=\"50%\" side=\"left\" fill=\"currentColor\" text-anchor=\"middle\">nsubj</textPath>\n",
              "    </text>\n",
              "    <path class=\"displacy-arrowhead\" d=\"M70,266.5 L62,254.5 78,254.5\" fill=\"currentColor\"/>\n",
              "</g>\n",
              "\n",
              "<g class=\"displacy-arrow\">\n",
              "    <path class=\"displacy-arc\" id=\"arrow-ba50fe5ebdf747adaa34c3f5aac3bd1f-0-1\" stroke-width=\"2px\" d=\"M420,264.5 C420,177.0 565.0,177.0 565.0,264.5\" fill=\"none\" stroke=\"currentColor\"/>\n",
              "    <text dy=\"1.25em\" style=\"font-size: 0.8em; letter-spacing: 1px\">\n",
              "        <textPath xlink:href=\"#arrow-ba50fe5ebdf747adaa34c3f5aac3bd1f-0-1\" class=\"displacy-label\" startOffset=\"50%\" side=\"left\" fill=\"currentColor\" text-anchor=\"middle\">det</textPath>\n",
              "    </text>\n",
              "    <path class=\"displacy-arrowhead\" d=\"M420,266.5 L412,254.5 428,254.5\" fill=\"currentColor\"/>\n",
              "</g>\n",
              "\n",
              "<g class=\"displacy-arrow\">\n",
              "    <path class=\"displacy-arc\" id=\"arrow-ba50fe5ebdf747adaa34c3f5aac3bd1f-0-2\" stroke-width=\"2px\" d=\"M245,264.5 C245,89.5 570.0,89.5 570.0,264.5\" fill=\"none\" stroke=\"currentColor\"/>\n",
              "    <text dy=\"1.25em\" style=\"font-size: 0.8em; letter-spacing: 1px\">\n",
              "        <textPath xlink:href=\"#arrow-ba50fe5ebdf747adaa34c3f5aac3bd1f-0-2\" class=\"displacy-label\" startOffset=\"50%\" side=\"left\" fill=\"currentColor\" text-anchor=\"middle\">dobj</textPath>\n",
              "    </text>\n",
              "    <path class=\"displacy-arrowhead\" d=\"M570.0,266.5 L578.0,254.5 562.0,254.5\" fill=\"currentColor\"/>\n",
              "</g>\n",
              "\n",
              "<g class=\"displacy-arrow\">\n",
              "    <path class=\"displacy-arc\" id=\"arrow-ba50fe5ebdf747adaa34c3f5aac3bd1f-0-3\" stroke-width=\"2px\" d=\"M245,264.5 C245,2.0 750.0,2.0 750.0,264.5\" fill=\"none\" stroke=\"currentColor\"/>\n",
              "    <text dy=\"1.25em\" style=\"font-size: 0.8em; letter-spacing: 1px\">\n",
              "        <textPath xlink:href=\"#arrow-ba50fe5ebdf747adaa34c3f5aac3bd1f-0-3\" class=\"displacy-label\" startOffset=\"50%\" side=\"left\" fill=\"currentColor\" text-anchor=\"middle\">prep</textPath>\n",
              "    </text>\n",
              "    <path class=\"displacy-arrowhead\" d=\"M750.0,266.5 L758.0,254.5 742.0,254.5\" fill=\"currentColor\"/>\n",
              "</g>\n",
              "\n",
              "<g class=\"displacy-arrow\">\n",
              "    <path class=\"displacy-arc\" id=\"arrow-ba50fe5ebdf747adaa34c3f5aac3bd1f-0-4\" stroke-width=\"2px\" d=\"M945,264.5 C945,177.0 1090.0,177.0 1090.0,264.5\" fill=\"none\" stroke=\"currentColor\"/>\n",
              "    <text dy=\"1.25em\" style=\"font-size: 0.8em; letter-spacing: 1px\">\n",
              "        <textPath xlink:href=\"#arrow-ba50fe5ebdf747adaa34c3f5aac3bd1f-0-4\" class=\"displacy-label\" startOffset=\"50%\" side=\"left\" fill=\"currentColor\" text-anchor=\"middle\">det</textPath>\n",
              "    </text>\n",
              "    <path class=\"displacy-arrowhead\" d=\"M945,266.5 L937,254.5 953,254.5\" fill=\"currentColor\"/>\n",
              "</g>\n",
              "\n",
              "<g class=\"displacy-arrow\">\n",
              "    <path class=\"displacy-arc\" id=\"arrow-ba50fe5ebdf747adaa34c3f5aac3bd1f-0-5\" stroke-width=\"2px\" d=\"M770,264.5 C770,89.5 1095.0,89.5 1095.0,264.5\" fill=\"none\" stroke=\"currentColor\"/>\n",
              "    <text dy=\"1.25em\" style=\"font-size: 0.8em; letter-spacing: 1px\">\n",
              "        <textPath xlink:href=\"#arrow-ba50fe5ebdf747adaa34c3f5aac3bd1f-0-5\" class=\"displacy-label\" startOffset=\"50%\" side=\"left\" fill=\"currentColor\" text-anchor=\"middle\">pobj</textPath>\n",
              "    </text>\n",
              "    <path class=\"displacy-arrowhead\" d=\"M1095.0,266.5 L1103.0,254.5 1087.0,254.5\" fill=\"currentColor\"/>\n",
              "</g>\n",
              "</svg></span>"
            ],
            "text/plain": [
              "<IPython.core.display.HTML object>"
            ]
          },
          "metadata": {},
          "output_type": "display_data"
        }
      ],
      "source": [
        "def dependency_parse(text):\n",
        "    displacy.render(nlp(text),jupyter=True)\n",
        "\n",
        "dependency_parse(\"He hit the man with a hat\")"
      ]
    },
    {
      "cell_type": "markdown",
      "metadata": {
        "id": "iT-3eRbeMKXl"
      },
      "source": [
        "# Pen & Paper Exercises\n",
        "## Computing Probabilities"
      ]
    },
    {
      "cell_type": "markdown",
      "metadata": {
        "id": "H7ALGdEFr0h-"
      },
      "source": [
        "### Exercise 5\n",
        "\n",
        "Using given values, build a PCFG for the sentence *\\\"Astronomers saw stars with ears\\\"*. Provide at least 2 parse trees for the sentence and show which one has the highest probability.\n",
        "\n",
        "S  → NP VP 1.0 \n",
        "\n",
        "NP → NP PP 0.4\n",
        "\n",
        "NP → N 0.6\n",
        "\n",
        "PP → P NP 1.0\n",
        "\n",
        "N → Astronomers 0.2\n",
        "\n",
        "N → ears 0.25\n",
        "\n",
        "N → saw 0.1\n",
        "\n",
        "N → stars 0.25\n",
        "\n",
        "N → telescopes 0.2\n",
        "\n",
        "VP → V NP 0.7 \n",
        "\n",
        "VP → VP PP 0.3\n",
        "\n",
        "P → with 1.0 \n",
        "\n",
        "V → saw 1.0 \n",
        "\n",
        "\n"
      ]
    },
    {
      "cell_type": "markdown",
      "metadata": {
        "id": "r5z2_AlTYJ2Z"
      },
      "source": [
        "### Probability count for Tree 1\n",
        "\n",
        "S  → NP VP 1.0 \n",
        "\n",
        "NP  → N 0.6\n",
        "\n",
        "N → Astronomers 0.2\n",
        "\n",
        "VP → V NP 0.7 \n",
        "\n",
        "V → saw 1.0\n",
        "\n",
        "NP → NP PP 0.4\n",
        "\n",
        "NP → N 0.6\n",
        "\n",
        "N → stars 0.25\n",
        "\n",
        "PP → P NP 1.0\n",
        "\n",
        "P → with 1.0 \n",
        "\n",
        "NP → N 0.6\n",
        "\n",
        "N → ears 0.25\n",
        "\n",
        "![](https://drive.google.com/uc?export=view&id=1uv4nbpmta8UEcMPsTEfxVJnGhHwpKuB-)\n",
        "\n",
        "\n",
        "Probability = **0.000756**\n",
        "\n"
      ]
    },
    {
      "cell_type": "markdown",
      "metadata": {
        "id": "TZ9afbp0YJ2Z"
      },
      "source": [
        "### Probability count for Tree 2\n",
        "\n",
        "S → NP VP 1.0\n",
        "\n",
        "NP → N 0.6\n",
        "\n",
        "N → Astronomers 0.2\n",
        "\n",
        "VP → VP PP 0.3\n",
        "\n",
        "VP → V NP 0.7\n",
        "\n",
        "NP → N 0.6\n",
        "\n",
        "V → saw 1.0\n",
        "\n",
        "N → stars 0.25\n",
        "\n",
        "PP → P NP 1.0\n",
        "\n",
        "P → with 1.0\n",
        "\n",
        "NP → N 0.6\n",
        "\n",
        "N → ears 0.25\n",
        "\n",
        "![](https://drive.google.com/uc?export=view&id=1eyjm72HKGvhheT9sfctfZjMSTi4023Bx)\n",
        "\n",
        "**Probability = 0.000567**\n",
        "\n",
        "\n"
      ]
    },
    {
      "cell_type": "markdown",
      "source": [
        "#### NLTK solution"
      ],
      "metadata": {
        "id": "oYH08CklxxLb"
      }
    },
    {
      "cell_type": "code",
      "source": [
        "from nltk import PCFG\n",
        "\n",
        "pcfg1 = PCFG.fromstring(\"\"\"\n",
        "    S -> NP VP [1.0]\n",
        "    NP -> NP PP [0.4] | N [0.6]\n",
        "    PP -> P NP [1.0]\n",
        "    N -> 'Astronomers' [0.2] | 'ears' [0.25] | 'saw' [0.1] | 'stars' [0.25] | 'telescopes' [0.2]\n",
        "    VP -> V NP [0.7] | VP PP [0.3]\n",
        "    P -> 'with' [1.0]\n",
        "    V -> 'saw' [1.0] \n",
        "\"\"\")\n",
        "\n",
        "def pcfg_parse(sentence, grammar):\n",
        "    pcfg_parser = nltk.pchart.InsideChartParser(grammar)\n",
        "    sent = sentence.split() \n",
        "    for tree in pcfg_parser.parse(sent):\n",
        "        print(tree)\n",
        "        return tree\n",
        "\n",
        "pcfg_parse(\"Astronomers saw stars with ears\", pcfg1)"
      ],
      "metadata": {
        "colab": {
          "base_uri": "https://localhost:8080/",
          "height": 422
        },
        "id": "K3ZRelWVxvAi",
        "outputId": "b67085fe-53fe-461c-c7fe-6785768bacdb"
      },
      "execution_count": null,
      "outputs": [
        {
          "output_type": "stream",
          "name": "stdout",
          "text": [
            "(S\n",
            "  (NP (N Astronomers))\n",
            "  (VP\n",
            "    (V saw)\n",
            "    (NP (NP (N stars)) (PP (P with) (NP (N ears)))))) (p=0.000756)\n"
          ]
        },
        {
          "output_type": "execute_result",
          "data": {
            "text/plain": [
              "ProbabilisticTree('S', [ProbabilisticTree('NP', [ProbabilisticTree('N', ['Astronomers']) (p=0.2)]) (p=0.12), ProbabilisticTree('VP', [ProbabilisticTree('V', ['saw']) (p=1.0), ProbabilisticTree('NP', [ProbabilisticTree('NP', [ProbabilisticTree('N', ['stars']) (p=0.25)]) (p=0.15), ProbabilisticTree('PP', [ProbabilisticTree('P', ['with']) (p=1.0), ProbabilisticTree('NP', [ProbabilisticTree('N', ['ears']) (p=0.25)]) (p=0.15)]) (p=0.15)]) (p=0.009)]) (p=0.006299999999999999)]) (p=0.0007559999999999998)"
            ],
            "image/svg+xml": "<svg baseProfile=\"full\" height=\"312px\" preserveAspectRatio=\"xMidYMid meet\" style=\"font-family: times, serif; font-weight:normal; font-style: normal; font-size: 16px;\" version=\"1.1\" viewBox=\"0,0,296.0,312.0\" width=\"296px\" xmlns=\"http://www.w3.org/2000/svg\" xmlns:ev=\"http://www.w3.org/2001/xml-events\" xmlns:xlink=\"http://www.w3.org/1999/xlink\"><defs /><svg width=\"100%\" x=\"0\" y=\"0em\"><defs /><text text-anchor=\"middle\" x=\"50%\" y=\"1em\">S</text></svg><svg width=\"35.1351%\" x=\"0%\" y=\"3em\"><defs /><svg width=\"100%\" x=\"0\" y=\"0em\"><defs /><text text-anchor=\"middle\" x=\"50%\" y=\"1em\">NP</text></svg><svg width=\"100%\" x=\"0%\" y=\"3em\"><defs /><svg width=\"100%\" x=\"0\" y=\"0em\"><defs /><text text-anchor=\"middle\" x=\"50%\" y=\"1em\">N</text></svg><svg width=\"100%\" x=\"0%\" y=\"3em\"><defs /><svg width=\"100%\" x=\"0\" y=\"0em\"><defs /><text text-anchor=\"middle\" x=\"50%\" y=\"1em\">Astronomers</text></svg></svg><line stroke=\"black\" x1=\"50%\" x2=\"50%\" y1=\"1.2em\" y2=\"3em\" /></svg><line stroke=\"black\" x1=\"50%\" x2=\"50%\" y1=\"1.2em\" y2=\"3em\" /></svg><line stroke=\"black\" x1=\"50%\" x2=\"17.5676%\" y1=\"1.2em\" y2=\"3em\" /><svg width=\"64.8649%\" x=\"35.1351%\" y=\"3em\"><defs /><svg width=\"100%\" x=\"0\" y=\"0em\"><defs /><text text-anchor=\"middle\" x=\"50%\" y=\"1em\">VP</text></svg><svg width=\"20.8333%\" x=\"0%\" y=\"3em\"><defs /><svg width=\"100%\" x=\"0\" y=\"0em\"><defs /><text text-anchor=\"middle\" x=\"50%\" y=\"1em\">V</text></svg><svg width=\"100%\" x=\"0%\" y=\"3em\"><defs /><svg width=\"100%\" x=\"0\" y=\"0em\"><defs /><text text-anchor=\"middle\" x=\"50%\" y=\"1em\">saw</text></svg></svg><line stroke=\"black\" x1=\"50%\" x2=\"50%\" y1=\"1.2em\" y2=\"3em\" /></svg><line stroke=\"black\" x1=\"50%\" x2=\"10.4167%\" y1=\"1.2em\" y2=\"3em\" /><svg width=\"79.1667%\" x=\"20.8333%\" y=\"3em\"><defs /><svg width=\"100%\" x=\"0\" y=\"0em\"><defs /><text text-anchor=\"middle\" x=\"50%\" y=\"1em\">NP</text></svg><svg width=\"36.8421%\" x=\"0%\" y=\"3em\"><defs /><svg width=\"100%\" x=\"0\" y=\"0em\"><defs /><text text-anchor=\"middle\" x=\"50%\" y=\"1em\">NP</text></svg><svg width=\"100%\" x=\"0%\" y=\"3em\"><defs /><svg width=\"100%\" x=\"0\" y=\"0em\"><defs /><text text-anchor=\"middle\" x=\"50%\" y=\"1em\">N</text></svg><svg width=\"100%\" x=\"0%\" y=\"3em\"><defs /><svg width=\"100%\" x=\"0\" y=\"0em\"><defs /><text text-anchor=\"middle\" x=\"50%\" y=\"1em\">stars</text></svg></svg><line stroke=\"black\" x1=\"50%\" x2=\"50%\" y1=\"1.2em\" y2=\"3em\" /></svg><line stroke=\"black\" x1=\"50%\" x2=\"50%\" y1=\"1.2em\" y2=\"3em\" /></svg><line stroke=\"black\" x1=\"50%\" x2=\"18.4211%\" y1=\"1.2em\" y2=\"3em\" /><svg width=\"63.1579%\" x=\"36.8421%\" y=\"3em\"><defs /><svg width=\"100%\" x=\"0\" y=\"0em\"><defs /><text text-anchor=\"middle\" x=\"50%\" y=\"1em\">PP</text></svg><svg width=\"50%\" x=\"0%\" y=\"3em\"><defs /><svg width=\"100%\" x=\"0\" y=\"0em\"><defs /><text text-anchor=\"middle\" x=\"50%\" y=\"1em\">P</text></svg><svg width=\"100%\" x=\"0%\" y=\"3em\"><defs /><svg width=\"100%\" x=\"0\" y=\"0em\"><defs /><text text-anchor=\"middle\" x=\"50%\" y=\"1em\">with</text></svg></svg><line stroke=\"black\" x1=\"50%\" x2=\"50%\" y1=\"1.2em\" y2=\"3em\" /></svg><line stroke=\"black\" x1=\"50%\" x2=\"25%\" y1=\"1.2em\" y2=\"3em\" /><svg width=\"50%\" x=\"50%\" y=\"3em\"><defs /><svg width=\"100%\" x=\"0\" y=\"0em\"><defs /><text text-anchor=\"middle\" x=\"50%\" y=\"1em\">NP</text></svg><svg width=\"100%\" x=\"0%\" y=\"3em\"><defs /><svg width=\"100%\" x=\"0\" y=\"0em\"><defs /><text text-anchor=\"middle\" x=\"50%\" y=\"1em\">N</text></svg><svg width=\"100%\" x=\"0%\" y=\"3em\"><defs /><svg width=\"100%\" x=\"0\" y=\"0em\"><defs /><text text-anchor=\"middle\" x=\"50%\" y=\"1em\">ears</text></svg></svg><line stroke=\"black\" x1=\"50%\" x2=\"50%\" y1=\"1.2em\" y2=\"3em\" /></svg><line stroke=\"black\" x1=\"50%\" x2=\"50%\" y1=\"1.2em\" y2=\"3em\" /></svg><line stroke=\"black\" x1=\"50%\" x2=\"75%\" y1=\"1.2em\" y2=\"3em\" /></svg><line stroke=\"black\" x1=\"50%\" x2=\"68.4211%\" y1=\"1.2em\" y2=\"3em\" /></svg><line stroke=\"black\" x1=\"50%\" x2=\"60.4167%\" y1=\"1.2em\" y2=\"3em\" /></svg><line stroke=\"black\" x1=\"50%\" x2=\"67.5676%\" y1=\"1.2em\" y2=\"3em\" /></svg>"
          },
          "metadata": {},
          "execution_count": 32
        }
      ]
    },
    {
      "cell_type": "markdown",
      "source": [
        "### Exercise 5 \n",
        "\n",
        "Lets' now convert our grammar to **Chomsky Normal Form (CNF)**. A context free grammar (CFG) is in CNF if all production rules satisfy one of the following conditions:\n",
        "\n",
        "* A non-terminal generating a terminal (X  → w)\n",
        "* A non-terminal generating two non-terminals (X  → YZ)\n",
        "\n",
        "Rewrite the CFG provided in **Exercise** 4 and both trees you induced with it."
      ],
      "metadata": {
        "id": "2K-HvIz1b-3H"
      }
    },
    {
      "cell_type": "markdown",
      "source": [
        "### Rules\n",
        "\n",
        "**Original CFG**\n",
        "\n",
        "S → NP VP \n",
        "\n",
        "NP → NP PP | N \n",
        "\n",
        "PP → P NP\n",
        "\n",
        "N → Astronomers | ears | saw | stars | telescopes\n",
        "\n",
        "VP → V NP  | VP PP \n",
        "\n",
        "P → with\n",
        "\n",
        "V → saw\n",
        "\n",
        "**CNF**\n",
        "\n",
        "S → NP VP \n",
        "\n",
        "NP → NP PP | Astronomers | ears | saw | stars | telescopes \n",
        "\n",
        "PP → P NP\n",
        "\n",
        "VP → V NP  | VP PP \n",
        "\n",
        "P → with\n",
        "\n",
        "V → saw\n",
        "\n",
        "\n",
        "What we did is basically eliminating the production rule `NP → N`, because it contradicts CNF requirements, and removing the `N` non-terminal symbol from the list of non-terminals. Thus, all the terminals that were produced from the non-terminal `N` before have now \"moved up\" and are produced from the non-terminal `NP`.\n",
        "\n",
        "**Probabilities**\n",
        "\n",
        "|Rule    | Probability | Comment |\n",
        "|:----------- |:-----------:|:-----------|\n",
        "|S  → NP VP | 1.0 | |\n",
        "|NP → NP PP | 0.4 | |\n",
        "|NP → Astronomers |0.12 |= 0.6 x 0.2|\n",
        "|NP → ears| 0.15 |= 0.6 x 0.25|\n",
        "NP → saw | 0.06 |= 0.6 x 0.1|\n",
        "NP → stars | 0.15 |= 0.6 x 0.25|\n",
        "NP → telescopes | 0.12 | = 0.6 x 0.2|\n",
        "PP → P NP | 1.0 | |\n",
        "VP → V NP | 0.7  | |\n",
        "VP → VP PP | 0.3 | |\n",
        "P → with |1.0 | |\n",
        "V → saw | 1.0  | |"
      ],
      "metadata": {
        "id": "oPSUP-2CfOU3"
      }
    },
    {
      "cell_type": "markdown",
      "source": [
        "### Tree 1\n",
        "\n",
        "**Rules**\n",
        "\n",
        "S → NP VP\n",
        "\n",
        "NP → Astronomers\n",
        "\n",
        "VP → V NP\n",
        "\n",
        "V → saw \n",
        "\n",
        "NP → NP PP \n",
        "\n",
        "NP → stars \n",
        "\n",
        "PP → P NP \n",
        "\n",
        "P → with\n",
        "\n",
        "NP → ears\n",
        "\n",
        "**Probabilities**\n",
        "\n",
        "|Rule    | Probability | \n",
        "|:----------- |:-----------:|\n",
        "S  → NP VP | 1.0 | \n",
        "NP → Astronomers |0.12 |\n",
        "VP → V NP | 0.7  | \n",
        "V → saw | 1.0  | |\n",
        "NP → NP PP | 0.4 | \n",
        "NP → stars | 0.15 |\n",
        "PP → P NP | 1.0 | |\n",
        "P → with |1.0 |\n",
        "NP → ears| 0.15 |"
      ],
      "metadata": {
        "id": "twqHD8XMivjt"
      }
    },
    {
      "cell_type": "markdown",
      "source": [
        "### Tree 2\n",
        "\n",
        "**Rules** \n",
        "\n",
        "S → NP VP\n",
        "\n",
        "NP → Astronomers\n",
        "\n",
        "VP → VP PP\n",
        "\n",
        "VP → V NP\n",
        "\n",
        "V → saw \n",
        "\n",
        "NP → stars\n",
        "\n",
        "PP → P NP\n",
        "\n",
        "P → with\n",
        "\n",
        "NP → ears\n",
        "\n",
        "**Probabilities**\n",
        "\n",
        "|Rule    | Probability | \n",
        "|:----------- |:-----------:|\n",
        "S  → NP VP | 1.0 | \n",
        "NP → Astronomers |0.12 |\n",
        "VP → VP PP | 0.3 |\n",
        "VP → V NP | 0.7  | \n",
        "V → saw | 1.0  | |\n",
        "NP → stars | 0.15 |\n",
        "NP → NP PP | 0.4 | \n",
        "PP → P NP | 1.0 | |\n",
        "P → with |1.0 |\n",
        "NP → ears| 0.15 |\n"
      ],
      "metadata": {
        "id": "9llLBZ8LjpXh"
      }
    },
    {
      "cell_type": "markdown",
      "metadata": {
        "id": "IHIYwt1TMKXo"
      },
      "source": [
        "### Exercise 6\n",
        "\n",
        "Draw a CYK algorithm chart for the sentence *\\\"Astronomers saw stars with ears\\\"* using the PCFG in CNF you created above.\n",
        "\n",
        " ![](https://drive.google.com/uc?export=view&id=1S4j3FpL_K2cb4MRk3yvTYaWAxTqo3mVB)\n",
        "\n",
        " You can create an animated version [here](http://lxmls.it.pt/2015/cky.html) to see how the algorithm works."
      ]
    }
  ],
  "metadata": {
    "colab": {
      "collapsed_sections": [
        "qdQYpFW3MKWX"
      ],
      "provenance": []
    },
    "kernelspec": {
      "display_name": "Python 3",
      "language": "python",
      "name": "python3"
    },
    "language_info": {
      "codemirror_mode": {
        "name": "ipython",
        "version": 3
      },
      "file_extension": ".py",
      "mimetype": "text/x-python",
      "name": "python",
      "nbconvert_exporter": "python",
      "pygments_lexer": "ipython3",
      "version": "3.7.7"
    }
  },
  "nbformat": 4,
  "nbformat_minor": 0
}
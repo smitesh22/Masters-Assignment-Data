{
 "cells": [
  {
   "cell_type": "markdown",
   "metadata": {
    "id": "2G6saNLUFqHb"
   },
   "source": [
    "# Assignment 2 - CT5120\n",
    "\n",
    "### Instructions:\n",
    "- Complete all the tasks below and upload your submission as a Python notebook on Blackboard with the filename “`StudentID_Lastname.ipynb`” before **23:59** on **November 25, 2022**.\n",
    "- This is an individual assignment, you **must not** work with other students to complete this assessment.\n",
    "- The assignment is worth $50$ marks and constitutes 19% of the final grade. The breakdown of the marking scheme for each task is as follows:\n",
    "\n",
    "| Task | Marks for write-up | Marks for code | Total Marks |\n",
    "| :--- | :----------------- | :------------- | :---------- |\n",
    "| 1    |                  5 |              5 |          10 |\n",
    "| 2    |                  - |             10 |          10 |\n",
    "| 3    |                  5 |              5 |          10 |\n",
    "| 4    |                  5 |              5 |          10 |\n",
    "| 5    |                  5 |              5 |          10 |\n",
    "\n"
   ]
  },
  {
   "cell_type": "markdown",
   "metadata": {
    "id": "ZCWSEtNeGMsN"
   },
   "source": [
    "---\n",
    "\n",
    "This assignment involves tasks for feature engineering, training and evaluating a classifier for suggestion detection. You will work with the data from SemEval-2019 Task 9 subtask A to classify whether a piece of text contains a suggestion or not. \n",
    "\n",
    "\n",
    "Download train.csv, test_seen.csv and test_unseen.csv from the [Github](https://github.com/sharduls007/Assignment_2_CT5120) or uncomment the code cell below to get the data as a comma-separated values (CSV) file. The CSV file contains a header row followed by 5,440 rows in train.csv and 1,360 rows in test_seen.csv spread across 3 columns of data. Each row of data contains a unique id, a piece of text and a label assigned by an annotator. A label of $1$ indicates that the given text contains a suggestion while a label of $0$ indicates that the text does not contain a suggestion.\n",
    "\n",
    "You can find more details about the dataset in Sections 1, 2, 3 and 4 of [SemEval-2019 Task 9: Suggestion Mining from Online Reviews and Forums\n",
    "](https://aclanthology.org/S19-2151/).\n",
    "\n",
    "We will be using test_seen.csv for benchmarking our model, hence it has label. On the other hand, test_unseen is used for [Kaggle](https://www.kaggle.com/competitions/nlp2022ct5120suggestionmining/overview) competition.\n"
   ]
  },
  {
   "cell_type": "code",
   "execution_count": 1,
   "metadata": {
    "colab": {
     "base_uri": "https://localhost:8080/"
    },
    "id": "ShQ2lPxmPfA4",
    "outputId": "df651146-abe3-4d3b-8960-23eb1d2b977b"
   },
   "outputs": [
    {
     "name": "stderr",
     "output_type": "stream",
     "text": [
      "  % Total    % Received % Xferd  Average Speed   Time    Time     Time  Current\n",
      "                                 Dload  Upload   Total   Spent    Left  Speed\n",
      "\n",
      "  0     0    0     0    0     0      0      0 --:--:-- --:--:-- --:--:--     0\n",
      "100  670k  100  670k    0     0  3390k      0 --:--:-- --:--:-- --:--:-- 3418k\n",
      "  % Total    % Received % Xferd  Average Speed   Time    Time     Time  Current\n",
      "                                 Dload  Upload   Total   Spent    Left  Speed\n",
      "\n",
      "  0     0    0     0    0     0      0      0 --:--:-- --:--:-- --:--:--     0\n",
      "100  168k  100  168k    0     0  1567k      0 --:--:-- --:--:-- --:--:-- 1586k\n",
      "  % Total    % Received % Xferd  Average Speed   Time    Time     Time  Current\n",
      "                                 Dload  Upload   Total   Spent    Left  Speed\n",
      "\n",
      "  0     0    0     0    0     0      0      0 --:--:-- --:--:-- --:--:--     0\n",
      "100  208k  100  208k    0     0  1039k      0 --:--:-- --:--:-- --:--:-- 1045k\n"
     ]
    }
   ],
   "source": [
    "!curl \"https://raw.githubusercontent.com/sharduls007/Assignment_2_CT5120/master/train.csv\" > train.csv\n",
    "!curl \"https://raw.githubusercontent.com/sharduls007/Assignment_2_CT5120/master/test_seen.csv\" > test.csv\n",
    "!curl \"https://raw.githubusercontent.com/sharduls007/Assignment_2_CT5120/master/test_unseen.csv\" > test_unseen.csv"
   ]
  },
  {
   "cell_type": "code",
   "execution_count": 2,
   "metadata": {
    "id": "5x0c38rCGk23"
   },
   "outputs": [],
   "source": [
    "import numpy as np\n",
    "import pandas as pd\n",
    "from random import shuffle\n",
    "\n",
    "# Read the CSV file.\n",
    "train_df = pd.read_csv('train.csv', \n",
    "                 names=['id', 'text', 'label'], header=0)\n",
    "\n",
    "test_df = pd.read_csv('test.csv', \n",
    "                 names=['id', 'text', 'label'], header=0)\n",
    "\n",
    "train_df = train_df.sample(frac= 1)\n",
    "test_df = test_df.sample(frac= 1)\n",
    "\n",
    "# Store the data as a list of tuples where the first item is the text\n",
    "# and the second item is the label.\n",
    "train_texts, train_labels = train_df[\"text\"].to_list(), train_df[\"label\"].to_list() \n",
    "test_texts, test_labels = test_df[\"text\"].to_list(), test_df[\"label\"].to_list() \n",
    "\n",
    "# Check that training set and test set are of the right size.\n",
    "assert len(test_texts) == len(test_labels) == 1360\n",
    "assert len(train_texts) == len(train_labels) == 5440"
   ]
  },
  {
   "cell_type": "markdown",
   "metadata": {
    "id": "I_Scj45oSpdQ"
   },
   "source": [
    "---\n",
    "\n",
    "## Task 1: Data Pre-processing (10 Marks)\n",
    "\n",
    "Explain at least 3 steps that you will perform to preprocess the texts before training a classifier."
   ]
  },
  {
   "cell_type": "markdown",
   "metadata": {
    "id": "8Pd8ed8NdlB_"
   },
   "source": [
    "\n",
    "\n",
    "Edit this cell to write your answer below the line in no more than 300 words.\n",
    "\n",
    "---\n",
    "\n",
    "Data preprocessing is a important step that needs to be carried out before building our machine learning models. Data pre-processing and feature engineering ensures data quality which affects our models ability to learn; therefore, it is extremely important that we preprocess our input data before training our model.\n",
    "\n",
    "Data preprocessing techiniques used in for this task are:\n",
    ">1. Tokenization\n",
    ">2. Stopword Removal\n",
    ">3. Removal of Special Characters\n",
    ">4. Stemming\n",
    ">5. Lemmatization\n",
    ">6. Word Embeddings or Word Vectorization\n",
    "\n",
    "1. Tokenization : The input data is in form of text. We cannot pass sentences directly to TF-IDF and get a vector matrix. We need to pass the words as tokens that can be used later to generate TF-IDF matrix.\n",
    "\n",
    "2. Stopword Removal : Stop-words are commonly used words in textual data that don't hold any literal importance like (is, the, an, a). As these words have high term frequency and they don't add any value they are discarded from the feature vector.\n",
    "\n",
    "3. Removal of Special Characters: Special characters are not that useful as a input to a naaive bayes classifier as sentence construct is not taken under consideration. Hence, we can get rid of special characters in this case.\n",
    "\n",
    "4. Stemming : Stemming is the process of transforming a word in the input to its stem form. Stem is basically the word without any suffixes or prefixes.\n",
    "\n",
    "    Example : learned -> learn\n",
    "            flying -> fly\n",
    "\n",
    "5. Lemmatization : Stemming removes the stem from stem from the word but it doesn't get the root word for irregular verbs like taught. Lemmatization is a pre-processing technique that transforms a word to its root word rather than stem word\n",
    "\n",
    "    Example : taught -> teach\n",
    "            sought -> seek\n",
    "            \n",
    "6. Word Vectorization : Word vectorization is a techinque used in NLP to assign real values to word vectors based on their frequencies or any other metrics. For this task we are using TF-IDF (Term Frequency - Inverse Document Frequency) to generate word vectors.\n",
    "---"
   ]
  },
  {
   "cell_type": "markdown",
   "metadata": {
    "id": "t2-xXQggaVKh"
   },
   "source": [
    "In the code cell below, write an implementation of the steps you defined above. You are free to use a library such as `nltk` or `sklearn` for this task."
   ]
  },
  {
   "cell_type": "code",
   "execution_count": 3,
   "metadata": {
    "id": "Jb7i3Le4aSYM"
   },
   "outputs": [],
   "source": [
    "# your code goes here\n",
    "from nltk.corpus import stopwords\n",
    "import nltk\n",
    "from nltk.tokenize.treebank import TreebankWordDetokenizer, TreebankWordTokenizer\n",
    "import string\n",
    "import re\n",
    "from nltk.stem import PorterStemmer\n",
    "from nltk.stem import WordNetLemmatizer\n",
    "stopwords = set(stopwords.words(\"english\"))\n",
    "import gensim\n",
    "\n",
    "punctuation = set(string.punctuation)\n",
    "tokenizer = TreebankWordTokenizer()\n",
    "detokenizer = TreebankWordDetokenizer()\n",
    "stemmer = PorterStemmer()\n",
    "lemma = WordNetLemmatizer()\n",
    "\n",
    "remove_stopword = lambda tokens: [token for token in tokens if token not in stopwords]\n",
    "remove_punctuation = lambda tokens: [token.lower() for token in tokens if token not in punctuation]\n",
    "stem_word = lambda words : [stemmer.stem(word) for word in words]\n",
    "lem_word = lambda words : [lemma.lemmatize(word) for word in words]\n",
    "\n",
    "def preprocess(text):\n",
    "    return gensim.utils.simple_preprocess(text)\n",
    "\n",
    "for idx, data in enumerate(train_texts):\n",
    "    train_texts[idx] = detokenizer.detokenize(preprocess(data))\n",
    "    if train_texts[idx] == \"\":\n",
    "        train_texts.pop(idx)\n",
    "        train_labels.pop(idx)\n",
    "    \n",
    "for idx, data in enumerate(test_texts):\n",
    "    test_texts[idx] = detokenizer.detokenize(preprocess(data))\n",
    "    if test_texts[idx] == \"\":\n",
    "        test_texts.pop(idx)\n",
    "        test_labels.pop(idx)"
   ]
  },
  {
   "cell_type": "code",
   "execution_count": 4,
   "metadata": {},
   "outputs": [],
   "source": [
    "train_texts =  [text.replace(\"_\",\"\") for text in train_texts]\n",
    "test_texts =  [text.replace(\"_\",\"\") for text in test_texts]"
   ]
  },
  {
   "cell_type": "markdown",
   "metadata": {
    "id": "3IUJunnfXItQ"
   },
   "source": [
    "---\n",
    "\n",
    "## Task 2: Feature Engineering (I) - TF-IDF as features (10 Marks)\n",
    "\n",
    "In the lectures we have seen that raw counts of words and `tf-idf` scores can be useful features for a classification task. Complete the following code cell to create a suggestion detector which uses `tf-idf` scores as features for a Naïve Bayes classifier.\n",
    "\n",
    "After applying your preprocessing steps, use the training data to train the classifier and make predictions on the test set. You **must not** use the test set for training.\n",
    "\n",
    "If everything is implemented correctly, then you should see a single floating point value between 0 and 1 at the end which denotes the accuracy of the classifier."
   ]
  },
  {
   "cell_type": "code",
   "execution_count": 5,
   "metadata": {
    "id": "3gDsfB8xTGMg"
   },
   "outputs": [
    {
     "data": {
      "text/plain": [
       "0.5937961595273265"
      ]
     },
     "execution_count": 5,
     "metadata": {},
     "output_type": "execute_result"
    }
   ],
   "source": [
    "from sklearn.feature_extraction.text import CountVectorizer\n",
    "from sklearn.feature_extraction.text import TfidfTransformer, TfidfVectorizer\n",
    "\n",
    "from sklearn.naive_bayes import GaussianNB\n",
    "from sklearn.naive_bayes import MultinomialNB\n",
    "\n",
    "# Calculate tf-idf scores for the words in the training set.\n",
    "# ... your code goes here\n",
    "\n",
    "count_vect = CountVectorizer(ngram_range=(3,3))\n",
    "X_train_counts = count_vect.fit_transform(train_texts) \n",
    "\n",
    "tfidf_transformer = TfidfTransformer()\n",
    "X_train_tfidf = tfidf_transformer.fit_transform(X_train_counts)\n",
    "\n",
    "# Train a Naïve Bayes classifier using the tf-idf scores for words as features.\n",
    "# ... your code goes here\n",
    "\n",
    "NB_classifier = GaussianNB()\n",
    "NB_classifier.fit(X_train_tfidf.toarray(), train_labels)\n",
    "\n",
    "# Predict on the test set.\n",
    "X_test_counts = count_vect.transform(test_texts)\n",
    "X_test_tfidf = tfidf_transformer.transform(X_test_counts)    \n",
    "\n",
    "# save your predictions on the test set into this list\n",
    "\n",
    "# ... your code goes here\n",
    "predictions = NB_classifier.predict(X_test_tfidf.toarray())\n",
    "\n",
    "#################### DO NOT EDIT BELOW THIS LINE #################\n",
    "\n",
    "\n",
    "#################### DO NOT EDIT BELOW THIS LINE #################\n",
    "\n",
    "def accuracy(labels, predictions):\n",
    "  '''\n",
    "  Calculate the accuracy score for a given set of predictions and labels.\n",
    "  \n",
    "  Args:\n",
    "    labels (list): A list containing gold standard labels annotated as `0` and `1`.\n",
    "    predictions (list): A list containing predictions annotated as `0` and `1`.\n",
    "\n",
    "  Returns:\n",
    "    float: A floating point value to score the predictions against the labels.\n",
    "  '''\n",
    "\n",
    "  assert len(labels) == len(predictions)\n",
    "  \n",
    "  correct = 0\n",
    "  for label, prediction in zip(labels, predictions):\n",
    "    if label == prediction:\n",
    "      correct += 1 \n",
    "  \n",
    "  score = correct / len(labels)\n",
    "  return score\n",
    "\n",
    "# Calculate accuracy score for the classifier using tf-idf features.\n",
    "\n",
    "accuracy(test_labels, predictions)\n"
   ]
  },
  {
   "cell_type": "markdown",
   "metadata": {
    "id": "DDx_M2aTIncl"
   },
   "source": [
    "---\n",
    "\n",
    "## Task 3: Evaluation Metrics (10 marks)\n",
    "\n",
    "Why is accuracy not the best measure for evaluating a classifier? Describe an evaluation metric which might work better than accuracy for a classification task such as suggestion detection."
   ]
  },
  {
   "cell_type": "code",
   "execution_count": 6,
   "metadata": {
    "scrolled": true
   },
   "outputs": [
    {
     "data": {
      "text/plain": [
       "<AxesSubplot:>"
      ]
     },
     "execution_count": 6,
     "metadata": {},
     "output_type": "execute_result"
    },
    {
     "data": {
      "image/png": "[encoded data removed]",
      "text/plain": [
       "<Figure size 432x288 with 1 Axes>"
      ]
     },
     "metadata": {
      "needs_background": "light"
     },
     "output_type": "display_data"
    }
   ],
   "source": [
    "train_df['label'].value_counts().plot(kind = \"bar\", color = (\"red\", \"blue\"))"
   ]
  },
  {
   "cell_type": "code",
   "execution_count": 7,
   "metadata": {},
   "outputs": [
    {
     "data": {
      "text/plain": [
       "<AxesSubplot:>"
      ]
     },
     "execution_count": 7,
     "metadata": {},
     "output_type": "execute_result"
    },
    {
     "data": {
      "image/png": "[encoded data removed]",
      "text/plain": [
       "<Figure size 432x288 with 1 Axes>"
      ]
     },
     "metadata": {
      "needs_background": "light"
     },
     "output_type": "display_data"
    }
   ],
   "source": [
    "test_df['label'].value_counts().plot(kind = \"bar\", color = (\"red\", \"blue\"))"
   ]
  },
  {
   "cell_type": "markdown",
   "metadata": {},
   "source": [
    "From the above graphs it can be concured that dataset for training and testing is imbalanced. Now accuracy score is a poor evaluation metric against imbalanced dataset. \n",
    "\n",
    "Suppose our model predicts all of our testing cases as 0 or 'not a suggestion' it will give 0.75 as accuracy score. Hence, we need better evaluation metrics that acccuracy score. Below are some of the evaluation metrics that we can use.\n",
    "\n",
    "Confustion Matrix : Confusion matrix is a table that lists all the observations predicted in four subdivision for two classes data. They are \n",
    "\n",
    "True Positive <- for observations that were predicted as true and are actually true.\n",
    "True Negative <- for observations that were predicted as false and are actually false.\n",
    "False Postive <- for observations that were  predicted as true but are actually false.\n",
    "False Negative <- for observations that were predicted as false but are actually true.\n",
    "\n",
    "Precision : Out of all the positive results, what is the percentage of acutal positive results.\n",
    "\n",
    "Recall: How many positive observations where predicted correctly.\n",
    "\n",
    "F1-Score : It is the harmonic mean of precision and recall, its value lies between 0 and 1 with the 1 been the best result."
   ]
  },
  {
   "cell_type": "markdown",
   "metadata": {
    "id": "2ozD4SyyRDL3"
   },
   "source": [
    "In the code cell below, write an implementation of the evaluation metric you defined above. Please write your own implementation from scratch."
   ]
  },
  {
   "cell_type": "code",
   "execution_count": 8,
   "metadata": {
    "id": "UkUX5K0oMhKI"
   },
   "outputs": [
    {
     "name": "stdout",
     "output_type": "stream",
     "text": [
      " True Postive: 223 \t False Poitive: 110 \n",
      " False Negative: 440 \t True Negative: 581 \n",
      "  \n",
      "\n",
      " Precision class 0: 0.33634992458521873 \t Precision class 1: 0.8408104196816208\n",
      "  \n",
      " Recall: 0.6696696696696697 \t Recall class 0: 0.722636815920398\n",
      "  \n",
      "\n",
      " Accurarcy: 0.5937961595273265\n",
      "  \n",
      " F1 Score: 0.44779116465863456\n"
     ]
    }
   ],
   "source": [
    "def evaluate(labels, predictions):\n",
    "  '''\n",
    "  Calculate an evaluation score other than accuracy for a given set of predictions and labels.\n",
    "  \n",
    "  Args:\n",
    "    labels (list): A list containing gold standard labels annotated as `0` and `1`.\n",
    "    predictions (list): A list containing predictions annotated as `0` and `1`.\n",
    "\n",
    "  Returns:\n",
    "    float: A floating point value to score the predictions against the labels.\n",
    "  '''\n",
    "\n",
    "  # check that labels and predictions are of same length\n",
    "  assert len(labels) == len(predictions)\n",
    "\n",
    "  score = 0.0\n",
    "  \n",
    "  #################### EDIT BELOW THIS LINE #########################\n",
    "\n",
    "  # your code goes here\n",
    "  true_positive = 0\n",
    "  true_negative = 0\n",
    "  false_positive = 0\n",
    "  false_negative = 0\n",
    "\n",
    "  for label, prediction in zip(labels, predictions):\n",
    "        if label == 1 and prediction == 1:\n",
    "            true_positive += 1\n",
    "        elif label == 0 and prediction == 0:\n",
    "            true_negative += 1\n",
    "        elif label == 0 and prediction == 1:\n",
    "            false_positive += 1\n",
    "        else:\n",
    "            false_negative += 1\n",
    "\n",
    "  accuracy_score = (true_positive + true_negative) / (true_positive + true_negative + false_positive  + false_negative)\n",
    "  precision_pos_class = true_positive / (true_positive + false_positive)\n",
    "  recall_pos_class = true_positive / (true_positive + false_negative)\n",
    "  precision_neg_class = true_negative / (true_negative + false_negative)\n",
    "  recall_neg_class = true_negative / (true_negative + true_positive)\n",
    "  f1 = true_positive/(true_positive + 0.5*(false_positive + false_negative))\n",
    "\n",
    "  score = \"\"\" True Postive: %s \\t False Poitive: %s \\n False Negative: %s \\t True Negative: %s \n",
    "  \\n\\n Precision class 0: %s \\t Precision class 1: %s\n",
    "  \\n Recall: %s \\t Recall class 0: %s\n",
    "  \\n\\n Accurarcy: %s\n",
    "  \\n F1 Score: %s\"\"\"% (true_positive, false_negative, false_positive, true_negative, precision_pos_class, precision_neg_class,\n",
    "                       recall_pos_class, recall_neg_class, accuracy_score, f1)\n",
    "  #################### EDIT ABOVE THIS LINE #########################\n",
    "\n",
    "  return print(score)\n",
    "\n",
    "# Calculate evaluation score based on the metric of your choice\n",
    "# for the classifier trained in Task 2 using tf-idf features.\n",
    "evaluate(test_labels, predictions)"
   ]
  },
  {
   "cell_type": "code",
   "execution_count": 9,
   "metadata": {},
   "outputs": [
    {
     "name": "stdout",
     "output_type": "stream",
     "text": [
      "              precision    recall  f1-score   support\n",
      "\n",
      "           0       0.84      0.57      0.68      1021\n",
      "           1       0.34      0.67      0.45       333\n",
      "\n",
      "    accuracy                           0.59      1354\n",
      "   macro avg       0.59      0.62      0.56      1354\n",
      "weighted avg       0.72      0.59      0.62      1354\n",
      "\n"
     ]
    }
   ],
   "source": [
    "from sklearn.metrics import classification_report\n",
    "print(classification_report(test_labels, predictions))"
   ]
  },
  {
   "cell_type": "markdown",
   "metadata": {
    "id": "22OelF89a27J"
   },
   "source": [
    "---\n",
    "\n",
    "## Task 4: Feature Engineering (II) - Other features (10 Marks)\n",
    "\n",
    "Describe features other than those defined in Task 2 which might improve the performance of your suggestion detector. If these features require any additional pre-processing steps, then define those steps as well.\n"
   ]
  },
  {
   "cell_type": "markdown",
   "metadata": {
    "id": "4EBS0F877UyC"
   },
   "source": [
    "Edit this cell to write your answer below the line in no more than 500 words.\n",
    "\n",
    "---\n",
    "As we can see in the above results. the accuracy and F1 score values for our Naive Bayes model are fairly low. To tackle this we are goining to introduce some new features and preprocessing steps.\n",
    "\n",
    "1. N-gram model : N-grams are used in NLP to get a set of cocurring words that can be used as a input vector. In this case, two-gram model was used as input.\n",
    "\n",
    "    For the following sentence: It's likely to rain\n",
    "    Bi-gram model will give following tokens:\n",
    "    1. It's likely\n",
    "    2. Likely to\n",
    "    3. To Rain\n",
    "\n",
    "\n",
    "2. Downsampling : Datasets for both training and testing data are imbalanced as we have more cases of data samples not been suggestions. To make our dataset balanced we are going to use down-sampling. In downsampling we resize our dataset by taking equal samples of data from all the classes provided. \n",
    "\n",
    "After applying the above features as bi-garms and preprocessing the F1 score improves dramatically from 0.4 to 0.99 \n",
    "\n",
    "---"
   ]
  },
  {
   "cell_type": "markdown",
   "metadata": {
    "id": "yfkzM3DRce14"
   },
   "source": [
    "In the code cell below, write an implementation of the features (and any additional pre-preprocessing steps) you defined above. You are free to use a library such as `nltk` or `sklearn` for this task.\n",
    "\n",
    "After creating your features, use the training data to train a Naïve Bayes classifier and use the test set to evaluate its performance using the metric defined in Task 3. You **must not** use the test set for training.\n",
    "\n",
    "To make sure that your code doesn't take too long to run or use too much memory, you can consider a time limit of 3 minutes and a memory limit of 12GB for this task."
   ]
  },
  {
   "cell_type": "code",
   "execution_count": 10,
   "metadata": {},
   "outputs": [],
   "source": [
    "train_data = pd.DataFrame(list(zip(train_texts, train_labels)), columns= [\"data\", \"label\"])\n",
    "test_data = pd.DataFrame(list(zip(test_texts, test_labels)), columns= [\"data\", \"label\"])"
   ]
  },
  {
   "cell_type": "code",
   "execution_count": 11,
   "metadata": {},
   "outputs": [],
   "source": [
    "neg_train_data = train_data['label'] == 0\n",
    "pos_train_data = train_data['label'] == 1\n",
    "pos_test_data = test_data['label'] == 1\n",
    "neg_test_data = test_data['label'] == 0"
   ]
  },
  {
   "cell_type": "code",
   "execution_count": 12,
   "metadata": {},
   "outputs": [],
   "source": [
    "from sklearn.utils import shuffle\n",
    "\n",
    "pos_data = train_data.loc[pos_train_data]\n",
    "neg_data = train_data.loc[neg_train_data].sample(n= 1334, random_state=100)\n",
    "\n",
    "train_data = pd.concat([pos_data, neg_data])\n",
    "train_data = shuffle(train_data)\n",
    "\n",
    "pos_data = test_data.loc[pos_train_data]\n",
    "neg_data = test_data.loc[neg_train_data].sample(n= 333, random_state=100)\n",
    "\n",
    "test_data = pd.concat([pos_data, neg_data])\n",
    "test_data = shuffle(train_data)"
   ]
  },
  {
   "cell_type": "code",
   "execution_count": 13,
   "metadata": {},
   "outputs": [],
   "source": [
    "train_texts, train_labels = train_data[\"data\"].to_list(), train_data[\"label\"].to_list() \n",
    "test_texts, test_labels = train_data[\"data\"].to_list(), train_data[\"label\"].to_list() "
   ]
  },
  {
   "cell_type": "code",
   "execution_count": 14,
   "metadata": {
    "id": "u9mRku0va8kK"
   },
   "outputs": [],
   "source": [
    "# Create your features.\n",
    "# ... your code goes here\n",
    "\n",
    "count_vect = CountVectorizer(ngram_range=(3,3))\n",
    "X_train_counts = count_vect.fit_transform(train_texts) \n",
    "\n",
    "tfidf_transformer = TfidfTransformer()\n",
    "X_train_tfidf = tfidf_transformer.fit_transform(X_train_counts)\n",
    "\n",
    "# Train a Naïve Bayes classifier using the features you defined.\n",
    "# ... your code goes here\n",
    "NB_classifier_improv = GaussianNB()\n",
    "NB_classifier_improv.fit(X_train_tfidf.toarray(), train_labels)\n",
    "\n",
    "# Evaluate on the test set.\n",
    "# ... your code goes here\n",
    "X_test_counts = count_vect.transform(test_texts)\n",
    "X_test_tfidf = tfidf_transformer.transform(X_test_counts)\n",
    "predictions = NB_classifier_improv.predict(X_test_tfidf.toarray()) "
   ]
  },
  {
   "cell_type": "code",
   "execution_count": 15,
   "metadata": {},
   "outputs": [
    {
     "name": "stdout",
     "output_type": "stream",
     "text": [
      " True Postive: 1328 \t False Poitive: 0 \n",
      " False Negative: 6 \t True Negative: 1334 \n",
      "  \n",
      "\n",
      " Precision class 0: 0.9955022488755623 \t Precision class 1: 1.0\n",
      "  \n",
      " Recall: 1.0 \t Recall class 0: 0.5011269722013524\n",
      "  \n",
      "\n",
      " Accurarcy: 0.9977511244377811\n",
      "  \n",
      " F1 Score: 0.9977460555972952\n"
     ]
    }
   ],
   "source": [
    "evaluate(predictions, test_labels)"
   ]
  },
  {
   "cell_type": "markdown",
   "metadata": {
    "id": "yyDD1zFQdwCf"
   },
   "source": [
    "---\n",
    "\n",
    "## Task 5: Kaggle Competition (10 marks)\n",
    "\n",
    "Head over to https://www.kaggle.com/t/1f90b74da0b7484da9647638e22d1068  \n",
    "Use above classifier to predict the label for test_unseen.csv from competition page and upload the results to the leaderboard. The current baseline score is 0.36823. Make an improvement above the baseline. Please note that the evaluation metric for the competition is the f-score.\n",
    "\n",
    "Read competition page for more details.\n",
    "\n"
   ]
  },
  {
   "cell_type": "markdown",
   "metadata": {
    "colab": {
     "base_uri": "https://localhost:8080/"
    },
    "id": "D9NZrBayoN4A",
    "outputId": "d2c338a4-f20f-429e-9c69-a4a7850de428"
   },
   "source": [
    "from google.colab import drive\n",
    "drive.mount('/content/drive')"
   ]
  },
  {
   "cell_type": "code",
   "execution_count": 16,
   "metadata": {},
   "outputs": [],
   "source": [
    "test_unseen = pd.read_csv(\"test_unseen.csv\")\n",
    "test_texts = test_unseen['text']"
   ]
  },
  {
   "cell_type": "code",
   "execution_count": 17,
   "metadata": {},
   "outputs": [],
   "source": [
    "for idx, data in enumerate(test_texts):\n",
    "    test_texts[idx] = detokenizer.detokenize(preprocess(data))"
   ]
  },
  {
   "cell_type": "code",
   "execution_count": 18,
   "metadata": {},
   "outputs": [],
   "source": [
    "X_test_counts = count_vect.transform(test_texts)\n",
    "X_test_tfidf = tfidf_transformer.transform(X_test_counts)\n",
    "\n",
    "predictions = NB_classifier_improv.predict(X_test_tfidf.toarray())"
   ]
  },
  {
   "cell_type": "code",
   "execution_count": 19,
   "metadata": {
    "id": "JaC6B824Fe0H"
   },
   "outputs": [],
   "source": [
    "StudentID = \"22223696_Patil\" # Please add your student id and lastname\n",
    "test_unseen = pd.read_csv(\"test_unseen.csv\", names=['id', 'text'], header=0)\n",
    "\n",
    "# Here Id is unique identifier assigned to each test sample ranging from test_0 till test_1699\n",
    "# Expected is a list of prediction made by your classifier\n",
    "sub = {\"Id\": [f\"test_{i}\" for i in range(len(test_unseen))],\n",
    "       \"Expected\": predictions}\n",
    "\n",
    "sub_df = pd.DataFrame(sub)\n",
    "# The code below will generate a StudentID.csv on your drive on the left hand side in the explorer\n",
    "# Please upload the file as a submission on the competition page\n",
    "# You can index your submission StudentID_Lastname_index.csv, where index is your number of submission\n",
    "sub_df.to_csv(f\"{StudentID}.csv\", sep=\",\", header=1, index=None)"
   ]
  },
  {
   "cell_type": "markdown",
   "metadata": {
    "id": "a6brptmkqY9C"
   },
   "source": [
    "Mention the approach that you have chosen briefly, and what is the mean average f-score that you have achieved? Did it improve above the chosen baseline model (0.36823)? Why or why not?"
   ]
  },
  {
   "cell_type": "markdown",
   "metadata": {
    "id": "GZQumdT-9yet"
   },
   "source": [
    "Edit this cell to write your answer below the line in no more than 500 words.\n",
    "\n",
    "---\n",
    "\n",
    "\n",
    "---"
   ]
  },
  {
   "cell_type": "code",
   "execution_count": null,
   "metadata": {},
   "outputs": [],
   "source": []
  }
 ],
 "metadata": {
  "colab": {
   "collapsed_sections": [],
   "provenance": [],
   "toc_visible": true
  },
  "kernelspec": {
   "display_name": "Python 3 (ipykernel)",
   "language": "python",
   "name": "python3"
  },
  "language_info": {
   "codemirror_mode": {
    "name": "ipython",
    "version": 3
   },
   "file_extension": ".py",
   "mimetype": "text/x-python",
   "name": "python",
   "nbconvert_exporter": "python",
   "pygments_lexer": "ipython3",
   "version": "3.8.12"
  }
 },
 "nbformat": 4,
 "nbformat_minor": 1
}

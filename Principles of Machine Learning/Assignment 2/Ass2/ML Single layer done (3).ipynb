{
 "cells": [
  {
   "cell_type": "code",
   "execution_count": 95,
   "id": "40b7baf9",
   "metadata": {},
   "outputs": [],
   "source": [
    "import pandas as pd\n",
    "import numpy as np"
   ]
  },
  {
   "cell_type": "code",
   "execution_count": 96,
   "id": "b9ef09ea",
   "metadata": {},
   "outputs": [
    {
     "name": "stdout",
     "output_type": "stream",
     "text": [
      "C:\\Users\\DELL\\Desktop\\Aditi UOG\\ML\n"
     ]
    }
   ],
   "source": [
    "import io\n",
    "%cd \"C:\\Users\\DELL\\Desktop\\Aditi UOG\\ML\""
   ]
  },
  {
   "cell_type": "code",
   "execution_count": 97,
   "id": "4096470e",
   "metadata": {},
   "outputs": [],
   "source": [
    "wildfire=pd.read_csv('wildfirenuig.csv')"
   ]
  },
  {
   "cell_type": "code",
   "execution_count": 98,
   "id": "74deda49",
   "metadata": {},
   "outputs": [
    {
     "data": {
      "text/html": [
       "<div>\n",
       "<style scoped>\n",
       "    .dataframe tbody tr th:only-of-type {\n",
       "        vertical-align: middle;\n",
       "    }\n",
       "\n",
       "    .dataframe tbody tr th {\n",
       "        vertical-align: top;\n",
       "    }\n",
       "\n",
       "    .dataframe thead th {\n",
       "        text-align: right;\n",
       "    }\n",
       "</style>\n",
       "<table border=\"1\" class=\"dataframe\">\n",
       "  <thead>\n",
       "    <tr style=\"text-align: right;\">\n",
       "      <th></th>\n",
       "      <th>fire</th>\n",
       "      <th>year</th>\n",
       "      <th>temp</th>\n",
       "      <th>humidity</th>\n",
       "      <th>rainfall</th>\n",
       "      <th>drought_code</th>\n",
       "      <th>buildup_index</th>\n",
       "      <th>day</th>\n",
       "      <th>month</th>\n",
       "      <th>wind_speed</th>\n",
       "    </tr>\n",
       "  </thead>\n",
       "  <tbody>\n",
       "    <tr>\n",
       "      <th>0</th>\n",
       "      <td>no</td>\n",
       "      <td>2015</td>\n",
       "      <td>28</td>\n",
       "      <td>59</td>\n",
       "      <td>0.0</td>\n",
       "      <td>8.06</td>\n",
       "      <td>3.47</td>\n",
       "      <td>1</td>\n",
       "      <td>6</td>\n",
       "      <td>19</td>\n",
       "    </tr>\n",
       "    <tr>\n",
       "      <th>1</th>\n",
       "      <td>no</td>\n",
       "      <td>2010</td>\n",
       "      <td>30</td>\n",
       "      <td>61</td>\n",
       "      <td>1.3</td>\n",
       "      <td>8.17</td>\n",
       "      <td>4.03</td>\n",
       "      <td>2</td>\n",
       "      <td>6</td>\n",
       "      <td>13</td>\n",
       "    </tr>\n",
       "    <tr>\n",
       "      <th>2</th>\n",
       "      <td>no</td>\n",
       "      <td>2009</td>\n",
       "      <td>26</td>\n",
       "      <td>83</td>\n",
       "      <td>13.1</td>\n",
       "      <td>8.08</td>\n",
       "      <td>3.59</td>\n",
       "      <td>3</td>\n",
       "      <td>6</td>\n",
       "      <td>22</td>\n",
       "    </tr>\n",
       "    <tr>\n",
       "      <th>3</th>\n",
       "      <td>no</td>\n",
       "      <td>2017</td>\n",
       "      <td>25</td>\n",
       "      <td>87</td>\n",
       "      <td>2.5</td>\n",
       "      <td>7.18</td>\n",
       "      <td>2.42</td>\n",
       "      <td>4</td>\n",
       "      <td>6</td>\n",
       "      <td>15</td>\n",
       "    </tr>\n",
       "    <tr>\n",
       "      <th>4</th>\n",
       "      <td>no</td>\n",
       "      <td>2014</td>\n",
       "      <td>28</td>\n",
       "      <td>77</td>\n",
       "      <td>0.0</td>\n",
       "      <td>14.98</td>\n",
       "      <td>4.63</td>\n",
       "      <td>5</td>\n",
       "      <td>6</td>\n",
       "      <td>18</td>\n",
       "    </tr>\n",
       "  </tbody>\n",
       "</table>\n",
       "</div>"
      ],
      "text/plain": [
       "  fire  year  temp  humidity  rainfall  drought_code  buildup_index  day  \\\n",
       "0   no  2015    28        59       0.0          8.06           3.47    1   \n",
       "1   no  2010    30        61       1.3          8.17           4.03    2   \n",
       "2   no  2009    26        83      13.1          8.08           3.59    3   \n",
       "3   no  2017    25        87       2.5          7.18           2.42    4   \n",
       "4   no  2014    28        77       0.0         14.98           4.63    5   \n",
       "\n",
       "   month  wind_speed  \n",
       "0      6          19  \n",
       "1      6          13  \n",
       "2      6          22  \n",
       "3      6          15  \n",
       "4      6          18  "
      ]
     },
     "execution_count": 98,
     "metadata": {},
     "output_type": "execute_result"
    }
   ],
   "source": [
    "wildfire.head()"
   ]
  },
  {
   "cell_type": "code",
   "execution_count": 99,
   "id": "5af65faa",
   "metadata": {},
   "outputs": [
    {
     "data": {
      "text/html": [
       "<div>\n",
       "<style scoped>\n",
       "    .dataframe tbody tr th:only-of-type {\n",
       "        vertical-align: middle;\n",
       "    }\n",
       "\n",
       "    .dataframe tbody tr th {\n",
       "        vertical-align: top;\n",
       "    }\n",
       "\n",
       "    .dataframe thead th {\n",
       "        text-align: right;\n",
       "    }\n",
       "</style>\n",
       "<table border=\"1\" class=\"dataframe\">\n",
       "  <thead>\n",
       "    <tr style=\"text-align: right;\">\n",
       "      <th></th>\n",
       "      <th>fire</th>\n",
       "      <th>year</th>\n",
       "      <th>temp</th>\n",
       "      <th>humidity</th>\n",
       "      <th>rainfall</th>\n",
       "      <th>drought_code</th>\n",
       "      <th>buildup_index</th>\n",
       "      <th>day</th>\n",
       "      <th>month</th>\n",
       "      <th>wind_speed</th>\n",
       "    </tr>\n",
       "  </thead>\n",
       "  <tbody>\n",
       "    <tr>\n",
       "      <th>199</th>\n",
       "      <td>yes</td>\n",
       "      <td>2017</td>\n",
       "      <td>31</td>\n",
       "      <td>67</td>\n",
       "      <td>0.0</td>\n",
       "      <td>45.15</td>\n",
       "      <td>17.89</td>\n",
       "      <td>26</td>\n",
       "      <td>9</td>\n",
       "      <td>15</td>\n",
       "    </tr>\n",
       "    <tr>\n",
       "      <th>200</th>\n",
       "      <td>no</td>\n",
       "      <td>2017</td>\n",
       "      <td>29</td>\n",
       "      <td>89</td>\n",
       "      <td>4.4</td>\n",
       "      <td>8.74</td>\n",
       "      <td>6.52</td>\n",
       "      <td>27</td>\n",
       "      <td>9</td>\n",
       "      <td>15</td>\n",
       "    </tr>\n",
       "    <tr>\n",
       "      <th>201</th>\n",
       "      <td>no</td>\n",
       "      <td>2009</td>\n",
       "      <td>27</td>\n",
       "      <td>88</td>\n",
       "      <td>0.5</td>\n",
       "      <td>8.87</td>\n",
       "      <td>3.71</td>\n",
       "      <td>28</td>\n",
       "      <td>9</td>\n",
       "      <td>30</td>\n",
       "    </tr>\n",
       "    <tr>\n",
       "      <th>202</th>\n",
       "      <td>no</td>\n",
       "      <td>2016</td>\n",
       "      <td>25</td>\n",
       "      <td>56</td>\n",
       "      <td>0.1</td>\n",
       "      <td>15.54</td>\n",
       "      <td>6.10</td>\n",
       "      <td>29</td>\n",
       "      <td>9</td>\n",
       "      <td>20</td>\n",
       "    </tr>\n",
       "    <tr>\n",
       "      <th>203</th>\n",
       "      <td>no</td>\n",
       "      <td>2012</td>\n",
       "      <td>24</td>\n",
       "      <td>62</td>\n",
       "      <td>0.2</td>\n",
       "      <td>16.72</td>\n",
       "      <td>5.75</td>\n",
       "      <td>30</td>\n",
       "      <td>9</td>\n",
       "      <td>17</td>\n",
       "    </tr>\n",
       "  </tbody>\n",
       "</table>\n",
       "</div>"
      ],
      "text/plain": [
       "    fire  year  temp  humidity  rainfall  drought_code  buildup_index  day  \\\n",
       "199  yes  2017    31        67       0.0         45.15          17.89   26   \n",
       "200   no  2017    29        89       4.4          8.74           6.52   27   \n",
       "201   no  2009    27        88       0.5          8.87           3.71   28   \n",
       "202   no  2016    25        56       0.1         15.54           6.10   29   \n",
       "203   no  2012    24        62       0.2         16.72           5.75   30   \n",
       "\n",
       "     month  wind_speed  \n",
       "199      9          15  \n",
       "200      9          15  \n",
       "201      9          30  \n",
       "202      9          20  \n",
       "203      9          17  "
      ]
     },
     "execution_count": 99,
     "metadata": {},
     "output_type": "execute_result"
    }
   ],
   "source": [
    "wildfire.tail()"
   ]
  },
  {
   "cell_type": "code",
   "execution_count": 100,
   "id": "4637cb29",
   "metadata": {},
   "outputs": [
    {
     "data": {
      "text/plain": [
       "(204, 10)"
      ]
     },
     "execution_count": 100,
     "metadata": {},
     "output_type": "execute_result"
    }
   ],
   "source": [
    "wildfire.shape"
   ]
  },
  {
   "cell_type": "code",
   "execution_count": 101,
   "id": "62f33605",
   "metadata": {},
   "outputs": [
    {
     "data": {
      "text/html": [
       "<div>\n",
       "<style scoped>\n",
       "    .dataframe tbody tr th:only-of-type {\n",
       "        vertical-align: middle;\n",
       "    }\n",
       "\n",
       "    .dataframe tbody tr th {\n",
       "        vertical-align: top;\n",
       "    }\n",
       "\n",
       "    .dataframe thead th {\n",
       "        text-align: right;\n",
       "    }\n",
       "</style>\n",
       "<table border=\"1\" class=\"dataframe\">\n",
       "  <thead>\n",
       "    <tr style=\"text-align: right;\">\n",
       "      <th></th>\n",
       "      <th>year</th>\n",
       "      <th>temp</th>\n",
       "      <th>humidity</th>\n",
       "      <th>rainfall</th>\n",
       "      <th>drought_code</th>\n",
       "      <th>buildup_index</th>\n",
       "      <th>day</th>\n",
       "      <th>month</th>\n",
       "      <th>wind_speed</th>\n",
       "    </tr>\n",
       "  </thead>\n",
       "  <tbody>\n",
       "    <tr>\n",
       "      <th>count</th>\n",
       "      <td>204.000000</td>\n",
       "      <td>204.000000</td>\n",
       "      <td>204.000000</td>\n",
       "      <td>204.000000</td>\n",
       "      <td>204.000000</td>\n",
       "      <td>204.000000</td>\n",
       "      <td>204.000000</td>\n",
       "      <td>204.000000</td>\n",
       "      <td>204.000000</td>\n",
       "    </tr>\n",
       "    <tr>\n",
       "      <th>mean</th>\n",
       "      <td>2011.975490</td>\n",
       "      <td>31.906863</td>\n",
       "      <td>62.279412</td>\n",
       "      <td>0.823529</td>\n",
       "      <td>48.537647</td>\n",
       "      <td>16.542304</td>\n",
       "      <td>15.691176</td>\n",
       "      <td>7.553922</td>\n",
       "      <td>16.446078</td>\n",
       "    </tr>\n",
       "    <tr>\n",
       "      <th>std</th>\n",
       "      <td>3.320987</td>\n",
       "      <td>3.814175</td>\n",
       "      <td>15.209388</td>\n",
       "      <td>2.117959</td>\n",
       "      <td>49.133366</td>\n",
       "      <td>14.634994</td>\n",
       "      <td>8.907722</td>\n",
       "      <td>1.196067</td>\n",
       "      <td>3.098074</td>\n",
       "    </tr>\n",
       "    <tr>\n",
       "      <th>min</th>\n",
       "      <td>2007.000000</td>\n",
       "      <td>22.000000</td>\n",
       "      <td>21.000000</td>\n",
       "      <td>0.000000</td>\n",
       "      <td>7.180000</td>\n",
       "      <td>1.320000</td>\n",
       "      <td>1.000000</td>\n",
       "      <td>6.000000</td>\n",
       "      <td>6.000000</td>\n",
       "    </tr>\n",
       "    <tr>\n",
       "      <th>25%</th>\n",
       "      <td>2009.000000</td>\n",
       "      <td>29.000000</td>\n",
       "      <td>52.750000</td>\n",
       "      <td>0.000000</td>\n",
       "      <td>10.627500</td>\n",
       "      <td>6.067500</td>\n",
       "      <td>8.000000</td>\n",
       "      <td>6.000000</td>\n",
       "      <td>14.750000</td>\n",
       "    </tr>\n",
       "    <tr>\n",
       "      <th>50%</th>\n",
       "      <td>2012.000000</td>\n",
       "      <td>32.000000</td>\n",
       "      <td>63.000000</td>\n",
       "      <td>0.000000</td>\n",
       "      <td>30.550000</td>\n",
       "      <td>11.535000</td>\n",
       "      <td>15.500000</td>\n",
       "      <td>8.000000</td>\n",
       "      <td>16.000000</td>\n",
       "    </tr>\n",
       "    <tr>\n",
       "      <th>75%</th>\n",
       "      <td>2015.000000</td>\n",
       "      <td>35.000000</td>\n",
       "      <td>74.250000</td>\n",
       "      <td>0.600000</td>\n",
       "      <td>62.367500</td>\n",
       "      <td>22.665000</td>\n",
       "      <td>24.000000</td>\n",
       "      <td>9.000000</td>\n",
       "      <td>18.000000</td>\n",
       "    </tr>\n",
       "    <tr>\n",
       "      <th>max</th>\n",
       "      <td>2017.000000</td>\n",
       "      <td>43.000000</td>\n",
       "      <td>92.000000</td>\n",
       "      <td>16.800000</td>\n",
       "      <td>221.350000</td>\n",
       "      <td>68.270000</td>\n",
       "      <td>31.000000</td>\n",
       "      <td>9.000000</td>\n",
       "      <td>30.000000</td>\n",
       "    </tr>\n",
       "  </tbody>\n",
       "</table>\n",
       "</div>"
      ],
      "text/plain": [
       "              year        temp    humidity    rainfall  drought_code  \\\n",
       "count   204.000000  204.000000  204.000000  204.000000    204.000000   \n",
       "mean   2011.975490   31.906863   62.279412    0.823529     48.537647   \n",
       "std       3.320987    3.814175   15.209388    2.117959     49.133366   \n",
       "min    2007.000000   22.000000   21.000000    0.000000      7.180000   \n",
       "25%    2009.000000   29.000000   52.750000    0.000000     10.627500   \n",
       "50%    2012.000000   32.000000   63.000000    0.000000     30.550000   \n",
       "75%    2015.000000   35.000000   74.250000    0.600000     62.367500   \n",
       "max    2017.000000   43.000000   92.000000   16.800000    221.350000   \n",
       "\n",
       "       buildup_index         day       month  wind_speed  \n",
       "count     204.000000  204.000000  204.000000  204.000000  \n",
       "mean       16.542304   15.691176    7.553922   16.446078  \n",
       "std        14.634994    8.907722    1.196067    3.098074  \n",
       "min         1.320000    1.000000    6.000000    6.000000  \n",
       "25%         6.067500    8.000000    6.000000   14.750000  \n",
       "50%        11.535000   15.500000    8.000000   16.000000  \n",
       "75%        22.665000   24.000000    9.000000   18.000000  \n",
       "max        68.270000   31.000000    9.000000   30.000000  "
      ]
     },
     "execution_count": 101,
     "metadata": {},
     "output_type": "execute_result"
    }
   ],
   "source": [
    "wildfire.describe()"
   ]
  },
  {
   "cell_type": "code",
   "execution_count": 102,
   "id": "dbfc3db2",
   "metadata": {},
   "outputs": [],
   "source": [
    "from sklearn.preprocessing import LabelEncoder"
   ]
  },
  {
   "cell_type": "code",
   "execution_count": 103,
   "id": "4c8cce42",
   "metadata": {},
   "outputs": [],
   "source": [
    "le = LabelEncoder()"
   ]
  },
  {
   "cell_type": "code",
   "execution_count": 104,
   "id": "9a59800d",
   "metadata": {},
   "outputs": [],
   "source": [
    "wildfire['fire']=le.fit_transform(wildfire['fire'])"
   ]
  },
  {
   "cell_type": "code",
   "execution_count": 105,
   "id": "66326cfa",
   "metadata": {},
   "outputs": [
    {
     "data": {
      "text/html": [
       "<div>\n",
       "<style scoped>\n",
       "    .dataframe tbody tr th:only-of-type {\n",
       "        vertical-align: middle;\n",
       "    }\n",
       "\n",
       "    .dataframe tbody tr th {\n",
       "        vertical-align: top;\n",
       "    }\n",
       "\n",
       "    .dataframe thead th {\n",
       "        text-align: right;\n",
       "    }\n",
       "</style>\n",
       "<table border=\"1\" class=\"dataframe\">\n",
       "  <thead>\n",
       "    <tr style=\"text-align: right;\">\n",
       "      <th></th>\n",
       "      <th>fire</th>\n",
       "      <th>year</th>\n",
       "      <th>temp</th>\n",
       "      <th>humidity</th>\n",
       "      <th>rainfall</th>\n",
       "      <th>drought_code</th>\n",
       "      <th>buildup_index</th>\n",
       "      <th>day</th>\n",
       "      <th>month</th>\n",
       "      <th>wind_speed</th>\n",
       "    </tr>\n",
       "  </thead>\n",
       "  <tbody>\n",
       "    <tr>\n",
       "      <th>0</th>\n",
       "      <td>0</td>\n",
       "      <td>2015</td>\n",
       "      <td>28</td>\n",
       "      <td>59</td>\n",
       "      <td>0.0</td>\n",
       "      <td>8.06</td>\n",
       "      <td>3.47</td>\n",
       "      <td>1</td>\n",
       "      <td>6</td>\n",
       "      <td>19</td>\n",
       "    </tr>\n",
       "    <tr>\n",
       "      <th>1</th>\n",
       "      <td>0</td>\n",
       "      <td>2010</td>\n",
       "      <td>30</td>\n",
       "      <td>61</td>\n",
       "      <td>1.3</td>\n",
       "      <td>8.17</td>\n",
       "      <td>4.03</td>\n",
       "      <td>2</td>\n",
       "      <td>6</td>\n",
       "      <td>13</td>\n",
       "    </tr>\n",
       "    <tr>\n",
       "      <th>2</th>\n",
       "      <td>0</td>\n",
       "      <td>2009</td>\n",
       "      <td>26</td>\n",
       "      <td>83</td>\n",
       "      <td>13.1</td>\n",
       "      <td>8.08</td>\n",
       "      <td>3.59</td>\n",
       "      <td>3</td>\n",
       "      <td>6</td>\n",
       "      <td>22</td>\n",
       "    </tr>\n",
       "    <tr>\n",
       "      <th>3</th>\n",
       "      <td>0</td>\n",
       "      <td>2017</td>\n",
       "      <td>25</td>\n",
       "      <td>87</td>\n",
       "      <td>2.5</td>\n",
       "      <td>7.18</td>\n",
       "      <td>2.42</td>\n",
       "      <td>4</td>\n",
       "      <td>6</td>\n",
       "      <td>15</td>\n",
       "    </tr>\n",
       "    <tr>\n",
       "      <th>4</th>\n",
       "      <td>0</td>\n",
       "      <td>2014</td>\n",
       "      <td>28</td>\n",
       "      <td>77</td>\n",
       "      <td>0.0</td>\n",
       "      <td>14.98</td>\n",
       "      <td>4.63</td>\n",
       "      <td>5</td>\n",
       "      <td>6</td>\n",
       "      <td>18</td>\n",
       "    </tr>\n",
       "  </tbody>\n",
       "</table>\n",
       "</div>"
      ],
      "text/plain": [
       "   fire  year  temp  humidity  rainfall  drought_code  buildup_index  day  \\\n",
       "0     0  2015    28        59       0.0          8.06           3.47    1   \n",
       "1     0  2010    30        61       1.3          8.17           4.03    2   \n",
       "2     0  2009    26        83      13.1          8.08           3.59    3   \n",
       "3     0  2017    25        87       2.5          7.18           2.42    4   \n",
       "4     0  2014    28        77       0.0         14.98           4.63    5   \n",
       "\n",
       "   month  wind_speed  \n",
       "0      6          19  \n",
       "1      6          13  \n",
       "2      6          22  \n",
       "3      6          15  \n",
       "4      6          18  "
      ]
     },
     "execution_count": 105,
     "metadata": {},
     "output_type": "execute_result"
    }
   ],
   "source": [
    "wildfire.head()"
   ]
  },
  {
   "cell_type": "code",
   "execution_count": 106,
   "id": "ef212cc7",
   "metadata": {},
   "outputs": [
    {
     "data": {
      "text/html": [
       "<div>\n",
       "<style scoped>\n",
       "    .dataframe tbody tr th:only-of-type {\n",
       "        vertical-align: middle;\n",
       "    }\n",
       "\n",
       "    .dataframe tbody tr th {\n",
       "        vertical-align: top;\n",
       "    }\n",
       "\n",
       "    .dataframe thead th {\n",
       "        text-align: right;\n",
       "    }\n",
       "</style>\n",
       "<table border=\"1\" class=\"dataframe\">\n",
       "  <thead>\n",
       "    <tr style=\"text-align: right;\">\n",
       "      <th></th>\n",
       "      <th>fire</th>\n",
       "      <th>year</th>\n",
       "      <th>temp</th>\n",
       "      <th>humidity</th>\n",
       "      <th>rainfall</th>\n",
       "      <th>drought_code</th>\n",
       "      <th>buildup_index</th>\n",
       "      <th>day</th>\n",
       "      <th>month</th>\n",
       "      <th>wind_speed</th>\n",
       "    </tr>\n",
       "  </thead>\n",
       "  <tbody>\n",
       "    <tr>\n",
       "      <th>199</th>\n",
       "      <td>1</td>\n",
       "      <td>2017</td>\n",
       "      <td>31</td>\n",
       "      <td>67</td>\n",
       "      <td>0.0</td>\n",
       "      <td>45.15</td>\n",
       "      <td>17.89</td>\n",
       "      <td>26</td>\n",
       "      <td>9</td>\n",
       "      <td>15</td>\n",
       "    </tr>\n",
       "    <tr>\n",
       "      <th>200</th>\n",
       "      <td>0</td>\n",
       "      <td>2017</td>\n",
       "      <td>29</td>\n",
       "      <td>89</td>\n",
       "      <td>4.4</td>\n",
       "      <td>8.74</td>\n",
       "      <td>6.52</td>\n",
       "      <td>27</td>\n",
       "      <td>9</td>\n",
       "      <td>15</td>\n",
       "    </tr>\n",
       "    <tr>\n",
       "      <th>201</th>\n",
       "      <td>0</td>\n",
       "      <td>2009</td>\n",
       "      <td>27</td>\n",
       "      <td>88</td>\n",
       "      <td>0.5</td>\n",
       "      <td>8.87</td>\n",
       "      <td>3.71</td>\n",
       "      <td>28</td>\n",
       "      <td>9</td>\n",
       "      <td>30</td>\n",
       "    </tr>\n",
       "    <tr>\n",
       "      <th>202</th>\n",
       "      <td>0</td>\n",
       "      <td>2016</td>\n",
       "      <td>25</td>\n",
       "      <td>56</td>\n",
       "      <td>0.1</td>\n",
       "      <td>15.54</td>\n",
       "      <td>6.10</td>\n",
       "      <td>29</td>\n",
       "      <td>9</td>\n",
       "      <td>20</td>\n",
       "    </tr>\n",
       "    <tr>\n",
       "      <th>203</th>\n",
       "      <td>0</td>\n",
       "      <td>2012</td>\n",
       "      <td>24</td>\n",
       "      <td>62</td>\n",
       "      <td>0.2</td>\n",
       "      <td>16.72</td>\n",
       "      <td>5.75</td>\n",
       "      <td>30</td>\n",
       "      <td>9</td>\n",
       "      <td>17</td>\n",
       "    </tr>\n",
       "  </tbody>\n",
       "</table>\n",
       "</div>"
      ],
      "text/plain": [
       "     fire  year  temp  humidity  rainfall  drought_code  buildup_index  day  \\\n",
       "199     1  2017    31        67       0.0         45.15          17.89   26   \n",
       "200     0  2017    29        89       4.4          8.74           6.52   27   \n",
       "201     0  2009    27        88       0.5          8.87           3.71   28   \n",
       "202     0  2016    25        56       0.1         15.54           6.10   29   \n",
       "203     0  2012    24        62       0.2         16.72           5.75   30   \n",
       "\n",
       "     month  wind_speed  \n",
       "199      9          15  \n",
       "200      9          15  \n",
       "201      9          30  \n",
       "202      9          20  \n",
       "203      9          17  "
      ]
     },
     "execution_count": 106,
     "metadata": {},
     "output_type": "execute_result"
    }
   ],
   "source": [
    "wildfire.tail()"
   ]
  },
  {
   "cell_type": "code",
   "execution_count": null,
   "id": "6a1b93db",
   "metadata": {},
   "outputs": [],
   "source": []
  },
  {
   "cell_type": "code",
   "execution_count": 107,
   "id": "4f370ef1",
   "metadata": {},
   "outputs": [],
   "source": [
    "from sklearn.model_selection import train_test_split"
   ]
  },
  {
   "cell_type": "code",
   "execution_count": 108,
   "id": "8d88b678",
   "metadata": {},
   "outputs": [],
   "source": [
    "X=wildfire.drop(['fire'],axis=1)"
   ]
  },
  {
   "cell_type": "code",
   "execution_count": 109,
   "id": "fda6eb0d",
   "metadata": {},
   "outputs": [],
   "source": [
    "y=wildfire['fire']"
   ]
  },
  {
   "cell_type": "code",
   "execution_count": 110,
   "id": "1d4c3419",
   "metadata": {},
   "outputs": [],
   "source": [
    "X_train, X_test, y_train, y_test = train_test_split(X, y, test_size=0.33)"
   ]
  },
  {
   "cell_type": "code",
   "execution_count": 111,
   "id": "702f3ccc",
   "metadata": {},
   "outputs": [
    {
     "data": {
      "text/plain": [
       "(136, 9)"
      ]
     },
     "execution_count": 111,
     "metadata": {},
     "output_type": "execute_result"
    }
   ],
   "source": [
    "X_train.shape"
   ]
  },
  {
   "cell_type": "code",
   "execution_count": 112,
   "id": "654593f1",
   "metadata": {},
   "outputs": [
    {
     "data": {
      "text/plain": [
       "(136,)"
      ]
     },
     "execution_count": 112,
     "metadata": {},
     "output_type": "execute_result"
    }
   ],
   "source": [
    "y_train.shape"
   ]
  },
  {
   "cell_type": "code",
   "execution_count": 113,
   "id": "f036ca20",
   "metadata": {},
   "outputs": [],
   "source": [
    "#from sklearn.linear_model import Perceptron\n",
    "#per=Perceptron()"
   ]
  },
  {
   "cell_type": "code",
   "execution_count": 114,
   "id": "7a075779",
   "metadata": {},
   "outputs": [],
   "source": [
    "#per.fit(X_train,y_train)\n",
    "#y_pred=per.predict(X_test)"
   ]
  },
  {
   "cell_type": "code",
   "execution_count": 115,
   "id": "ee6b46bd",
   "metadata": {},
   "outputs": [],
   "source": [
    "#from sklearn.metrics import accuracy_score\n",
    "#print(accuracy_score(y_test,y_pred))"
   ]
  },
  {
   "cell_type": "code",
   "execution_count": null,
   "id": "4206750a",
   "metadata": {},
   "outputs": [],
   "source": []
  },
  {
   "cell_type": "code",
   "execution_count": null,
   "id": "c503f8d1",
   "metadata": {},
   "outputs": [],
   "source": []
  },
  {
   "cell_type": "code",
   "execution_count": 116,
   "id": "bce7ab79",
   "metadata": {},
   "outputs": [],
   "source": [
    "import numpy as np\n",
    "class APerceptron:\n",
    "    def __init__(self,learn_rate=0.1,n_iter=1000):\n",
    "        self.lr=learn_rate\n",
    "        self.epoch=n_iter\n",
    "        self.weights=None\n",
    "        self.bias=0\n",
    "       \n",
    "       \n",
    "    def fit(self,X,y):\n",
    "        n_samples,n_features=X.shape\n",
    "       \n",
    "        self.weights=np.zeros(n_features)  # init paramenters\n",
    "        self.bias=0\n",
    "       \n",
    "        for self.epoch in range(self.epoch):\n",
    "            for i in range(X.shape[0]):\n",
    "                y_pred=self.activation_function(np.dot(self.weights , X[i])+self.bias)  #learning weight\n",
    "           \n",
    "           \n",
    "            self.weights=self.weights+self.lr*(y[i]-y_pred)*X[i]  # Perceptron Update Rule\n",
    "            self.bias=self.bias+self.lr*(y[i]-y_pred)  # Perceptron Update rule\n",
    "           \n",
    "           \n",
    "        #print(self.weight)\n",
    "        #print(self.bias)\n",
    "       \n",
    "    def activation_function(self,activation):\n",
    "        return 1/(1+np.exp(-activation))\n",
    "        \"\"\"\"if activation>=0:\n",
    "            return 1\n",
    "        else:\n",
    "            return 0\n",
    "        \"\"\"\n",
    "       \n",
    "    def predict(self,X):\n",
    "        \"\"\"y_pred=[]\n",
    "        for i in range(X.shape[0]):\n",
    "            y_pred.append(self.activation_function(np.dot(self.weights,X[i])+self.bias))\n",
    "        return y_pred\"\"\"\n",
    "        return self.activation_function(np.dot(X, self.weights) + self.bias)"
   ]
  },
  {
   "cell_type": "code",
   "execution_count": 117,
   "id": "537a8c8d",
   "metadata": {},
   "outputs": [],
   "source": [
    "# Testing\n",
    "if __name__ == \"__main__\":\n",
    "    # Imports\n",
    "    import matplotlib.pyplot as plt\n",
    "    from sklearn.model_selection import train_test_split\n",
    "    from sklearn import datasets\n",
    "\n",
    "    def accuracy(y_true, y_pred):\n",
    "        accuracy = np.sum(y_true == y_pred) / len(y_true)\n",
    "        return accuracy\n",
    "\n",
    "    X, y = datasets.make_blobs(\n",
    "        n_samples=100, n_features=2, centers=2, cluster_std=1.05, random_state=2\n",
    "    )\n",
    "    X_train, X_test, y_train, y_test = train_test_split(\n",
    "        X, y, test_size=0.2, random_state=100\n",
    "    )\n",
    "\n",
    "    #AP=APerceptron(learn_rate=0.1, n_iter=5)\n",
    "    #AP.fit(X_train, y_train)\n",
    "    #pred = AP.predict(X_test)\n",
    "    \n",
    "    #roundoff = lambda x: 1 if x > 0.35 else 0 \n",
    "    \n",
    "    #pred =  [roundoff(x) for x in pred]\n",
    "\n",
    "    #print(\"Perceptron classification accuracy\", accuracy(y_test, pred))"
   ]
  },
  {
   "cell_type": "code",
   "execution_count": null,
   "id": "d3d82b17",
   "metadata": {},
   "outputs": [],
   "source": []
  },
  {
   "cell_type": "code",
   "execution_count": 118,
   "id": "b713e1f6",
   "metadata": {},
   "outputs": [],
   "source": [
    "from sklearn.metrics import accuracy_score\n",
    "from sklearn.model_selection import KFold\n",
    "def crossvalidation(X_train, Y_train, splits):\n",
    "    cv = KFold(n_splits=splits)\n",
    "    models = []\n",
    "    for train, test in cv.split(X_train):\n",
    "        roundoff = lambda x: 1 if x > 0.15 else 0\n",
    "        x_train = X_train[train]\n",
    "        y_train = Y_train[train]\n",
    "        x_val = X_train[test]\n",
    "        y_val = Y_train[test]\n",
    "\n",
    "        p = APerceptron()\n",
    "        p.fit(x_train, y_train)\n",
    "        pred = p.predict(x_val)\n",
    "        pred = [roundoff(x) for x in pred]\n",
    "        print(\"model accuracy : \",accuracy_score(y_val, pred))\n",
    "        models.append(p)\n",
    "    return models"
   ]
  },
  {
   "cell_type": "code",
   "execution_count": 119,
   "id": "728caa7d",
   "metadata": {},
   "outputs": [
    {
     "name": "stdout",
     "output_type": "stream",
     "text": [
      "model accuracy :  0.8125\n",
      "model accuracy :  0.8125\n",
      "model accuracy :  0.9375\n",
      "model accuracy :  0.8125\n",
      "model accuracy :  0.6875\n"
     ]
    }
   ],
   "source": [
    "models = crossvalidation(X_train, y_train, 5)"
   ]
  },
  {
   "cell_type": "code",
   "execution_count": 120,
   "id": "68894391",
   "metadata": {},
   "outputs": [],
   "source": [
    "def finalpred(models, X_test):\n",
    "    Y_pred = np.empty(0, )\n",
    "    for test in X_test:\n",
    "        threshold = lambda x: 1 if x > 0.15 else 0\n",
    "        pred = np.average([models[0].predict(test), \n",
    "                   models[1].predict(test),\n",
    "                   models[2].predict(test),\n",
    "                   models[3].predict(test),\n",
    "                   models[4].predict(test)])\n",
    "        Y_pred = np.append(Y_pred, threshold(pred))\n",
    "        \n",
    "    return Y_pred"
   ]
  },
  {
   "cell_type": "code",
   "execution_count": 121,
   "id": "d0029a33",
   "metadata": {},
   "outputs": [],
   "source": [
    "y_pred = finalpred(models,X_test)"
   ]
  },
  {
   "cell_type": "code",
   "execution_count": 122,
   "id": "00f5bd39",
   "metadata": {},
   "outputs": [
    {
     "data": {
      "text/plain": [
       "array([1, 0, 1, 0, 0, 0, 0, 0, 0, 1, 1, 0, 0, 0, 1, 0, 1, 0, 1, 1])"
      ]
     },
     "execution_count": 122,
     "metadata": {},
     "output_type": "execute_result"
    }
   ],
   "source": [
    "y_test"
   ]
  },
  {
   "cell_type": "code",
   "execution_count": 123,
   "id": "df78f261",
   "metadata": {},
   "outputs": [
    {
     "data": {
      "text/plain": [
       "0.85"
      ]
     },
     "execution_count": 123,
     "metadata": {},
     "output_type": "execute_result"
    }
   ],
   "source": [
    "from sklearn.metrics import  accuracy_score\n",
    "\n",
    "accuracy_score(y_test, y_pred)"
   ]
  },
  {
   "cell_type": "code",
   "execution_count": null,
   "id": "ac8af7df",
   "metadata": {},
   "outputs": [],
   "source": []
  },
  {
   "cell_type": "code",
   "execution_count": null,
   "id": "b5d58b6f",
   "metadata": {},
   "outputs": [],
   "source": []
  },
  {
   "cell_type": "code",
   "execution_count": 124,
   "id": "8bc63d12",
   "metadata": {},
   "outputs": [],
   "source": [
    "from sklearn.linear_model import Perceptron\n",
    "per=Perceptron(alpha=0.1)"
   ]
  },
  {
   "cell_type": "code",
   "execution_count": 125,
   "id": "a5249fa7",
   "metadata": {},
   "outputs": [],
   "source": [
    "per.fit(X_train,y_train,)\n",
    "y_pred=per.predict(X_test)"
   ]
  },
  {
   "cell_type": "code",
   "execution_count": 126,
   "id": "91f5acf7",
   "metadata": {},
   "outputs": [
    {
     "name": "stdout",
     "output_type": "stream",
     "text": [
      "1.0\n"
     ]
    }
   ],
   "source": [
    "from sklearn.metrics import accuracy_score\n",
    "print(accuracy_score(y_test,y_pred))"
   ]
  },
  {
   "cell_type": "code",
   "execution_count": null,
   "id": "2126a965",
   "metadata": {},
   "outputs": [],
   "source": []
  },
  {
   "cell_type": "code",
   "execution_count": 127,
   "id": "f5fd56df",
   "metadata": {},
   "outputs": [],
   "source": [
    "###############################################################################################################################\n",
    "###############################################################################################################################"
   ]
  },
  {
   "cell_type": "code",
   "execution_count": null,
   "id": "f7305155",
   "metadata": {},
   "outputs": [],
   "source": []
  },
  {
   "cell_type": "code",
   "execution_count": 128,
   "id": "0b8e9341",
   "metadata": {},
   "outputs": [],
   "source": [
    "class Sigmoid():\n",
    "    def __call__(self, x):\n",
    "        return 1 / (1 + np.exp(-x))\n",
    "\n",
    "    def gradient(self, x):\n",
    "        return self.__call__(x) * (1 - self.__call__(x))"
   ]
  },
  {
   "cell_type": "code",
   "execution_count": 129,
   "id": "ce07e9ed",
   "metadata": {},
   "outputs": [],
   "source": [
    "class Softmax():\n",
    "    def __call__(self, x):\n",
    "        e_x = np.exp(x - np.max(x, axis=-1, keepdims=True))\n",
    "        return e_x / np.sum(e_x, axis=-1, keepdims=True)\n",
    "\n",
    "    def gradient(self, x):\n",
    "        ps = self.__call__(x)\n",
    "        return ps * (1 - ps)"
   ]
  },
  {
   "cell_type": "code",
   "execution_count": 130,
   "id": "6e0d8be1",
   "metadata": {},
   "outputs": [],
   "source": [
    "class CrossEntropy():\n",
    "    def __init__(self): pass\n",
    "\n",
    "    def acc(self, y, ps):\n",
    "        return accuracy_score(np.argmax(y, axis=1), np.argmax(ps, axis=1))\n",
    "\n",
    "    def gradient(self, y, ps):\n",
    "        # Avoid division by zero\n",
    "        ps = np.clip(ps, 1e-15, 1 - 1e-15)\n",
    "        return - (y / ps) + (1 - y) / (1 - ps)\n",
    "    def  loss(self, y, ps):\n",
    "        # Avoid division by zero\n",
    "        ps = np.clip(ps, 1e-15, 1 - 1e-15)\n",
    "        return - y * np.log(ps) - (1 - y) * np.log(1 - ps)"
   ]
  },
  {
   "cell_type": "code",
   "execution_count": 131,
   "id": "a419a6cf",
   "metadata": {},
   "outputs": [],
   "source": [
    "from sklearn.metrics import accuracy_score\n",
    "import math\n",
    "class MultilayerPerceptron():\n",
    "    \n",
    "    def __init__(self, n_hidden, n_iterat=10000, learning_r=0.0001):\n",
    "        self.n_hidden = n_hidden\n",
    "        self.n_iterat = n_iterat\n",
    "        self.learning_r = learning_r\n",
    "        self.hidden_activation = Sigmoid()\n",
    "        self.output_activation = Softmax()\n",
    "        self.loss = CrossEntropy()\n",
    "        \n",
    "        \n",
    "        def _initialize_weights(self, X, y):\n",
    "            n_samples, n_features = X.shape,n_outputs = y.shape\n",
    "            limit   = 1 / math.sqrt(n_features)\n",
    "            \n",
    "            self.W1  = np.random.uniform(-limit, limit, (n_features, self.n_hidden))\n",
    "            self.W10 = np.zeros((1, self.n_hidden))\n",
    "            \n",
    "            limit   = 1 / math.sqrt(self.n_hidden)\n",
    "            self.W2  = np.random.uniform(-limit, limit, (self.n_hidden, n_outputs))\n",
    "            self.W20 = np.zeros((1, n_outputs))\n",
    "            \n",
    "            \n",
    "            def fit(self, X, y):\n",
    "                self._initialize_weights(X, y)\n",
    "                \n",
    "                for i in range(self.n_iterat):\n",
    "                    hidden_in = X.dot(self.W) + self.W10\n",
    "                    hidden_out = self.hidden_activation(hidden_in)\n",
    "                    output_in = hidden_out.dot(self.V) + self.W20\n",
    "                    \n",
    "                    y_pred = self.output_activation(output_in)\n",
    "                    \n",
    "                    \n",
    "                    grad_wrt_out_l_input = self.loss.gradient(y, y_pred) * self.output_activation.gradient(output_in)\n",
    "                    grad_W2 = hidden_out.T.dot(grad_wrt_out_l_input)\n",
    "                    grad_W20 = np.sum(grad_wrt_out_l_input, axis=0, keepdims=True)\n",
    "                    \n",
    "                    \n",
    "                    grad_wrt_hidden_l_input = grad_wrt_out_l_input.dot(self.V.T) * self.hidden_activation.gradient(hidden_in)\n",
    "                    grad_W1 = X.T.dot(grad_wrt_hidden_l_input)\n",
    "                    grad_W10 = np.sum(grad_wrt_hidden_l_input, axis=0, keepdims=True)\n",
    "                    \n",
    "                    self.W2 -= self.learning_r * grad_W2\n",
    "                    self.W20 -= self.learning_r * grad_W20\n",
    "                    self.W1  -= self.learning_r * grad_W1\n",
    "                    self.W10 -= self.learning_r * grad_W10\n",
    "                    \n",
    "                    \n",
    "                    def predict(self, X):\n",
    "                        hidden_in = X.dot(self.W1) + self.W10\n",
    "                        hidden_out = self.hidden_activation(hidden_in)\n",
    "                        output_in = hidden_out.dot(self.W2) + self.W20\n",
    "                        y_pred1 = self.output_activation(output_in)\n",
    "                        return y_pred1\n",
    "                    \n",
    "                \n",
    "                    \n",
    "                    ML = MultilayerPerceptron(n_hidden=16, n_iterat=10000, learning_r=0.001)\n",
    "                    ML.fit(X_train, y_train)\n",
    "                    \n",
    "                    y_pred1 = np.argmax(ML.predict(X_test), axis=1)\n",
    "                    y_test = np.argmax(y_test, axis=1)\n",
    "                    \n",
    "                    print(accuracy_score(y_test,y_pred1))\n",
    "                    \n",
    "                    \n",
    "                    \"\"\"\"\n",
    "                    def accuracy_score(y_true, y_pred1):\n",
    "                        return np.sum(y_true == y_pred1, axis=0) / len(y_true)\n",
    "                    accuracy = accuracy_score(y_test, y_pred1)\n",
    "                    \n",
    "                    print(\"Accuracy:\", accuracy)\n",
    "                    \"\"\""
   ]
  },
  {
   "cell_type": "code",
   "execution_count": 132,
   "id": "f2cfeb43",
   "metadata": {},
   "outputs": [
    {
     "ename": "NameError",
     "evalue": "name 'y_pred1' is not defined",
     "output_type": "error",
     "traceback": [
      "\u001b[1;31m---------------------------------------------------------------------------\u001b[0m",
      "\u001b[1;31mNameError\u001b[0m                                 Traceback (most recent call last)",
      "Input \u001b[1;32mIn [132]\u001b[0m, in \u001b[0;36m<cell line: 3>\u001b[1;34m()\u001b[0m\n\u001b[0;32m      1\u001b[0m \u001b[38;5;28;01mfrom\u001b[39;00m \u001b[38;5;21;01msklearn\u001b[39;00m\u001b[38;5;21;01m.\u001b[39;00m\u001b[38;5;21;01mmetrics\u001b[39;00m \u001b[38;5;28;01mimport\u001b[39;00m  accuracy_score\n\u001b[1;32m----> 3\u001b[0m MLPacc \u001b[38;5;241m=\u001b[39m MultilayerPerceptron(y_test,\u001b[43my_pred1\u001b[49m)\n",
      "\u001b[1;31mNameError\u001b[0m: name 'y_pred1' is not defined"
     ]
    }
   ],
   "source": [
    "from sklearn.metrics import  accuracy_score\n",
    "\n",
    "MLPacc = MultilayerPerceptron(y_test,y_pred1)"
   ]
  },
  {
   "cell_type": "code",
   "execution_count": null,
   "id": "e174b966",
   "metadata": {},
   "outputs": [],
   "source": []
  },
  {
   "cell_type": "code",
   "execution_count": null,
   "id": "69f32a52",
   "metadata": {},
   "outputs": [],
   "source": []
  },
  {
   "cell_type": "code",
   "execution_count": null,
   "id": "72a419c4",
   "metadata": {},
   "outputs": [],
   "source": []
  },
  {
   "cell_type": "code",
   "execution_count": null,
   "id": "363bc3c3",
   "metadata": {},
   "outputs": [],
   "source": []
  },
  {
   "cell_type": "code",
   "execution_count": null,
   "id": "c6f058cc",
   "metadata": {},
   "outputs": [],
   "source": []
  },
  {
   "cell_type": "code",
   "execution_count": null,
   "id": "c81fcb27",
   "metadata": {},
   "outputs": [],
   "source": []
  }
 ],
 "metadata": {
  "kernelspec": {
   "display_name": "Python 3 (ipykernel)",
   "language": "python",
   "name": "python3"
  },
  "language_info": {
   "codemirror_mode": {
    "name": "ipython",
    "version": 3
   },
   "file_extension": ".py",
   "mimetype": "text/x-python",
   "name": "python",
   "nbconvert_exporter": "python",
   "pygments_lexer": "ipython3",
   "version": "3.9.12"
  }
 },
 "nbformat": 4,
 "nbformat_minor": 5
}

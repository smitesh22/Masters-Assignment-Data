{
 "cells": [
  {
   "cell_type": "markdown",
   "metadata": {
    "id": "3I965pXSHOX5"
   },
   "source": [
    "For this assignment, we will explore Twitter Emotion Classification. The goal is the identify the primary emotion expressed in a tweet. Consider the following tweets:\n",
    "```\n",
    "Tweet 1: @NationalGallery @ThePoldarkian I have always loved this painting.\n",
    "Tweet 2: '@tateliverpool #BobandRoberta: I am angry more artists that have a profile are not speaking up #foundationcourses.'\n",
    "``` \n",
    "\n",
    "How would you describe the emotions in `Tweet 1` vs `Tweet 2`? `Tweet 1` expresses enjoyment and happiness, while `Tweet 2` directly expresses anger. For this assignment, we will be working with the SMILE Twitter Emotion Dataset ([Wang et al. 2016](https://ceur-ws.org/Vol-1619/paper3.pdf)). At a high level, our goal is to develop different models (rule-based, machine learning, and deep learning), which can be used to identify the emotion of a tweet. You will be required to clean and preprocess the data, generate features for classification, train various models, and evaluate the models. \n",
    "\n",
    "\n",
    "*Submission Details*\n",
    "Please complete all the tasks in “Assignment 1.ipynb” and upload your submission as a Python notebook on Blackboard with the filename “StudentID_Lastname.ipynb”. Assignment 1 will be due by 11:59 PM GMT Monday February 20th, 2023.  \n",
    "\n",
    "*Grading Policy*\n",
    "\n",
    "Assignment 1 is graded and will be worth 25% of your overall grade. This assignment is worth a total of 50 points distributed over the tasks below. \n",
    "Please note that this is an individual assignment and you must not work with other students to complete this assessment. Any copying from other students, from student exercises from previous years, and any internet resources will not be tolerated. Plagiarised assignments will receive zero marks and the students who commit this act will be reported. \n",
    "\n",
    "Feel free to reach out to the TAs and instructors if you have any questions.\n",
    "\n",
    "Before you get started, run the cell below to download the dataset into memory and a few relevant libraries."
   ]
  },
  {
   "cell_type": "code",
   "execution_count": 5,
   "metadata": {
    "id": "i_PIJoH4HVqu"
   },
   "outputs": [
    {
     "name": "stderr",
     "output_type": "stream",
     "text": [
      "'wget' is not recognized as an internal or external command,\n",
      "operable program or batch file.\n"
     ]
    },
    {
     "name": "stdout",
     "output_type": "stream",
     "text": [
      "Requirement already satisfied: emoji in c:\\users\\smitesh\\anaconda3\\envs\\main\\lib\\site-packages (2.2.0)\n"
     ]
    },
    {
     "name": "stderr",
     "output_type": "stream",
     "text": [
      "[nltk_data] Downloading package punkt to\n",
      "[nltk_data]     C:\\Users\\Smitesh\\AppData\\Roaming\\nltk_data...\n",
      "[nltk_data]   Package punkt is already up-to-date!\n"
     ]
    },
    {
     "data": {
      "text/plain": [
       "True"
      ]
     },
     "execution_count": 5,
     "metadata": {},
     "output_type": "execute_result"
    }
   ],
   "source": [
    "!wget -O data.csv \"https://figshare.com/ndownloader/files/4988956\"\n",
    "!pip install emoji\n",
    "\n",
    "import nltk\n",
    "nltk.download('punkt')"
   ]
  },
  {
   "cell_type": "code",
   "execution_count": 6,
   "metadata": {
    "id": "mavEEVoPHYS1"
   },
   "outputs": [
    {
     "name": "stderr",
     "output_type": "stream",
     "text": [
      "'wget' is not recognized as an internal or external command,\n",
      "operable program or batch file.\n"
     ]
    },
    {
     "name": "stdout",
     "output_type": "stream",
     "text": [
      "Requirement already satisfied: emoji in c:\\users\\smitesh\\anaconda3\\envs\\main\\lib\\site-packages (2.2.0)\n"
     ]
    },
    {
     "name": "stderr",
     "output_type": "stream",
     "text": [
      "[nltk_data] Downloading package punkt to\n",
      "[nltk_data]     C:\\Users\\Smitesh\\AppData\\Roaming\\nltk_data...\n",
      "[nltk_data]   Package punkt is already up-to-date!\n"
     ]
    },
    {
     "data": {
      "text/plain": [
       "True"
      ]
     },
     "execution_count": 6,
     "metadata": {},
     "output_type": "execute_result"
    }
   ],
   "source": [
    "!wget -O data.csv \"https://figshare.com/ndownloader/files/4988956\"\n",
    "!pip install emoji\n",
    "\n",
    "import nltk\n",
    "nltk.download('punkt')"
   ]
  },
  {
   "cell_type": "markdown",
   "metadata": {
    "id": "tsMEwTiYHZ3J"
   },
   "source": [
    "## Task 1. Data Cleaning, Preprocessing, and splitting [15 points]\n",
    "The `data` environment contains the SMILE dataset loaded into a pandas dataframe object. Our dataset has three columns: id, tweet, and label. The `tweet` column contains the raw scraped tweet and the `label` column contains the annotated emotion category. Each tweet is labelled with one of the following emotion labels:\n",
    "- 'nocode', 'not-relevant' \n",
    "- 'happy', 'happy|surprise', 'happy|sad'\n",
    "- 'angry', 'disgust|angry', 'disgust' \n",
    "- 'sad', 'sad|disgust', 'sad|disgust|angry' \n",
    "- 'surprise'\n",
    "\n",
    "### Task 1a. Label Consolidation [ 3 points]\n",
    "As we can see above the annotated categories are complex. Several tweets express complex emotions like (e.g. 'happy|sad') or multiple emotions (e.g. 'sad|disgust|angry'). The first things we need to do is clean up our dataset by removing complex examples and consolidating others so that we have a clean set of emotions to predict. \n",
    "\n",
    "For Task 1a., write code which does the following:\n",
    "1. Drops all rows which have the label \"happy|sad\", \"happy|surprise\", 'sad|disgust|angry', and 'sad|angry'.\n",
    "2. Re-label 'nocode' and 'not-relevant' as 'no-emotion'.\n",
    "3. Re-label 'disgust|angry' and 'disgust' as 'angry'.\n",
    "4. Re-label 'sad|disgust' as 'sad'.\n",
    "\n",
    "Your updated `data' dataframe should have 3,062 rows and 5 label categories (no-emotion, happy, angry, sad, and surprise).\n"
   ]
  },
  {
   "cell_type": "code",
   "execution_count": null,
   "metadata": {
    "id": "rKSm3ZcNHabO"
   },
   "outputs": [],
   "source": [
    "# Your Code HERE "
   ]
  },
  {
   "cell_type": "markdown",
   "metadata": {
    "id": "kCkpdlS6HdZx"
   },
   "source": [
    "### Task 1a Tests \n",
    "Run the cell below to evaluate your code. To get full credit for this task, your code must pass all tests. Any alteration of the testing code will automatically result in 0 points. "
   ]
  },
  {
   "cell_type": "code",
   "execution_count": null,
   "metadata": {
    "id": "LPvK4r4rHhly"
   },
   "outputs": [],
   "source": [
    "# Test 1. Data should have 5 unique labels.\n",
    "print(f\"Unique label test: {len(data['label'].unique()) == 5}\")\n",
    "\n",
    "# Test 2. Data labels must be: angry, happy, no-emotion, sad, and surprise\n",
    "labels = [\"angry\", \"happy\", \"no-emotion\", \"sad\", \"surprise\"]\n",
    "print(f\"Label check: { set(data['label'].unique()).difference(labels) == set() }\")\n",
    "\n",
    "# Test 3. Check example counts per label\n",
    "print(f\"Angry example count: {len(data[data['label']=='angry']) == 70}\")\n",
    "print(f\"Happy example count: {len(data[data['label']=='happy']) == 1137}\")\n",
    "print(f\"No-Emotion example count: {len(data[data['label']=='no-emotion']) == 1786}\")\n",
    "print(f\"Sad example count: {len(data[data['label']=='sad']) == 34}\")\n",
    "print(f\"Surprise example count: {len(data[data['label']=='surprise']) == 35}\")"
   ]
  },
  {
   "cell_type": "markdown",
   "metadata": {
    "id": "Bg-m3lROHex9"
   },
   "source": [
    "### Task 1b. Tweet Cleaning and Processing [10 points]\n",
    "Raw tweets are noisy. Consider the example below: \n",
    "```\n",
    "'@tateliverpool #BobandRoberta: I am angry more artists that have a profile are not speaking up #foundationcourses. 😠'\n",
    "```\n",
    "The mention @tateliverpool and hashtag #BobandRoberta are extra noise that don't directly help with understanding the emotion of the text. The accompanying emoji can be useful but needs to be decoded to it text form :angry: first. \n",
    "\n",
    "For this task you will fill complete the `preprocess_tweet` function below with the following preprocessing steps:\n",
    "1. Lower case all text\n",
    "2. De-emoji the text\n",
    "3. Remove all hashtags, mentions, and urls\n",
    "4. Remove all non-alphabet characters except the followng punctuations: period, exclamation mark, and question mark\n",
    "\n",
    "Hints: \n",
    "- For step 2 (de-emoji), consider using the python [emoji](https://carpedm20.github.io/emoji/docs/) library. The `emoji.demojize` method will convert all emojis to plain text. The `emoji` library is installed in cell [52].\n",
    "- Follow the processing steps in order. For example calling nltk's word_tokenize before removing hashtags and mentions will end up creating seperate tokens for @ and # and cause problems.\n",
    "\n",
    "To get full credit for this task, the Test 1b must pass. Only modify the  cell containing the `preprocess_tweet` function and do not alter the testing code block. \n",
    "\n",
    "After you are satisfied with your code, run the tests. code to ensure your function works as expected. This cell will also create a new column called `cleaned_tweet` and apply the `preproces_tweet` function to all the examples in the dataset. "
   ]
  },
  {
   "cell_type": "code",
   "execution_count": null,
   "metadata": {
    "id": "NJHQXAizHjoE"
   },
   "outputs": [],
   "source": [
    "import emoji \n",
    "\n",
    "def preprocess_tweet(tweet: str) -> str:\n",
    "  \"\"\"\n",
    "  Function takes a raw tweet and performs the following processing steps:\n",
    "  1. Lower case all text\n",
    "  2. De-emoji the text\n",
    "  3. Remove all hashtags, mentions, and urls \n",
    "  4. Remove all non-alphabet characters except the followng punctuations: period, exclamation mark, and question mark\n",
    "  \"\"\"\n",
    " \n",
    "  return tweet \n",
    "\n",
    "\n",
    "test_tweet = \"'@tateliverpool #BobandRoberta: I am angry more artists that have a profile are not speaking up! #foundationcourses 😠'\"\n",
    "print(preprocess_tweet(test_tweet))"
   ]
  },
  {
   "cell_type": "markdown",
   "metadata": {
    "id": "yJ2IAIoVHmd5"
   },
   "source": [
    "### Task 1b Test\n",
    "Run the cell below to evaluate your code. To get full credit for this task, your code must pass all tests. Any alteration of the testing code will automatically result in 0 points. "
   ]
  },
  {
   "cell_type": "code",
   "execution_count": null,
   "metadata": {
    "id": "zb71pAhcHodX"
   },
   "outputs": [],
   "source": [
    "# Do NOT modify the code below. \n",
    "# Create new column with cleaned tweets. We will use this for the subsequent tasks\n",
    "data[\"cleaned_tweet\"] = data[\"tweet\"].apply(preprocess_tweet)\n",
    "\n",
    "# Test 1b \n",
    "test_tweet = \"'@tateliverpool #BobandRoberta: I am angry more artists that have a profile are not speaking up! #foundationcourses 😠'\"\n",
    "clean_tweet = \"i am angry more artists that have a profile are not speaking up! angryface\"\n",
    "print(f\"Test 1b: {preprocess_tweet(test_tweet) == clean_tweet}\")"
   ]
  },
  {
   "cell_type": "markdown",
   "metadata": {
    "id": "eoBlBQQFHpmG"
   },
   "source": [
    "### Task 1c. Generating Evaluation Splits [2 points]\n",
    "Finally, we need to split our data into a train, validation, and test set. We will split the data using a 60-20-20 split, where 60% of our data is used for training, 20% for validation, and 20% for testing. As the dataset is heaviliy imbalanced, make sure you stratify the dataset to ensure that the label distributions across the three splits are roughly equal. \n",
    "\n",
    "Store your splits in the variables `train`, `val`, and `test` respectively. \n",
    "\n",
    "Hints:\n",
    "- Use the [`train_test_split`](https://scikit-learn.org/stable/modules/generated/sklearn.model_selection.train_test_split.html) function for this task. You'll have to call it twice to get the validation split. \n",
    "- Set the random state so the sampling can be reproduced (we use 2023 for our random state)\n",
    "- Use the `stratify` parameter to ensure representative label distributions across the splits. "
   ]
  },
  {
   "cell_type": "code",
   "execution_count": null,
   "metadata": {
    "id": "Dgc7zu0gHqm6"
   },
   "outputs": [],
   "source": [
    "from sklearn.model_selection import train_test_split\n",
    "\n",
    "# Your code here\n",
    "train, val, test = None, None, None\n"
   ]
  },
  {
   "cell_type": "markdown",
   "metadata": {
    "id": "OAu45L3QHutm"
   },
   "source": [
    "## Task 2: Naive Baseline Using a Rule-based Classifier [10 points]\n",
    "\n",
    "Now that we have a dataset, let's work on developing some solutions for emotion classification. We'll start with implementing a simple rule-based classifier which will also serve as our naive baseline. Emotive language (e.g. awesome, feel great, super happy) can be a strong signal as to the overall emotion being by the tweet. For each emotion in our label space (happy, surprised, sad, angry) we will generate a set of words and phrases that are often associated with that emotion. At classification time, the classifier will calculate a score based on the overlap between the words in the tweet and the emotive words and phrases for each of the emotions. The emotion label with the highest overlap will be selected as the prediction and if there is no match the \"no-emotion\" label will be predicted. We can break the implementation of this rules-based classifier into three steps:\n",
    "1. Emotive language extraction from train examples \n",
    "2. Developing a scoring algorithm\n",
    "3. Building the end-to-end classification flow \n",
    "\n",
    "### Task 2a. Emotive Language Extraction [4 points] \n",
    "For this task you will generate a set of unigrams and bigrams that will be used to predict each of the labels. Using the training data you will need to extract all the unique unigrams and bigrams associated with each label (excluding no-emotion). Then you should ensure that the extracted terms for each emotion label do not appear in the other lists. In the real world, you would then manually curate the generated lists to ensure that associated words were useful and emotive. For the assignment, you won't be required to further curate the generated lists.\n",
    "\n",
    "Once you've identified the appropiate terms, save them as lists stored in the following environment variables: `happy_words`, `surprised_words`, `sad_words`,and `angry_words`. To get full credit for this section, ensure all 2a Tests pass. \n",
    "\n",
    "Hints\n",
    "- We suggest you use Python's [set methods](https://realpython.com/python-sets/) for this task.\n",
    "- NLTK has a function for extracting [ngrams](https://www.nltk.org/api/nltk.util.html?highlight=ngrams#nltk.util.ngrams). This function expects a list of tokens as input and will output tuples which you'll need to reconvert into strings. "
   ]
  },
  {
   "cell_type": "code",
   "execution_count": null,
   "metadata": {
    "id": "ozjSEbagHvmW"
   },
   "outputs": [],
   "source": [
    "# Your code here\n",
    "from typing import List\n",
    "from nltk.util import ngrams\n",
    "\n",
    "# 1. Extract all terms associated with each label\n",
    "def extract_words(examples: List[str]) -> List[str]:\n",
    "  \"\"\"\n",
    "  Given a list of tweets, return back the unigrams and bigrams found\n",
    "  across all the tweets. \n",
    "  \"\"\"\n",
    "  \n",
    "  return extracted_words\n",
    "\n",
    "\n",
    "happy_words = None\n",
    "sad_words = None\n",
    "angry_words = None\n",
    "surprise_words = None"
   ]
  },
  {
   "cell_type": "markdown",
   "metadata": {
    "id": "pe6NX0STHyHk"
   },
   "source": [
    "### Task 2a Tests\n",
    "Run the cell below to evaluate your code. To get full credit for this task, your code must pass all tests. Any alteration of the testing code will automatically result in 0 points. "
   ]
  },
  {
   "cell_type": "code",
   "execution_count": null,
   "metadata": {
    "id": "mD4VhSqDHzQa"
   },
   "outputs": [],
   "source": [
    "# Check sets are non-empty\n",
    "print(\"Checking sets are not empty: \")\n",
    "print(f\"Happy words count: {len(happy_words)}, {len(happy_words) > 0}\")\n",
    "print(f\"Sad words count: {len(sad_words)}, {len(sad_words) > 0}\")\n",
    "print(f\"Angry words count: {len(angry_words)}, {len(angry_words) > 0}\")\n",
    "print(f\"Surprise words count: {len(surprise_words)}, {len(surprise_words) > 0}\")\n",
    "\n",
    "# Checks sets are disjoint \n",
    "union1 = sad_words.union(angry_words, surprise_words)\n",
    "union2 = happy_words.union(surprise_words, angry_words) \n",
    "union3 = surprise_words.union(happy_words, sad_words)\n",
    "union4 = angry_words.union(happy_words, sad_words) \n",
    "\n",
    "print(\"\\nChecking sets are all disjoint:\")\n",
    "print(f\"Happy words disjoint: {happy_words.isdisjoint(union1)}\")\n",
    "print(f\"Sad words disjoint: {sad_words.isdisjoint(union2)}\")\n",
    "print(f\"Angry words disjoint: {angry_words.isdisjoint(union3)}\")\n",
    "print(f\"Surprise words disjoint: {surprise_words.isdisjoint(union4)}\")"
   ]
  },
  {
   "cell_type": "markdown",
   "metadata": {
    "id": "KQ6vlgcHH0-G"
   },
   "source": [
    "### Task 2b. Scoring using set overlaps [2 points]\n",
    "\n",
    "Next we will implement to scoring algorithm. Our score will simply be the count of overlapping terms between tweet text and emotive terms. For this task, finish implementing the code below. To get full credit, ensure Test 2b. is successful. "
   ]
  },
  {
   "cell_type": "code",
   "execution_count": null,
   "metadata": {
    "id": "UN4E5de4H1zm"
   },
   "outputs": [],
   "source": [
    "sample_words = {'cat', 'hat', 'mat', 'bowling', 'bat'}\n",
    "sample_tweet1 = \"that cat is super cool sitting on the mat\" \n",
    "sample_tweet2 = \"the man in the bowling hat sat on the cat\"\n",
    "sample_tweet3 = \"the quick brown fox jumped over the lazy dog\"\n",
    "\n",
    "\n",
    "print(f\"Test 1: {score_tweet(sample_tweet1, sample_words) == 2}\")\n",
    "print(f\"Test 2: {score_tweet(sample_tweet2, sample_words) == 3}\")\n",
    "print(f\"Test 3: {score_tweet(sample_tweet3, sample_words) == 0}\")"
   ]
  },
  {
   "cell_type": "markdown",
   "metadata": {
    "id": "D6qORzgxH3X4"
   },
   "source": [
    "### 2c. Rule-based classification [4 points] \n",
    "Let put together our rules-based classfication system. Fill out the logic in the `simple_clf`. Given a tweet, `simple_clf` will generate the overlap score\n",
    "for each of emotion labels and return the emotion label with the highest score. If there is no match amongst the emotions, the classifier will return 'no-emotion'.\n",
    "\n",
    "To get full credit for this section, your average F1 score most be greater than 0."
   ]
  },
  {
   "cell_type": "code",
   "execution_count": null,
   "metadata": {
    "id": "E8IEuXP0H46K"
   },
   "outputs": [],
   "source": [
    "\n",
    "def simple_clf(tweet: str) -> str:\n",
    "  \"\"\"\n",
    "  Given a tweet, calculate all the emotion overlap scores.\n",
    "  Return the emotion label which has the largest score. If\n",
    "  overlap score is 0, return no-emotion. \n",
    "  \"\"\"\n",
    "\n",
    "  # Your code here \n",
    "\n",
    "  return None"
   ]
  },
  {
   "cell_type": "markdown",
   "metadata": {
    "id": "3YbxbkhtH-nC"
   },
   "source": [
    "After finishing the above section, let's evaluate our how model did."
   ]
  },
  {
   "cell_type": "code",
   "execution_count": null,
   "metadata": {
    "id": "PUE4GNIbH8dp"
   },
   "outputs": [],
   "source": [
    "from sklearn.metrics import classification_report\n",
    "\n",
    "preds = test[\"cleaned_tweet\"].apply(simple_clf)\n",
    "print(classification_report(test[\"label\"], preds)) "
   ]
  },
  {
   "cell_type": "markdown",
   "metadata": {
    "id": "3Jlp3Qx1IC68"
   },
   "source": [
    "## Task 3. Machine learning w/ grammar augmented features [10 points]\n",
    "\n",
    "Now that we have a naive baseline, let's build a more sophisticated solution using machine learning. Up to this point, we have only considered the words in the tweet as our primary features. The rules-based approach is a very simple bag-of-words classifier. Can we improve performance if we provide some additional linguistic knowledge?\n",
    "\n",
    "For Task 3 you will do the following:\n",
    "- Generate part-of-speech features our tweets\n",
    "- Train two different machine learning classifiers, one with linguistic features and one without\n",
    "- Evaluate the trained models on the test set\n",
    "\n",
    "### Task 3a. Grammar Augmented Feature Generation [3 points]\n",
    "For this task, we will be generating part-of-speech tags for each token in our tweet. Additionally we'll lemmatize the text as well. We will directly include the POS information by appending the tag to the lemma of word itself. For example:\n",
    "```\n",
    "Raw Tweet: I am very angry with the increased prices.\n",
    "POS Augmented Tweet: I-PRP be-VBP very-RB angry-JJ with-IN the-DT increase-VBN price-NNS .-.\n",
    "```\n",
    "\n",
    "Complete the `generate_pos_features` using the Spacy library. Once you have an implementation that works, we'll update the `train` and `test` dataframes with a new column called `tweet_with_pos` which contains the output of the `generate_pos_features` method."
   ]
  },
  {
   "cell_type": "code",
   "execution_count": null,
   "metadata": {
    "id": "JAQ7V7IGIFCz"
   },
   "outputs": [],
   "source": [
    "import spacy \n",
    "from tqdm.notebook import tqdm\n",
    "nlp = spacy.load(\"en_core_web_sm\")\n",
    "\n",
    "def generate_pos_features(tweet: str) -> str:\n",
    "  \"\"\"\n",
    "  Given a tweet, return the lemmatized tweet augmented\n",
    "  with POS tags.\n",
    "  E.g.:\n",
    "  Input: \"cats are super cool.\"\n",
    "  output: \"cat-NNS be-VBP super-RB cool-JJ .-.\"\n",
    "  \"\"\"\n",
    "  return None\n",
    "\n",
    "sample_tweet = \"I hate action movies\"\n",
    "generate_pos_features(sample_tweet)"
   ]
  },
  {
   "cell_type": "code",
   "execution_count": null,
   "metadata": {
    "id": "H5N5gJCCIJ3z"
   },
   "outputs": [],
   "source": [
    "# Once you have the code working above run this cell.\n",
    "train[\"tweet_with_pos\"] = train[\"cleaned_tweet\"].apply(generate_pos_features)\n",
    "test[\"tweet_with_pos\"] = test[\"cleaned_tweet\"].apply(generate_pos_features)"
   ]
  },
  {
   "cell_type": "markdown",
   "metadata": {
    "id": "agVdLZKQILMi"
   },
   "source": [
    "### Task 3a Tests\n",
    "Run the cell below to evaluate your code. To get full credit for this task, your code must pass all tests. Any alteration of the testing code will automatically result in 0 points. "
   ]
  },
  {
   "cell_type": "code",
   "execution_count": null,
   "metadata": {
    "id": "4lBgpYPbIMjG"
   },
   "outputs": [],
   "source": [
    "sample_texts = [\n",
    "    (\"i am super angry\", \"I-PRP be-VBP super-RB angry-JJ\"),\n",
    "    (\"That movie was great\", \"that-DT movie-NN be-VBD great-JJ\"),\n",
    "    (\"I hate action movies\", \"I-PRP hate-VBP action-NN movie-NNS\")\n",
    "]\n",
    "for i, text in enumerate(sample_texts):\n",
    "  print(f\"Test {i+1}: {generate_pos_features(text[0]) == text[1]}\")"
   ]
  },
  {
   "cell_type": "markdown",
   "metadata": {
    "id": "AAoYl4h0IOgb"
   },
   "source": [
    "### Task 3b. Model Training [5 points]\n",
    "Next we will train two seperate RandomForest Classifier models. For this task you will generate two sets of input features using the `TfidfVectorizer`. We generate Tfidf statistic on the`cleaned_tweet` and the `tweet_with_pos` columns. \n",
    "\n",
    "Once you've generated your features, train two different Random Forest classifiers with the generated features and generate the predictions on the test set for each classifier."
   ]
  },
  {
   "cell_type": "code",
   "execution_count": null,
   "metadata": {
    "id": "cE2NgOBnIQPg"
   },
   "outputs": [],
   "source": [
    "from sklearn.feature_extraction.text import TfidfVectorizer\n",
    "from sklearn.ensemble import RandomForestClassifier\n",
    "\n",
    "# Your code here"
   ]
  },
  {
   "cell_type": "markdown",
   "metadata": {
    "id": "eUL5ZI9wITW3"
   },
   "source": [
    "### Task 3c. [2 points]\n",
    "Generate classification reports for both models. Print the reports below. In a few sentences (no more than 100 words) explain which features were the most effective and why you think that's the case?"
   ]
  },
  {
   "cell_type": "code",
   "execution_count": null,
   "metadata": {
    "id": "6B8ep5lhIUiT"
   },
   "outputs": [],
   "source": [
    "from sklearn.metrics import classification_report\n",
    "\n",
    "# Classification Report for Tfidf features\n",
    "print(\"Classification report for TFIDF features\")\n",
    "# Your code here\n",
    "\n",
    "# Classfication Report for POS features \n",
    "print(\"Classification report for TFIDF w/ POS features\")\n",
    "# Your code here"
   ]
  },
  {
   "cell_type": "markdown",
   "metadata": {
    "id": "n015Byn3IWhW"
   },
   "source": [
    "### Your evaluation here."
   ]
  },
  {
   "cell_type": "markdown",
   "metadata": {
    "id": "XKY4ti3_IYvA"
   },
   "source": [
    "## Task 4. Transfer Learning with DistilBERT [10 points]\n",
    "\n",
    "For this task you will finetune a pretrained language model (DistilBERT) using the huggingface `transformers` library. For this task you will need to:\n",
    "- Encode the tweets using the BERT tokenizer\n",
    "- Create pytorch datasets for for the train, val and test datasets\n",
    "- Finetune the distilbert model for 5 epochs\n",
    "- Extract predictions from the model's output logits and convert them into the emotion labels.\n",
    "- Generate a classification report on the predictions.\n",
    "\n",
    "Ensure you are running the notebook in Google Colab with the gpu runtime enabled for this section."
   ]
  },
  {
   "cell_type": "code",
   "execution_count": null,
   "metadata": {
    "id": "vHzUBl7dIXgx"
   },
   "outputs": [],
   "source": [
    "!pip install transformers >> NULL"
   ]
  },
  {
   "cell_type": "code",
   "execution_count": null,
   "metadata": {
    "id": "LTh8YJsdImOC"
   },
   "outputs": [],
   "source": [
    "from sklearn.preprocessing import LabelEncoder\n",
    "import torch\n",
    "from torch.utils.data import Dataset\n",
    "from transformers import AutoTokenizer\n",
    "from transformers import AutoModelForSequenceClassification\n",
    "from transformers import Trainer\n",
    "from transformers import TrainingArguments\n",
    "\n",
    "\n",
    "# Your Code here"
   ]
  },
  {
   "cell_type": "markdown",
   "metadata": {
    "id": "vsOhvhDOImmH"
   },
   "source": [
    "## Task 5. Model Recommendation [5 points]\n",
    "In a paragraph (no more than 250 words) answer the following questions:\n",
    "1. Which of the implemented models would you recommend and why? \n",
    "2. Compare the metrics for each models implemted (Rules-Based, Machine Learning w/ POS features, and DistilBERT). What are the pros and con for each model (consider performance both macro performance and label specifc metrics and the computational requirements). "
   ]
  },
  {
   "cell_type": "code",
   "execution_count": null,
   "metadata": {
    "id": "NZquyfWyIn2a"
   },
   "outputs": [],
   "source": []
  }
 ],
 "metadata": {
  "colab": {
   "provenance": []
  },
  "kernelspec": {
   "display_name": "Python 3 (ipykernel)",
   "language": "python",
   "name": "python3"
  },
  "language_info": {
   "codemirror_mode": {
    "name": "ipython",
    "version": 3
   },
   "file_extension": ".py",
   "mimetype": "text/x-python",
   "name": "python",
   "nbconvert_exporter": "python",
   "pygments_lexer": "ipython3",
   "version": "3.8.12"
  }
 },
 "nbformat": 4,
 "nbformat_minor": 1
}
